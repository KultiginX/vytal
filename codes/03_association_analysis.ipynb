{
 "cells": [
  {
   "cell_type": "markdown",
   "metadata": {},
   "source": [
    "# Chapter 3\n",
    "## Association Analysis"
   ]
  },
  {
   "cell_type": "code",
   "execution_count": 1,
   "metadata": {},
   "outputs": [],
   "source": [
    "import pandas as pd\n",
    "import numpy as np\n",
    "\n",
    "import datetime as dt\n",
    "\n",
    "import matplotlib.pyplot as plt \n",
    "\n",
    "import gower\n",
    "import math\n",
    "from sklearn.cluster import DBSCAN\n",
    "import time\n",
    "import sklearn\n",
    "import mlxtend\n",
    "from mlxtend.frequent_patterns import apriori\n",
    "from mlxtend.frequent_patterns import association_rules"
   ]
  },
  {
   "cell_type": "code",
   "execution_count": 2,
   "metadata": {},
   "outputs": [
    {
     "name": "stdout",
     "output_type": "stream",
     "text": [
      "0.19.0\n",
      "1.1.0\n"
     ]
    }
   ],
   "source": [
    "print(mlxtend.__version__)\n",
    "print(sklearn.__version__)\n"
   ]
  },
  {
   "cell_type": "code",
   "execution_count": 3,
   "metadata": {},
   "outputs": [],
   "source": [
    "c_co_in=pd.read_csv('../data/association_c_co_in.csv', sep=',', index_col=0,low_memory=False)\n",
    "c_co_out=pd.read_csv('../data/association_c_co_out.csv', sep=',', index_col=0,low_memory=False)\n",
    "c_co_out['OwnerSince']=pd.to_datetime(c_co_out['OwnerSince'], utc=True) \n",
    "c_co_out['OwnerTill']=pd.to_datetime(c_co_out['OwnerTill'], utc=True) "
   ]
  },
  {
   "cell_type": "code",
   "execution_count": 4,
   "metadata": {},
   "outputs": [
    {
     "data": {
      "text/html": [
       "<div>\n",
       "<style scoped>\n",
       "    .dataframe tbody tr th:only-of-type {\n",
       "        vertical-align: middle;\n",
       "    }\n",
       "\n",
       "    .dataframe tbody tr th {\n",
       "        vertical-align: top;\n",
       "    }\n",
       "\n",
       "    .dataframe thead th {\n",
       "        text-align: right;\n",
       "    }\n",
       "</style>\n",
       "<table border=\"1\" class=\"dataframe\">\n",
       "  <thead>\n",
       "    <tr style=\"text-align: right;\">\n",
       "      <th></th>\n",
       "      <th>NextOwnerId</th>\n",
       "      <th>OwnerSince</th>\n",
       "      <th>seconds</th>\n",
       "      <th>seconds_2</th>\n",
       "    </tr>\n",
       "  </thead>\n",
       "  <tbody>\n",
       "    <tr>\n",
       "      <th>1</th>\n",
       "      <td>d9d8a373-29f0-4fe5-8f17-39669083ac48</td>\n",
       "      <td>2019-09-23 07:29:08.691234+00:00</td>\n",
       "      <td>2.292295e+06</td>\n",
       "      <td>2.292295e+06</td>\n",
       "    </tr>\n",
       "    <tr>\n",
       "      <th>3</th>\n",
       "      <td>cb1f92f7-ffbb-43a6-b741-b1d71cb2a157</td>\n",
       "      <td>2019-09-23 07:29:29.218375+00:00</td>\n",
       "      <td>2.292297e+06</td>\n",
       "      <td>2.292297e+06</td>\n",
       "    </tr>\n",
       "  </tbody>\n",
       "</table>\n",
       "</div>"
      ],
      "text/plain": [
       "                            NextOwnerId                       OwnerSince  \\\n",
       "1  d9d8a373-29f0-4fe5-8f17-39669083ac48 2019-09-23 07:29:08.691234+00:00   \n",
       "3  cb1f92f7-ffbb-43a6-b741-b1d71cb2a157 2019-09-23 07:29:29.218375+00:00   \n",
       "\n",
       "        seconds     seconds_2  \n",
       "1  2.292295e+06  2.292295e+06  \n",
       "3  2.292297e+06  2.292297e+06  "
      ]
     },
     "execution_count": 4,
     "metadata": {},
     "output_type": "execute_result"
    }
   ],
   "source": [
    "a=pd.to_datetime('01JAN19:00:00:00',format='%d%b%y:%H:%M:%S', utc=False)\n",
    "c_co_out['seconds']=(c_co_out['OwnerSince'].dt.tz_localize(None)-pd.to_datetime(a)).dt.total_seconds()/10 #miliseconds eliminated\n",
    "c_co_out['seconds_2']=c_co_out['seconds']\n",
    "c_co_out[c_co_out.columns[[1,3,-2,-1]]].head(2)"
   ]
  },
  {
   "cell_type": "code",
   "execution_count": 5,
   "metadata": {
    "tags": []
   },
   "outputs": [
    {
     "name": "stderr",
     "output_type": "stream",
     "text": [
      "/var/folders/bs/8_rscwxd25z1bcq4d89vsz380000gn/T/ipykernel_15653/1748386177.py:3: FutureWarning: The default dtype for empty Series will be 'object' instead of 'float64' in a future version. Specify a dtype explicitly to silence this warning.\n",
      "  c_co_out['trans_id_2']=pd.Series()\n"
     ]
    },
    {
     "name": "stdout",
     "output_type": "stream",
     "text": [
      "--- 453.68365383148193 seconds ---\n"
     ]
    }
   ],
   "source": [
    "# dbscan date by date\n",
    "#dic=dict()\n",
    "c_co_out['trans_id_2']=pd.Series()\n",
    "start_time = time.time()\n",
    "for date in c_co_out['OwnerSince'].dt.date.unique():\n",
    "    df=c_co_out[c_co_out['OwnerSince'].dt.date==date].copy()\n",
    "    dist_matrix = gower.gower_matrix(df[['seconds','NextOwnerId']])\n",
    "    db = DBSCAN(eps = 0.01, min_samples = 2, metric = \"precomputed\").fit(dist_matrix)\n",
    "    #dic[date]=db.labels_\n",
    "    labels = db.labels_\n",
    "\n",
    "\n",
    "    df['cluster']=labels\n",
    "    df['trans_id_2']=(str(date)+'_'+df[df['cluster']>-1]['cluster'].astype(str)  )\n",
    "    x=df[df['cluster']>-1]\n",
    "    #print(id_, x.shape)\n",
    "    c_co_out.update(x['trans_id_2'])\n",
    "    \n",
    "    \n",
    "print(\"--- %s seconds ---\" % (time.time() - start_time))\n",
    "c_co_out.to_csv('../data/association_c_co_out.csv')"
   ]
  },
  {
   "cell_type": "raw",
   "metadata": {
    "jupyter": {
     "source_hidden": true
    },
    "tags": []
   },
   "source": [
    "# loop over users\n",
    "# However, it takes too much time.\n",
    "#len(set(list(c_co_out['NextOwnerId'])))\n",
    "\n",
    "# get clusters of user_id on time axis\n",
    "# We passes seconds column twice since scikit-learn requires at least two columns.\n",
    "\n",
    "start_time = time.time()\n",
    "for id_ in list(set(list(c_co_out['NextOwnerId']))):\n",
    "    user_=c_co_out['NextOwnerId']==id_\n",
    "    \n",
    "    df=c_co_out[user_].copy()\n",
    "    try:\n",
    "        _, labels  = dbscan(df[['seconds','seconds_2']],eps=100*math.sqrt(2), min_samples=2 )\n",
    "        df['cluster']=labels\n",
    "        df['trans_id']=(id_+'_'+df[df['cluster']>-1]['cluster'].astype(str)  )\n",
    "        x=df[df['cluster']>-1]\n",
    "        #print(id_, x.shape)\n",
    "        c_co_out.update(x['trans_id'])\n",
    "    except: continue\n",
    "\n",
    "print(\"--- %s seconds ---\" % (time.time() - start_time))     "
   ]
  },
  {
   "cell_type": "code",
   "execution_count": 6,
   "metadata": {},
   "outputs": [
    {
     "data": {
      "text/plain": [
       "(82800, 18)"
      ]
     },
     "execution_count": 6,
     "metadata": {},
     "output_type": "execute_result"
    }
   ],
   "source": [
    "c_co_out[c_co_out['trans_id_2'].isna()==False].shape"
   ]
  },
  {
   "cell_type": "code",
   "execution_count": 7,
   "metadata": {},
   "outputs": [
    {
     "data": {
      "text/plain": [
       "(281719, 18)"
      ]
     },
     "execution_count": 7,
     "metadata": {},
     "output_type": "execute_result"
    }
   ],
   "source": [
    "c_co_out.shape"
   ]
  },
  {
   "cell_type": "code",
   "execution_count": 8,
   "metadata": {},
   "outputs": [
    {
     "data": {
      "text/html": [
       "<div>\n",
       "<style scoped>\n",
       "    .dataframe tbody tr th:only-of-type {\n",
       "        vertical-align: middle;\n",
       "    }\n",
       "\n",
       "    .dataframe tbody tr th {\n",
       "        vertical-align: top;\n",
       "    }\n",
       "\n",
       "    .dataframe thead th {\n",
       "        text-align: right;\n",
       "    }\n",
       "</style>\n",
       "<table border=\"1\" class=\"dataframe\">\n",
       "  <thead>\n",
       "    <tr style=\"text-align: right;\">\n",
       "      <th></th>\n",
       "      <th>NextOwnerId</th>\n",
       "      <th>OwnerSince</th>\n",
       "      <th>seconds</th>\n",
       "      <th>trans_id_2</th>\n",
       "    </tr>\n",
       "  </thead>\n",
       "  <tbody>\n",
       "    <tr>\n",
       "      <th>16</th>\n",
       "      <td>2402b7c2-b627-43eb-ae6d-f95f1680e6fd</td>\n",
       "      <td>2019-09-23 07:53:16.247241+00:00</td>\n",
       "      <td>2.292440e+06</td>\n",
       "      <td>2019-09-23_0</td>\n",
       "    </tr>\n",
       "    <tr>\n",
       "      <th>17</th>\n",
       "      <td>2402b7c2-b627-43eb-ae6d-f95f1680e6fd</td>\n",
       "      <td>2019-09-23 07:53:29.774347+00:00</td>\n",
       "      <td>2.292441e+06</td>\n",
       "      <td>2019-09-23_0</td>\n",
       "    </tr>\n",
       "    <tr>\n",
       "      <th>34</th>\n",
       "      <td>786b4bd1-99cb-4bed-99f9-c5fec05c006c</td>\n",
       "      <td>2019-09-23 08:14:30.539862+00:00</td>\n",
       "      <td>2.292567e+06</td>\n",
       "      <td>2019-09-23_1</td>\n",
       "    </tr>\n",
       "    <tr>\n",
       "      <th>38</th>\n",
       "      <td>ba1cffbb-44ad-4099-9f03-4a773b16a6a3</td>\n",
       "      <td>2019-09-23 08:15:09.339326+00:00</td>\n",
       "      <td>2.292571e+06</td>\n",
       "      <td>2019-09-23_2</td>\n",
       "    </tr>\n",
       "    <tr>\n",
       "      <th>41</th>\n",
       "      <td>63890c0a-24ea-475b-8fe0-ab2a7071b226</td>\n",
       "      <td>2019-09-23 08:15:35.965192+00:00</td>\n",
       "      <td>2.292574e+06</td>\n",
       "      <td>2019-09-23_3</td>\n",
       "    </tr>\n",
       "    <tr>\n",
       "      <th>43</th>\n",
       "      <td>63890c0a-24ea-475b-8fe0-ab2a7071b226</td>\n",
       "      <td>2019-09-23 08:15:57.340226+00:00</td>\n",
       "      <td>2.292576e+06</td>\n",
       "      <td>2019-09-23_3</td>\n",
       "    </tr>\n",
       "    <tr>\n",
       "      <th>45</th>\n",
       "      <td>4d847de3-570d-4210-bdfe-9c3511fbefdd</td>\n",
       "      <td>2019-09-23 08:16:11.875092+00:00</td>\n",
       "      <td>2.292577e+06</td>\n",
       "      <td>2019-09-23_4</td>\n",
       "    </tr>\n",
       "    <tr>\n",
       "      <th>46</th>\n",
       "      <td>ba1cffbb-44ad-4099-9f03-4a773b16a6a3</td>\n",
       "      <td>2019-09-23 08:16:19.533157+00:00</td>\n",
       "      <td>2.292578e+06</td>\n",
       "      <td>2019-09-23_2</td>\n",
       "    </tr>\n",
       "    <tr>\n",
       "      <th>50</th>\n",
       "      <td>14360558-42d7-4162-b177-121c9be4ed4c</td>\n",
       "      <td>2019-09-23 08:19:39.260455+00:00</td>\n",
       "      <td>2.292598e+06</td>\n",
       "      <td>2019-09-23_5</td>\n",
       "    </tr>\n",
       "    <tr>\n",
       "      <th>53</th>\n",
       "      <td>786b4bd1-99cb-4bed-99f9-c5fec05c006c</td>\n",
       "      <td>2019-09-23 08:19:56.173780+00:00</td>\n",
       "      <td>2.292600e+06</td>\n",
       "      <td>2019-09-23_1</td>\n",
       "    </tr>\n",
       "  </tbody>\n",
       "</table>\n",
       "</div>"
      ],
      "text/plain": [
       "                             NextOwnerId                       OwnerSince  \\\n",
       "16  2402b7c2-b627-43eb-ae6d-f95f1680e6fd 2019-09-23 07:53:16.247241+00:00   \n",
       "17  2402b7c2-b627-43eb-ae6d-f95f1680e6fd 2019-09-23 07:53:29.774347+00:00   \n",
       "34  786b4bd1-99cb-4bed-99f9-c5fec05c006c 2019-09-23 08:14:30.539862+00:00   \n",
       "38  ba1cffbb-44ad-4099-9f03-4a773b16a6a3 2019-09-23 08:15:09.339326+00:00   \n",
       "41  63890c0a-24ea-475b-8fe0-ab2a7071b226 2019-09-23 08:15:35.965192+00:00   \n",
       "43  63890c0a-24ea-475b-8fe0-ab2a7071b226 2019-09-23 08:15:57.340226+00:00   \n",
       "45  4d847de3-570d-4210-bdfe-9c3511fbefdd 2019-09-23 08:16:11.875092+00:00   \n",
       "46  ba1cffbb-44ad-4099-9f03-4a773b16a6a3 2019-09-23 08:16:19.533157+00:00   \n",
       "50  14360558-42d7-4162-b177-121c9be4ed4c 2019-09-23 08:19:39.260455+00:00   \n",
       "53  786b4bd1-99cb-4bed-99f9-c5fec05c006c 2019-09-23 08:19:56.173780+00:00   \n",
       "\n",
       "         seconds    trans_id_2  \n",
       "16  2.292440e+06  2019-09-23_0  \n",
       "17  2.292441e+06  2019-09-23_0  \n",
       "34  2.292567e+06  2019-09-23_1  \n",
       "38  2.292571e+06  2019-09-23_2  \n",
       "41  2.292574e+06  2019-09-23_3  \n",
       "43  2.292576e+06  2019-09-23_3  \n",
       "45  2.292577e+06  2019-09-23_4  \n",
       "46  2.292578e+06  2019-09-23_2  \n",
       "50  2.292598e+06  2019-09-23_5  \n",
       "53  2.292600e+06  2019-09-23_1  "
      ]
     },
     "execution_count": 8,
     "metadata": {},
     "output_type": "execute_result"
    }
   ],
   "source": [
    "c_co_out[c_co_out['trans_id_2'].isna()==False][['NextOwnerId','OwnerSince','seconds','trans_id_2' ]].head(10)"
   ]
  },
  {
   "cell_type": "code",
   "execution_count": 9,
   "metadata": {},
   "outputs": [],
   "source": [
    "index_list=c_co_out[c_co_out['trans_id_2'].isna()==True].index\n",
    "c_co_out.loc[index_list,'trans_id_2']=index_list"
   ]
  },
  {
   "cell_type": "code",
   "execution_count": 10,
   "metadata": {},
   "outputs": [],
   "source": [
    "diff=c_co_out.groupby('trans_id_2')['seconds'].agg(np.ptp).to_frame()\n",
    "diff['counts']=c_co_out.groupby('trans_id_2').size()\n"
   ]
  },
  {
   "cell_type": "code",
   "execution_count": 11,
   "metadata": {},
   "outputs": [
    {
     "name": "stdout",
     "output_type": "stream",
     "text": [
      "                  seconds  counts\n",
      "trans_id_2                       \n",
      "2021-07-23_34  227.119954       3\n",
      "2021-06-21_18  225.124506       4\n",
      "2021-08-18_22  224.088008       4\n",
      "2021-05-18_10  220.220968       4\n",
      "2022-01-24_68  220.177558       3\n"
     ]
    },
    {
     "data": {
      "text/plain": [
       "Text(0.5, 1.0, 'Distribution of transaction lenghts')"
      ]
     },
     "execution_count": 11,
     "metadata": {},
     "output_type": "execute_result"
    },
    {
     "data": {
      "image/png": "[encoded data removed]",
      "text/plain": [
       "<Figure size 432x288 with 1 Axes>"
      ]
     },
     "metadata": {
      "needs_background": "light"
     },
     "output_type": "display_data"
    }
   ],
   "source": [
    "print(diff.sort_values('seconds', ascending=False).head())\n",
    "diff['seconds'].hist()\n",
    "plt.title('Distribution of transaction lenghts')"
   ]
  },
  {
   "cell_type": "code",
   "execution_count": 12,
   "metadata": {},
   "outputs": [
    {
     "name": "stdout",
     "output_type": "stream",
     "text": [
      "                 seconds  counts\n",
      "trans_id_2                      \n",
      "2021-07-27_40   0.000000       5\n",
      "2021-05-11_103  0.000000       5\n",
      "2022-01-31_75   0.000000       5\n",
      "2020-11-28_17   8.234130       5\n",
      "2020-11-28_14   0.000000       5\n",
      "2020-11-27_99   4.858878       5\n",
      "2022-01-31_65   0.000000       5\n",
      "2021-09-02_75   0.000000       5\n",
      "2021-06-09_11   0.000000       5\n",
      "2022-01-31_56   0.000000       5\n"
     ]
    },
    {
     "data": {
      "text/plain": [
       "Text(0.5, 1.0, 'Distribution of transaction sizes')"
      ]
     },
     "execution_count": 12,
     "metadata": {},
     "output_type": "execute_result"
    },
    {
     "data": {
      "image/png": "[encoded data removed]",
      "text/plain": [
       "<Figure size 432x288 with 1 Axes>"
      ]
     },
     "metadata": {
      "needs_background": "light"
     },
     "output_type": "display_data"
    }
   ],
   "source": [
    "print(diff.sort_values('counts', ascending=False).head(10))\n",
    "diff['counts'].hist(bins=[1,2,3,4,5,6,7,8,9,10])\n",
    "plt.title('Distribution of transaction sizes')"
   ]
  },
  {
   "cell_type": "code",
   "execution_count": 13,
   "metadata": {},
   "outputs": [],
   "source": [
    "# remove outlying transaction ids. \n",
    "# replace them with index id. \n",
    "df=c_co_out.copy()\n",
    "df.loc[df[df['trans_id_2'].isin(diff[diff['counts']>6].index)].index ,\\\n",
    "       ['trans_id_2']]=df[df['trans_id_2'].isin(diff[diff['counts']>6].index)].index"
   ]
  },
  {
   "cell_type": "code",
   "execution_count": 14,
   "metadata": {},
   "outputs": [
    {
     "data": {
      "text/plain": [
       "235495"
      ]
     },
     "execution_count": 14,
     "metadata": {},
     "output_type": "execute_result"
    }
   ],
   "source": [
    "len(set(list(df['trans_id_2'])))"
   ]
  },
  {
   "cell_type": "code",
   "execution_count": 15,
   "metadata": {},
   "outputs": [
    {
     "data": {
      "text/plain": [
       "235495"
      ]
     },
     "execution_count": 15,
     "metadata": {},
     "output_type": "execute_result"
    }
   ],
   "source": [
    "len(set(list(c_co_out['trans_id_2'])))"
   ]
  },
  {
   "cell_type": "code",
   "execution_count": 16,
   "metadata": {},
   "outputs": [],
   "source": [
    "# plots after removing outliers\n",
    "diff2=df.groupby('trans_id_2')['seconds'].agg(np.ptp).to_frame('time_window')\n",
    "diff2['counts_2']=df.groupby('trans_id_2').size()\n"
   ]
  },
  {
   "cell_type": "code",
   "execution_count": null,
   "metadata": {},
   "outputs": [],
   "source": []
  },
  {
   "cell_type": "code",
   "execution_count": 17,
   "metadata": {},
   "outputs": [
    {
     "data": {
      "image/png": "[encoded data removed]",
      "text/plain": [
       "<Figure size 432x288 with 1 Axes>"
      ]
     },
     "metadata": {
      "needs_background": "light"
     },
     "output_type": "display_data"
    }
   ],
   "source": [
    "diff2['counts_2'].hist(alpha=0.5 ,label='count_2')\n",
    "\n",
    "plt.legend()\n",
    "plt.show()"
   ]
  },
  {
   "cell_type": "code",
   "execution_count": 18,
   "metadata": {},
   "outputs": [
    {
     "data": {
      "text/plain": [
       "<AxesSubplot:>"
      ]
     },
     "execution_count": 18,
     "metadata": {},
     "output_type": "execute_result"
    },
    {
     "data": {
      "image/png": "[encoded data removed]",
      "text/plain": [
       "<Figure size 432x288 with 1 Axes>"
      ]
     },
     "metadata": {
      "needs_background": "light"
     },
     "output_type": "display_data"
    }
   ],
   "source": [
    "# time width of the transactions\n",
    "diff2['time_window'].hist()"
   ]
  },
  {
   "cell_type": "code",
   "execution_count": 19,
   "metadata": {},
   "outputs": [
    {
     "data": {
      "text/plain": [
       "<AxesSubplot:>"
      ]
     },
     "execution_count": 19,
     "metadata": {},
     "output_type": "execute_result"
    },
    {
     "data": {
      "image/png": "[encoded data removed]",
      "text/plain": [
       "<Figure size 432x288 with 1 Axes>"
      ]
     },
     "metadata": {
      "needs_background": "light"
     },
     "output_type": "display_data"
    }
   ],
   "source": [
    "diff2[diff2['time_window']>120]['time_window'].hist()"
   ]
  },
  {
   "cell_type": "code",
   "execution_count": 20,
   "metadata": {},
   "outputs": [
    {
     "data": {
      "text/plain": [
       "(235495, 2)"
      ]
     },
     "execution_count": 20,
     "metadata": {},
     "output_type": "execute_result"
    }
   ],
   "source": [
    "diff2.shape"
   ]
  },
  {
   "cell_type": "code",
   "execution_count": 21,
   "metadata": {},
   "outputs": [
    {
     "data": {
      "text/plain": [
       "(247990,)"
      ]
     },
     "execution_count": 21,
     "metadata": {},
     "output_type": "execute_result"
    }
   ],
   "source": [
    "# if we had used only timestamp without clustering in time...\n",
    "df.groupby(by=['NextOwnerId','OwnerSince']).size().sort_values(ascending=False).shape"
   ]
  },
  {
   "cell_type": "code",
   "execution_count": 22,
   "metadata": {},
   "outputs": [
    {
     "data": {
      "text/plain": [
       "-12495"
      ]
     },
     "execution_count": 22,
     "metadata": {},
     "output_type": "execute_result"
    }
   ],
   "source": [
    "diff2.shape[0]- df.groupby(by=['NextOwnerId','OwnerSince']).size().sort_values(ascending=False).shape[0]"
   ]
  },
  {
   "cell_type": "code",
   "execution_count": 23,
   "metadata": {},
   "outputs": [
    {
     "data": {
      "image/png": "[encoded data removed]",
      "text/plain": [
       "<Figure size 720x360 with 1 Axes>"
      ]
     },
     "metadata": {
      "needs_background": "light"
     },
     "output_type": "display_data"
    }
   ],
   "source": [
    "# plot how often which container types are check-out. \n",
    "# \n",
    "plt.figure(figsize=(10,5))\n",
    "plt.title('Container Type Check-out Sizes')\n",
    "plt.ylabel('Counts')\n",
    "\n",
    "df.groupby(df['container_type_id']).size().plot.bar()\n",
    "\n",
    "plt.show()"
   ]
  },
  {
   "cell_type": "code",
   "execution_count": 24,
   "metadata": {},
   "outputs": [
    {
     "data": {
      "text/html": [
       "<div>\n",
       "<style scoped>\n",
       "    .dataframe tbody tr th:only-of-type {\n",
       "        vertical-align: middle;\n",
       "    }\n",
       "\n",
       "    .dataframe tbody tr th {\n",
       "        vertical-align: top;\n",
       "    }\n",
       "\n",
       "    .dataframe thead th {\n",
       "        text-align: right;\n",
       "    }\n",
       "</style>\n",
       "<table border=\"1\" class=\"dataframe\">\n",
       "  <thead>\n",
       "    <tr style=\"text-align: right;\">\n",
       "      <th></th>\n",
       "      <th>OwnerId</th>\n",
       "      <th>NextOwnerId</th>\n",
       "      <th>ContainerId</th>\n",
       "      <th>OwnerSince</th>\n",
       "      <th>OwnerTill</th>\n",
       "      <th>IsBillableTransaction</th>\n",
       "      <th>TransactionId</th>\n",
       "      <th>container_type_id</th>\n",
       "      <th>owner_store_id</th>\n",
       "      <th>next_owner_store_id</th>\n",
       "      <th>owner_co_int_</th>\n",
       "      <th>next_owner_co_int_</th>\n",
       "      <th>owner_claim_type</th>\n",
       "      <th>next_owner_claim_type</th>\n",
       "      <th>geometry</th>\n",
       "      <th>seconds</th>\n",
       "      <th>seconds_2</th>\n",
       "      <th>trans_id_2</th>\n",
       "    </tr>\n",
       "  </thead>\n",
       "  <tbody>\n",
       "  </tbody>\n",
       "</table>\n",
       "</div>"
      ],
      "text/plain": [
       "Empty DataFrame\n",
       "Columns: [OwnerId, NextOwnerId, ContainerId, OwnerSince, OwnerTill, IsBillableTransaction, TransactionId, container_type_id, owner_store_id, next_owner_store_id, owner_co_int_, next_owner_co_int_, owner_claim_type, next_owner_claim_type, geometry, seconds, seconds_2, trans_id_2]\n",
       "Index: []"
      ]
     },
     "execution_count": 24,
     "metadata": {},
     "output_type": "execute_result"
    }
   ],
   "source": [
    "df[df['trans_id_2'].isna()]"
   ]
  },
  {
   "cell_type": "code",
   "execution_count": 25,
   "metadata": {},
   "outputs": [
    {
     "data": {
      "text/html": [
       "<div>\n",
       "<style scoped>\n",
       "    .dataframe tbody tr th:only-of-type {\n",
       "        vertical-align: middle;\n",
       "    }\n",
       "\n",
       "    .dataframe tbody tr th {\n",
       "        vertical-align: top;\n",
       "    }\n",
       "\n",
       "    .dataframe thead th {\n",
       "        text-align: right;\n",
       "    }\n",
       "</style>\n",
       "<table border=\"1\" class=\"dataframe\">\n",
       "  <thead>\n",
       "    <tr style=\"text-align: right;\">\n",
       "      <th></th>\n",
       "      <th>OwnerId</th>\n",
       "      <th>NextOwnerId</th>\n",
       "      <th>ContainerId</th>\n",
       "      <th>OwnerSince</th>\n",
       "      <th>OwnerTill</th>\n",
       "      <th>IsBillableTransaction</th>\n",
       "      <th>TransactionId</th>\n",
       "      <th>container_type_id</th>\n",
       "      <th>owner_store_id</th>\n",
       "      <th>next_owner_store_id</th>\n",
       "      <th>owner_co_int_</th>\n",
       "      <th>next_owner_co_int_</th>\n",
       "      <th>owner_claim_type</th>\n",
       "      <th>next_owner_claim_type</th>\n",
       "      <th>geometry</th>\n",
       "      <th>seconds</th>\n",
       "      <th>seconds_2</th>\n",
       "      <th>trans_id_2</th>\n",
       "    </tr>\n",
       "  </thead>\n",
       "  <tbody>\n",
       "    <tr>\n",
       "      <th>498093</th>\n",
       "      <td>e5c7976f-92fb-408f-b852-01b98ba1723d</td>\n",
       "      <td>9c1a570a-2ec2-4167-a15a-71f48425a3a9</td>\n",
       "      <td>e1a1724f-7f0d-4a20-8634-b3d4e2fcb843</td>\n",
       "      <td>2022-03-04 15:21:04.174582+00:00</td>\n",
       "      <td>2022-03-04 16:31:27.886218+00:00</td>\n",
       "      <td>True</td>\n",
       "      <td>a84937d9-0962-4733-bc0a-4046b6a49066</td>\n",
       "      <td>1.0</td>\n",
       "      <td>e20e6c15-6507-4427-8b68-e1d1f870b924</td>\n",
       "      <td>NaN</td>\n",
       "      <td>False</td>\n",
       "      <td>False</td>\n",
       "      <td>storeappuser</td>\n",
       "      <td>consumer</td>\n",
       "      <td>POINT (2566096.0567991943 5646020.265491151)</td>\n",
       "      <td>1.001065e+07</td>\n",
       "      <td>1.001065e+07</td>\n",
       "      <td>498093</td>\n",
       "    </tr>\n",
       "    <tr>\n",
       "      <th>498116</th>\n",
       "      <td>addf362b-e42f-491f-9700-ac906bf3c7c5</td>\n",
       "      <td>6bbeffb2-b856-4474-b618-1daf55071e5a</td>\n",
       "      <td>1b202077-6791-440d-ae80-25e5d6b38cb7</td>\n",
       "      <td>2022-03-04 15:36:53.106475+00:00</td>\n",
       "      <td>2022-03-04 16:44:01.608737+00:00</td>\n",
       "      <td>True</td>\n",
       "      <td>4fc54a69-a040-4b3e-959e-550ef2c4b5bf</td>\n",
       "      <td>3.0</td>\n",
       "      <td>415e2bd1-1253-4d42-a818-e519a606e18f</td>\n",
       "      <td>NaN</td>\n",
       "      <td>False</td>\n",
       "      <td>False</td>\n",
       "      <td>storeappuser</td>\n",
       "      <td>consumer</td>\n",
       "      <td>POINT (2565158.999204197 5643052.807053572)</td>\n",
       "      <td>1.001074e+07</td>\n",
       "      <td>1.001074e+07</td>\n",
       "      <td>498116</td>\n",
       "    </tr>\n",
       "    <tr>\n",
       "      <th>498163</th>\n",
       "      <td>addf362b-e42f-491f-9700-ac906bf3c7c5</td>\n",
       "      <td>fb919c9b-4f0b-4814-8fc2-941e96e0c043</td>\n",
       "      <td>a09bddda-5704-4f75-83e7-aa966adc5664</td>\n",
       "      <td>2022-03-04 16:10:55.229060+00:00</td>\n",
       "      <td>2022-03-04 16:17:56.721385+00:00</td>\n",
       "      <td>True</td>\n",
       "      <td>fc5c60c0-26ca-4960-bc94-e4e9aea0573f</td>\n",
       "      <td>1.0</td>\n",
       "      <td>415e2bd1-1253-4d42-a818-e519a606e18f</td>\n",
       "      <td>NaN</td>\n",
       "      <td>False</td>\n",
       "      <td>False</td>\n",
       "      <td>storeappuser</td>\n",
       "      <td>consumer</td>\n",
       "      <td>POINT (2565158.999204197 5643052.807053572)</td>\n",
       "      <td>1.001095e+07</td>\n",
       "      <td>1.001095e+07</td>\n",
       "      <td>2022-03-04_19</td>\n",
       "    </tr>\n",
       "    <tr>\n",
       "      <th>498164</th>\n",
       "      <td>addf362b-e42f-491f-9700-ac906bf3c7c5</td>\n",
       "      <td>fb919c9b-4f0b-4814-8fc2-941e96e0c043</td>\n",
       "      <td>e7d2ea07-664b-4826-a536-a85792a4c56a</td>\n",
       "      <td>2022-03-04 16:10:55.229060+00:00</td>\n",
       "      <td>2022-03-04 16:17:56.721385+00:00</td>\n",
       "      <td>True</td>\n",
       "      <td>fc5c60c0-26ca-4960-bc94-e4e9aea0573f</td>\n",
       "      <td>1.0</td>\n",
       "      <td>415e2bd1-1253-4d42-a818-e519a606e18f</td>\n",
       "      <td>NaN</td>\n",
       "      <td>False</td>\n",
       "      <td>False</td>\n",
       "      <td>storeappuser</td>\n",
       "      <td>consumer</td>\n",
       "      <td>POINT (2565158.999204197 5643052.807053572)</td>\n",
       "      <td>1.001095e+07</td>\n",
       "      <td>1.001095e+07</td>\n",
       "      <td>2022-03-04_19</td>\n",
       "    </tr>\n",
       "    <tr>\n",
       "      <th>498165</th>\n",
       "      <td>addf362b-e42f-491f-9700-ac906bf3c7c5</td>\n",
       "      <td>fb919c9b-4f0b-4814-8fc2-941e96e0c043</td>\n",
       "      <td>e7c490e9-a02a-4801-936c-f293b5e86903</td>\n",
       "      <td>2022-03-04 16:10:55.229060+00:00</td>\n",
       "      <td>2022-03-04 16:17:56.721385+00:00</td>\n",
       "      <td>True</td>\n",
       "      <td>fc5c60c0-26ca-4960-bc94-e4e9aea0573f</td>\n",
       "      <td>1.0</td>\n",
       "      <td>415e2bd1-1253-4d42-a818-e519a606e18f</td>\n",
       "      <td>NaN</td>\n",
       "      <td>False</td>\n",
       "      <td>False</td>\n",
       "      <td>storeappuser</td>\n",
       "      <td>consumer</td>\n",
       "      <td>POINT (2565158.999204197 5643052.807053572)</td>\n",
       "      <td>1.001095e+07</td>\n",
       "      <td>1.001095e+07</td>\n",
       "      <td>2022-03-04_19</td>\n",
       "    </tr>\n",
       "  </tbody>\n",
       "</table>\n",
       "</div>"
      ],
      "text/plain": [
       "                                     OwnerId  \\\n",
       "498093  e5c7976f-92fb-408f-b852-01b98ba1723d   \n",
       "498116  addf362b-e42f-491f-9700-ac906bf3c7c5   \n",
       "498163  addf362b-e42f-491f-9700-ac906bf3c7c5   \n",
       "498164  addf362b-e42f-491f-9700-ac906bf3c7c5   \n",
       "498165  addf362b-e42f-491f-9700-ac906bf3c7c5   \n",
       "\n",
       "                                 NextOwnerId  \\\n",
       "498093  9c1a570a-2ec2-4167-a15a-71f48425a3a9   \n",
       "498116  6bbeffb2-b856-4474-b618-1daf55071e5a   \n",
       "498163  fb919c9b-4f0b-4814-8fc2-941e96e0c043   \n",
       "498164  fb919c9b-4f0b-4814-8fc2-941e96e0c043   \n",
       "498165  fb919c9b-4f0b-4814-8fc2-941e96e0c043   \n",
       "\n",
       "                                 ContainerId                       OwnerSince  \\\n",
       "498093  e1a1724f-7f0d-4a20-8634-b3d4e2fcb843 2022-03-04 15:21:04.174582+00:00   \n",
       "498116  1b202077-6791-440d-ae80-25e5d6b38cb7 2022-03-04 15:36:53.106475+00:00   \n",
       "498163  a09bddda-5704-4f75-83e7-aa966adc5664 2022-03-04 16:10:55.229060+00:00   \n",
       "498164  e7d2ea07-664b-4826-a536-a85792a4c56a 2022-03-04 16:10:55.229060+00:00   \n",
       "498165  e7c490e9-a02a-4801-936c-f293b5e86903 2022-03-04 16:10:55.229060+00:00   \n",
       "\n",
       "                              OwnerTill  IsBillableTransaction  \\\n",
       "498093 2022-03-04 16:31:27.886218+00:00                   True   \n",
       "498116 2022-03-04 16:44:01.608737+00:00                   True   \n",
       "498163 2022-03-04 16:17:56.721385+00:00                   True   \n",
       "498164 2022-03-04 16:17:56.721385+00:00                   True   \n",
       "498165 2022-03-04 16:17:56.721385+00:00                   True   \n",
       "\n",
       "                               TransactionId  container_type_id  \\\n",
       "498093  a84937d9-0962-4733-bc0a-4046b6a49066                1.0   \n",
       "498116  4fc54a69-a040-4b3e-959e-550ef2c4b5bf                3.0   \n",
       "498163  fc5c60c0-26ca-4960-bc94-e4e9aea0573f                1.0   \n",
       "498164  fc5c60c0-26ca-4960-bc94-e4e9aea0573f                1.0   \n",
       "498165  fc5c60c0-26ca-4960-bc94-e4e9aea0573f                1.0   \n",
       "\n",
       "                              owner_store_id  next_owner_store_id  \\\n",
       "498093  e20e6c15-6507-4427-8b68-e1d1f870b924                  NaN   \n",
       "498116  415e2bd1-1253-4d42-a818-e519a606e18f                  NaN   \n",
       "498163  415e2bd1-1253-4d42-a818-e519a606e18f                  NaN   \n",
       "498164  415e2bd1-1253-4d42-a818-e519a606e18f                  NaN   \n",
       "498165  415e2bd1-1253-4d42-a818-e519a606e18f                  NaN   \n",
       "\n",
       "        owner_co_int_  next_owner_co_int_ owner_claim_type  \\\n",
       "498093          False               False     storeappuser   \n",
       "498116          False               False     storeappuser   \n",
       "498163          False               False     storeappuser   \n",
       "498164          False               False     storeappuser   \n",
       "498165          False               False     storeappuser   \n",
       "\n",
       "       next_owner_claim_type                                      geometry  \\\n",
       "498093              consumer  POINT (2566096.0567991943 5646020.265491151)   \n",
       "498116              consumer   POINT (2565158.999204197 5643052.807053572)   \n",
       "498163              consumer   POINT (2565158.999204197 5643052.807053572)   \n",
       "498164              consumer   POINT (2565158.999204197 5643052.807053572)   \n",
       "498165              consumer   POINT (2565158.999204197 5643052.807053572)   \n",
       "\n",
       "             seconds     seconds_2     trans_id_2  \n",
       "498093  1.001065e+07  1.001065e+07         498093  \n",
       "498116  1.001074e+07  1.001074e+07         498116  \n",
       "498163  1.001095e+07  1.001095e+07  2022-03-04_19  \n",
       "498164  1.001095e+07  1.001095e+07  2022-03-04_19  \n",
       "498165  1.001095e+07  1.001095e+07  2022-03-04_19  "
      ]
     },
     "execution_count": 25,
     "metadata": {},
     "output_type": "execute_result"
    }
   ],
   "source": [
    "df.tail(5)"
   ]
  },
  {
   "cell_type": "markdown",
   "metadata": {},
   "source": [
    "## Association"
   ]
  },
  {
   "cell_type": "code",
   "execution_count": null,
   "metadata": {},
   "outputs": [],
   "source": []
  },
  {
   "cell_type": "code",
   "execution_count": 26,
   "metadata": {},
   "outputs": [],
   "source": [
    "basket= (df.groupby(['trans_id_2', 'container_type_id']).size().unstack().reset_index().fillna(0).set_index('trans_id_2'))\n"
   ]
  },
  {
   "cell_type": "code",
   "execution_count": 27,
   "metadata": {},
   "outputs": [
    {
     "data": {
      "text/html": [
       "<div>\n",
       "<style scoped>\n",
       "    .dataframe tbody tr th:only-of-type {\n",
       "        vertical-align: middle;\n",
       "    }\n",
       "\n",
       "    .dataframe tbody tr th {\n",
       "        vertical-align: top;\n",
       "    }\n",
       "\n",
       "    .dataframe thead th {\n",
       "        text-align: right;\n",
       "    }\n",
       "</style>\n",
       "<table border=\"1\" class=\"dataframe\">\n",
       "  <thead>\n",
       "    <tr style=\"text-align: right;\">\n",
       "      <th>container_type_id</th>\n",
       "      <th>1.0</th>\n",
       "      <th>2.0</th>\n",
       "      <th>3.0</th>\n",
       "      <th>4.0</th>\n",
       "      <th>5.0</th>\n",
       "      <th>6.0</th>\n",
       "      <th>8.0</th>\n",
       "      <th>9.0</th>\n",
       "      <th>10.0</th>\n",
       "      <th>12.0</th>\n",
       "    </tr>\n",
       "    <tr>\n",
       "      <th>trans_id_2</th>\n",
       "      <th></th>\n",
       "      <th></th>\n",
       "      <th></th>\n",
       "      <th></th>\n",
       "      <th></th>\n",
       "      <th></th>\n",
       "      <th></th>\n",
       "      <th></th>\n",
       "      <th></th>\n",
       "      <th></th>\n",
       "    </tr>\n",
       "  </thead>\n",
       "  <tbody>\n",
       "    <tr>\n",
       "      <th>1</th>\n",
       "      <td>1.0</td>\n",
       "      <td>0.0</td>\n",
       "      <td>0.0</td>\n",
       "      <td>0.0</td>\n",
       "      <td>0.0</td>\n",
       "      <td>0.0</td>\n",
       "      <td>0.0</td>\n",
       "      <td>0.0</td>\n",
       "      <td>0.0</td>\n",
       "      <td>0.0</td>\n",
       "    </tr>\n",
       "    <tr>\n",
       "      <th>3</th>\n",
       "      <td>1.0</td>\n",
       "      <td>0.0</td>\n",
       "      <td>0.0</td>\n",
       "      <td>0.0</td>\n",
       "      <td>0.0</td>\n",
       "      <td>0.0</td>\n",
       "      <td>0.0</td>\n",
       "      <td>0.0</td>\n",
       "      <td>0.0</td>\n",
       "      <td>0.0</td>\n",
       "    </tr>\n",
       "    <tr>\n",
       "      <th>4</th>\n",
       "      <td>1.0</td>\n",
       "      <td>0.0</td>\n",
       "      <td>0.0</td>\n",
       "      <td>0.0</td>\n",
       "      <td>0.0</td>\n",
       "      <td>0.0</td>\n",
       "      <td>0.0</td>\n",
       "      <td>0.0</td>\n",
       "      <td>0.0</td>\n",
       "      <td>0.0</td>\n",
       "    </tr>\n",
       "    <tr>\n",
       "      <th>5</th>\n",
       "      <td>1.0</td>\n",
       "      <td>0.0</td>\n",
       "      <td>0.0</td>\n",
       "      <td>0.0</td>\n",
       "      <td>0.0</td>\n",
       "      <td>0.0</td>\n",
       "      <td>0.0</td>\n",
       "      <td>0.0</td>\n",
       "      <td>0.0</td>\n",
       "      <td>0.0</td>\n",
       "    </tr>\n",
       "    <tr>\n",
       "      <th>6</th>\n",
       "      <td>1.0</td>\n",
       "      <td>0.0</td>\n",
       "      <td>0.0</td>\n",
       "      <td>0.0</td>\n",
       "      <td>0.0</td>\n",
       "      <td>0.0</td>\n",
       "      <td>0.0</td>\n",
       "      <td>0.0</td>\n",
       "      <td>0.0</td>\n",
       "      <td>0.0</td>\n",
       "    </tr>\n",
       "  </tbody>\n",
       "</table>\n",
       "</div>"
      ],
      "text/plain": [
       "container_type_id  1.0  2.0  3.0  4.0  5.0  6.0  8.0  9.0  10.0  12.0\n",
       "trans_id_2                                                           \n",
       "1                  1.0  0.0  0.0  0.0  0.0  0.0  0.0  0.0   0.0   0.0\n",
       "3                  1.0  0.0  0.0  0.0  0.0  0.0  0.0  0.0   0.0   0.0\n",
       "4                  1.0  0.0  0.0  0.0  0.0  0.0  0.0  0.0   0.0   0.0\n",
       "5                  1.0  0.0  0.0  0.0  0.0  0.0  0.0  0.0   0.0   0.0\n",
       "6                  1.0  0.0  0.0  0.0  0.0  0.0  0.0  0.0   0.0   0.0"
      ]
     },
     "execution_count": 27,
     "metadata": {},
     "output_type": "execute_result"
    }
   ],
   "source": [
    "basket.head()"
   ]
  },
  {
   "cell_type": "code",
   "execution_count": 28,
   "metadata": {},
   "outputs": [],
   "source": [
    "# we change the matrix into 1: borrowed or 0: not borrowed. \n",
    "# In other words, we do not care about multiple borrowings of the same container types. \n",
    "# The question is here: is there any interaction between borrowings of different container types? \n",
    "#That refers exactly the associiation analysis. \n",
    "def hot_encode(x):\n",
    "    if(x<= 0):\n",
    "        return 0\n",
    "    if(x>= 1):\n",
    "        return 1\n",
    "\n",
    "# Encoding the datasets\n",
    "basket_encoded = basket.applymap(hot_encode)\n",
    "basket = basket_encoded"
   ]
  },
  {
   "cell_type": "code",
   "execution_count": 29,
   "metadata": {},
   "outputs": [
    {
     "data": {
      "text/html": [
       "<div>\n",
       "<style scoped>\n",
       "    .dataframe tbody tr th:only-of-type {\n",
       "        vertical-align: middle;\n",
       "    }\n",
       "\n",
       "    .dataframe tbody tr th {\n",
       "        vertical-align: top;\n",
       "    }\n",
       "\n",
       "    .dataframe thead th {\n",
       "        text-align: right;\n",
       "    }\n",
       "</style>\n",
       "<table border=\"1\" class=\"dataframe\">\n",
       "  <thead>\n",
       "    <tr style=\"text-align: right;\">\n",
       "      <th>container_type_id</th>\n",
       "      <th>1.0</th>\n",
       "      <th>2.0</th>\n",
       "      <th>3.0</th>\n",
       "      <th>4.0</th>\n",
       "      <th>5.0</th>\n",
       "      <th>6.0</th>\n",
       "      <th>8.0</th>\n",
       "      <th>9.0</th>\n",
       "      <th>10.0</th>\n",
       "      <th>12.0</th>\n",
       "    </tr>\n",
       "    <tr>\n",
       "      <th>trans_id_2</th>\n",
       "      <th></th>\n",
       "      <th></th>\n",
       "      <th></th>\n",
       "      <th></th>\n",
       "      <th></th>\n",
       "      <th></th>\n",
       "      <th></th>\n",
       "      <th></th>\n",
       "      <th></th>\n",
       "      <th></th>\n",
       "    </tr>\n",
       "  </thead>\n",
       "  <tbody>\n",
       "    <tr>\n",
       "      <th>1</th>\n",
       "      <td>1</td>\n",
       "      <td>0</td>\n",
       "      <td>0</td>\n",
       "      <td>0</td>\n",
       "      <td>0</td>\n",
       "      <td>0</td>\n",
       "      <td>0</td>\n",
       "      <td>0</td>\n",
       "      <td>0</td>\n",
       "      <td>0</td>\n",
       "    </tr>\n",
       "    <tr>\n",
       "      <th>3</th>\n",
       "      <td>1</td>\n",
       "      <td>0</td>\n",
       "      <td>0</td>\n",
       "      <td>0</td>\n",
       "      <td>0</td>\n",
       "      <td>0</td>\n",
       "      <td>0</td>\n",
       "      <td>0</td>\n",
       "      <td>0</td>\n",
       "      <td>0</td>\n",
       "    </tr>\n",
       "    <tr>\n",
       "      <th>4</th>\n",
       "      <td>1</td>\n",
       "      <td>0</td>\n",
       "      <td>0</td>\n",
       "      <td>0</td>\n",
       "      <td>0</td>\n",
       "      <td>0</td>\n",
       "      <td>0</td>\n",
       "      <td>0</td>\n",
       "      <td>0</td>\n",
       "      <td>0</td>\n",
       "    </tr>\n",
       "    <tr>\n",
       "      <th>5</th>\n",
       "      <td>1</td>\n",
       "      <td>0</td>\n",
       "      <td>0</td>\n",
       "      <td>0</td>\n",
       "      <td>0</td>\n",
       "      <td>0</td>\n",
       "      <td>0</td>\n",
       "      <td>0</td>\n",
       "      <td>0</td>\n",
       "      <td>0</td>\n",
       "    </tr>\n",
       "    <tr>\n",
       "      <th>6</th>\n",
       "      <td>1</td>\n",
       "      <td>0</td>\n",
       "      <td>0</td>\n",
       "      <td>0</td>\n",
       "      <td>0</td>\n",
       "      <td>0</td>\n",
       "      <td>0</td>\n",
       "      <td>0</td>\n",
       "      <td>0</td>\n",
       "      <td>0</td>\n",
       "    </tr>\n",
       "    <tr>\n",
       "      <th>...</th>\n",
       "      <td>...</td>\n",
       "      <td>...</td>\n",
       "      <td>...</td>\n",
       "      <td>...</td>\n",
       "      <td>...</td>\n",
       "      <td>...</td>\n",
       "      <td>...</td>\n",
       "      <td>...</td>\n",
       "      <td>...</td>\n",
       "      <td>...</td>\n",
       "    </tr>\n",
       "    <tr>\n",
       "      <th>2022-03-04_5</th>\n",
       "      <td>1</td>\n",
       "      <td>0</td>\n",
       "      <td>0</td>\n",
       "      <td>0</td>\n",
       "      <td>0</td>\n",
       "      <td>0</td>\n",
       "      <td>0</td>\n",
       "      <td>0</td>\n",
       "      <td>0</td>\n",
       "      <td>0</td>\n",
       "    </tr>\n",
       "    <tr>\n",
       "      <th>2022-03-04_6</th>\n",
       "      <td>1</td>\n",
       "      <td>0</td>\n",
       "      <td>0</td>\n",
       "      <td>0</td>\n",
       "      <td>0</td>\n",
       "      <td>0</td>\n",
       "      <td>0</td>\n",
       "      <td>0</td>\n",
       "      <td>0</td>\n",
       "      <td>0</td>\n",
       "    </tr>\n",
       "    <tr>\n",
       "      <th>2022-03-04_7</th>\n",
       "      <td>0</td>\n",
       "      <td>0</td>\n",
       "      <td>0</td>\n",
       "      <td>0</td>\n",
       "      <td>0</td>\n",
       "      <td>1</td>\n",
       "      <td>0</td>\n",
       "      <td>0</td>\n",
       "      <td>0</td>\n",
       "      <td>0</td>\n",
       "    </tr>\n",
       "    <tr>\n",
       "      <th>2022-03-04_8</th>\n",
       "      <td>0</td>\n",
       "      <td>0</td>\n",
       "      <td>0</td>\n",
       "      <td>0</td>\n",
       "      <td>0</td>\n",
       "      <td>1</td>\n",
       "      <td>0</td>\n",
       "      <td>0</td>\n",
       "      <td>0</td>\n",
       "      <td>0</td>\n",
       "    </tr>\n",
       "    <tr>\n",
       "      <th>2022-03-04_9</th>\n",
       "      <td>0</td>\n",
       "      <td>0</td>\n",
       "      <td>1</td>\n",
       "      <td>0</td>\n",
       "      <td>0</td>\n",
       "      <td>1</td>\n",
       "      <td>0</td>\n",
       "      <td>0</td>\n",
       "      <td>0</td>\n",
       "      <td>0</td>\n",
       "    </tr>\n",
       "  </tbody>\n",
       "</table>\n",
       "<p>235493 rows × 10 columns</p>\n",
       "</div>"
      ],
      "text/plain": [
       "container_type_id  1.0  2.0  3.0  4.0  5.0  6.0  8.0  9.0  10.0  12.0\n",
       "trans_id_2                                                           \n",
       "1                    1    0    0    0    0    0    0    0     0     0\n",
       "3                    1    0    0    0    0    0    0    0     0     0\n",
       "4                    1    0    0    0    0    0    0    0     0     0\n",
       "5                    1    0    0    0    0    0    0    0     0     0\n",
       "6                    1    0    0    0    0    0    0    0     0     0\n",
       "...                ...  ...  ...  ...  ...  ...  ...  ...   ...   ...\n",
       "2022-03-04_5         1    0    0    0    0    0    0    0     0     0\n",
       "2022-03-04_6         1    0    0    0    0    0    0    0     0     0\n",
       "2022-03-04_7         0    0    0    0    0    1    0    0     0     0\n",
       "2022-03-04_8         0    0    0    0    0    1    0    0     0     0\n",
       "2022-03-04_9         0    0    1    0    0    1    0    0     0     0\n",
       "\n",
       "[235493 rows x 10 columns]"
      ]
     },
     "execution_count": 29,
     "metadata": {},
     "output_type": "execute_result"
    }
   ],
   "source": [
    "basket"
   ]
  },
  {
   "cell_type": "code",
   "execution_count": 30,
   "metadata": {},
   "outputs": [
    {
     "data": {
      "text/plain": [
       "{1, 2, 3, 4}"
      ]
     },
     "execution_count": 30,
     "metadata": {},
     "output_type": "execute_result"
    }
   ],
   "source": [
    "set(list(basket.sum(axis=1)))"
   ]
  },
  {
   "cell_type": "code",
   "execution_count": 31,
   "metadata": {},
   "outputs": [
    {
     "name": "stdout",
     "output_type": "stream",
     "text": [
      "Total number of transactions: 235493\n",
      "The number of container types that are borrowed:\n"
     ]
    },
    {
     "data": {
      "text/plain": [
       "{1: 226212, 2: 8781, 3: 485, 4: 15}"
      ]
     },
     "execution_count": 31,
     "metadata": {},
     "output_type": "execute_result"
    }
   ],
   "source": [
    "# The number of items in transactions.\n",
    "# People usually get only one container.\n",
    "\n",
    "a=basket.sum(axis=1)\n",
    "\n",
    "unique, counts = np.unique(a, return_counts=True)\n",
    "print('Total number of transactions:',sum(counts))\n",
    "print('The number of container types that are borrowed:')\n",
    "dict(zip(unique, counts))"
   ]
  },
  {
   "cell_type": "code",
   "execution_count": 32,
   "metadata": {},
   "outputs": [
    {
     "data": {
      "text/html": [
       "<div>\n",
       "<style scoped>\n",
       "    .dataframe tbody tr th:only-of-type {\n",
       "        vertical-align: middle;\n",
       "    }\n",
       "\n",
       "    .dataframe tbody tr th {\n",
       "        vertical-align: top;\n",
       "    }\n",
       "\n",
       "    .dataframe thead th {\n",
       "        text-align: right;\n",
       "    }\n",
       "</style>\n",
       "<table border=\"1\" class=\"dataframe\">\n",
       "  <thead>\n",
       "    <tr style=\"text-align: right;\">\n",
       "      <th></th>\n",
       "      <th>antecedents</th>\n",
       "      <th>consequents</th>\n",
       "      <th>antecedent support</th>\n",
       "      <th>consequent support</th>\n",
       "      <th>support</th>\n",
       "      <th>confidence</th>\n",
       "      <th>lift</th>\n",
       "    </tr>\n",
       "  </thead>\n",
       "  <tbody>\n",
       "    <tr>\n",
       "      <th>2</th>\n",
       "      <td>(8.0)</td>\n",
       "      <td>(4.0)</td>\n",
       "      <td>0.010616</td>\n",
       "      <td>0.010837</td>\n",
       "      <td>0.000399</td>\n",
       "      <td>0.037600</td>\n",
       "      <td>3.469646</td>\n",
       "    </tr>\n",
       "    <tr>\n",
       "      <th>3</th>\n",
       "      <td>(4.0)</td>\n",
       "      <td>(8.0)</td>\n",
       "      <td>0.010837</td>\n",
       "      <td>0.010616</td>\n",
       "      <td>0.000399</td>\n",
       "      <td>0.036834</td>\n",
       "      <td>3.469646</td>\n",
       "    </tr>\n",
       "    <tr>\n",
       "      <th>4</th>\n",
       "      <td>(10.0)</td>\n",
       "      <td>(5.0)</td>\n",
       "      <td>0.026247</td>\n",
       "      <td>0.004140</td>\n",
       "      <td>0.000140</td>\n",
       "      <td>0.005339</td>\n",
       "      <td>1.289521</td>\n",
       "    </tr>\n",
       "    <tr>\n",
       "      <th>5</th>\n",
       "      <td>(5.0)</td>\n",
       "      <td>(10.0)</td>\n",
       "      <td>0.004140</td>\n",
       "      <td>0.026247</td>\n",
       "      <td>0.000140</td>\n",
       "      <td>0.033846</td>\n",
       "      <td>1.289521</td>\n",
       "    </tr>\n",
       "    <tr>\n",
       "      <th>0</th>\n",
       "      <td>(2.0)</td>\n",
       "      <td>(4.0)</td>\n",
       "      <td>0.064257</td>\n",
       "      <td>0.010837</td>\n",
       "      <td>0.000718</td>\n",
       "      <td>0.011168</td>\n",
       "      <td>1.030594</td>\n",
       "    </tr>\n",
       "    <tr>\n",
       "      <th>1</th>\n",
       "      <td>(4.0)</td>\n",
       "      <td>(2.0)</td>\n",
       "      <td>0.010837</td>\n",
       "      <td>0.064257</td>\n",
       "      <td>0.000718</td>\n",
       "      <td>0.066223</td>\n",
       "      <td>1.030594</td>\n",
       "    </tr>\n",
       "  </tbody>\n",
       "</table>\n",
       "</div>"
      ],
      "text/plain": [
       "  antecedents consequents  antecedent support  consequent support   support  \\\n",
       "2       (8.0)       (4.0)            0.010616            0.010837  0.000399   \n",
       "3       (4.0)       (8.0)            0.010837            0.010616  0.000399   \n",
       "4      (10.0)       (5.0)            0.026247            0.004140  0.000140   \n",
       "5       (5.0)      (10.0)            0.004140            0.026247  0.000140   \n",
       "0       (2.0)       (4.0)            0.064257            0.010837  0.000718   \n",
       "1       (4.0)       (2.0)            0.010837            0.064257  0.000718   \n",
       "\n",
       "   confidence      lift  \n",
       "2    0.037600  3.469646  \n",
       "3    0.036834  3.469646  \n",
       "4    0.005339  1.289521  \n",
       "5    0.033846  1.289521  \n",
       "0    0.011168  1.030594  \n",
       "1    0.066223  1.030594  "
      ]
     },
     "execution_count": 32,
     "metadata": {},
     "output_type": "execute_result"
    }
   ],
   "source": [
    "# create frequent itemsets\n",
    "itemsets = apriori(basket, min_support=0.0001, use_colnames=True)\n",
    "\n",
    "# and convert into rules\n",
    "rules = association_rules(itemsets, metric='lift', min_threshold=1)\n",
    "#rules.sort_values(by=['lift'], ascending=False).head(6)\n",
    "rules.drop(columns=[ 'conviction', 'leverage']).sort_values(by=['lift'], ascending=False)\n",
    "#"
   ]
  },
  {
   "cell_type": "markdown",
   "metadata": {},
   "source": [
    "see the link for the definitions above in the dataframe (support, lift, etc.)\n",
    "http://rasbt.github.io/mlxtend/user_guide/frequent_patterns/association_rules/ <br>\n"
   ]
  },
  {
   "cell_type": "markdown",
   "metadata": {},
   "source": [
    "### End"
   ]
  },
  {
   "cell_type": "code",
   "execution_count": null,
   "metadata": {},
   "outputs": [],
   "source": []
  },
  {
   "cell_type": "code",
   "execution_count": null,
   "metadata": {},
   "outputs": [],
   "source": []
  }
 ],
 "metadata": {
  "kernelspec": {
   "display_name": "Python 3 (ipykernel)",
   "language": "python",
   "name": "python3"
  },
  "language_info": {
   "codemirror_mode": {
    "name": "ipython",
    "version": 3
   },
   "file_extension": ".py",
   "mimetype": "text/x-python",
   "name": "python",
   "nbconvert_exporter": "python",
   "pygments_lexer": "ipython3",
   "version": "3.8.12"
  }
 },
 "nbformat": 4,
 "nbformat_minor": 4
}
