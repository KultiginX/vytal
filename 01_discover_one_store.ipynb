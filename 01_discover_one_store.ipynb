{
 "cells": [
  {
   "cell_type": "markdown",
   "metadata": {},
   "source": [
    "### operations of one store \n",
    "\n"
   ]
  },
  {
   "cell_type": "code",
   "execution_count": 1,
   "metadata": {},
   "outputs": [],
   "source": [
    "selected_store='37750976-cd54-44a5-a05a-d85d3cc9035b'"
   ]
  },
  {
   "cell_type": "code",
   "execution_count": 2,
   "metadata": {},
   "outputs": [],
   "source": [
    "#import packages\n",
    "import pandas as pd\n",
    "import numpy as np\n",
    "import geopandas as gpd\n",
    "import matplotlib.pyplot as plt \n",
    "import datetime as dt\n",
    "\n"
   ]
  },
  {
   "cell_type": "code",
   "execution_count": 3,
   "metadata": {},
   "outputs": [
    {
     "data": {
      "text/html": [
       "<div>\n",
       "<style scoped>\n",
       "    .dataframe tbody tr th:only-of-type {\n",
       "        vertical-align: middle;\n",
       "    }\n",
       "\n",
       "    .dataframe tbody tr th {\n",
       "        vertical-align: top;\n",
       "    }\n",
       "\n",
       "    .dataframe thead th {\n",
       "        text-align: right;\n",
       "    }\n",
       "</style>\n",
       "<table border=\"1\" class=\"dataframe\">\n",
       "  <thead>\n",
       "    <tr style=\"text-align: right;\">\n",
       "      <th></th>\n",
       "      <th>Unnamed: 0</th>\n",
       "      <th>CreationTimestamp</th>\n",
       "      <th>ClaimType</th>\n",
       "      <th>IsOfflineUser</th>\n",
       "    </tr>\n",
       "    <tr>\n",
       "      <th>UserId</th>\n",
       "      <th></th>\n",
       "      <th></th>\n",
       "      <th></th>\n",
       "      <th></th>\n",
       "    </tr>\n",
       "  </thead>\n",
       "  <tbody>\n",
       "    <tr>\n",
       "      <th>eecc280c-9941-41bc-b26f-d519da794a5d</th>\n",
       "      <td>0</td>\n",
       "      <td>1970-01-01 00:00:00+00</td>\n",
       "      <td>consumer</td>\n",
       "      <td>False</td>\n",
       "    </tr>\n",
       "    <tr>\n",
       "      <th>d9d8a373-29f0-4fe5-8f17-39669083ac48</th>\n",
       "      <td>1</td>\n",
       "      <td>1970-01-01 00:00:00+00</td>\n",
       "      <td>consumer</td>\n",
       "      <td>True</td>\n",
       "    </tr>\n",
       "    <tr>\n",
       "      <th>8f27c773-334a-4f8c-82c2-8cdec215a9bb</th>\n",
       "      <td>2</td>\n",
       "      <td>1970-01-01 00:00:00+00</td>\n",
       "      <td>consumer</td>\n",
       "      <td>True</td>\n",
       "    </tr>\n",
       "    <tr>\n",
       "      <th>aefe87c8-f537-4bdc-954f-6833a047081b</th>\n",
       "      <td>3</td>\n",
       "      <td>1970-01-01 00:00:00+00</td>\n",
       "      <td>consumer</td>\n",
       "      <td>True</td>\n",
       "    </tr>\n",
       "    <tr>\n",
       "      <th>6ad98c4e-18e3-4a6e-ac94-1338cb239c2d</th>\n",
       "      <td>4</td>\n",
       "      <td>1970-01-01 00:00:00+00</td>\n",
       "      <td>consumer</td>\n",
       "      <td>True</td>\n",
       "    </tr>\n",
       "  </tbody>\n",
       "</table>\n",
       "</div>"
      ],
      "text/plain": [
       "                                      Unnamed: 0       CreationTimestamp  \\\n",
       "UserId                                                                     \n",
       "eecc280c-9941-41bc-b26f-d519da794a5d           0  1970-01-01 00:00:00+00   \n",
       "d9d8a373-29f0-4fe5-8f17-39669083ac48           1  1970-01-01 00:00:00+00   \n",
       "8f27c773-334a-4f8c-82c2-8cdec215a9bb           2  1970-01-01 00:00:00+00   \n",
       "aefe87c8-f537-4bdc-954f-6833a047081b           3  1970-01-01 00:00:00+00   \n",
       "6ad98c4e-18e3-4a6e-ac94-1338cb239c2d           4  1970-01-01 00:00:00+00   \n",
       "\n",
       "                                     ClaimType  IsOfflineUser  \n",
       "UserId                                                         \n",
       "eecc280c-9941-41bc-b26f-d519da794a5d  consumer          False  \n",
       "d9d8a373-29f0-4fe5-8f17-39669083ac48  consumer           True  \n",
       "8f27c773-334a-4f8c-82c2-8cdec215a9bb  consumer           True  \n",
       "aefe87c8-f537-4bdc-954f-6833a047081b  consumer           True  \n",
       "6ad98c4e-18e3-4a6e-ac94-1338cb239c2d  consumer           True  "
      ]
     },
     "execution_count": 3,
     "metadata": {},
     "output_type": "execute_result"
    }
   ],
   "source": [
    "# Import customer list\n",
    "u_df=pd.read_csv('./data/Users_sanitized.csv', sep=',', index_col='UserId')\n",
    "u_df.head()"
   ]
  },
  {
   "cell_type": "code",
   "execution_count": 4,
   "metadata": {},
   "outputs": [
    {
     "data": {
      "text/plain": [
       "{'admin',\n",
       " 'catering_consumer',\n",
       " 'consumer',\n",
       " 'imc',\n",
       " 'imsmc',\n",
       " 'storeappuser',\n",
       " 'superAdmin'}"
      ]
     },
     "execution_count": 4,
     "metadata": {},
     "output_type": "execute_result"
    }
   ],
   "source": [
    "set(list(u_df['ClaimType']))"
   ]
  },
  {
   "cell_type": "code",
   "execution_count": 5,
   "metadata": {},
   "outputs": [
    {
     "data": {
      "text/html": [
       "<div>\n",
       "<style scoped>\n",
       "    .dataframe tbody tr th:only-of-type {\n",
       "        vertical-align: middle;\n",
       "    }\n",
       "\n",
       "    .dataframe tbody tr th {\n",
       "        vertical-align: top;\n",
       "    }\n",
       "\n",
       "    .dataframe thead th {\n",
       "        text-align: right;\n",
       "    }\n",
       "</style>\n",
       "<table border=\"1\" class=\"dataframe\">\n",
       "  <thead>\n",
       "    <tr style=\"text-align: right;\">\n",
       "      <th></th>\n",
       "      <th>MerchantId</th>\n",
       "      <th>Name</th>\n",
       "      <th>Longitude</th>\n",
       "      <th>Latitude</th>\n",
       "      <th>CreationDate</th>\n",
       "      <th>CategoryId</th>\n",
       "      <th>SellsOfflineCards</th>\n",
       "      <th>StreetAddress</th>\n",
       "      <th>ZipCode</th>\n",
       "      <th>City</th>\n",
       "      <th>Country</th>\n",
       "      <th>CanGetBowl</th>\n",
       "      <th>CanPreorder</th>\n",
       "      <th>IsPublished</th>\n",
       "      <th>ShowInStats</th>\n",
       "    </tr>\n",
       "    <tr>\n",
       "      <th>Id</th>\n",
       "      <th></th>\n",
       "      <th></th>\n",
       "      <th></th>\n",
       "      <th></th>\n",
       "      <th></th>\n",
       "      <th></th>\n",
       "      <th></th>\n",
       "      <th></th>\n",
       "      <th></th>\n",
       "      <th></th>\n",
       "      <th></th>\n",
       "      <th></th>\n",
       "      <th></th>\n",
       "      <th></th>\n",
       "      <th></th>\n",
       "    </tr>\n",
       "  </thead>\n",
       "  <tbody>\n",
       "    <tr>\n",
       "      <th>83787f7a-b659-44b6-a8aa-d1ef5b958a65</th>\n",
       "      <td>ed2c2eea-8399-4779-a9ea-dafb77878965</td>\n",
       "      <td>SAP WDF49 - Food Factory</td>\n",
       "      <td>8.642271</td>\n",
       "      <td>49.292543</td>\n",
       "      <td>2021-06-28 11:56:10.812661</td>\n",
       "      <td>4</td>\n",
       "      <td>False</td>\n",
       "      <td>Dietmar-Hopp-Allee 17</td>\n",
       "      <td>69190</td>\n",
       "      <td>Walldorf</td>\n",
       "      <td>NaN</td>\n",
       "      <td>True</td>\n",
       "      <td>False</td>\n",
       "      <td>True</td>\n",
       "      <td>True</td>\n",
       "    </tr>\n",
       "    <tr>\n",
       "      <th>4cd61f39-ddce-449f-8d1a-ef95c7b25307</th>\n",
       "      <td>cc8b8b51-efd7-4d74-84c8-4721619867df</td>\n",
       "      <td>Guten Dag</td>\n",
       "      <td>13.413539</td>\n",
       "      <td>52.548254</td>\n",
       "      <td>2020-07-14 19:44:49.101383</td>\n",
       "      <td>2</td>\n",
       "      <td>False</td>\n",
       "      <td>Schönhauser Allee 120</td>\n",
       "      <td>10437</td>\n",
       "      <td>Berlin</td>\n",
       "      <td>DE</td>\n",
       "      <td>False</td>\n",
       "      <td>True</td>\n",
       "      <td>True</td>\n",
       "      <td>True</td>\n",
       "    </tr>\n",
       "    <tr>\n",
       "      <th>fa17e91f-cdfb-4912-81c9-92cd0b87328e</th>\n",
       "      <td>78ecc5a3-0ea0-4820-9fd2-637c95d73782</td>\n",
       "      <td>Gasthaus Brückenschänke</td>\n",
       "      <td>7.771990</td>\n",
       "      <td>49.943655</td>\n",
       "      <td>2021-01-20 10:25:12.831661</td>\n",
       "      <td>2</td>\n",
       "      <td>False</td>\n",
       "      <td>Staatsstraße 4</td>\n",
       "      <td>55442</td>\n",
       "      <td>Stromberg</td>\n",
       "      <td>NaN</td>\n",
       "      <td>True</td>\n",
       "      <td>False</td>\n",
       "      <td>True</td>\n",
       "      <td>True</td>\n",
       "    </tr>\n",
       "    <tr>\n",
       "      <th>7c376406-7a5b-4a6c-b22c-e7e02ae0080c</th>\n",
       "      <td>f9b37c73-3a67-47b3-82cd-cfd1d6fafd6a</td>\n",
       "      <td>Com A</td>\n",
       "      <td>13.422482</td>\n",
       "      <td>52.500293</td>\n",
       "      <td>2020-08-26 06:53:57.107271</td>\n",
       "      <td>2</td>\n",
       "      <td>False</td>\n",
       "      <td>Oranienstraße 191</td>\n",
       "      <td>10999</td>\n",
       "      <td>Berlin</td>\n",
       "      <td>NaN</td>\n",
       "      <td>True</td>\n",
       "      <td>False</td>\n",
       "      <td>True</td>\n",
       "      <td>True</td>\n",
       "    </tr>\n",
       "    <tr>\n",
       "      <th>f421a5f6-ba67-4336-afc3-021a04da5005</th>\n",
       "      <td>556becfc-1aac-43e2-87d9-cbc3fab0f4b0</td>\n",
       "      <td>BLE - Betriebsgastronomie</td>\n",
       "      <td>7.184823</td>\n",
       "      <td>50.672743</td>\n",
       "      <td>2020-10-01 09:33:59.032472</td>\n",
       "      <td>4</td>\n",
       "      <td>False</td>\n",
       "      <td>Deichmanns Aue 29</td>\n",
       "      <td>53179</td>\n",
       "      <td>Bonn</td>\n",
       "      <td>NaN</td>\n",
       "      <td>True</td>\n",
       "      <td>False</td>\n",
       "      <td>False</td>\n",
       "      <td>True</td>\n",
       "    </tr>\n",
       "  </tbody>\n",
       "</table>\n",
       "</div>"
      ],
      "text/plain": [
       "                                                                MerchantId  \\\n",
       "Id                                                                           \n",
       "83787f7a-b659-44b6-a8aa-d1ef5b958a65  ed2c2eea-8399-4779-a9ea-dafb77878965   \n",
       "4cd61f39-ddce-449f-8d1a-ef95c7b25307  cc8b8b51-efd7-4d74-84c8-4721619867df   \n",
       "fa17e91f-cdfb-4912-81c9-92cd0b87328e  78ecc5a3-0ea0-4820-9fd2-637c95d73782   \n",
       "7c376406-7a5b-4a6c-b22c-e7e02ae0080c  f9b37c73-3a67-47b3-82cd-cfd1d6fafd6a   \n",
       "f421a5f6-ba67-4336-afc3-021a04da5005  556becfc-1aac-43e2-87d9-cbc3fab0f4b0   \n",
       "\n",
       "                                                           Name  Longitude  \\\n",
       "Id                                                                           \n",
       "83787f7a-b659-44b6-a8aa-d1ef5b958a65   SAP WDF49 - Food Factory   8.642271   \n",
       "4cd61f39-ddce-449f-8d1a-ef95c7b25307                  Guten Dag  13.413539   \n",
       "fa17e91f-cdfb-4912-81c9-92cd0b87328e   Gasthaus Brückenschänke    7.771990   \n",
       "7c376406-7a5b-4a6c-b22c-e7e02ae0080c                      Com A  13.422482   \n",
       "f421a5f6-ba67-4336-afc3-021a04da5005  BLE - Betriebsgastronomie   7.184823   \n",
       "\n",
       "                                       Latitude                CreationDate  \\\n",
       "Id                                                                            \n",
       "83787f7a-b659-44b6-a8aa-d1ef5b958a65  49.292543  2021-06-28 11:56:10.812661   \n",
       "4cd61f39-ddce-449f-8d1a-ef95c7b25307  52.548254  2020-07-14 19:44:49.101383   \n",
       "fa17e91f-cdfb-4912-81c9-92cd0b87328e  49.943655  2021-01-20 10:25:12.831661   \n",
       "7c376406-7a5b-4a6c-b22c-e7e02ae0080c  52.500293  2020-08-26 06:53:57.107271   \n",
       "f421a5f6-ba67-4336-afc3-021a04da5005  50.672743  2020-10-01 09:33:59.032472   \n",
       "\n",
       "                                      CategoryId  SellsOfflineCards  \\\n",
       "Id                                                                    \n",
       "83787f7a-b659-44b6-a8aa-d1ef5b958a65           4              False   \n",
       "4cd61f39-ddce-449f-8d1a-ef95c7b25307           2              False   \n",
       "fa17e91f-cdfb-4912-81c9-92cd0b87328e           2              False   \n",
       "7c376406-7a5b-4a6c-b22c-e7e02ae0080c           2              False   \n",
       "f421a5f6-ba67-4336-afc3-021a04da5005           4              False   \n",
       "\n",
       "                                              StreetAddress ZipCode  \\\n",
       "Id                                                                    \n",
       "83787f7a-b659-44b6-a8aa-d1ef5b958a65  Dietmar-Hopp-Allee 17   69190   \n",
       "4cd61f39-ddce-449f-8d1a-ef95c7b25307  Schönhauser Allee 120   10437   \n",
       "fa17e91f-cdfb-4912-81c9-92cd0b87328e         Staatsstraße 4   55442   \n",
       "7c376406-7a5b-4a6c-b22c-e7e02ae0080c      Oranienstraße 191   10999   \n",
       "f421a5f6-ba67-4336-afc3-021a04da5005      Deichmanns Aue 29   53179   \n",
       "\n",
       "                                            City Country  CanGetBowl  \\\n",
       "Id                                                                     \n",
       "83787f7a-b659-44b6-a8aa-d1ef5b958a65    Walldorf     NaN        True   \n",
       "4cd61f39-ddce-449f-8d1a-ef95c7b25307      Berlin      DE       False   \n",
       "fa17e91f-cdfb-4912-81c9-92cd0b87328e  Stromberg      NaN        True   \n",
       "7c376406-7a5b-4a6c-b22c-e7e02ae0080c      Berlin     NaN        True   \n",
       "f421a5f6-ba67-4336-afc3-021a04da5005        Bonn     NaN        True   \n",
       "\n",
       "                                      CanPreorder  IsPublished  ShowInStats  \n",
       "Id                                                                           \n",
       "83787f7a-b659-44b6-a8aa-d1ef5b958a65        False         True         True  \n",
       "4cd61f39-ddce-449f-8d1a-ef95c7b25307         True         True         True  \n",
       "fa17e91f-cdfb-4912-81c9-92cd0b87328e        False         True         True  \n",
       "7c376406-7a5b-4a6c-b22c-e7e02ae0080c        False         True         True  \n",
       "f421a5f6-ba67-4336-afc3-021a04da5005        False        False         True  "
      ]
     },
     "execution_count": 5,
     "metadata": {},
     "output_type": "execute_result"
    }
   ],
   "source": [
    "# Import merchants\n",
    "m_df=pd.read_csv('./data/MerchantInfos.csv', sep=',', index_col='Id')\n",
    "m_df.head()"
   ]
  },
  {
   "cell_type": "code",
   "execution_count": 6,
   "metadata": {},
   "outputs": [
    {
     "data": {
      "text/plain": [
       "MerchantId           2c1b374d-3d05-4b74-a260-a479c8ef9232\n",
       "Name                               Krua Thai 2 - Heumarkt\n",
       "Longitude                                         6.96016\n",
       "Latitude                                          50.9355\n",
       "CreationDate                   2020-10-20 18:04:31.643369\n",
       "CategoryId                                              2\n",
       "SellsOfflineCards                                   False\n",
       "StreetAddress                                 Heumarkt 25\n",
       "ZipCode                                             50667\n",
       "City                                                 Köln\n",
       "Country                                               NaN\n",
       "CanGetBowl                                           True\n",
       "CanPreorder                                         False\n",
       "IsPublished                                          True\n",
       "ShowInStats                                          True\n",
       "Name: 37750976-cd54-44a5-a05a-d85d3cc9035b, dtype: object"
      ]
     },
     "execution_count": 6,
     "metadata": {},
     "output_type": "execute_result"
    }
   ],
   "source": [
    "m_df.loc[selected_store,]"
   ]
  },
  {
   "cell_type": "code",
   "execution_count": 13,
   "metadata": {},
   "outputs": [
    {
     "data": {
      "text/html": [
       "<div>\n",
       "<style scoped>\n",
       "    .dataframe tbody tr th:only-of-type {\n",
       "        vertical-align: middle;\n",
       "    }\n",
       "\n",
       "    .dataframe tbody tr th {\n",
       "        vertical-align: top;\n",
       "    }\n",
       "\n",
       "    .dataframe thead th {\n",
       "        text-align: right;\n",
       "    }\n",
       "</style>\n",
       "<table border=\"1\" class=\"dataframe\">\n",
       "  <thead>\n",
       "    <tr style=\"text-align: right;\">\n",
       "      <th></th>\n",
       "      <th>UserId</th>\n",
       "      <th>ExternalPickpackId</th>\n",
       "      <th>StoreId</th>\n",
       "      <th>StoreName</th>\n",
       "      <th>LocationId</th>\n",
       "      <th>TransactionId</th>\n",
       "      <th>OwnerSince</th>\n",
       "      <th>OwnerTill</th>\n",
       "      <th>ContainerId</th>\n",
       "      <th>DeliveryTokenId</th>\n",
       "      <th>ContainerType</th>\n",
       "    </tr>\n",
       "  </thead>\n",
       "  <tbody>\n",
       "    <tr>\n",
       "      <th>19992</th>\n",
       "      <td>e66232f0-b876-47ea-b4df-2c7889fefeba</td>\n",
       "      <td>vytal_B5IGxbP0bCaHZx</td>\n",
       "      <td>37750976-cd54-44a5-a05a-d85d3cc9035b</td>\n",
       "      <td>Krua Thai 2 - Heumarkt</td>\n",
       "      <td>825278</td>\n",
       "      <td>334a3fb9-10a1-4695-b629-ca9fcc6d4b84</td>\n",
       "      <td>2021-02-01 13:52:25.061165+00:00</td>\n",
       "      <td>2021-02-01 19:27:52.982723+00:00</td>\n",
       "      <td>b9ddba13-2015-488a-969a-4956aa154617</td>\n",
       "      <td>NaN</td>\n",
       "      <td>1250ml Bowl</td>\n",
       "    </tr>\n",
       "    <tr>\n",
       "      <th>19993</th>\n",
       "      <td>e66232f0-b876-47ea-b4df-2c7889fefeba</td>\n",
       "      <td>vytal_B5IGxbP0bCaHZx</td>\n",
       "      <td>37750976-cd54-44a5-a05a-d85d3cc9035b</td>\n",
       "      <td>Krua Thai 2 - Heumarkt</td>\n",
       "      <td>766693</td>\n",
       "      <td>012a1502-db13-4d36-bad9-72f966b6cd0d</td>\n",
       "      <td>2021-01-25 18:46:06.900683+00:00</td>\n",
       "      <td>2021-02-01 19:27:52.982723+00:00</td>\n",
       "      <td>b720754d-d1ab-4ad9-ba04-ee399f63ead7</td>\n",
       "      <td>NaN</td>\n",
       "      <td>Compartment Bowl</td>\n",
       "    </tr>\n",
       "  </tbody>\n",
       "</table>\n",
       "</div>"
      ],
      "text/plain": [
       "                                     UserId    ExternalPickpackId  \\\n",
       "19992  e66232f0-b876-47ea-b4df-2c7889fefeba  vytal_B5IGxbP0bCaHZx   \n",
       "19993  e66232f0-b876-47ea-b4df-2c7889fefeba  vytal_B5IGxbP0bCaHZx   \n",
       "\n",
       "                                    StoreId               StoreName  \\\n",
       "19992  37750976-cd54-44a5-a05a-d85d3cc9035b  Krua Thai 2 - Heumarkt   \n",
       "19993  37750976-cd54-44a5-a05a-d85d3cc9035b  Krua Thai 2 - Heumarkt   \n",
       "\n",
       "       LocationId                         TransactionId  \\\n",
       "19992      825278  334a3fb9-10a1-4695-b629-ca9fcc6d4b84   \n",
       "19993      766693  012a1502-db13-4d36-bad9-72f966b6cd0d   \n",
       "\n",
       "                            OwnerSince                        OwnerTill  \\\n",
       "19992 2021-02-01 13:52:25.061165+00:00 2021-02-01 19:27:52.982723+00:00   \n",
       "19993 2021-01-25 18:46:06.900683+00:00 2021-02-01 19:27:52.982723+00:00   \n",
       "\n",
       "                                ContainerId DeliveryTokenId     ContainerType  \n",
       "19992  b9ddba13-2015-488a-969a-4956aa154617             NaN       1250ml Bowl  \n",
       "19993  b720754d-d1ab-4ad9-ba04-ee399f63ead7             NaN  Compartment Bowl  "
      ]
     },
     "execution_count": 13,
     "metadata": {},
     "output_type": "execute_result"
    }
   ],
   "source": [
    "out_df=pd.read_csv('./data/Total Checkout.csv', sep=',', low_memory=False)\n",
    "out_df['OwnerSince']= pd.to_datetime(out_df['OwnerSince'])\n",
    "out_df['OwnerTill']= pd.to_datetime(out_df['OwnerTill'])\n",
    "\n",
    "out_df=out_df.drop(['Unnamed: 0'], axis=1)\n",
    "store_out=out_df[out_df['StoreId']==selected_store].copy()\n",
    "del out_df\n",
    "\n",
    "\n",
    "\n",
    "store_out.head(2)\n"
   ]
  },
  {
   "cell_type": "code",
   "execution_count": 14,
   "metadata": {},
   "outputs": [
    {
     "data": {
      "text/html": [
       "<div>\n",
       "<style scoped>\n",
       "    .dataframe tbody tr th:only-of-type {\n",
       "        vertical-align: middle;\n",
       "    }\n",
       "\n",
       "    .dataframe tbody tr th {\n",
       "        vertical-align: top;\n",
       "    }\n",
       "\n",
       "    .dataframe thead th {\n",
       "        text-align: right;\n",
       "    }\n",
       "</style>\n",
       "<table border=\"1\" class=\"dataframe\">\n",
       "  <thead>\n",
       "    <tr style=\"text-align: right;\">\n",
       "      <th></th>\n",
       "      <th>UserId</th>\n",
       "      <th>ExternalPickpackId</th>\n",
       "      <th>StoreId</th>\n",
       "      <th>StoreName</th>\n",
       "      <th>LocationId</th>\n",
       "      <th>TransactionId</th>\n",
       "      <th>OwnerSince</th>\n",
       "      <th>OwnerTill</th>\n",
       "      <th>ContainerId</th>\n",
       "      <th>ContainerType</th>\n",
       "    </tr>\n",
       "  </thead>\n",
       "  <tbody>\n",
       "    <tr>\n",
       "      <th>1215</th>\n",
       "      <td>cdec595e-2f25-4319-acac-56f3164b4b36</td>\n",
       "      <td>vytal_Zlbc8WibHzEGaK</td>\n",
       "      <td>37750976-cd54-44a5-a05a-d85d3cc9035b</td>\n",
       "      <td>Krua Thai 2 - Heumarkt</td>\n",
       "      <td>3830947</td>\n",
       "      <td>e2a17aff-a4a1-4238-9b93-c42c87e243f1</td>\n",
       "      <td>2021-09-01 18:08:40.571971+00:00</td>\n",
       "      <td>2021-09-06 11:37:36.660946+00:00</td>\n",
       "      <td>35152ccf-eebd-4800-bc48-9ab0c45bc8b3</td>\n",
       "      <td>Compartment Bowl</td>\n",
       "    </tr>\n",
       "    <tr>\n",
       "      <th>1216</th>\n",
       "      <td>cdec595e-2f25-4319-acac-56f3164b4b36</td>\n",
       "      <td>vytal_Zlbc8WibHzEGaK</td>\n",
       "      <td>37750976-cd54-44a5-a05a-d85d3cc9035b</td>\n",
       "      <td>Krua Thai 2 - Heumarkt</td>\n",
       "      <td>3830946</td>\n",
       "      <td>e2a17aff-a4a1-4238-9b93-c42c87e243f1</td>\n",
       "      <td>2021-09-01 18:08:40.571971+00:00</td>\n",
       "      <td>2021-09-06 11:37:36.660946+00:00</td>\n",
       "      <td>b2fc94b2-df98-4a3c-b2da-3612142894be</td>\n",
       "      <td>Compartment Bowl</td>\n",
       "    </tr>\n",
       "  </tbody>\n",
       "</table>\n",
       "</div>"
      ],
      "text/plain": [
       "                                    UserId    ExternalPickpackId  \\\n",
       "1215  cdec595e-2f25-4319-acac-56f3164b4b36  vytal_Zlbc8WibHzEGaK   \n",
       "1216  cdec595e-2f25-4319-acac-56f3164b4b36  vytal_Zlbc8WibHzEGaK   \n",
       "\n",
       "                                   StoreId               StoreName  \\\n",
       "1215  37750976-cd54-44a5-a05a-d85d3cc9035b  Krua Thai 2 - Heumarkt   \n",
       "1216  37750976-cd54-44a5-a05a-d85d3cc9035b  Krua Thai 2 - Heumarkt   \n",
       "\n",
       "      LocationId                         TransactionId  \\\n",
       "1215     3830947  e2a17aff-a4a1-4238-9b93-c42c87e243f1   \n",
       "1216     3830946  e2a17aff-a4a1-4238-9b93-c42c87e243f1   \n",
       "\n",
       "                           OwnerSince                        OwnerTill  \\\n",
       "1215 2021-09-01 18:08:40.571971+00:00 2021-09-06 11:37:36.660946+00:00   \n",
       "1216 2021-09-01 18:08:40.571971+00:00 2021-09-06 11:37:36.660946+00:00   \n",
       "\n",
       "                               ContainerId     ContainerType  \n",
       "1215  35152ccf-eebd-4800-bc48-9ab0c45bc8b3  Compartment Bowl  \n",
       "1216  b2fc94b2-df98-4a3c-b2da-3612142894be  Compartment Bowl  "
      ]
     },
     "execution_count": 14,
     "metadata": {},
     "output_type": "execute_result"
    }
   ],
   "source": [
    "##### import transactions\n",
    "in_df=pd.read_csv('./data/Total Checkins.csv', sep=',', low_memory=False)\n",
    "\n",
    "#in_df.info()\n",
    "\n",
    "in_df['OwnerSince']= pd.to_datetime(in_df['OwnerSince'])\n",
    "in_df['OwnerTill']= pd.to_datetime(in_df['OwnerTill'])\n",
    "\n",
    "#print(in_df.info())\n",
    "in_df=in_df.drop(['Unnamed: 0'], axis=1)\n",
    "store_in=in_df[in_df['StoreId']==selected_store].copy()\n",
    "del in_df\n",
    "store_in.head(2)"
   ]
  },
  {
   "cell_type": "markdown",
   "metadata": {},
   "source": [
    "## Stock levels at each period.\n",
    "For the sake of simplicity, I define the perios as months. "
   ]
  },
  {
   "cell_type": "code",
   "execution_count": 15,
   "metadata": {},
   "outputs": [
    {
     "data": {
      "image/png": "[encoded data removed]",
      "text/plain": [
       "<Figure size 1440x360 with 1 Axes>"
      ]
     },
     "metadata": {
      "needs_background": "light"
     },
     "output_type": "display_data"
    }
   ],
   "source": [
    "# plt how long containers stay in the restaurant \n",
    "# This graph does not convey much information. Some of the containers can be forgotten somewhere in the restaurant.\n",
    "# They might be at the bottom of the containers pile.\n",
    "plt.figure(figsize=(20,5))\n",
    "plt.title('Hours at the store')\n",
    "plt.ylabel('Frequency')\n",
    "\n",
    "plt.hist((store_in['OwnerTill']-store_in['OwnerSince']).dt.total_seconds()/3600, bins=400) # convert to hours\n",
    "plt.show()"
   ]
  },
  {
   "cell_type": "code",
   "execution_count": 16,
   "metadata": {},
   "outputs": [
    {
     "data": {
      "image/png": "[encoded data removed]",
      "text/plain": [
       "<Figure size 1440x360 with 1 Axes>"
      ]
     },
     "metadata": {
      "needs_background": "light"
     },
     "output_type": "display_data"
    }
   ],
   "source": [
    "# plt shows how long containers stay with customer \n",
    "# This graph reveals very valuable info. \n",
    "# Most of customers return the contsiners around in an hour. \n",
    "\n",
    "plt.figure(figsize=(20,5))\n",
    "plt.title('Hours at the customer')\n",
    "plt.ylabel('Frequency')\n",
    "\n",
    "plt.hist((store_out['OwnerTill']-store_out['OwnerSince']).dt.total_seconds()/(3600), bins=400) # convert to hours \n",
    "plt.show()\n"
   ]
  },
  {
   "cell_type": "code",
   "execution_count": 17,
   "metadata": {},
   "outputs": [
    {
     "data": {
      "text/plain": [
       "TransactionId\n",
       "16da4aed-d273-4738-8f5d-92ef7ee3ce2f    35\n",
       "bfe77c5f-06f7-4681-b4c0-3053f0d0abb9    30\n",
       "a7ccd44b-3737-4dfb-9ab9-cd2e063f2615    27\n",
       "87801041-26a9-45d5-a472-d14c06e10fab    25\n",
       "7c49afe1-0b41-49ff-bb07-4d8a60756f1c    25\n",
       "                                        ..\n",
       "55627ed1-14ca-4bb3-8bd6-ed616400dd02     1\n",
       "baba3b4d-42b0-4f3b-83b6-13ab4051b62a     1\n",
       "56298a6c-9263-4b9a-8868-4f74a0a96b2b     1\n",
       "ba376cf6-a7fb-46b4-9a2a-f4796bd16d47     1\n",
       "0061bdad-90c7-4053-96d0-d08edf712f8e     1\n",
       "Length: 1107, dtype: int64"
      ]
     },
     "execution_count": 17,
     "metadata": {},
     "output_type": "execute_result"
    }
   ],
   "source": [
    "#size of transactions\n",
    "store_out.groupby(by='TransactionId').size().sort_values(ascending=False)"
   ]
  },
  {
   "cell_type": "code",
   "execution_count": 18,
   "metadata": {},
   "outputs": [
    {
     "data": {
      "text/plain": [
       "TransactionId\n",
       "bfe77c5f-06f7-4681-b4c0-3053f0d0abb9    23\n",
       "16da4aed-d273-4738-8f5d-92ef7ee3ce2f    19\n",
       "7c49afe1-0b41-49ff-bb07-4d8a60756f1c    19\n",
       "87801041-26a9-45d5-a472-d14c06e10fab    18\n",
       "ea959e7b-e6dd-482a-ae99-ff1cf87abb38    18\n",
       "a7ccd44b-3737-4dfb-9ab9-cd2e063f2615    16\n",
       "08fbef4f-3c5c-4d1f-ba69-d28ab32d084a    15\n",
       "8abb82e7-915a-40f2-8735-2cb0fd1d9af0    14\n",
       "68f760d3-36ae-4bba-a002-db84ff7f0ccb    13\n",
       "e4c2dc8d-9480-4629-ae24-41492ecb8ad4    12\n",
       "Name: UserId, dtype: int64"
      ]
     },
     "execution_count": 18,
     "metadata": {},
     "output_type": "execute_result"
    }
   ],
   "source": [
    "#why does a transaction have multiple users?\n",
    "store_out.groupby(by='TransactionId')['UserId'].nunique().sort_values(ascending=False).head(10)"
   ]
  },
  {
   "cell_type": "code",
   "execution_count": 19,
   "metadata": {},
   "outputs": [
    {
     "data": {
      "text/html": [
       "<div>\n",
       "<style scoped>\n",
       "    .dataframe tbody tr th:only-of-type {\n",
       "        vertical-align: middle;\n",
       "    }\n",
       "\n",
       "    .dataframe tbody tr th {\n",
       "        vertical-align: top;\n",
       "    }\n",
       "\n",
       "    .dataframe thead th {\n",
       "        text-align: right;\n",
       "    }\n",
       "</style>\n",
       "<table border=\"1\" class=\"dataframe\">\n",
       "  <thead>\n",
       "    <tr style=\"text-align: right;\">\n",
       "      <th></th>\n",
       "      <th>UserId</th>\n",
       "      <th>ExternalPickpackId</th>\n",
       "      <th>StoreId</th>\n",
       "      <th>StoreName</th>\n",
       "      <th>LocationId</th>\n",
       "      <th>TransactionId</th>\n",
       "      <th>OwnerSince</th>\n",
       "      <th>OwnerTill</th>\n",
       "      <th>ContainerId</th>\n",
       "      <th>DeliveryTokenId</th>\n",
       "      <th>ContainerType</th>\n",
       "    </tr>\n",
       "  </thead>\n",
       "  <tbody>\n",
       "    <tr>\n",
       "      <th>332829</th>\n",
       "      <td>87e0c193-f285-41a2-a4fe-a564ccf8cba5</td>\n",
       "      <td>vytal_U7aZ9AakBkfJSZ</td>\n",
       "      <td>37750976-cd54-44a5-a05a-d85d3cc9035b</td>\n",
       "      <td>Krua Thai 2 - Heumarkt</td>\n",
       "      <td>1780353</td>\n",
       "      <td>bfe77c5f-06f7-4681-b4c0-3053f0d0abb9</td>\n",
       "      <td>2021-04-19 14:49:49.459346+00:00</td>\n",
       "      <td>2021-04-27 11:09:52.084891+00:00</td>\n",
       "      <td>761f913e-4438-49b2-915c-ce83b808aeaa</td>\n",
       "      <td>NaN</td>\n",
       "      <td>Compartment Bowl</td>\n",
       "    </tr>\n",
       "    <tr>\n",
       "      <th>332888</th>\n",
       "      <td>5569df5e-3b92-494d-ab2c-45cc9243def3</td>\n",
       "      <td>vytal_jOzQEFdj5I6r7v</td>\n",
       "      <td>37750976-cd54-44a5-a05a-d85d3cc9035b</td>\n",
       "      <td>Krua Thai 2 - Heumarkt</td>\n",
       "      <td>1780349</td>\n",
       "      <td>bfe77c5f-06f7-4681-b4c0-3053f0d0abb9</td>\n",
       "      <td>2021-04-19 14:49:49.459346+00:00</td>\n",
       "      <td>2021-04-27 11:08:19.572493+00:00</td>\n",
       "      <td>4ac45b4f-fc9c-493d-b7cb-89b91b031a01</td>\n",
       "      <td>NaN</td>\n",
       "      <td>Compartment Bowl</td>\n",
       "    </tr>\n",
       "    <tr>\n",
       "      <th>332889</th>\n",
       "      <td>5569df5e-3b92-494d-ab2c-45cc9243def3</td>\n",
       "      <td>vytal_jOzQEFdj5I6r7v</td>\n",
       "      <td>37750976-cd54-44a5-a05a-d85d3cc9035b</td>\n",
       "      <td>Krua Thai 2 - Heumarkt</td>\n",
       "      <td>1780371</td>\n",
       "      <td>bfe77c5f-06f7-4681-b4c0-3053f0d0abb9</td>\n",
       "      <td>2021-04-19 14:49:49.459346+00:00</td>\n",
       "      <td>2021-04-27 11:08:19.572493+00:00</td>\n",
       "      <td>5bf0ce13-cd42-4991-9cf6-813f1645788d</td>\n",
       "      <td>NaN</td>\n",
       "      <td>Compartment Bowl</td>\n",
       "    </tr>\n",
       "    <tr>\n",
       "      <th>390715</th>\n",
       "      <td>82de1673-44fd-425b-9af0-fbd794b08745</td>\n",
       "      <td>vytal_Yao22X6NttduAG</td>\n",
       "      <td>37750976-cd54-44a5-a05a-d85d3cc9035b</td>\n",
       "      <td>Krua Thai 2 - Heumarkt</td>\n",
       "      <td>1780363</td>\n",
       "      <td>bfe77c5f-06f7-4681-b4c0-3053f0d0abb9</td>\n",
       "      <td>2021-04-19 14:49:49.459346+00:00</td>\n",
       "      <td>2021-04-20 17:30:07.532995+00:00</td>\n",
       "      <td>1d025e77-68fd-44d1-b610-bb776b3fac02</td>\n",
       "      <td>NaN</td>\n",
       "      <td>Compartment Bowl</td>\n",
       "    </tr>\n",
       "    <tr>\n",
       "      <th>390716</th>\n",
       "      <td>82de1673-44fd-425b-9af0-fbd794b08745</td>\n",
       "      <td>vytal_Yao22X6NttduAG</td>\n",
       "      <td>37750976-cd54-44a5-a05a-d85d3cc9035b</td>\n",
       "      <td>Krua Thai 2 - Heumarkt</td>\n",
       "      <td>1780364</td>\n",
       "      <td>bfe77c5f-06f7-4681-b4c0-3053f0d0abb9</td>\n",
       "      <td>2021-04-19 14:49:49.459346+00:00</td>\n",
       "      <td>2021-04-20 17:30:07.532995+00:00</td>\n",
       "      <td>82a131da-186c-45da-80f9-7a91c7ee42dc</td>\n",
       "      <td>NaN</td>\n",
       "      <td>Compartment Bowl</td>\n",
       "    </tr>\n",
       "  </tbody>\n",
       "</table>\n",
       "</div>"
      ],
      "text/plain": [
       "                                      UserId    ExternalPickpackId  \\\n",
       "332829  87e0c193-f285-41a2-a4fe-a564ccf8cba5  vytal_U7aZ9AakBkfJSZ   \n",
       "332888  5569df5e-3b92-494d-ab2c-45cc9243def3  vytal_jOzQEFdj5I6r7v   \n",
       "332889  5569df5e-3b92-494d-ab2c-45cc9243def3  vytal_jOzQEFdj5I6r7v   \n",
       "390715  82de1673-44fd-425b-9af0-fbd794b08745  vytal_Yao22X6NttduAG   \n",
       "390716  82de1673-44fd-425b-9af0-fbd794b08745  vytal_Yao22X6NttduAG   \n",
       "\n",
       "                                     StoreId               StoreName  \\\n",
       "332829  37750976-cd54-44a5-a05a-d85d3cc9035b  Krua Thai 2 - Heumarkt   \n",
       "332888  37750976-cd54-44a5-a05a-d85d3cc9035b  Krua Thai 2 - Heumarkt   \n",
       "332889  37750976-cd54-44a5-a05a-d85d3cc9035b  Krua Thai 2 - Heumarkt   \n",
       "390715  37750976-cd54-44a5-a05a-d85d3cc9035b  Krua Thai 2 - Heumarkt   \n",
       "390716  37750976-cd54-44a5-a05a-d85d3cc9035b  Krua Thai 2 - Heumarkt   \n",
       "\n",
       "        LocationId                         TransactionId  \\\n",
       "332829     1780353  bfe77c5f-06f7-4681-b4c0-3053f0d0abb9   \n",
       "332888     1780349  bfe77c5f-06f7-4681-b4c0-3053f0d0abb9   \n",
       "332889     1780371  bfe77c5f-06f7-4681-b4c0-3053f0d0abb9   \n",
       "390715     1780363  bfe77c5f-06f7-4681-b4c0-3053f0d0abb9   \n",
       "390716     1780364  bfe77c5f-06f7-4681-b4c0-3053f0d0abb9   \n",
       "\n",
       "                             OwnerSince                        OwnerTill  \\\n",
       "332829 2021-04-19 14:49:49.459346+00:00 2021-04-27 11:09:52.084891+00:00   \n",
       "332888 2021-04-19 14:49:49.459346+00:00 2021-04-27 11:08:19.572493+00:00   \n",
       "332889 2021-04-19 14:49:49.459346+00:00 2021-04-27 11:08:19.572493+00:00   \n",
       "390715 2021-04-19 14:49:49.459346+00:00 2021-04-20 17:30:07.532995+00:00   \n",
       "390716 2021-04-19 14:49:49.459346+00:00 2021-04-20 17:30:07.532995+00:00   \n",
       "\n",
       "                                 ContainerId DeliveryTokenId     ContainerType  \n",
       "332829  761f913e-4438-49b2-915c-ce83b808aeaa             NaN  Compartment Bowl  \n",
       "332888  4ac45b4f-fc9c-493d-b7cb-89b91b031a01             NaN  Compartment Bowl  \n",
       "332889  5bf0ce13-cd42-4991-9cf6-813f1645788d             NaN  Compartment Bowl  \n",
       "390715  1d025e77-68fd-44d1-b610-bb776b3fac02             NaN  Compartment Bowl  \n",
       "390716  82a131da-186c-45da-80f9-7a91c7ee42dc             NaN  Compartment Bowl  "
      ]
     },
     "execution_count": 19,
     "metadata": {},
     "output_type": "execute_result"
    }
   ],
   "source": [
    "#Select largest transaction in terms of unique users\n",
    "\n",
    "index=store_out.groupby(by='TransactionId')['UserId'].nunique().sort_values(ascending=False).head(1)\n",
    "index=list(dict(index).keys())[0]\n",
    "\n",
    "store_out[store_out['TransactionId']==index].head()"
   ]
  },
  {
   "cell_type": "code",
   "execution_count": 20,
   "metadata": {},
   "outputs": [
    {
     "data": {
      "text/plain": [
       "TransactionId\n",
       "fff66b6c-8dde-4985-9c61-3f894b4c5304    1\n",
       "ffec62c4-1781-4a7f-bd73-0bf66fb538f7    1\n",
       "501dc2bb-4fe7-4000-9f19-b3c32902a998    1\n",
       "50b66113-dd1f-49e0-8256-f52c6b3047f9    1\n",
       "50b7b701-5944-4aa4-9cf4-f25c5d989d57    1\n",
       "50e8feba-a0fc-463e-a482-b1f08ea3e671    1\n",
       "Name: UserId, dtype: int64"
      ]
     },
     "execution_count": 20,
     "metadata": {},
     "output_type": "execute_result"
    }
   ],
   "source": [
    "# There is only one single user for incoming transactions in contradiction to outgoing transactions.\n",
    "store_in.groupby(by='TransactionId')['UserId'].nunique().sort_values(ascending=False).head(6)"
   ]
  },
  {
   "cell_type": "code",
   "execution_count": 21,
   "metadata": {},
   "outputs": [
    {
     "data": {
      "text/plain": [
       "UserId\n",
       "f0e42436-8d1e-4446-b26f-2a372a032260    192\n",
       "7b7b67b7-abbd-48b6-8791-6058e9f475ac     77\n",
       "cdec595e-2f25-4319-acac-56f3164b4b36     75\n",
       "048fd027-2d9a-4a7b-9b90-6587f2edf3ae     67\n",
       "9e88d44a-a8ec-4ab5-8f35-b0301b9a6c9c     62\n",
       "                                       ... \n",
       "4900fdaa-9686-4281-a85c-3c157d6b0f3f      1\n",
       "3e42ad5d-455c-48b6-a3d1-d868aec9e900      1\n",
       "3b5ea91d-276b-4e62-ac0a-e1bc2184087d      1\n",
       "374ef820-8caf-43f7-9e28-3c88103d5f7b      1\n",
       "01336890-797e-435d-8140-b72a4e8ccf8e      1\n",
       "Length: 259, dtype: int64"
      ]
     },
     "execution_count": 21,
     "metadata": {},
     "output_type": "execute_result"
    }
   ],
   "source": [
    "store_in.groupby(by='UserId').size().sort_values(ascending=False)"
   ]
  },
  {
   "cell_type": "code",
   "execution_count": 22,
   "metadata": {},
   "outputs": [
    {
     "data": {
      "text/html": [
       "<div>\n",
       "<style scoped>\n",
       "    .dataframe tbody tr th:only-of-type {\n",
       "        vertical-align: middle;\n",
       "    }\n",
       "\n",
       "    .dataframe tbody tr th {\n",
       "        vertical-align: top;\n",
       "    }\n",
       "\n",
       "    .dataframe thead th {\n",
       "        text-align: right;\n",
       "    }\n",
       "</style>\n",
       "<table border=\"1\" class=\"dataframe\">\n",
       "  <thead>\n",
       "    <tr style=\"text-align: right;\">\n",
       "      <th></th>\n",
       "      <th>out</th>\n",
       "      <th>in</th>\n",
       "      <th>sum</th>\n",
       "    </tr>\n",
       "    <tr>\n",
       "      <th>Date</th>\n",
       "      <th></th>\n",
       "      <th></th>\n",
       "      <th></th>\n",
       "    </tr>\n",
       "  </thead>\n",
       "  <tbody>\n",
       "    <tr>\n",
       "      <th>2020-10-21</th>\n",
       "      <td>-1</td>\n",
       "      <td>0.0</td>\n",
       "      <td>-1.0</td>\n",
       "    </tr>\n",
       "    <tr>\n",
       "      <th>2020-10-28</th>\n",
       "      <td>-3</td>\n",
       "      <td>0.0</td>\n",
       "      <td>-3.0</td>\n",
       "    </tr>\n",
       "    <tr>\n",
       "      <th>2020-11-02</th>\n",
       "      <td>-3</td>\n",
       "      <td>0.0</td>\n",
       "      <td>-3.0</td>\n",
       "    </tr>\n",
       "    <tr>\n",
       "      <th>2020-11-03</th>\n",
       "      <td>-3</td>\n",
       "      <td>0.0</td>\n",
       "      <td>-3.0</td>\n",
       "    </tr>\n",
       "    <tr>\n",
       "      <th>2020-11-04</th>\n",
       "      <td>-8</td>\n",
       "      <td>4.0</td>\n",
       "      <td>-4.0</td>\n",
       "    </tr>\n",
       "  </tbody>\n",
       "</table>\n",
       "</div>"
      ],
      "text/plain": [
       "            out   in  sum\n",
       "Date                     \n",
       "2020-10-21   -1  0.0 -1.0\n",
       "2020-10-28   -3  0.0 -3.0\n",
       "2020-11-02   -3  0.0 -3.0\n",
       "2020-11-03   -3  0.0 -3.0\n",
       "2020-11-04   -8  4.0 -4.0"
      ]
     },
     "execution_count": 22,
     "metadata": {},
     "output_type": "execute_result"
    }
   ],
   "source": [
    "# create a new df after grouping by days.\n",
    "\n",
    "ops_day=store_out.groupby(store_out['OwnerSince'].dt.date).size()*(-1) # going out containers\n",
    "\n",
    "ops_day=pd.DataFrame(ops_day, columns=['out'])\n",
    "ops_day.index.names=['Date']\n",
    "\n",
    "ops_day['in']=store_in.groupby(store_in['OwnerTill'].dt.date).size()\n",
    "\n",
    "ops_day=ops_day.fillna(0)\n",
    "ops_day['sum']=ops_day['out']+ops_day['in']\n",
    "\n",
    "ops_day.head()"
   ]
  },
  {
   "cell_type": "code",
   "execution_count": 23,
   "metadata": {},
   "outputs": [
    {
     "data": {
      "image/png": "[encoded data removed]",
      "text/plain": [
       "<Figure size 1440x360 with 1 Axes>"
      ]
     },
     "metadata": {
      "needs_background": "light"
     },
     "output_type": "display_data"
    }
   ],
   "source": [
    "plt.figure(figsize=(20, 5))\n",
    "plt.title('Incoming and outgoing inventrory')\n",
    "ops_day['out'].plot.bar(color='Red', legend=True,  alpha=0.5)\n",
    "ops_day['in'].plot.bar(color='green', legend=True, alpha=0.5)\n",
    "\n",
    "#ops_day['sum'].plot.bar(color='blue', legend=True)\n",
    "\n",
    "plt.show()"
   ]
  },
  {
   "cell_type": "code",
   "execution_count": 24,
   "metadata": {},
   "outputs": [
    {
     "data": {
      "image/png": "[encoded data removed]",
      "text/plain": [
       "<Figure size 1440x360 with 1 Axes>"
      ]
     },
     "metadata": {
      "needs_background": "light"
     },
     "output_type": "display_data"
    }
   ],
   "source": [
    "plt.figure(figsize=(20, 5))\n",
    "plt.title('Sum of inventory')\n",
    "\n",
    "ops_day['sum'].plot.bar(color='blue', legend=True)\n",
    "\n",
    "plt.show()"
   ]
  },
  {
   "cell_type": "code",
   "execution_count": 25,
   "metadata": {},
   "outputs": [
    {
     "data": {
      "text/plain": [
       "<function matplotlib.pyplot.show(close=None, block=None)>"
      ]
     },
     "execution_count": 25,
     "metadata": {},
     "output_type": "execute_result"
    },
    {
     "data": {
      "image/png": "[encoded data removed]",
      "text/plain": [
       "<Figure size 720x360 with 1 Axes>"
      ]
     },
     "metadata": {
      "needs_background": "light"
     },
     "output_type": "display_data"
    }
   ],
   "source": [
    "# Daily marginal change distribution \n",
    "plt.figure(figsize=(10,5))\n",
    "ops_day['sum'].plot.hist(bins=20)\n",
    "plt.show"
   ]
  },
  {
   "cell_type": "code",
   "execution_count": null,
   "metadata": {},
   "outputs": [],
   "source": []
  },
  {
   "cell_type": "markdown",
   "metadata": {},
   "source": [
    "#### What hapened on the worst day?"
   ]
  },
  {
   "cell_type": "code",
   "execution_count": 26,
   "metadata": {},
   "outputs": [
    {
     "data": {
      "text/html": [
       "<div>\n",
       "<style scoped>\n",
       "    .dataframe tbody tr th:only-of-type {\n",
       "        vertical-align: middle;\n",
       "    }\n",
       "\n",
       "    .dataframe tbody tr th {\n",
       "        vertical-align: top;\n",
       "    }\n",
       "\n",
       "    .dataframe thead th {\n",
       "        text-align: right;\n",
       "    }\n",
       "</style>\n",
       "<table border=\"1\" class=\"dataframe\">\n",
       "  <thead>\n",
       "    <tr style=\"text-align: right;\">\n",
       "      <th></th>\n",
       "      <th>sum</th>\n",
       "    </tr>\n",
       "    <tr>\n",
       "      <th>UserId</th>\n",
       "      <th></th>\n",
       "    </tr>\n",
       "  </thead>\n",
       "  <tbody>\n",
       "    <tr>\n",
       "      <th>bb30aacd-587c-4b59-b85f-a832ff9df4bf</th>\n",
       "      <td>4</td>\n",
       "    </tr>\n",
       "    <tr>\n",
       "      <th>c5143a78-1a92-4fb1-9a2f-a1f777ed6b4e</th>\n",
       "      <td>2</td>\n",
       "    </tr>\n",
       "    <tr>\n",
       "      <th>cdec595e-2f25-4319-acac-56f3164b4b36</th>\n",
       "      <td>4</td>\n",
       "    </tr>\n",
       "    <tr>\n",
       "      <th>ce975bac-c2ba-4cfe-93c3-fa0db00cbfe6</th>\n",
       "      <td>2</td>\n",
       "    </tr>\n",
       "    <tr>\n",
       "      <th>d7763c23-80bb-4b4b-9f3b-c8736b462256</th>\n",
       "      <td>2</td>\n",
       "    </tr>\n",
       "    <tr>\n",
       "      <th>e09b63b8-8e8f-463c-b687-03889f7fd612</th>\n",
       "      <td>1</td>\n",
       "    </tr>\n",
       "    <tr>\n",
       "      <th>f0e42436-8d1e-4446-b26f-2a372a032260</th>\n",
       "      <td>5</td>\n",
       "    </tr>\n",
       "    <tr>\n",
       "      <th>f1160520-e9fc-4896-acb1-77790901d304</th>\n",
       "      <td>2</td>\n",
       "    </tr>\n",
       "    <tr>\n",
       "      <th>f8bbcc07-c577-4a11-9255-023e361ca8fe</th>\n",
       "      <td>1</td>\n",
       "    </tr>\n",
       "    <tr>\n",
       "      <th>fa4736c6-98fa-4568-8473-66630781f805</th>\n",
       "      <td>1</td>\n",
       "    </tr>\n",
       "  </tbody>\n",
       "</table>\n",
       "</div>"
      ],
      "text/plain": [
       "                                      sum\n",
       "UserId                                   \n",
       "bb30aacd-587c-4b59-b85f-a832ff9df4bf    4\n",
       "c5143a78-1a92-4fb1-9a2f-a1f777ed6b4e    2\n",
       "cdec595e-2f25-4319-acac-56f3164b4b36    4\n",
       "ce975bac-c2ba-4cfe-93c3-fa0db00cbfe6    2\n",
       "d7763c23-80bb-4b4b-9f3b-c8736b462256    2\n",
       "e09b63b8-8e8f-463c-b687-03889f7fd612    1\n",
       "f0e42436-8d1e-4446-b26f-2a372a032260    5\n",
       "f1160520-e9fc-4896-acb1-77790901d304    2\n",
       "f8bbcc07-c577-4a11-9255-023e361ca8fe    1\n",
       "fa4736c6-98fa-4568-8473-66630781f805    1"
      ]
     },
     "execution_count": 26,
     "metadata": {},
     "output_type": "execute_result"
    }
   ],
   "source": [
    "min_day=ops_day[ops_day['sum']==ops_day['sum'].min()]\n",
    "min_day\n",
    "\n",
    "store_out['date']=store_out['OwnerSince'].dt.date\n",
    "\n",
    "\n",
    "day_of_interest=pd.DataFrame(store_out[list(min_day.head(1).index)[0]==store_out['date']].groupby(by=['UserId']).size(), columns=['sum'])\n",
    "day_of_interest.tail(10)"
   ]
  },
  {
   "cell_type": "code",
   "execution_count": 27,
   "metadata": {},
   "outputs": [],
   "source": [
    "# if there is a different type of consumer\n",
    "for i,r in day_of_interest.iterrows():\n",
    "    tpe=u_df.loc[i,'ClaimType']\n",
    "    if tpe=='consumer':continue\n",
    "    else:\n",
    "        print(tpe)"
   ]
  },
  {
   "cell_type": "code",
   "execution_count": 28,
   "metadata": {},
   "outputs": [
    {
     "data": {
      "text/html": [
       "<div>\n",
       "<style scoped>\n",
       "    .dataframe tbody tr th:only-of-type {\n",
       "        vertical-align: middle;\n",
       "    }\n",
       "\n",
       "    .dataframe tbody tr th {\n",
       "        vertical-align: top;\n",
       "    }\n",
       "\n",
       "    .dataframe thead th {\n",
       "        text-align: right;\n",
       "    }\n",
       "</style>\n",
       "<table border=\"1\" class=\"dataframe\">\n",
       "  <thead>\n",
       "    <tr style=\"text-align: right;\">\n",
       "      <th></th>\n",
       "      <th>UserId</th>\n",
       "      <th>ExternalPickpackId</th>\n",
       "      <th>StoreId</th>\n",
       "      <th>StoreName</th>\n",
       "      <th>LocationId</th>\n",
       "      <th>TransactionId</th>\n",
       "      <th>OwnerSince</th>\n",
       "      <th>OwnerTill</th>\n",
       "      <th>ContainerId</th>\n",
       "      <th>ContainerType</th>\n",
       "    </tr>\n",
       "  </thead>\n",
       "  <tbody>\n",
       "    <tr>\n",
       "      <th>267028</th>\n",
       "      <td>cd4d8de6-dfa4-49ac-9233-2238349034ae</td>\n",
       "      <td>NaN</td>\n",
       "      <td>37750976-cd54-44a5-a05a-d85d3cc9035b</td>\n",
       "      <td>Krua Thai 2 - Heumarkt</td>\n",
       "      <td>2186325</td>\n",
       "      <td>e440dc18-7a53-427c-8616-0d4575227cd9</td>\n",
       "      <td>2021-05-11 09:12:16.326495+00:00</td>\n",
       "      <td>2021-07-21 10:44:05.631477+00:00</td>\n",
       "      <td>0eda9d12-8900-4c62-a9fa-10452335f498</td>\n",
       "      <td>750ml Bowl</td>\n",
       "    </tr>\n",
       "    <tr>\n",
       "      <th>267029</th>\n",
       "      <td>cd4d8de6-dfa4-49ac-9233-2238349034ae</td>\n",
       "      <td>NaN</td>\n",
       "      <td>37750976-cd54-44a5-a05a-d85d3cc9035b</td>\n",
       "      <td>Krua Thai 2 - Heumarkt</td>\n",
       "      <td>2186327</td>\n",
       "      <td>e440dc18-7a53-427c-8616-0d4575227cd9</td>\n",
       "      <td>2021-05-11 09:12:16.326495+00:00</td>\n",
       "      <td>2021-07-21 10:44:05.631477+00:00</td>\n",
       "      <td>fa1a7ce6-f7d7-4a37-87b2-2fbd34fac33e</td>\n",
       "      <td>750ml Bowl</td>\n",
       "    </tr>\n",
       "    <tr>\n",
       "      <th>599191</th>\n",
       "      <td>976c0493-9ab4-49e1-a0b4-ccdfbbd7b157</td>\n",
       "      <td>NaN</td>\n",
       "      <td>37750976-cd54-44a5-a05a-d85d3cc9035b</td>\n",
       "      <td>Krua Thai 2 - Heumarkt</td>\n",
       "      <td>2403375</td>\n",
       "      <td>e3df1adf-0ef5-4916-a7f4-720e7b96be66</td>\n",
       "      <td>2021-05-22 11:43:21.429742+00:00</td>\n",
       "      <td>2021-06-01 12:32:00.309296+00:00</td>\n",
       "      <td>e9d320f1-da49-441b-8690-01efaf308f19</td>\n",
       "      <td>Compartment Bowl</td>\n",
       "    </tr>\n",
       "    <tr>\n",
       "      <th>599192</th>\n",
       "      <td>976c0493-9ab4-49e1-a0b4-ccdfbbd7b157</td>\n",
       "      <td>NaN</td>\n",
       "      <td>37750976-cd54-44a5-a05a-d85d3cc9035b</td>\n",
       "      <td>Krua Thai 2 - Heumarkt</td>\n",
       "      <td>2403374</td>\n",
       "      <td>e3df1adf-0ef5-4916-a7f4-720e7b96be66</td>\n",
       "      <td>2021-05-22 11:43:21.429742+00:00</td>\n",
       "      <td>2021-06-01 12:32:00.309296+00:00</td>\n",
       "      <td>12441cbf-dd83-4c14-a258-736602599c24</td>\n",
       "      <td>Compartment Bowl</td>\n",
       "    </tr>\n",
       "    <tr>\n",
       "      <th>599193</th>\n",
       "      <td>976c0493-9ab4-49e1-a0b4-ccdfbbd7b157</td>\n",
       "      <td>NaN</td>\n",
       "      <td>37750976-cd54-44a5-a05a-d85d3cc9035b</td>\n",
       "      <td>Krua Thai 2 - Heumarkt</td>\n",
       "      <td>2403379</td>\n",
       "      <td>e3df1adf-0ef5-4916-a7f4-720e7b96be66</td>\n",
       "      <td>2021-05-22 11:43:21.429742+00:00</td>\n",
       "      <td>2021-06-01 12:32:00.309296+00:00</td>\n",
       "      <td>28ca4ed3-084e-4969-b1a9-e81ac2dc1226</td>\n",
       "      <td>Compartment Bowl</td>\n",
       "    </tr>\n",
       "    <tr>\n",
       "      <th>599194</th>\n",
       "      <td>976c0493-9ab4-49e1-a0b4-ccdfbbd7b157</td>\n",
       "      <td>NaN</td>\n",
       "      <td>37750976-cd54-44a5-a05a-d85d3cc9035b</td>\n",
       "      <td>Krua Thai 2 - Heumarkt</td>\n",
       "      <td>2403377</td>\n",
       "      <td>e3df1adf-0ef5-4916-a7f4-720e7b96be66</td>\n",
       "      <td>2021-05-22 11:43:21.429742+00:00</td>\n",
       "      <td>2021-06-01 12:32:00.309296+00:00</td>\n",
       "      <td>f08e3c36-4888-46cd-a2d9-3f93409b618e</td>\n",
       "      <td>Compartment Bowl</td>\n",
       "    </tr>\n",
       "  </tbody>\n",
       "</table>\n",
       "</div>"
      ],
      "text/plain": [
       "                                      UserId ExternalPickpackId  \\\n",
       "267028  cd4d8de6-dfa4-49ac-9233-2238349034ae                NaN   \n",
       "267029  cd4d8de6-dfa4-49ac-9233-2238349034ae                NaN   \n",
       "599191  976c0493-9ab4-49e1-a0b4-ccdfbbd7b157                NaN   \n",
       "599192  976c0493-9ab4-49e1-a0b4-ccdfbbd7b157                NaN   \n",
       "599193  976c0493-9ab4-49e1-a0b4-ccdfbbd7b157                NaN   \n",
       "599194  976c0493-9ab4-49e1-a0b4-ccdfbbd7b157                NaN   \n",
       "\n",
       "                                     StoreId               StoreName  \\\n",
       "267028  37750976-cd54-44a5-a05a-d85d3cc9035b  Krua Thai 2 - Heumarkt   \n",
       "267029  37750976-cd54-44a5-a05a-d85d3cc9035b  Krua Thai 2 - Heumarkt   \n",
       "599191  37750976-cd54-44a5-a05a-d85d3cc9035b  Krua Thai 2 - Heumarkt   \n",
       "599192  37750976-cd54-44a5-a05a-d85d3cc9035b  Krua Thai 2 - Heumarkt   \n",
       "599193  37750976-cd54-44a5-a05a-d85d3cc9035b  Krua Thai 2 - Heumarkt   \n",
       "599194  37750976-cd54-44a5-a05a-d85d3cc9035b  Krua Thai 2 - Heumarkt   \n",
       "\n",
       "        LocationId                         TransactionId  \\\n",
       "267028     2186325  e440dc18-7a53-427c-8616-0d4575227cd9   \n",
       "267029     2186327  e440dc18-7a53-427c-8616-0d4575227cd9   \n",
       "599191     2403375  e3df1adf-0ef5-4916-a7f4-720e7b96be66   \n",
       "599192     2403374  e3df1adf-0ef5-4916-a7f4-720e7b96be66   \n",
       "599193     2403379  e3df1adf-0ef5-4916-a7f4-720e7b96be66   \n",
       "599194     2403377  e3df1adf-0ef5-4916-a7f4-720e7b96be66   \n",
       "\n",
       "                             OwnerSince                        OwnerTill  \\\n",
       "267028 2021-05-11 09:12:16.326495+00:00 2021-07-21 10:44:05.631477+00:00   \n",
       "267029 2021-05-11 09:12:16.326495+00:00 2021-07-21 10:44:05.631477+00:00   \n",
       "599191 2021-05-22 11:43:21.429742+00:00 2021-06-01 12:32:00.309296+00:00   \n",
       "599192 2021-05-22 11:43:21.429742+00:00 2021-06-01 12:32:00.309296+00:00   \n",
       "599193 2021-05-22 11:43:21.429742+00:00 2021-06-01 12:32:00.309296+00:00   \n",
       "599194 2021-05-22 11:43:21.429742+00:00 2021-06-01 12:32:00.309296+00:00   \n",
       "\n",
       "                                 ContainerId     ContainerType  \n",
       "267028  0eda9d12-8900-4c62-a9fa-10452335f498        750ml Bowl  \n",
       "267029  fa1a7ce6-f7d7-4a37-87b2-2fbd34fac33e        750ml Bowl  \n",
       "599191  e9d320f1-da49-441b-8690-01efaf308f19  Compartment Bowl  \n",
       "599192  12441cbf-dd83-4c14-a258-736602599c24  Compartment Bowl  \n",
       "599193  28ca4ed3-084e-4969-b1a9-e81ac2dc1226  Compartment Bowl  \n",
       "599194  f08e3c36-4888-46cd-a2d9-3f93409b618e  Compartment Bowl  "
      ]
     },
     "execution_count": 28,
     "metadata": {},
     "output_type": "execute_result"
    }
   ],
   "source": [
    "# transactions which are not done by normal consumers\n",
    "store_in[store_in['UserId'].isin(u_df[u_df['ClaimType']!='consumer'].index)]"
   ]
  },
  {
   "cell_type": "code",
   "execution_count": 29,
   "metadata": {},
   "outputs": [
    {
     "data": {
      "text/html": [
       "<div>\n",
       "<style scoped>\n",
       "    .dataframe tbody tr th:only-of-type {\n",
       "        vertical-align: middle;\n",
       "    }\n",
       "\n",
       "    .dataframe tbody tr th {\n",
       "        vertical-align: top;\n",
       "    }\n",
       "\n",
       "    .dataframe thead th {\n",
       "        text-align: right;\n",
       "    }\n",
       "</style>\n",
       "<table border=\"1\" class=\"dataframe\">\n",
       "  <thead>\n",
       "    <tr style=\"text-align: right;\">\n",
       "      <th></th>\n",
       "      <th>UserId</th>\n",
       "      <th>ExternalPickpackId</th>\n",
       "      <th>StoreId</th>\n",
       "      <th>StoreName</th>\n",
       "      <th>LocationId</th>\n",
       "      <th>TransactionId</th>\n",
       "      <th>OwnerSince</th>\n",
       "      <th>OwnerTill</th>\n",
       "      <th>ContainerId</th>\n",
       "      <th>DeliveryTokenId</th>\n",
       "      <th>ContainerType</th>\n",
       "      <th>date</th>\n",
       "    </tr>\n",
       "  </thead>\n",
       "  <tbody>\n",
       "  </tbody>\n",
       "</table>\n",
       "</div>"
      ],
      "text/plain": [
       "Empty DataFrame\n",
       "Columns: [UserId, ExternalPickpackId, StoreId, StoreName, LocationId, TransactionId, OwnerSince, OwnerTill, ContainerId, DeliveryTokenId, ContainerType, date]\n",
       "Index: []"
      ]
     },
     "execution_count": 29,
     "metadata": {},
     "output_type": "execute_result"
    }
   ],
   "source": [
    "store_out[store_out['UserId'].isin(u_df[u_df['ClaimType']!='consumer'].index)]"
   ]
  },
  {
   "cell_type": "code",
   "execution_count": 30,
   "metadata": {},
   "outputs": [
    {
     "name": "stdout",
     "output_type": "stream",
     "text": [
      "catering_consumer\n",
      "catering_consumer\n",
      "catering_consumer\n",
      "catering_consumer\n",
      "catering_consumer\n",
      "catering_consumer\n"
     ]
    }
   ],
   "source": [
    "for i in store_in[store_in['UserId'].isin(u_df[u_df['ClaimType']!='consumer'].index)]['UserId'].to_list():\n",
    "    print(u_df.loc[i,'ClaimType'])"
   ]
  },
  {
   "cell_type": "code",
   "execution_count": null,
   "metadata": {},
   "outputs": [],
   "source": []
  },
  {
   "cell_type": "code",
   "execution_count": null,
   "metadata": {},
   "outputs": [],
   "source": []
  },
  {
   "cell_type": "code",
   "execution_count": null,
   "metadata": {},
   "outputs": [],
   "source": []
  }
 ],
 "metadata": {
  "kernelspec": {
   "display_name": "Python 3",
   "language": "python",
   "name": "python3"
  },
  "language_info": {
   "codemirror_mode": {
    "name": "ipython",
    "version": 3
   },
   "file_extension": ".py",
   "mimetype": "text/x-python",
   "name": "python",
   "nbconvert_exporter": "python",
   "pygments_lexer": "ipython3",
   "version": "3.7.7"
  }
 },
 "nbformat": 4,
 "nbformat_minor": 4
}
