{
 "cells": [
  {
   "cell_type": "markdown",
   "metadata": {},
   "source": [
    "### operations of one store \n",
    "\n"
   ]
  },
  {
   "cell_type": "code",
   "execution_count": 86,
   "metadata": {},
   "outputs": [],
   "source": [
    "#import packages\n",
    "import pandas as pd\n",
    "import numpy as np\n",
    "import geopandas as gpd\n",
    "import matplotlib.pyplot as plt \n",
    "import datetime as dt\n",
    "\n",
    "from fbprophet import Prophet\n",
    "from sklearn.metrics import mean_absolute_error"
   ]
  },
  {
   "cell_type": "code",
   "execution_count": 3,
   "metadata": {},
   "outputs": [
    {
     "data": {
      "text/html": [
       "<div>\n",
       "<style scoped>\n",
       "    .dataframe tbody tr th:only-of-type {\n",
       "        vertical-align: middle;\n",
       "    }\n",
       "\n",
       "    .dataframe tbody tr th {\n",
       "        vertical-align: top;\n",
       "    }\n",
       "\n",
       "    .dataframe thead th {\n",
       "        text-align: right;\n",
       "    }\n",
       "</style>\n",
       "<table border=\"1\" class=\"dataframe\">\n",
       "  <thead>\n",
       "    <tr style=\"text-align: right;\">\n",
       "      <th></th>\n",
       "      <th>Unnamed: 0</th>\n",
       "      <th>CreationTimestamp</th>\n",
       "      <th>ClaimType</th>\n",
       "      <th>IsOfflineUser</th>\n",
       "    </tr>\n",
       "    <tr>\n",
       "      <th>UserId</th>\n",
       "      <th></th>\n",
       "      <th></th>\n",
       "      <th></th>\n",
       "      <th></th>\n",
       "    </tr>\n",
       "  </thead>\n",
       "  <tbody>\n",
       "    <tr>\n",
       "      <th>eecc280c-9941-41bc-b26f-d519da794a5d</th>\n",
       "      <td>0</td>\n",
       "      <td>1970-01-01 00:00:00+00</td>\n",
       "      <td>consumer</td>\n",
       "      <td>False</td>\n",
       "    </tr>\n",
       "    <tr>\n",
       "      <th>d9d8a373-29f0-4fe5-8f17-39669083ac48</th>\n",
       "      <td>1</td>\n",
       "      <td>1970-01-01 00:00:00+00</td>\n",
       "      <td>consumer</td>\n",
       "      <td>True</td>\n",
       "    </tr>\n",
       "    <tr>\n",
       "      <th>8f27c773-334a-4f8c-82c2-8cdec215a9bb</th>\n",
       "      <td>2</td>\n",
       "      <td>1970-01-01 00:00:00+00</td>\n",
       "      <td>consumer</td>\n",
       "      <td>True</td>\n",
       "    </tr>\n",
       "    <tr>\n",
       "      <th>aefe87c8-f537-4bdc-954f-6833a047081b</th>\n",
       "      <td>3</td>\n",
       "      <td>1970-01-01 00:00:00+00</td>\n",
       "      <td>consumer</td>\n",
       "      <td>True</td>\n",
       "    </tr>\n",
       "    <tr>\n",
       "      <th>6ad98c4e-18e3-4a6e-ac94-1338cb239c2d</th>\n",
       "      <td>4</td>\n",
       "      <td>1970-01-01 00:00:00+00</td>\n",
       "      <td>consumer</td>\n",
       "      <td>True</td>\n",
       "    </tr>\n",
       "  </tbody>\n",
       "</table>\n",
       "</div>"
      ],
      "text/plain": [
       "                                      Unnamed: 0       CreationTimestamp  \\\n",
       "UserId                                                                     \n",
       "eecc280c-9941-41bc-b26f-d519da794a5d           0  1970-01-01 00:00:00+00   \n",
       "d9d8a373-29f0-4fe5-8f17-39669083ac48           1  1970-01-01 00:00:00+00   \n",
       "8f27c773-334a-4f8c-82c2-8cdec215a9bb           2  1970-01-01 00:00:00+00   \n",
       "aefe87c8-f537-4bdc-954f-6833a047081b           3  1970-01-01 00:00:00+00   \n",
       "6ad98c4e-18e3-4a6e-ac94-1338cb239c2d           4  1970-01-01 00:00:00+00   \n",
       "\n",
       "                                     ClaimType  IsOfflineUser  \n",
       "UserId                                                         \n",
       "eecc280c-9941-41bc-b26f-d519da794a5d  consumer          False  \n",
       "d9d8a373-29f0-4fe5-8f17-39669083ac48  consumer           True  \n",
       "8f27c773-334a-4f8c-82c2-8cdec215a9bb  consumer           True  \n",
       "aefe87c8-f537-4bdc-954f-6833a047081b  consumer           True  \n",
       "6ad98c4e-18e3-4a6e-ac94-1338cb239c2d  consumer           True  "
      ]
     },
     "execution_count": 3,
     "metadata": {},
     "output_type": "execute_result"
    }
   ],
   "source": [
    "# Import customer list\n",
    "u_df=pd.read_csv('./data/Users_sanitized.csv', sep=',', index_col='UserId')\n",
    "u_df.head()"
   ]
  },
  {
   "cell_type": "code",
   "execution_count": 4,
   "metadata": {},
   "outputs": [
    {
     "data": {
      "text/plain": [
       "{'admin',\n",
       " 'catering_consumer',\n",
       " 'consumer',\n",
       " 'imc',\n",
       " 'imsmc',\n",
       " 'storeappuser',\n",
       " 'superAdmin'}"
      ]
     },
     "execution_count": 4,
     "metadata": {},
     "output_type": "execute_result"
    }
   ],
   "source": [
    "set(list(u_df['ClaimType']))"
   ]
  },
  {
   "cell_type": "code",
   "execution_count": 5,
   "metadata": {},
   "outputs": [
    {
     "data": {
      "text/html": [
       "<div>\n",
       "<style scoped>\n",
       "    .dataframe tbody tr th:only-of-type {\n",
       "        vertical-align: middle;\n",
       "    }\n",
       "\n",
       "    .dataframe tbody tr th {\n",
       "        vertical-align: top;\n",
       "    }\n",
       "\n",
       "    .dataframe thead th {\n",
       "        text-align: right;\n",
       "    }\n",
       "</style>\n",
       "<table border=\"1\" class=\"dataframe\">\n",
       "  <thead>\n",
       "    <tr style=\"text-align: right;\">\n",
       "      <th></th>\n",
       "      <th>MerchantId</th>\n",
       "      <th>Name</th>\n",
       "      <th>Longitude</th>\n",
       "      <th>Latitude</th>\n",
       "      <th>CreationDate</th>\n",
       "      <th>CategoryId</th>\n",
       "      <th>SellsOfflineCards</th>\n",
       "      <th>StreetAddress</th>\n",
       "      <th>ZipCode</th>\n",
       "      <th>City</th>\n",
       "      <th>Country</th>\n",
       "      <th>CanGetBowl</th>\n",
       "      <th>CanPreorder</th>\n",
       "      <th>IsPublished</th>\n",
       "      <th>ShowInStats</th>\n",
       "    </tr>\n",
       "    <tr>\n",
       "      <th>Id</th>\n",
       "      <th></th>\n",
       "      <th></th>\n",
       "      <th></th>\n",
       "      <th></th>\n",
       "      <th></th>\n",
       "      <th></th>\n",
       "      <th></th>\n",
       "      <th></th>\n",
       "      <th></th>\n",
       "      <th></th>\n",
       "      <th></th>\n",
       "      <th></th>\n",
       "      <th></th>\n",
       "      <th></th>\n",
       "      <th></th>\n",
       "    </tr>\n",
       "  </thead>\n",
       "  <tbody>\n",
       "    <tr>\n",
       "      <th>83787f7a-b659-44b6-a8aa-d1ef5b958a65</th>\n",
       "      <td>ed2c2eea-8399-4779-a9ea-dafb77878965</td>\n",
       "      <td>SAP WDF49 - Food Factory</td>\n",
       "      <td>8.642271</td>\n",
       "      <td>49.292543</td>\n",
       "      <td>2021-06-28 11:56:10.812661</td>\n",
       "      <td>4</td>\n",
       "      <td>False</td>\n",
       "      <td>Dietmar-Hopp-Allee 17</td>\n",
       "      <td>69190</td>\n",
       "      <td>Walldorf</td>\n",
       "      <td>NaN</td>\n",
       "      <td>True</td>\n",
       "      <td>False</td>\n",
       "      <td>True</td>\n",
       "      <td>True</td>\n",
       "    </tr>\n",
       "    <tr>\n",
       "      <th>4cd61f39-ddce-449f-8d1a-ef95c7b25307</th>\n",
       "      <td>cc8b8b51-efd7-4d74-84c8-4721619867df</td>\n",
       "      <td>Guten Dag</td>\n",
       "      <td>13.413539</td>\n",
       "      <td>52.548254</td>\n",
       "      <td>2020-07-14 19:44:49.101383</td>\n",
       "      <td>2</td>\n",
       "      <td>False</td>\n",
       "      <td>Schönhauser Allee 120</td>\n",
       "      <td>10437</td>\n",
       "      <td>Berlin</td>\n",
       "      <td>DE</td>\n",
       "      <td>False</td>\n",
       "      <td>True</td>\n",
       "      <td>True</td>\n",
       "      <td>True</td>\n",
       "    </tr>\n",
       "    <tr>\n",
       "      <th>fa17e91f-cdfb-4912-81c9-92cd0b87328e</th>\n",
       "      <td>78ecc5a3-0ea0-4820-9fd2-637c95d73782</td>\n",
       "      <td>Gasthaus Brückenschänke</td>\n",
       "      <td>7.771990</td>\n",
       "      <td>49.943655</td>\n",
       "      <td>2021-01-20 10:25:12.831661</td>\n",
       "      <td>2</td>\n",
       "      <td>False</td>\n",
       "      <td>Staatsstraße 4</td>\n",
       "      <td>55442</td>\n",
       "      <td>Stromberg</td>\n",
       "      <td>NaN</td>\n",
       "      <td>True</td>\n",
       "      <td>False</td>\n",
       "      <td>True</td>\n",
       "      <td>True</td>\n",
       "    </tr>\n",
       "    <tr>\n",
       "      <th>7c376406-7a5b-4a6c-b22c-e7e02ae0080c</th>\n",
       "      <td>f9b37c73-3a67-47b3-82cd-cfd1d6fafd6a</td>\n",
       "      <td>Com A</td>\n",
       "      <td>13.422482</td>\n",
       "      <td>52.500293</td>\n",
       "      <td>2020-08-26 06:53:57.107271</td>\n",
       "      <td>2</td>\n",
       "      <td>False</td>\n",
       "      <td>Oranienstraße 191</td>\n",
       "      <td>10999</td>\n",
       "      <td>Berlin</td>\n",
       "      <td>NaN</td>\n",
       "      <td>True</td>\n",
       "      <td>False</td>\n",
       "      <td>True</td>\n",
       "      <td>True</td>\n",
       "    </tr>\n",
       "    <tr>\n",
       "      <th>f421a5f6-ba67-4336-afc3-021a04da5005</th>\n",
       "      <td>556becfc-1aac-43e2-87d9-cbc3fab0f4b0</td>\n",
       "      <td>BLE - Betriebsgastronomie</td>\n",
       "      <td>7.184823</td>\n",
       "      <td>50.672743</td>\n",
       "      <td>2020-10-01 09:33:59.032472</td>\n",
       "      <td>4</td>\n",
       "      <td>False</td>\n",
       "      <td>Deichmanns Aue 29</td>\n",
       "      <td>53179</td>\n",
       "      <td>Bonn</td>\n",
       "      <td>NaN</td>\n",
       "      <td>True</td>\n",
       "      <td>False</td>\n",
       "      <td>False</td>\n",
       "      <td>True</td>\n",
       "    </tr>\n",
       "  </tbody>\n",
       "</table>\n",
       "</div>"
      ],
      "text/plain": [
       "                                                                MerchantId  \\\n",
       "Id                                                                           \n",
       "83787f7a-b659-44b6-a8aa-d1ef5b958a65  ed2c2eea-8399-4779-a9ea-dafb77878965   \n",
       "4cd61f39-ddce-449f-8d1a-ef95c7b25307  cc8b8b51-efd7-4d74-84c8-4721619867df   \n",
       "fa17e91f-cdfb-4912-81c9-92cd0b87328e  78ecc5a3-0ea0-4820-9fd2-637c95d73782   \n",
       "7c376406-7a5b-4a6c-b22c-e7e02ae0080c  f9b37c73-3a67-47b3-82cd-cfd1d6fafd6a   \n",
       "f421a5f6-ba67-4336-afc3-021a04da5005  556becfc-1aac-43e2-87d9-cbc3fab0f4b0   \n",
       "\n",
       "                                                           Name  Longitude  \\\n",
       "Id                                                                           \n",
       "83787f7a-b659-44b6-a8aa-d1ef5b958a65   SAP WDF49 - Food Factory   8.642271   \n",
       "4cd61f39-ddce-449f-8d1a-ef95c7b25307                  Guten Dag  13.413539   \n",
       "fa17e91f-cdfb-4912-81c9-92cd0b87328e   Gasthaus Brückenschänke    7.771990   \n",
       "7c376406-7a5b-4a6c-b22c-e7e02ae0080c                      Com A  13.422482   \n",
       "f421a5f6-ba67-4336-afc3-021a04da5005  BLE - Betriebsgastronomie   7.184823   \n",
       "\n",
       "                                       Latitude                CreationDate  \\\n",
       "Id                                                                            \n",
       "83787f7a-b659-44b6-a8aa-d1ef5b958a65  49.292543  2021-06-28 11:56:10.812661   \n",
       "4cd61f39-ddce-449f-8d1a-ef95c7b25307  52.548254  2020-07-14 19:44:49.101383   \n",
       "fa17e91f-cdfb-4912-81c9-92cd0b87328e  49.943655  2021-01-20 10:25:12.831661   \n",
       "7c376406-7a5b-4a6c-b22c-e7e02ae0080c  52.500293  2020-08-26 06:53:57.107271   \n",
       "f421a5f6-ba67-4336-afc3-021a04da5005  50.672743  2020-10-01 09:33:59.032472   \n",
       "\n",
       "                                      CategoryId  SellsOfflineCards  \\\n",
       "Id                                                                    \n",
       "83787f7a-b659-44b6-a8aa-d1ef5b958a65           4              False   \n",
       "4cd61f39-ddce-449f-8d1a-ef95c7b25307           2              False   \n",
       "fa17e91f-cdfb-4912-81c9-92cd0b87328e           2              False   \n",
       "7c376406-7a5b-4a6c-b22c-e7e02ae0080c           2              False   \n",
       "f421a5f6-ba67-4336-afc3-021a04da5005           4              False   \n",
       "\n",
       "                                              StreetAddress ZipCode  \\\n",
       "Id                                                                    \n",
       "83787f7a-b659-44b6-a8aa-d1ef5b958a65  Dietmar-Hopp-Allee 17   69190   \n",
       "4cd61f39-ddce-449f-8d1a-ef95c7b25307  Schönhauser Allee 120   10437   \n",
       "fa17e91f-cdfb-4912-81c9-92cd0b87328e         Staatsstraße 4   55442   \n",
       "7c376406-7a5b-4a6c-b22c-e7e02ae0080c      Oranienstraße 191   10999   \n",
       "f421a5f6-ba67-4336-afc3-021a04da5005      Deichmanns Aue 29   53179   \n",
       "\n",
       "                                            City Country  CanGetBowl  \\\n",
       "Id                                                                     \n",
       "83787f7a-b659-44b6-a8aa-d1ef5b958a65    Walldorf     NaN        True   \n",
       "4cd61f39-ddce-449f-8d1a-ef95c7b25307      Berlin      DE       False   \n",
       "fa17e91f-cdfb-4912-81c9-92cd0b87328e  Stromberg      NaN        True   \n",
       "7c376406-7a5b-4a6c-b22c-e7e02ae0080c      Berlin     NaN        True   \n",
       "f421a5f6-ba67-4336-afc3-021a04da5005        Bonn     NaN        True   \n",
       "\n",
       "                                      CanPreorder  IsPublished  ShowInStats  \n",
       "Id                                                                           \n",
       "83787f7a-b659-44b6-a8aa-d1ef5b958a65        False         True         True  \n",
       "4cd61f39-ddce-449f-8d1a-ef95c7b25307         True         True         True  \n",
       "fa17e91f-cdfb-4912-81c9-92cd0b87328e        False         True         True  \n",
       "7c376406-7a5b-4a6c-b22c-e7e02ae0080c        False         True         True  \n",
       "f421a5f6-ba67-4336-afc3-021a04da5005        False        False         True  "
      ]
     },
     "execution_count": 5,
     "metadata": {},
     "output_type": "execute_result"
    }
   ],
   "source": [
    "# Import merchants\n",
    "m_df=pd.read_csv('./data/MerchantInfos.csv', sep=',', index_col='Id')\n",
    "m_df.head()"
   ]
  },
  {
   "cell_type": "code",
   "execution_count": 7,
   "metadata": {},
   "outputs": [
    {
     "data": {
      "text/plain": [
       "Unnamed: 0                                0\n",
       "CreationTimestamp    1970-01-01 00:00:00+00\n",
       "ClaimType                          consumer\n",
       "IsOfflineUser                         False\n",
       "Name: eecc280c-9941-41bc-b26f-d519da794a5d, dtype: object"
      ]
     },
     "execution_count": 7,
     "metadata": {},
     "output_type": "execute_result"
    }
   ],
   "source": [
    "u_df.loc[selected_user,]"
   ]
  },
  {
   "cell_type": "code",
   "execution_count": 217,
   "metadata": {},
   "outputs": [
    {
     "data": {
      "text/plain": [
       "(1695250, 11)"
      ]
     },
     "execution_count": 217,
     "metadata": {},
     "output_type": "execute_result"
    }
   ],
   "source": [
    "# import check-outs\n",
    "out_df=pd.read_csv('./data/Total Checkout.csv', sep=',', low_memory=False)\n",
    "out_df['OwnerSince']= pd.to_datetime(out_df['OwnerSince']).dt.tz_convert(tz='Europe/Berlin')\n",
    "out_df['OwnerTill']= pd.to_datetime(out_df['OwnerTill']).dt.tz_convert(tz='Europe/Berlin')\n",
    "\n",
    "out_df=out_df.drop(['Unnamed: 0'], axis=1)\n",
    "out_df.shape"
   ]
  },
  {
   "cell_type": "code",
   "execution_count": 218,
   "metadata": {},
   "outputs": [
    {
     "data": {
      "text/plain": [
       "(1695079, 11)"
      ]
     },
     "execution_count": 218,
     "metadata": {},
     "output_type": "execute_result"
    }
   ],
   "source": [
    "out_df=out_df[out_df['UserId'].isin(u_df[u_df['ClaimType']=='consumer'].index) | out_df['UserId'].isin(u_df[u_df['ClaimType']=='catering_consumer'].index)  ]\n",
    "out_df.shape"
   ]
  },
  {
   "cell_type": "code",
   "execution_count": 244,
   "metadata": {},
   "outputs": [
    {
     "data": {
      "text/html": [
       "<div>\n",
       "<style scoped>\n",
       "    .dataframe tbody tr th:only-of-type {\n",
       "        vertical-align: middle;\n",
       "    }\n",
       "\n",
       "    .dataframe tbody tr th {\n",
       "        vertical-align: top;\n",
       "    }\n",
       "\n",
       "    .dataframe thead th {\n",
       "        text-align: right;\n",
       "    }\n",
       "</style>\n",
       "<table border=\"1\" class=\"dataframe\">\n",
       "  <thead>\n",
       "    <tr style=\"text-align: right;\">\n",
       "      <th></th>\n",
       "      <th>UserId</th>\n",
       "      <th>ExternalPickpackId</th>\n",
       "      <th>StoreId</th>\n",
       "      <th>StoreName</th>\n",
       "      <th>LocationId</th>\n",
       "      <th>TransactionId</th>\n",
       "      <th>OwnerSince</th>\n",
       "      <th>OwnerTill</th>\n",
       "      <th>ContainerId</th>\n",
       "      <th>DeliveryTokenId</th>\n",
       "      <th>ContainerType</th>\n",
       "    </tr>\n",
       "  </thead>\n",
       "  <tbody>\n",
       "    <tr>\n",
       "      <th>0</th>\n",
       "      <td>db70348b-76ae-4bff-b3ef-c1c727cc3be7</td>\n",
       "      <td>vytal_yjCP6j0bbUVAu0</td>\n",
       "      <td>e6e6d4e5-56dd-4361-8ebd-ebdd865f41ea</td>\n",
       "      <td>Mashery Hummus Kitchen</td>\n",
       "      <td>63672</td>\n",
       "      <td>NaN</td>\n",
       "      <td>2020-09-01 20:25:20.296746+02:00</td>\n",
       "      <td>2020-09-01 20:25:20.296746+02:00</td>\n",
       "      <td>4a9a935d-2260-4cfb-9bad-9751e48291a0</td>\n",
       "      <td>NaN</td>\n",
       "      <td>1250ml Bowl</td>\n",
       "    </tr>\n",
       "    <tr>\n",
       "      <th>1</th>\n",
       "      <td>66c1e632-a6d1-4203-bc6a-2b4c8e669e92</td>\n",
       "      <td>vytal_OwGu7ZOXba3jbu</td>\n",
       "      <td>e78d649c-7ced-4e07-95d0-8a25c58e1bc9</td>\n",
       "      <td>Krua Thai (Belgisches Viertel)</td>\n",
       "      <td>63666</td>\n",
       "      <td>NaN</td>\n",
       "      <td>2020-09-01 20:14:25.942667+02:00</td>\n",
       "      <td>2020-09-01 20:14:25.942667+02:00</td>\n",
       "      <td>7f161610-c775-406f-a67c-95d322b463f6</td>\n",
       "      <td>NaN</td>\n",
       "      <td>1250ml Bowl</td>\n",
       "    </tr>\n",
       "    <tr>\n",
       "      <th>2</th>\n",
       "      <td>66c1e632-a6d1-4203-bc6a-2b4c8e669e92</td>\n",
       "      <td>vytal_OwGu7ZOXba3jbu</td>\n",
       "      <td>e78d649c-7ced-4e07-95d0-8a25c58e1bc9</td>\n",
       "      <td>Krua Thai (Belgisches Viertel)</td>\n",
       "      <td>63664</td>\n",
       "      <td>NaN</td>\n",
       "      <td>2020-09-01 20:14:25.285038+02:00</td>\n",
       "      <td>2020-09-01 20:14:25.285038+02:00</td>\n",
       "      <td>68ea4bb3-0465-4209-a4cd-e6c03b394f7f</td>\n",
       "      <td>NaN</td>\n",
       "      <td>500ml Bowl</td>\n",
       "    </tr>\n",
       "    <tr>\n",
       "      <th>3</th>\n",
       "      <td>c525dce1-af31-4628-b4e9-c73901bf12d6</td>\n",
       "      <td>vytal_dpJU8pmvYzdV5e</td>\n",
       "      <td>c0a21089-3449-4744-b080-a8c7055718e2</td>\n",
       "      <td>Saigonese Kitchen</td>\n",
       "      <td>63657</td>\n",
       "      <td>NaN</td>\n",
       "      <td>2020-09-01 20:13:51.972676+02:00</td>\n",
       "      <td>2020-09-01 20:13:51.972676+02:00</td>\n",
       "      <td>eff44578-fe90-4045-ad49-6efc42c72a6e</td>\n",
       "      <td>NaN</td>\n",
       "      <td>750ml Bowl</td>\n",
       "    </tr>\n",
       "    <tr>\n",
       "      <th>4</th>\n",
       "      <td>c525dce1-af31-4628-b4e9-c73901bf12d6</td>\n",
       "      <td>vytal_dpJU8pmvYzdV5e</td>\n",
       "      <td>c0a21089-3449-4744-b080-a8c7055718e2</td>\n",
       "      <td>Saigonese Kitchen</td>\n",
       "      <td>63659</td>\n",
       "      <td>NaN</td>\n",
       "      <td>2020-09-01 20:13:51.972676+02:00</td>\n",
       "      <td>2020-09-01 20:13:51.972676+02:00</td>\n",
       "      <td>fa898324-f79e-42b2-86ef-4323d74e80c6</td>\n",
       "      <td>NaN</td>\n",
       "      <td>750ml Bowl</td>\n",
       "    </tr>\n",
       "  </tbody>\n",
       "</table>\n",
       "</div>"
      ],
      "text/plain": [
       "                                 UserId    ExternalPickpackId  \\\n",
       "0  db70348b-76ae-4bff-b3ef-c1c727cc3be7  vytal_yjCP6j0bbUVAu0   \n",
       "1  66c1e632-a6d1-4203-bc6a-2b4c8e669e92  vytal_OwGu7ZOXba3jbu   \n",
       "2  66c1e632-a6d1-4203-bc6a-2b4c8e669e92  vytal_OwGu7ZOXba3jbu   \n",
       "3  c525dce1-af31-4628-b4e9-c73901bf12d6  vytal_dpJU8pmvYzdV5e   \n",
       "4  c525dce1-af31-4628-b4e9-c73901bf12d6  vytal_dpJU8pmvYzdV5e   \n",
       "\n",
       "                                StoreId                       StoreName  \\\n",
       "0  e6e6d4e5-56dd-4361-8ebd-ebdd865f41ea          Mashery Hummus Kitchen   \n",
       "1  e78d649c-7ced-4e07-95d0-8a25c58e1bc9  Krua Thai (Belgisches Viertel)   \n",
       "2  e78d649c-7ced-4e07-95d0-8a25c58e1bc9  Krua Thai (Belgisches Viertel)   \n",
       "3  c0a21089-3449-4744-b080-a8c7055718e2               Saigonese Kitchen   \n",
       "4  c0a21089-3449-4744-b080-a8c7055718e2               Saigonese Kitchen   \n",
       "\n",
       "   LocationId TransactionId                       OwnerSince  \\\n",
       "0       63672           NaN 2020-09-01 20:25:20.296746+02:00   \n",
       "1       63666           NaN 2020-09-01 20:14:25.942667+02:00   \n",
       "2       63664           NaN 2020-09-01 20:14:25.285038+02:00   \n",
       "3       63657           NaN 2020-09-01 20:13:51.972676+02:00   \n",
       "4       63659           NaN 2020-09-01 20:13:51.972676+02:00   \n",
       "\n",
       "                         OwnerTill                           ContainerId  \\\n",
       "0 2020-09-01 20:25:20.296746+02:00  4a9a935d-2260-4cfb-9bad-9751e48291a0   \n",
       "1 2020-09-01 20:14:25.942667+02:00  7f161610-c775-406f-a67c-95d322b463f6   \n",
       "2 2020-09-01 20:14:25.285038+02:00  68ea4bb3-0465-4209-a4cd-e6c03b394f7f   \n",
       "3 2020-09-01 20:13:51.972676+02:00  eff44578-fe90-4045-ad49-6efc42c72a6e   \n",
       "4 2020-09-01 20:13:51.972676+02:00  fa898324-f79e-42b2-86ef-4323d74e80c6   \n",
       "\n",
       "  DeliveryTokenId ContainerType  \n",
       "0             NaN   1250ml Bowl  \n",
       "1             NaN   1250ml Bowl  \n",
       "2             NaN    500ml Bowl  \n",
       "3             NaN    750ml Bowl  \n",
       "4             NaN    750ml Bowl  "
      ]
     },
     "execution_count": 244,
     "metadata": {},
     "output_type": "execute_result"
    }
   ],
   "source": [
    "out_df.head()"
   ]
  },
  {
   "cell_type": "code",
   "execution_count": 219,
   "metadata": {},
   "outputs": [],
   "source": [
    "#select a user to be analyzed\n",
    "selected_user=list(out_df.groupby(by='UserId').size().sort_values(ascending=False).head(200).tail(1).index)[0]"
   ]
  },
  {
   "cell_type": "code",
   "execution_count": 220,
   "metadata": {},
   "outputs": [
    {
     "data": {
      "text/html": [
       "<div>\n",
       "<style scoped>\n",
       "    .dataframe tbody tr th:only-of-type {\n",
       "        vertical-align: middle;\n",
       "    }\n",
       "\n",
       "    .dataframe tbody tr th {\n",
       "        vertical-align: top;\n",
       "    }\n",
       "\n",
       "    .dataframe thead th {\n",
       "        text-align: right;\n",
       "    }\n",
       "</style>\n",
       "<table border=\"1\" class=\"dataframe\">\n",
       "  <thead>\n",
       "    <tr style=\"text-align: right;\">\n",
       "      <th></th>\n",
       "      <th>UserId</th>\n",
       "      <th>ExternalPickpackId</th>\n",
       "      <th>StoreId</th>\n",
       "      <th>StoreName</th>\n",
       "      <th>LocationId</th>\n",
       "      <th>TransactionId</th>\n",
       "      <th>OwnerSince</th>\n",
       "      <th>OwnerTill</th>\n",
       "      <th>ContainerId</th>\n",
       "      <th>DeliveryTokenId</th>\n",
       "      <th>ContainerType</th>\n",
       "    </tr>\n",
       "  </thead>\n",
       "  <tbody>\n",
       "    <tr>\n",
       "      <th>23733</th>\n",
       "      <td>1f71adf4-b35c-4418-b003-98f45fb2faf0</td>\n",
       "      <td>vytal_E17dFCSKEaCKzI</td>\n",
       "      <td>2470883c-e064-43a6-8844-1f8be7b2ff81</td>\n",
       "      <td>Generali Sachsenring, Köln</td>\n",
       "      <td>795280</td>\n",
       "      <td>5e72fd43-867f-491e-9d73-012f28fb38d0</td>\n",
       "      <td>2021-01-28 12:57:29.855943+01:00</td>\n",
       "      <td>2021-02-01 11:52:06.777903+01:00</td>\n",
       "      <td>63ffe7f7-bfe3-49fe-bd9c-6c49717904be</td>\n",
       "      <td>NaN</td>\n",
       "      <td>1250ml Bowl</td>\n",
       "    </tr>\n",
       "    <tr>\n",
       "      <th>35964</th>\n",
       "      <td>1f71adf4-b35c-4418-b003-98f45fb2faf0</td>\n",
       "      <td>vytal_E17dFCSKEaCKzI</td>\n",
       "      <td>2470883c-e064-43a6-8844-1f8be7b2ff81</td>\n",
       "      <td>Generali Sachsenring, Köln</td>\n",
       "      <td>782936</td>\n",
       "      <td>6da9f41f-7149-4354-9da1-3413d11cd65a</td>\n",
       "      <td>2021-01-27 12:35:27.039869+01:00</td>\n",
       "      <td>2021-01-28 12:11:19.304824+01:00</td>\n",
       "      <td>0c8b07bf-1826-4633-b881-f9da5a5c1c07</td>\n",
       "      <td>NaN</td>\n",
       "      <td>1250ml Bowl</td>\n",
       "    </tr>\n",
       "  </tbody>\n",
       "</table>\n",
       "</div>"
      ],
      "text/plain": [
       "                                     UserId    ExternalPickpackId  \\\n",
       "23733  1f71adf4-b35c-4418-b003-98f45fb2faf0  vytal_E17dFCSKEaCKzI   \n",
       "35964  1f71adf4-b35c-4418-b003-98f45fb2faf0  vytal_E17dFCSKEaCKzI   \n",
       "\n",
       "                                    StoreId                   StoreName  \\\n",
       "23733  2470883c-e064-43a6-8844-1f8be7b2ff81  Generali Sachsenring, Köln   \n",
       "35964  2470883c-e064-43a6-8844-1f8be7b2ff81  Generali Sachsenring, Köln   \n",
       "\n",
       "       LocationId                         TransactionId  \\\n",
       "23733      795280  5e72fd43-867f-491e-9d73-012f28fb38d0   \n",
       "35964      782936  6da9f41f-7149-4354-9da1-3413d11cd65a   \n",
       "\n",
       "                            OwnerSince                        OwnerTill  \\\n",
       "23733 2021-01-28 12:57:29.855943+01:00 2021-02-01 11:52:06.777903+01:00   \n",
       "35964 2021-01-27 12:35:27.039869+01:00 2021-01-28 12:11:19.304824+01:00   \n",
       "\n",
       "                                ContainerId DeliveryTokenId ContainerType  \n",
       "23733  63ffe7f7-bfe3-49fe-bd9c-6c49717904be             NaN   1250ml Bowl  \n",
       "35964  0c8b07bf-1826-4633-b881-f9da5a5c1c07             NaN   1250ml Bowl  "
      ]
     },
     "execution_count": 220,
     "metadata": {},
     "output_type": "execute_result"
    }
   ],
   "source": [
    "user_out=out_df[out_df['UserId']==selected_user].copy()\n",
    "#del out_df\n",
    "\n",
    "user_out.head(2)\n"
   ]
  },
  {
   "cell_type": "code",
   "execution_count": 221,
   "metadata": {},
   "outputs": [],
   "source": [
    "##### import transactions\n",
    "in_df=pd.read_csv('./data/Total Checkins.csv', sep=',', low_memory=False)\n",
    "\n",
    "#in_df.info()\n",
    "\n",
    "in_df['OwnerSince']= pd.to_datetime(in_df['OwnerSince']).dt.tz_convert(tz='Europe/Berlin')\n",
    "in_df['OwnerTill']= pd.to_datetime(in_df['OwnerTill']).dt.tz_convert(tz='Europe/Berlin')\n",
    "\n",
    "#print(in_df.info())\n",
    "in_df=in_df.drop(['Unnamed: 0'], axis=1)\n"
   ]
  },
  {
   "cell_type": "code",
   "execution_count": 222,
   "metadata": {},
   "outputs": [
    {
     "data": {
      "text/html": [
       "<div>\n",
       "<style scoped>\n",
       "    .dataframe tbody tr th:only-of-type {\n",
       "        vertical-align: middle;\n",
       "    }\n",
       "\n",
       "    .dataframe tbody tr th {\n",
       "        vertical-align: top;\n",
       "    }\n",
       "\n",
       "    .dataframe thead th {\n",
       "        text-align: right;\n",
       "    }\n",
       "</style>\n",
       "<table border=\"1\" class=\"dataframe\">\n",
       "  <thead>\n",
       "    <tr style=\"text-align: right;\">\n",
       "      <th></th>\n",
       "      <th>UserId</th>\n",
       "      <th>ExternalPickpackId</th>\n",
       "      <th>StoreId</th>\n",
       "      <th>StoreName</th>\n",
       "      <th>LocationId</th>\n",
       "      <th>TransactionId</th>\n",
       "      <th>OwnerSince</th>\n",
       "      <th>OwnerTill</th>\n",
       "      <th>ContainerId</th>\n",
       "      <th>ContainerType</th>\n",
       "    </tr>\n",
       "  </thead>\n",
       "  <tbody>\n",
       "    <tr>\n",
       "      <th>29052</th>\n",
       "      <td>1f71adf4-b35c-4418-b003-98f45fb2faf0</td>\n",
       "      <td>vytal_E17dFCSKEaCKzI</td>\n",
       "      <td>2470883c-e064-43a6-8844-1f8be7b2ff81</td>\n",
       "      <td>Generali Sachsenring, Köln</td>\n",
       "      <td>3802528</td>\n",
       "      <td>da3b8069-fb33-42e3-acab-32dcc5be845c</td>\n",
       "      <td>2021-08-31 12:18:43.029634+02:00</td>\n",
       "      <td>2021-09-01 12:47:12.185859+02:00</td>\n",
       "      <td>3e074778-9e67-4f07-85c8-2d5b368ace96</td>\n",
       "      <td>Compartment Bowl</td>\n",
       "    </tr>\n",
       "    <tr>\n",
       "      <th>39082</th>\n",
       "      <td>1f71adf4-b35c-4418-b003-98f45fb2faf0</td>\n",
       "      <td>vytal_E17dFCSKEaCKzI</td>\n",
       "      <td>2470883c-e064-43a6-8844-1f8be7b2ff81</td>\n",
       "      <td>Generali Sachsenring, Köln</td>\n",
       "      <td>3785742</td>\n",
       "      <td>d9ff2c51-8371-414e-a583-76a4218e19d6</td>\n",
       "      <td>2021-08-30 12:15:22.753880+02:00</td>\n",
       "      <td>2021-08-31 12:15:45.129581+02:00</td>\n",
       "      <td>78d2c8c3-e8bd-42cb-b283-86ed443cc550</td>\n",
       "      <td>Compartment Bowl</td>\n",
       "    </tr>\n",
       "  </tbody>\n",
       "</table>\n",
       "</div>"
      ],
      "text/plain": [
       "                                     UserId    ExternalPickpackId  \\\n",
       "29052  1f71adf4-b35c-4418-b003-98f45fb2faf0  vytal_E17dFCSKEaCKzI   \n",
       "39082  1f71adf4-b35c-4418-b003-98f45fb2faf0  vytal_E17dFCSKEaCKzI   \n",
       "\n",
       "                                    StoreId                   StoreName  \\\n",
       "29052  2470883c-e064-43a6-8844-1f8be7b2ff81  Generali Sachsenring, Köln   \n",
       "39082  2470883c-e064-43a6-8844-1f8be7b2ff81  Generali Sachsenring, Köln   \n",
       "\n",
       "       LocationId                         TransactionId  \\\n",
       "29052     3802528  da3b8069-fb33-42e3-acab-32dcc5be845c   \n",
       "39082     3785742  d9ff2c51-8371-414e-a583-76a4218e19d6   \n",
       "\n",
       "                            OwnerSince                        OwnerTill  \\\n",
       "29052 2021-08-31 12:18:43.029634+02:00 2021-09-01 12:47:12.185859+02:00   \n",
       "39082 2021-08-30 12:15:22.753880+02:00 2021-08-31 12:15:45.129581+02:00   \n",
       "\n",
       "                                ContainerId     ContainerType  \n",
       "29052  3e074778-9e67-4f07-85c8-2d5b368ace96  Compartment Bowl  \n",
       "39082  78d2c8c3-e8bd-42cb-b283-86ed443cc550  Compartment Bowl  "
      ]
     },
     "execution_count": 222,
     "metadata": {},
     "output_type": "execute_result"
    }
   ],
   "source": [
    "user_in=in_df[in_df['UserId']==selected_user].copy()\n",
    "#del in_df\n",
    "user_in.head(2)"
   ]
  },
  {
   "cell_type": "markdown",
   "metadata": {},
   "source": [
    "## Time with the customer.\n"
   ]
  },
  {
   "cell_type": "code",
   "execution_count": 223,
   "metadata": {},
   "outputs": [
    {
     "data": {
      "image/png": "[encoded data removed]",
      "text/plain": [
       "<Figure size 1440x360 with 1 Axes>"
      ]
     },
     "metadata": {
      "needs_background": "light"
     },
     "output_type": "display_data"
    }
   ],
   "source": [
    "# plt how long containers stay in with the consumer \n",
    "# Consumer return's behaviour is particular. \n",
    "plt.figure(figsize=(20,5))\n",
    "plt.title('Hours with the user')\n",
    "plt.ylabel('Frequency')\n",
    "\n",
    "plt.hist((user_in['OwnerTill']-user_in['OwnerSince']).dt.total_seconds()/3600, bins=240) # convert to hours\n",
    "plt.show()"
   ]
  },
  {
   "cell_type": "code",
   "execution_count": 224,
   "metadata": {},
   "outputs": [
    {
     "data": {
      "text/plain": [
       "<AxesSubplot:>"
      ]
     },
     "execution_count": 224,
     "metadata": {},
     "output_type": "execute_result"
    },
    {
     "data": {
      "image/png": "[encoded data removed]",
      "text/plain": [
       "<Figure size 432x288 with 1 Axes>"
      ]
     },
     "metadata": {
      "needs_background": "light"
     },
     "output_type": "display_data"
    }
   ],
   "source": [
    "# plt shows times of returns in a day \n",
    "\n",
    "user_in['OwnerTill'].dt.hour.hist(bins=24)"
   ]
  },
  {
   "cell_type": "code",
   "execution_count": 225,
   "metadata": {},
   "outputs": [
    {
     "data": {
      "text/plain": [
       "<AxesSubplot:>"
      ]
     },
     "execution_count": 225,
     "metadata": {},
     "output_type": "execute_result"
    },
    {
     "data": {
      "image/png": "[encoded data removed]",
      "text/plain": [
       "<Figure size 432x288 with 1 Axes>"
      ]
     },
     "metadata": {
      "needs_background": "light"
     },
     "output_type": "display_data"
    }
   ],
   "source": [
    "# plt shows times of check-outs in a day \n",
    "\n",
    "user_out['OwnerSince'].dt.hour.hist(bins=24)"
   ]
  },
  {
   "cell_type": "code",
   "execution_count": 226,
   "metadata": {},
   "outputs": [
    {
     "data": {
      "text/plain": [
       "<AxesSubplot:>"
      ]
     },
     "execution_count": 226,
     "metadata": {},
     "output_type": "execute_result"
    },
    {
     "data": {
      "image/png": "[encoded data removed]",
      "text/plain": [
       "<Figure size 432x288 with 1 Axes>"
      ]
     },
     "metadata": {
      "needs_background": "light"
     },
     "output_type": "display_data"
    }
   ],
   "source": [
    "#number of containers that he/she ordered in a single transaction\n",
    "user_out.groupby(by='TransactionId').size().hist()"
   ]
  },
  {
   "cell_type": "code",
   "execution_count": 227,
   "metadata": {},
   "outputs": [
    {
     "data": {
      "text/plain": [
       "<AxesSubplot:>"
      ]
     },
     "execution_count": 227,
     "metadata": {},
     "output_type": "execute_result"
    },
    {
     "data": {
      "image/png": "[encoded data removed]",
      "text/plain": [
       "<Figure size 432x288 with 1 Axes>"
      ]
     },
     "metadata": {
      "needs_background": "light"
     },
     "output_type": "display_data"
    }
   ],
   "source": [
    "#number of containers that he/she ordered in a single day\n",
    "user_out.groupby(by=user_out[\"OwnerSince\"].dt.date).size().hist()#sort_values(ascending=False)"
   ]
  },
  {
   "cell_type": "code",
   "execution_count": 228,
   "metadata": {},
   "outputs": [
    {
     "data": {
      "image/png": "[encoded data removed]",
      "text/plain": [
       "<Figure size 432x288 with 1 Axes>"
      ]
     },
     "metadata": {
      "needs_background": "light"
     },
     "output_type": "display_data"
    }
   ],
   "source": [
    "# weekday distribution\n",
    "plt.hist(user_out['OwnerSince'].dt.weekday) # convert to hours\n",
    "plt.xticks(np.arange(7), rotation=40)\n",
    "\n",
    "\n",
    "plt.show()"
   ]
  },
  {
   "cell_type": "code",
   "execution_count": 229,
   "metadata": {},
   "outputs": [
    {
     "data": {
      "text/plain": [
       "array(['2470883c-e064-43a6-8844-1f8be7b2ff81'], dtype=object)"
      ]
     },
     "execution_count": 229,
     "metadata": {},
     "output_type": "execute_result"
    }
   ],
   "source": [
    "# To which stores does he/she associate?\n",
    "user_in['StoreId'].unique()"
   ]
  },
  {
   "cell_type": "code",
   "execution_count": 230,
   "metadata": {},
   "outputs": [
    {
     "data": {
      "text/plain": [
       "array(['2470883c-e064-43a6-8844-1f8be7b2ff81'], dtype=object)"
      ]
     },
     "execution_count": 230,
     "metadata": {},
     "output_type": "execute_result"
    }
   ],
   "source": [
    "user_out['StoreId'].unique()"
   ]
  },
  {
   "cell_type": "markdown",
   "metadata": {},
   "source": [
    "## Time Series "
   ]
  },
  {
   "cell_type": "code",
   "execution_count": 231,
   "metadata": {},
   "outputs": [],
   "source": [
    "\n",
    "ops_user=user_out.groupby(by=user_out['OwnerSince'].dt.date).size().to_frame('count')"
   ]
  },
  {
   "cell_type": "code",
   "execution_count": 232,
   "metadata": {},
   "outputs": [
    {
     "data": {
      "image/png": "[encoded data removed]",
      "text/plain": [
       "<Figure size 1440x360 with 1 Axes>"
      ]
     },
     "metadata": {
      "needs_background": "light"
     },
     "output_type": "display_data"
    }
   ],
   "source": [
    "plt.figure(figsize=(20,5))\n",
    "plt.title('Hours with the user')\n",
    "plt.ylabel('Frequency')\n",
    "\n",
    "plt.bar(ops_user.index, ops_user['count']) # convert to hours\n",
    "plt.show()"
   ]
  },
  {
   "cell_type": "code",
   "execution_count": 233,
   "metadata": {},
   "outputs": [
    {
     "name": "stdout",
     "output_type": "stream",
     "text": [
      "            count  y         ds\n",
      "OwnerSince                     \n",
      "2021-06-11      1  1 2021-06-11\n",
      "2021-06-16      1  1 2021-06-16\n",
      "2021-06-17      3  3 2021-06-17\n",
      "2021-06-18      3  3 2021-06-18\n",
      "2021-06-21      2  2 2021-06-21\n"
     ]
    },
    {
     "name": "stderr",
     "output_type": "stream",
     "text": [
      "/Users/kultiginbozdemir/opt/anaconda3/envs/CO2/lib/python3.7/site-packages/ipykernel_launcher.py:5: DeprecationWarning: The default dtype for empty Series will be 'object' instead of 'float64' in a future version. Specify a dtype explicitly to silence this warning.\n",
      "  \"\"\"\n"
     ]
    }
   ],
   "source": [
    "\n",
    "# prepare expected column names\n",
    "#sales_day.columns = ['ds', 'y']\n",
    "\n",
    "ops_user['y']= ops_user['count']\n",
    "ops_user['ds']= pd.Series()\n",
    "ops_user['ds']=pd.to_datetime(ops_user.index)\n",
    "# create test dataset, remove last 14 days\n",
    "train = ops_user.drop(ops_user.index[-28:])\n",
    "\n",
    "print(train.tail())"
   ]
  },
  {
   "cell_type": "code",
   "execution_count": 234,
   "metadata": {},
   "outputs": [
    {
     "name": "stderr",
     "output_type": "stream",
     "text": [
      "INFO:fbprophet:Disabling yearly seasonality. Run prophet with yearly_seasonality=True to override this.\n"
     ]
    },
    {
     "name": "stdout",
     "output_type": "stream",
     "text": [
      "MAE: 0.663\n"
     ]
    },
    {
     "data": {
      "image/png": "[encoded data removed]",
      "text/plain": [
       "<Figure size 1440x360 with 1 Axes>"
      ]
     },
     "metadata": {
      "needs_background": "light"
     },
     "output_type": "display_data"
    }
   ],
   "source": [
    "\n",
    "# define the model\n",
    "model = Prophet(weekly_seasonality=False,daily_seasonality=False \n",
    "               ).add_country_holidays(country_name='DE'\n",
    "                ).add_seasonality(name=\"Weekly\", period=7,fourier_order=50)\n",
    "# fit the model\n",
    "model.fit(train)\n",
    "# define the period for which we want a prediction\n",
    "future = list()\n",
    "future=list(ops_user.loc[ops_user.index[-28:],].index)\n",
    "future = pd.DataFrame(future)\n",
    "future.columns = ['ds']\n",
    "future['ds'] = pd.to_datetime(future['ds'])\n",
    "\n",
    "# use the model to make a forecast\n",
    "forecast = model.predict(future)\n",
    "# calculate MAE between expected and predicted values for december\n",
    "y_true = ops_user['y'][-28:].values\n",
    "y_pred = forecast['yhat'].values\n",
    "mae = mean_absolute_error(y_true, y_pred)\n",
    "print('MAE: %.3f' % mae)\n",
    "# plot expected vs actual\n",
    "plt.figure(figsize=(20, 5))\n",
    "plt.plot(y_true, label='Actual')\n",
    "plt.plot(y_pred, label='Predicted')\n",
    "plt.legend()\n",
    "plt.show()"
   ]
  },
  {
   "cell_type": "code",
   "execution_count": 243,
   "metadata": {},
   "outputs": [
    {
     "name": "stderr",
     "output_type": "stream",
     "text": [
      "WARNING:matplotlib.legend:No handles with labels found to put in legend.\n"
     ]
    },
    {
     "data": {
      "image/png": "[encoded data removed]",
      "text/plain": [
       "<Figure size 1440x360 with 1 Axes>"
      ]
     },
     "metadata": {
      "needs_background": "light"
     },
     "output_type": "display_data"
    }
   ],
   "source": [
    "plt.figure(figsize=(20, 5))\n",
    "plt.bar(ops_user['count'].head(35).index, ops_user['count'].head(35).values)\n",
    "\n",
    "plt.legend()\n",
    "plt.show()"
   ]
  },
  {
   "cell_type": "markdown",
   "metadata": {},
   "source": [
    "Autocorrelation, or partial autocorrelation <br>\n",
    "Granger casuality test to predit the return times from chekc-out times <br>"
   ]
  },
  {
   "cell_type": "code",
   "execution_count": null,
   "metadata": {},
   "outputs": [],
   "source": []
  }
 ],
 "metadata": {
  "kernelspec": {
   "display_name": "Python 3",
   "language": "python",
   "name": "python3"
  },
  "language_info": {
   "codemirror_mode": {
    "name": "ipython",
    "version": 3
   },
   "file_extension": ".py",
   "mimetype": "text/x-python",
   "name": "python",
   "nbconvert_exporter": "python",
   "pygments_lexer": "ipython3",
   "version": "3.7.7"
  }
 },
 "nbformat": 4,
 "nbformat_minor": 4
}
