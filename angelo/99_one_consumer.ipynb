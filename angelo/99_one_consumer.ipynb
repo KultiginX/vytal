{
 "cells": [
  {
   "cell_type": "markdown",
   "metadata": {},
   "source": [
    "### operations of one consumer\n",
    "\n"
   ]
  },
  {
   "cell_type": "code",
   "execution_count": 3,
   "metadata": {},
   "outputs": [
    {
     "name": "stdout",
     "output_type": "stream",
     "text": [
      "/Users/kultiginbozdemir/Documents/GitHub/vytal/angelo\n"
     ]
    }
   ],
   "source": [
    "import os\n",
    "directory=os.getcwd()\n",
    "print(directory)\n"
   ]
  },
  {
   "cell_type": "code",
   "execution_count": 4,
   "metadata": {},
   "outputs": [],
   "source": [
    "#import packages\n",
    "import pandas as pd\n",
    "import numpy as np\n",
    "import geopandas as gpd\n",
    "import matplotlib.pyplot as plt \n",
    "import datetime as dt\n",
    "\n",
    "from fbprophet import Prophet\n",
    "from sklearn.metrics import mean_absolute_error"
   ]
  },
  {
   "cell_type": "code",
   "execution_count": 5,
   "metadata": {},
   "outputs": [
    {
     "data": {
      "text/html": [
       "<div>\n",
       "<style scoped>\n",
       "    .dataframe tbody tr th:only-of-type {\n",
       "        vertical-align: middle;\n",
       "    }\n",
       "\n",
       "    .dataframe tbody tr th {\n",
       "        vertical-align: top;\n",
       "    }\n",
       "\n",
       "    .dataframe thead th {\n",
       "        text-align: right;\n",
       "    }\n",
       "</style>\n",
       "<table border=\"1\" class=\"dataframe\">\n",
       "  <thead>\n",
       "    <tr style=\"text-align: right;\">\n",
       "      <th></th>\n",
       "      <th>CreationTimestamp</th>\n",
       "      <th>ClaimType</th>\n",
       "      <th>IsOfflineUser</th>\n",
       "    </tr>\n",
       "    <tr>\n",
       "      <th>UserId</th>\n",
       "      <th></th>\n",
       "      <th></th>\n",
       "      <th></th>\n",
       "    </tr>\n",
       "  </thead>\n",
       "  <tbody>\n",
       "    <tr>\n",
       "      <th>c80419f9-49c8-40fc-9235-a00e11535441</th>\n",
       "      <td>2020-10-28 11:16:26.078405+00</td>\n",
       "      <td>storeappuser</td>\n",
       "      <td>False</td>\n",
       "    </tr>\n",
       "    <tr>\n",
       "      <th>79f8cb9f-845a-435d-a90f-2c4e1c6b184d</th>\n",
       "      <td>2020-07-02 11:02:15.328493+00</td>\n",
       "      <td>consumer</td>\n",
       "      <td>False</td>\n",
       "    </tr>\n",
       "    <tr>\n",
       "      <th>885f9e83-82a7-4b27-9c77-c0efa2d37717</th>\n",
       "      <td>2020-09-14 13:17:28.633744+00</td>\n",
       "      <td>consumer</td>\n",
       "      <td>False</td>\n",
       "    </tr>\n",
       "    <tr>\n",
       "      <th>4c9e5562-40d5-4b2d-bdcb-997fae59fcb5</th>\n",
       "      <td>2021-04-02 13:47:46.115381+00</td>\n",
       "      <td>consumer</td>\n",
       "      <td>False</td>\n",
       "    </tr>\n",
       "    <tr>\n",
       "      <th>8fc09966-88e1-45d5-a1ac-b923e37ea3a1</th>\n",
       "      <td>2020-01-04 22:09:01.160486+00</td>\n",
       "      <td>consumer</td>\n",
       "      <td>False</td>\n",
       "    </tr>\n",
       "  </tbody>\n",
       "</table>\n",
       "</div>"
      ],
      "text/plain": [
       "                                                  CreationTimestamp  \\\n",
       "UserId                                                                \n",
       "c80419f9-49c8-40fc-9235-a00e11535441  2020-10-28 11:16:26.078405+00   \n",
       "79f8cb9f-845a-435d-a90f-2c4e1c6b184d  2020-07-02 11:02:15.328493+00   \n",
       "885f9e83-82a7-4b27-9c77-c0efa2d37717  2020-09-14 13:17:28.633744+00   \n",
       "4c9e5562-40d5-4b2d-bdcb-997fae59fcb5  2021-04-02 13:47:46.115381+00   \n",
       "8fc09966-88e1-45d5-a1ac-b923e37ea3a1  2020-01-04 22:09:01.160486+00   \n",
       "\n",
       "                                         ClaimType  IsOfflineUser  \n",
       "UserId                                                             \n",
       "c80419f9-49c8-40fc-9235-a00e11535441  storeappuser          False  \n",
       "79f8cb9f-845a-435d-a90f-2c4e1c6b184d      consumer          False  \n",
       "885f9e83-82a7-4b27-9c77-c0efa2d37717      consumer          False  \n",
       "4c9e5562-40d5-4b2d-bdcb-997fae59fcb5      consumer          False  \n",
       "8fc09966-88e1-45d5-a1ac-b923e37ea3a1      consumer          False  "
      ]
     },
     "execution_count": 5,
     "metadata": {},
     "output_type": "execute_result"
    }
   ],
   "source": [
    "# Import customer list\n",
    "u_df=pd.read_csv('./Users_sanitized.csv', sep=',', index_col='UserId').drop('Unnamed: 0',axis=1)\n",
    "u_df.head()"
   ]
  },
  {
   "cell_type": "code",
   "execution_count": 6,
   "metadata": {},
   "outputs": [
    {
     "data": {
      "text/html": [
       "<div>\n",
       "<style scoped>\n",
       "    .dataframe tbody tr th:only-of-type {\n",
       "        vertical-align: middle;\n",
       "    }\n",
       "\n",
       "    .dataframe tbody tr th {\n",
       "        vertical-align: top;\n",
       "    }\n",
       "\n",
       "    .dataframe thead th {\n",
       "        text-align: right;\n",
       "    }\n",
       "</style>\n",
       "<table border=\"1\" class=\"dataframe\">\n",
       "  <thead>\n",
       "    <tr style=\"text-align: right;\">\n",
       "      <th></th>\n",
       "      <th>Id</th>\n",
       "      <th>MerchantId</th>\n",
       "      <th>Name</th>\n",
       "      <th>Longitude</th>\n",
       "      <th>Latitude</th>\n",
       "      <th>CreationDate</th>\n",
       "      <th>CategoryId</th>\n",
       "      <th>StreetAddress</th>\n",
       "      <th>City</th>\n",
       "      <th>SellsOfflineCards</th>\n",
       "      <th>check_ins</th>\n",
       "      <th>check_outs</th>\n",
       "      <th>delta</th>\n",
       "      <th>cater_in</th>\n",
       "      <th>cater_out</th>\n",
       "      <th>cater_delta</th>\n",
       "      <th>cater_out_ratio</th>\n",
       "      <th>geometry</th>\n",
       "    </tr>\n",
       "    <tr>\n",
       "      <th>Id</th>\n",
       "      <th></th>\n",
       "      <th></th>\n",
       "      <th></th>\n",
       "      <th></th>\n",
       "      <th></th>\n",
       "      <th></th>\n",
       "      <th></th>\n",
       "      <th></th>\n",
       "      <th></th>\n",
       "      <th></th>\n",
       "      <th></th>\n",
       "      <th></th>\n",
       "      <th></th>\n",
       "      <th></th>\n",
       "      <th></th>\n",
       "      <th></th>\n",
       "      <th></th>\n",
       "      <th></th>\n",
       "    </tr>\n",
       "  </thead>\n",
       "  <tbody>\n",
       "    <tr>\n",
       "      <th>37750976-cd54-44a5-a05a-d85d3cc9035b</th>\n",
       "      <td>37750976-cd54-44a5-a05a-d85d3cc9035b</td>\n",
       "      <td>2c1b374d-3d05-4b74-a260-a479c8ef9232</td>\n",
       "      <td>Krua Thai 2 - Heumarkt</td>\n",
       "      <td>6.960161</td>\n",
       "      <td>50.935471</td>\n",
       "      <td>2020-10-20T18:04:31.643000+00:00</td>\n",
       "      <td>2</td>\n",
       "      <td>Heumarkt 25</td>\n",
       "      <td>Köln</td>\n",
       "      <td>False</td>\n",
       "      <td>3721.0</td>\n",
       "      <td>-4492.0</td>\n",
       "      <td>-771.0</td>\n",
       "      <td>6.0</td>\n",
       "      <td>0.0</td>\n",
       "      <td>6.0</td>\n",
       "      <td>-0.0</td>\n",
       "      <td>POINT (6.96016 50.93547)</td>\n",
       "    </tr>\n",
       "    <tr>\n",
       "      <th>d4e38d94-eb54-4049-b721-4da7c79f3891</th>\n",
       "      <td>d4e38d94-eb54-4049-b721-4da7c79f3891</td>\n",
       "      <td>2c9fdbe4-3e32-4916-ba19-147258d0dd1d</td>\n",
       "      <td>Fenster zum Hof</td>\n",
       "      <td>6.944754</td>\n",
       "      <td>50.948689</td>\n",
       "      <td>2019-09-22T19:53:24.931000+00:00</td>\n",
       "      <td>2</td>\n",
       "      <td>Im Mediapark 5</td>\n",
       "      <td>Köln</td>\n",
       "      <td>False</td>\n",
       "      <td>60.0</td>\n",
       "      <td>-46.0</td>\n",
       "      <td>14.0</td>\n",
       "      <td>0.0</td>\n",
       "      <td>0.0</td>\n",
       "      <td>0.0</td>\n",
       "      <td>-0.0</td>\n",
       "      <td>POINT (6.94475 50.94869)</td>\n",
       "    </tr>\n",
       "  </tbody>\n",
       "</table>\n",
       "</div>"
      ],
      "text/plain": [
       "                                                                        Id  \\\n",
       "Id                                                                           \n",
       "37750976-cd54-44a5-a05a-d85d3cc9035b  37750976-cd54-44a5-a05a-d85d3cc9035b   \n",
       "d4e38d94-eb54-4049-b721-4da7c79f3891  d4e38d94-eb54-4049-b721-4da7c79f3891   \n",
       "\n",
       "                                                                MerchantId  \\\n",
       "Id                                                                           \n",
       "37750976-cd54-44a5-a05a-d85d3cc9035b  2c1b374d-3d05-4b74-a260-a479c8ef9232   \n",
       "d4e38d94-eb54-4049-b721-4da7c79f3891  2c9fdbe4-3e32-4916-ba19-147258d0dd1d   \n",
       "\n",
       "                                                        Name  Longitude  \\\n",
       "Id                                                                        \n",
       "37750976-cd54-44a5-a05a-d85d3cc9035b  Krua Thai 2 - Heumarkt   6.960161   \n",
       "d4e38d94-eb54-4049-b721-4da7c79f3891         Fenster zum Hof   6.944754   \n",
       "\n",
       "                                       Latitude  \\\n",
       "Id                                                \n",
       "37750976-cd54-44a5-a05a-d85d3cc9035b  50.935471   \n",
       "d4e38d94-eb54-4049-b721-4da7c79f3891  50.948689   \n",
       "\n",
       "                                                          CreationDate  \\\n",
       "Id                                                                       \n",
       "37750976-cd54-44a5-a05a-d85d3cc9035b  2020-10-20T18:04:31.643000+00:00   \n",
       "d4e38d94-eb54-4049-b721-4da7c79f3891  2019-09-22T19:53:24.931000+00:00   \n",
       "\n",
       "                                      CategoryId   StreetAddress  City  \\\n",
       "Id                                                                       \n",
       "37750976-cd54-44a5-a05a-d85d3cc9035b           2     Heumarkt 25  Köln   \n",
       "d4e38d94-eb54-4049-b721-4da7c79f3891           2  Im Mediapark 5  Köln   \n",
       "\n",
       "                                      SellsOfflineCards  check_ins  \\\n",
       "Id                                                                   \n",
       "37750976-cd54-44a5-a05a-d85d3cc9035b              False     3721.0   \n",
       "d4e38d94-eb54-4049-b721-4da7c79f3891              False       60.0   \n",
       "\n",
       "                                      check_outs  delta  cater_in  cater_out  \\\n",
       "Id                                                                             \n",
       "37750976-cd54-44a5-a05a-d85d3cc9035b     -4492.0 -771.0       6.0        0.0   \n",
       "d4e38d94-eb54-4049-b721-4da7c79f3891       -46.0   14.0       0.0        0.0   \n",
       "\n",
       "                                      cater_delta  cater_out_ratio  \\\n",
       "Id                                                                   \n",
       "37750976-cd54-44a5-a05a-d85d3cc9035b          6.0             -0.0   \n",
       "d4e38d94-eb54-4049-b721-4da7c79f3891          0.0             -0.0   \n",
       "\n",
       "                                                      geometry  \n",
       "Id                                                              \n",
       "37750976-cd54-44a5-a05a-d85d3cc9035b  POINT (6.96016 50.93547)  \n",
       "d4e38d94-eb54-4049-b721-4da7c79f3891  POINT (6.94475 50.94869)  "
      ]
     },
     "execution_count": 6,
     "metadata": {},
     "output_type": "execute_result"
    }
   ],
   "source": [
    "# Import merchants\n",
    "m_df=gpd.read_file('./co_store_delta.json', index_col='Id')\n",
    "m_df.index=m_df.Id\n",
    "m_df.head(2)"
   ]
  },
  {
   "cell_type": "code",
   "execution_count": 9,
   "metadata": {},
   "outputs": [],
   "source": [
    "import pytz\n",
    "\n",
    "# define the old and new timezones\n",
    "old_timezone = pytz.timezone(\"UTC\")\n",
    "berlin = pytz.timezone(\"Europe/Berlin\")"
   ]
  },
  {
   "cell_type": "code",
   "execution_count": 10,
   "metadata": {},
   "outputs": [],
   "source": [
    "# Choose the time window for the analysis\n",
    "\n",
    "begin_date=dt.datetime(2019, 8, 1, 0, 0, 0, tzinfo=berlin)\n",
    "end_date=dt.datetime(2021, 8, 31, 23, 59, 0, tzinfo=berlin)\n",
    "\n"
   ]
  },
  {
   "cell_type": "code",
   "execution_count": 12,
   "metadata": {},
   "outputs": [],
   "source": []
  },
  {
   "cell_type": "code",
   "execution_count": 31,
   "metadata": {},
   "outputs": [
    {
     "data": {
      "text/html": [
       "<div>\n",
       "<style scoped>\n",
       "    .dataframe tbody tr th:only-of-type {\n",
       "        vertical-align: middle;\n",
       "    }\n",
       "\n",
       "    .dataframe tbody tr th {\n",
       "        vertical-align: top;\n",
       "    }\n",
       "\n",
       "    .dataframe thead th {\n",
       "        text-align: right;\n",
       "    }\n",
       "</style>\n",
       "<table border=\"1\" class=\"dataframe\">\n",
       "  <thead>\n",
       "    <tr style=\"text-align: right;\">\n",
       "      <th></th>\n",
       "      <th>OwnerId</th>\n",
       "      <th>NextOwnerId</th>\n",
       "      <th>ContainerId</th>\n",
       "      <th>OwnerSince</th>\n",
       "      <th>OwnerTill</th>\n",
       "      <th>IsBillableTransaction</th>\n",
       "      <th>TransactionId</th>\n",
       "      <th>container_type_id</th>\n",
       "      <th>owner_store_id</th>\n",
       "      <th>next_owner_store_id</th>\n",
       "      <th>owner_co_int_</th>\n",
       "      <th>next_owner_co_int_</th>\n",
       "      <th>owner_claim_type</th>\n",
       "      <th>next_owner_claim_type</th>\n",
       "      <th>geometry</th>\n",
       "      <th>OwnerSince_r</th>\n",
       "      <th>temp_</th>\n",
       "      <th>Source</th>\n",
       "      <th>Target</th>\n",
       "    </tr>\n",
       "  </thead>\n",
       "  <tbody>\n",
       "    <tr>\n",
       "      <th>31405</th>\n",
       "      <td>e4b82739-fa38-4381-821f-a765cedd9e89</td>\n",
       "      <td>0b0801bc-b230-4be6-98c9-de8790ff0dca</td>\n",
       "      <td>d32c0fdc-cc71-41df-9153-fd4ba694e1d6</td>\n",
       "      <td>2020-10-28 13:03:27.401769+01:00</td>\n",
       "      <td>2020-10-28 13:03:27.401769+01:00</td>\n",
       "      <td>True</td>\n",
       "      <td>NaN</td>\n",
       "      <td>1.0</td>\n",
       "      <td>31b66f50-de83-4551-b8d9-58fb5c74680e</td>\n",
       "      <td>NaN</td>\n",
       "      <td>False</td>\n",
       "      <td>False</td>\n",
       "      <td>storeappuser</td>\n",
       "      <td>consumer</td>\n",
       "      <td>POINT (2567577.078 5646951.354)</td>\n",
       "      <td>2020-10-28 13:00:00+01:00</td>\n",
       "      <td>14.8</td>\n",
       "      <td>31b66f50-de83-4551-b8d9-58fb5c74680e</td>\n",
       "      <td>0b0801bc-b230-4be6-98c9-de8790ff0dca</td>\n",
       "    </tr>\n",
       "    <tr>\n",
       "      <th>31987</th>\n",
       "      <td>e4b82739-fa38-4381-821f-a765cedd9e89</td>\n",
       "      <td>0b0801bc-b230-4be6-98c9-de8790ff0dca</td>\n",
       "      <td>29860860-bd53-4978-ace8-d36fbbb34598</td>\n",
       "      <td>2020-10-29 13:59:49.542746+01:00</td>\n",
       "      <td>2020-10-29 13:59:49.542746+01:00</td>\n",
       "      <td>True</td>\n",
       "      <td>NaN</td>\n",
       "      <td>1.0</td>\n",
       "      <td>31b66f50-de83-4551-b8d9-58fb5c74680e</td>\n",
       "      <td>NaN</td>\n",
       "      <td>False</td>\n",
       "      <td>False</td>\n",
       "      <td>storeappuser</td>\n",
       "      <td>consumer</td>\n",
       "      <td>POINT (2567577.078 5646951.354)</td>\n",
       "      <td>2020-10-29 14:00:00+01:00</td>\n",
       "      <td>12.5</td>\n",
       "      <td>31b66f50-de83-4551-b8d9-58fb5c74680e</td>\n",
       "      <td>0b0801bc-b230-4be6-98c9-de8790ff0dca</td>\n",
       "    </tr>\n",
       "  </tbody>\n",
       "</table>\n",
       "</div>"
      ],
      "text/plain": [
       "                                    OwnerId  \\\n",
       "31405  e4b82739-fa38-4381-821f-a765cedd9e89   \n",
       "31987  e4b82739-fa38-4381-821f-a765cedd9e89   \n",
       "\n",
       "                                NextOwnerId  \\\n",
       "31405  0b0801bc-b230-4be6-98c9-de8790ff0dca   \n",
       "31987  0b0801bc-b230-4be6-98c9-de8790ff0dca   \n",
       "\n",
       "                                ContainerId                       OwnerSince  \\\n",
       "31405  d32c0fdc-cc71-41df-9153-fd4ba694e1d6 2020-10-28 13:03:27.401769+01:00   \n",
       "31987  29860860-bd53-4978-ace8-d36fbbb34598 2020-10-29 13:59:49.542746+01:00   \n",
       "\n",
       "                             OwnerTill  IsBillableTransaction TransactionId  \\\n",
       "31405 2020-10-28 13:03:27.401769+01:00                   True           NaN   \n",
       "31987 2020-10-29 13:59:49.542746+01:00                   True           NaN   \n",
       "\n",
       "       container_type_id                        owner_store_id  \\\n",
       "31405                1.0  31b66f50-de83-4551-b8d9-58fb5c74680e   \n",
       "31987                1.0  31b66f50-de83-4551-b8d9-58fb5c74680e   \n",
       "\n",
       "      next_owner_store_id  owner_co_int_  next_owner_co_int_ owner_claim_type  \\\n",
       "31405                 NaN          False               False     storeappuser   \n",
       "31987                 NaN          False               False     storeappuser   \n",
       "\n",
       "      next_owner_claim_type                         geometry  \\\n",
       "31405              consumer  POINT (2567577.078 5646951.354)   \n",
       "31987              consumer  POINT (2567577.078 5646951.354)   \n",
       "\n",
       "                   OwnerSince_r  temp_                                Source  \\\n",
       "31405 2020-10-28 13:00:00+01:00   14.8  31b66f50-de83-4551-b8d9-58fb5c74680e   \n",
       "31987 2020-10-29 14:00:00+01:00   12.5  31b66f50-de83-4551-b8d9-58fb5c74680e   \n",
       "\n",
       "                                     Target  \n",
       "31405  0b0801bc-b230-4be6-98c9-de8790ff0dca  \n",
       "31987  0b0801bc-b230-4be6-98c9-de8790ff0dca  "
      ]
     },
     "execution_count": 31,
     "metadata": {},
     "output_type": "execute_result"
    }
   ],
   "source": [
    "\n",
    "# read csv\n",
    "#out_df=pd.read_csv('./c_co_out.csv', sep=',', low_memory=False).drop(drop_list, axis=1).rename(columns={'TypeId':'ContainerTypeId'})\n",
    "#out_df.head(2)\n",
    "\n",
    "#out_df['OwnerSince']= pd.to_datetime(out_df['OwnerSince'],errors='coerce',utc=True).dt.tz_convert(tz='Europe/Berlin')\n",
    "#out_df['OwnerTill']= pd.to_datetime(out_df['OwnerTill'],errors='coerce',utc=True).dt.tz_convert(tz='Europe/Berlin')\n",
    "\n",
    "%store -r c_co_out\n",
    "\n",
    "\n",
    "\n",
    "begin_=c_co_out['OwnerSince']>begin_date\n",
    "end_=c_co_out['OwnerSince']<end_date\n",
    "\n",
    "consumer_out=c_co_out[begin_ & end_]\n",
    "\n",
    "\n",
    "\n",
    "#select a user to be analyzed\n",
    "selected_consumer=list(out_df.groupby(by='NextOwnerId').size().sort_values(ascending=False).head(200).tail(1).index)[0]\n",
    "selected_consumer\n",
    "\n",
    "\n",
    "select_consumer_=consumer_out['NextOwnerId']==selected_consumer\n",
    "\n",
    "consumer_out=consumer_out[select_consumer_]\n",
    "\n",
    "consumer_out.head(2)"
   ]
  },
  {
   "cell_type": "code",
   "execution_count": 32,
   "metadata": {},
   "outputs": [
    {
     "data": {
      "text/plain": [
       "({'consumer'}, {'storeappuser'}, {1.0})"
      ]
     },
     "execution_count": 32,
     "metadata": {},
     "output_type": "execute_result"
    }
   ],
   "source": [
    "set(list(out_df['next_owner_claim_type'])), set(list(consumer_out['owner_claim_type'])), set(list(consumer_out['container_type_id']))"
   ]
  },
  {
   "cell_type": "code",
   "execution_count": null,
   "metadata": {},
   "outputs": [],
   "source": []
  },
  {
   "cell_type": "raw",
   "metadata": {},
   "source": [
    "##### import transactions\n",
    "in_df=pd.read_csv('./c_co_in.csv', sep=',', low_memory=False)#.drop(drop_list, axis=1)\n",
    "\n",
    "in_df['OwnerSince']= pd.to_datetime(in_df['OwnerSince'],errors='coerce', utc=True).dt.tz_convert(tz='Europe/Berlin')\n",
    "\n",
    "in_df['OwnerTill']= pd.to_datetime(in_df['OwnerTill'],errors='coerce', utc=True).dt.tz_convert(tz='Europe/Berlin')\n",
    "\n",
    "#print(in_df.info())\n",
    "in_df=in_df.drop(['Unnamed: 0'], axis=1)"
   ]
  },
  {
   "cell_type": "code",
   "execution_count": 33,
   "metadata": {},
   "outputs": [
    {
     "data": {
      "text/html": [
       "<div>\n",
       "<style scoped>\n",
       "    .dataframe tbody tr th:only-of-type {\n",
       "        vertical-align: middle;\n",
       "    }\n",
       "\n",
       "    .dataframe tbody tr th {\n",
       "        vertical-align: top;\n",
       "    }\n",
       "\n",
       "    .dataframe thead th {\n",
       "        text-align: right;\n",
       "    }\n",
       "</style>\n",
       "<table border=\"1\" class=\"dataframe\">\n",
       "  <thead>\n",
       "    <tr style=\"text-align: right;\">\n",
       "      <th></th>\n",
       "      <th>OwnerId</th>\n",
       "      <th>NextOwnerId</th>\n",
       "      <th>ContainerId</th>\n",
       "      <th>OwnerSince</th>\n",
       "      <th>OwnerTill</th>\n",
       "      <th>IsBillableTransaction</th>\n",
       "      <th>TransactionId</th>\n",
       "      <th>container_type_id</th>\n",
       "      <th>owner_store_id</th>\n",
       "      <th>next_owner_store_id</th>\n",
       "      <th>owner_co_int_</th>\n",
       "      <th>next_owner_co_int_</th>\n",
       "      <th>owner_claim_type</th>\n",
       "      <th>next_owner_claim_type</th>\n",
       "      <th>geometry</th>\n",
       "      <th>OwnerTill_r</th>\n",
       "      <th>temp_</th>\n",
       "      <th>Source</th>\n",
       "      <th>Target</th>\n",
       "    </tr>\n",
       "  </thead>\n",
       "  <tbody>\n",
       "    <tr>\n",
       "      <th>213562</th>\n",
       "      <td>0b0801bc-b230-4be6-98c9-de8790ff0dca</td>\n",
       "      <td>e4b82739-fa38-4381-821f-a765cedd9e89</td>\n",
       "      <td>d32c0fdc-cc71-41df-9153-fd4ba694e1d6</td>\n",
       "      <td>2020-10-28 13:03:27.401769+01:00</td>\n",
       "      <td>2020-10-29 13:59:32.057904+01:00</td>\n",
       "      <td>False</td>\n",
       "      <td>cdf811cc-3d58-415d-a3bb-9107c6a08be1</td>\n",
       "      <td>1.0</td>\n",
       "      <td>NaN</td>\n",
       "      <td>31b66f50-de83-4551-b8d9-58fb5c74680e</td>\n",
       "      <td>False</td>\n",
       "      <td>False</td>\n",
       "      <td>consumer</td>\n",
       "      <td>storeappuser</td>\n",
       "      <td>POINT (2567577.078 5646951.354)</td>\n",
       "      <td>2020-10-29 14:00:00+01:00</td>\n",
       "      <td>12.5</td>\n",
       "      <td>0b0801bc-b230-4be6-98c9-de8790ff0dca</td>\n",
       "      <td>31b66f50-de83-4551-b8d9-58fb5c74680e</td>\n",
       "    </tr>\n",
       "    <tr>\n",
       "      <th>213569</th>\n",
       "      <td>0b0801bc-b230-4be6-98c9-de8790ff0dca</td>\n",
       "      <td>e4b82739-fa38-4381-821f-a765cedd9e89</td>\n",
       "      <td>29860860-bd53-4978-ace8-d36fbbb34598</td>\n",
       "      <td>2020-10-29 13:59:49.542746+01:00</td>\n",
       "      <td>2020-11-02 13:40:46.995328+01:00</td>\n",
       "      <td>False</td>\n",
       "      <td>1e3cba86-38bd-4ba1-9f50-57ca0605ab88</td>\n",
       "      <td>1.0</td>\n",
       "      <td>NaN</td>\n",
       "      <td>31b66f50-de83-4551-b8d9-58fb5c74680e</td>\n",
       "      <td>False</td>\n",
       "      <td>False</td>\n",
       "      <td>consumer</td>\n",
       "      <td>storeappuser</td>\n",
       "      <td>POINT (2567577.078 5646951.354)</td>\n",
       "      <td>2020-11-02 14:00:00+01:00</td>\n",
       "      <td>20.7</td>\n",
       "      <td>0b0801bc-b230-4be6-98c9-de8790ff0dca</td>\n",
       "      <td>31b66f50-de83-4551-b8d9-58fb5c74680e</td>\n",
       "    </tr>\n",
       "  </tbody>\n",
       "</table>\n",
       "</div>"
      ],
      "text/plain": [
       "                                     OwnerId  \\\n",
       "213562  0b0801bc-b230-4be6-98c9-de8790ff0dca   \n",
       "213569  0b0801bc-b230-4be6-98c9-de8790ff0dca   \n",
       "\n",
       "                                 NextOwnerId  \\\n",
       "213562  e4b82739-fa38-4381-821f-a765cedd9e89   \n",
       "213569  e4b82739-fa38-4381-821f-a765cedd9e89   \n",
       "\n",
       "                                 ContainerId                       OwnerSince  \\\n",
       "213562  d32c0fdc-cc71-41df-9153-fd4ba694e1d6 2020-10-28 13:03:27.401769+01:00   \n",
       "213569  29860860-bd53-4978-ace8-d36fbbb34598 2020-10-29 13:59:49.542746+01:00   \n",
       "\n",
       "                              OwnerTill  IsBillableTransaction  \\\n",
       "213562 2020-10-29 13:59:32.057904+01:00                  False   \n",
       "213569 2020-11-02 13:40:46.995328+01:00                  False   \n",
       "\n",
       "                               TransactionId  container_type_id  \\\n",
       "213562  cdf811cc-3d58-415d-a3bb-9107c6a08be1                1.0   \n",
       "213569  1e3cba86-38bd-4ba1-9f50-57ca0605ab88                1.0   \n",
       "\n",
       "       owner_store_id                   next_owner_store_id  owner_co_int_  \\\n",
       "213562            NaN  31b66f50-de83-4551-b8d9-58fb5c74680e          False   \n",
       "213569            NaN  31b66f50-de83-4551-b8d9-58fb5c74680e          False   \n",
       "\n",
       "        next_owner_co_int_ owner_claim_type next_owner_claim_type  \\\n",
       "213562               False         consumer          storeappuser   \n",
       "213569               False         consumer          storeappuser   \n",
       "\n",
       "                               geometry               OwnerTill_r  temp_  \\\n",
       "213562  POINT (2567577.078 5646951.354) 2020-10-29 14:00:00+01:00   12.5   \n",
       "213569  POINT (2567577.078 5646951.354) 2020-11-02 14:00:00+01:00   20.7   \n",
       "\n",
       "                                      Source  \\\n",
       "213562  0b0801bc-b230-4be6-98c9-de8790ff0dca   \n",
       "213569  0b0801bc-b230-4be6-98c9-de8790ff0dca   \n",
       "\n",
       "                                      Target  \n",
       "213562  31b66f50-de83-4551-b8d9-58fb5c74680e  \n",
       "213569  31b66f50-de83-4551-b8d9-58fb5c74680e  "
      ]
     },
     "execution_count": 33,
     "metadata": {},
     "output_type": "execute_result"
    }
   ],
   "source": [
    "%store -r c_co_in\n",
    "\n",
    "\n",
    "begin_=c_co_in['OwnerTill']>begin_date\n",
    "end_=c_co_in['OwnerTill']<end_date\n",
    "\n",
    "consumer_in=c_co_in[begin_ & end_]\n",
    "\n",
    "consumer_in=consumer_in[consumer_in['OwnerId']==selected_consumer]\n",
    "#del in_df\n",
    "consumer_in.head(2)"
   ]
  },
  {
   "cell_type": "code",
   "execution_count": 34,
   "metadata": {},
   "outputs": [
    {
     "data": {
      "text/plain": [
       "Timestamp('2020-10-29 13:59:32.057904+0100', tz='Europe/Berlin')"
      ]
     },
     "execution_count": 34,
     "metadata": {},
     "output_type": "execute_result"
    }
   ],
   "source": [
    "min(consumer_in['OwnerTill'])"
   ]
  },
  {
   "cell_type": "code",
   "execution_count": 35,
   "metadata": {},
   "outputs": [
    {
     "data": {
      "text/plain": [
       "Timestamp('2021-08-31 13:19:06.647084+0200', tz='Europe/Berlin')"
      ]
     },
     "execution_count": 35,
     "metadata": {},
     "output_type": "execute_result"
    }
   ],
   "source": [
    "max(consumer_in['OwnerTill'])"
   ]
  },
  {
   "cell_type": "markdown",
   "metadata": {},
   "source": [
    "## Consumer's behaviour.\n",
    " .... "
   ]
  },
  {
   "cell_type": "code",
   "execution_count": 47,
   "metadata": {},
   "outputs": [
    {
     "data": {
      "image/png": "[encoded data removed]",
      "text/plain": [
       "<Figure size 1440x360 with 1 Axes>"
      ]
     },
     "metadata": {
      "needs_background": "light"
     },
     "output_type": "display_data"
    }
   ],
   "source": [
    "# plt how long containers stay at the consumer in days\n",
    "# \n",
    "# \n",
    "plt.figure(figsize=(20,5))\n",
    "plt.title('Days at the consumer')\n",
    "plt.ylabel('Frequency')\n",
    "\n",
    "#plt.hist((consumer_in['OwnerTill']-consumer_in['OwnerSince']).dt.total_seconds()/(60*60*24), alpha=0.5,bins=list(range(1,14))) # convert to days\n",
    "plt.hist((consumer_out['OwnerTill']-consumer_out['OwnerSince']).dt.total_seconds()/(60*60*24), alpha=0.5,bins=list(range(1,14))) # convert to days\n",
    "\n",
    "plt.show()"
   ]
  },
  {
   "cell_type": "code",
   "execution_count": 48,
   "metadata": {},
   "outputs": [
    {
     "data": {
      "image/png": "[encoded data removed]",
      "text/plain": [
       "<Figure size 1440x360 with 1 Axes>"
      ]
     },
     "metadata": {
      "needs_background": "light"
     },
     "output_type": "display_data"
    }
   ],
   "source": [
    "# plt how long containers stay at the consumer in hours\n",
    "# \n",
    "# \n",
    "plt.figure(figsize=(20,5))\n",
    "plt.title('Hours at the consumer')\n",
    "plt.ylabel('Frequency')\n",
    "\n",
    "plt.hist((consumer_in['OwnerTill']-consumer_in['OwnerSince']).dt.total_seconds()/(60*60), bins=list(range(1,239))) # convert to days\n",
    "plt.show()"
   ]
  },
  {
   "cell_type": "code",
   "execution_count": 49,
   "metadata": {},
   "outputs": [
    {
     "data": {
      "image/png": "[encoded data removed]",
      "text/plain": [
       "<Figure size 1440x360 with 1 Axes>"
      ]
     },
     "metadata": {
      "needs_background": "light"
     },
     "output_type": "display_data"
    }
   ],
   "source": [
    "# plt shows how long (hours) containers stay with consumer from consumer_out data.\n",
    "#\n",
    "\n",
    "plt.figure(figsize=(20,5))\n",
    "plt.title('Hours at the customer')\n",
    "plt.ylabel('Frequency')\n",
    "\n",
    "plt.hist((consumer_out['OwnerTill']-consumer_out['OwnerSince']).dt.total_seconds()/(60*60), bins=list(range(1,239))) # convert to hours \n",
    "plt.show()\n"
   ]
  },
  {
   "cell_type": "code",
   "execution_count": 50,
   "metadata": {},
   "outputs": [],
   "source": [
    "#consumer_in and consumer_out duration at the one consumer are similar, but not same. "
   ]
  },
  {
   "cell_type": "code",
   "execution_count": 51,
   "metadata": {},
   "outputs": [
    {
     "data": {
      "text/plain": [
       "datetime64[ns, Europe/Berlin]"
      ]
     },
     "execution_count": 51,
     "metadata": {},
     "output_type": "execute_result"
    }
   ],
   "source": [
    "consumer_out['OwnerSince'].dtype"
   ]
  },
  {
   "cell_type": "markdown",
   "metadata": {},
   "source": [
    "## Time Series"
   ]
  },
  {
   "cell_type": "markdown",
   "metadata": {},
   "source": [
    "### Hourly"
   ]
  },
  {
   "cell_type": "code",
   "execution_count": 52,
   "metadata": {},
   "outputs": [
    {
     "data": {
      "image/png": "[encoded data removed]",
      "text/plain": [
       "<Figure size 1440x360 with 1 Axes>"
      ]
     },
     "metadata": {
      "needs_background": "light"
     },
     "output_type": "display_data"
    }
   ],
   "source": [
    "# create a new df after grouping by days.\n",
    "\n",
    "ops_day=consumer_out.groupby(consumer_out['OwnerSince'].dt.hour).size()*(-1) # going out containers\n",
    "\n",
    "ops_day=pd.DataFrame(ops_day, columns=['out'])\n",
    "ops_day.index.names=['hour']\n",
    "\n",
    "ops_day['in']=consumer_in.groupby(consumer_in['OwnerTill'].dt.hour).size()\n",
    "\n",
    "ops_day=ops_day.fillna(0)\n",
    "ops_day['sum']=ops_day['out']+ops_day['in']\n",
    "\n",
    "#ops_day.head()\n",
    "\n",
    "plt.figure(figsize=(20, 5))\n",
    "plt.title('Incoming and outgoing inventrory hourly distribution')\n",
    "ops_day['out'].plot.bar(color='Red', legend=True,  alpha=0.5)\n",
    "ops_day['in'].plot.bar(color='green', legend=True, alpha=0.5)\n",
    "\n",
    "#ops_day['sum'].plot.bar(color='blue', legend=True)\n",
    "\n",
    "plt.show()"
   ]
  },
  {
   "cell_type": "markdown",
   "metadata": {},
   "source": [
    "### Daily"
   ]
  },
  {
   "cell_type": "code",
   "execution_count": 53,
   "metadata": {},
   "outputs": [
    {
     "data": {
      "text/html": [
       "<div>\n",
       "<style scoped>\n",
       "    .dataframe tbody tr th:only-of-type {\n",
       "        vertical-align: middle;\n",
       "    }\n",
       "\n",
       "    .dataframe tbody tr th {\n",
       "        vertical-align: top;\n",
       "    }\n",
       "\n",
       "    .dataframe thead th {\n",
       "        text-align: right;\n",
       "    }\n",
       "</style>\n",
       "<table border=\"1\" class=\"dataframe\">\n",
       "  <thead>\n",
       "    <tr style=\"text-align: right;\">\n",
       "      <th></th>\n",
       "      <th>out</th>\n",
       "      <th>in</th>\n",
       "      <th>sum</th>\n",
       "    </tr>\n",
       "    <tr>\n",
       "      <th>Date</th>\n",
       "      <th></th>\n",
       "      <th></th>\n",
       "      <th></th>\n",
       "    </tr>\n",
       "  </thead>\n",
       "  <tbody>\n",
       "    <tr>\n",
       "      <th>2020-10-28</th>\n",
       "      <td>-1</td>\n",
       "      <td>0.0</td>\n",
       "      <td>-1.0</td>\n",
       "    </tr>\n",
       "    <tr>\n",
       "      <th>2020-10-29</th>\n",
       "      <td>-1</td>\n",
       "      <td>1.0</td>\n",
       "      <td>0.0</td>\n",
       "    </tr>\n",
       "  </tbody>\n",
       "</table>\n",
       "</div>"
      ],
      "text/plain": [
       "            out   in  sum\n",
       "Date                     \n",
       "2020-10-28   -1  0.0 -1.0\n",
       "2020-10-29   -1  1.0  0.0"
      ]
     },
     "execution_count": 53,
     "metadata": {},
     "output_type": "execute_result"
    }
   ],
   "source": [
    "# create a new df after grouping by days.\n",
    "\n",
    "ops_day=consumer_out.groupby(consumer_out['OwnerSince'].dt.date).size()*(-1) # going out containers\n",
    "\n",
    "ops_day=pd.DataFrame(ops_day, columns=['out'])\n",
    "ops_day.index.names=['Date']\n",
    "\n",
    "ops_day['in']=consumer_in.groupby(consumer_in['OwnerTill'].dt.date).size()\n",
    "\n",
    "ops_day=ops_day.fillna(0)\n",
    "ops_day['sum']=ops_day['out']+ops_day['in']\n",
    "\n",
    "ops_day.head(2)"
   ]
  },
  {
   "cell_type": "code",
   "execution_count": 54,
   "metadata": {},
   "outputs": [
    {
     "data": {
      "text/html": [
       "<div>\n",
       "<style scoped>\n",
       "    .dataframe tbody tr th:only-of-type {\n",
       "        vertical-align: middle;\n",
       "    }\n",
       "\n",
       "    .dataframe tbody tr th {\n",
       "        vertical-align: top;\n",
       "    }\n",
       "\n",
       "    .dataframe thead th {\n",
       "        text-align: right;\n",
       "    }\n",
       "</style>\n",
       "<table border=\"1\" class=\"dataframe\">\n",
       "  <thead>\n",
       "    <tr style=\"text-align: right;\">\n",
       "      <th></th>\n",
       "      <th>date</th>\n",
       "    </tr>\n",
       "  </thead>\n",
       "  <tbody>\n",
       "    <tr>\n",
       "      <th>0</th>\n",
       "      <td>2020-10-28</td>\n",
       "    </tr>\n",
       "    <tr>\n",
       "      <th>1</th>\n",
       "      <td>2020-10-29</td>\n",
       "    </tr>\n",
       "  </tbody>\n",
       "</table>\n",
       "</div>"
      ],
      "text/plain": [
       "         date\n",
       "0  2020-10-28\n",
       "1  2020-10-29"
      ]
     },
     "execution_count": 54,
     "metadata": {},
     "output_type": "execute_result"
    }
   ],
   "source": [
    "bins=pd.date_range(start=pd.to_datetime(ops_day.index).min(), end=pd.to_datetime(ops_day.index).max())\n",
    "bins=pd.to_datetime(bins)\n",
    "bins=pd.Series(bins).dt.date\n",
    "bins=pd.DataFrame(bins, columns=['date'])\n",
    "bins.head(2)"
   ]
  },
  {
   "cell_type": "code",
   "execution_count": 55,
   "metadata": {},
   "outputs": [],
   "source": [
    "\n",
    "ops_day['date']=pd.to_datetime(ops_day.index)\n",
    "ops_day['date']=ops_day['date'].dt.date\n",
    "ops_day.index=ops_day['date']"
   ]
  },
  {
   "cell_type": "code",
   "execution_count": 56,
   "metadata": {
    "tags": []
   },
   "outputs": [],
   "source": [
    "ops_day=pd.merge(bins,ops_day, how='left', left_on=bins['date'], \\\n",
    "                 right_index=True).fillna(0).drop('date_y', axis=1).rename(columns={'date_x':'date'}).set_index('date')"
   ]
  },
  {
   "cell_type": "code",
   "execution_count": 81,
   "metadata": {},
   "outputs": [
    {
     "data": {
      "image/png": "[encoded data removed]",
      "text/plain": [
       "<Figure size 1440x360 with 1 Axes>"
      ]
     },
     "metadata": {
      "needs_background": "light"
     },
     "output_type": "display_data"
    }
   ],
   "source": [
    "\n",
    "\n",
    "plt.figure(figsize=(20, 5))\n",
    "plt.title('Incoming and outgoing inventrory')\n",
    "ops_day['out'].plot.bar(color='Red', legend=True,  alpha=0.5)\n",
    "ops_day['in'].plot.bar(color='green', legend=True, alpha=0.5)\n",
    "\n",
    "plt.yticks()\n",
    "plt.show()"
   ]
  },
  {
   "cell_type": "code",
   "execution_count": 82,
   "metadata": {},
   "outputs": [
    {
     "data": {
      "image/png": "[encoded data removed]",
      "text/plain": [
       "<Figure size 1440x360 with 1 Axes>"
      ]
     },
     "metadata": {
      "needs_background": "light"
     },
     "output_type": "display_data"
    }
   ],
   "source": [
    "\n",
    "# last 90 days\n",
    "plt.figure(figsize=(20, 5))\n",
    "plt.title('Incoming and outgoing inventrory')\n",
    "ops_day['out'].tail(90).plot.bar(color='Red', legend=True,  alpha=0.5)\n",
    "ops_day['in'].tail(90).plot.bar(color='green', legend=True, alpha=0.5)\n",
    "\n",
    "\n",
    "plt.show()"
   ]
  },
  {
   "cell_type": "markdown",
   "metadata": {},
   "source": [
    "### Weekly"
   ]
  },
  {
   "cell_type": "code",
   "execution_count": 59,
   "metadata": {},
   "outputs": [
    {
     "data": {
      "image/png": "[encoded data removed]",
      "text/plain": [
       "<Figure size 1440x360 with 1 Axes>"
      ]
     },
     "metadata": {
      "needs_background": "light"
     },
     "output_type": "display_data"
    }
   ],
   "source": [
    "# create a new df after grouping by week.\n",
    "\n",
    "ops_week=(consumer_out.groupby(consumer_out['OwnerSince'].dt.isocalendar().week).size()*(-1)).to_frame(name='out')#.index.names=['Date'] # going out containers\n",
    "#\n",
    "ops_week['in']=consumer_in.groupby(consumer_in['OwnerTill'].dt.isocalendar().week).size()\n",
    "ops_week=ops_week.fillna(0)\n",
    "ops_week['sum']=ops_week['out']+ops_week['in']\n",
    "#ops_week.head()\n",
    "\n",
    "\n",
    "\n",
    "plt.figure(figsize=(20, 5))\n",
    "plt.title('Incoming and outgoing inventrory')\n",
    "ops_week['out'].plot.bar(color='Red', legend=True,  alpha=0.5)\n",
    "ops_week['in'].plot.bar(color='green', legend=True, alpha=0.5)\n",
    "\n",
    "\n",
    "\n",
    "plt.show()\n",
    "\n",
    "#plt.figure(figsize=(20, 5))\n",
    "#plt.title('Sum of inventory')\n",
    "\n",
    "#ops_week['sum'].plot.bar(color='blue', legend=True)\n",
    "\n",
    "#plt.show()"
   ]
  },
  {
   "cell_type": "markdown",
   "metadata": {},
   "source": [
    "### Weekday"
   ]
  },
  {
   "cell_type": "code",
   "execution_count": 80,
   "metadata": {},
   "outputs": [
    {
     "data": {
      "image/png": "[encoded data removed]",
      "text/plain": [
       "<Figure size 1440x360 with 1 Axes>"
      ]
     },
     "metadata": {
      "needs_background": "light"
     },
     "output_type": "display_data"
    }
   ],
   "source": [
    "# create a new df after grouping by week.\n",
    "\n",
    "ops_month=(consumer_out.groupby(consumer_out['OwnerSince'].dt.weekday).size()*(-1)).to_frame(name='out')#.index.names=['Date'] # going out containers\n",
    "#\n",
    "ops_month['in']=consumer_in.groupby(consumer_in['OwnerTill'].dt.weekday).size()\n",
    "ops_month=ops_month.fillna(0)\n",
    "ops_month['sum']=ops_month['out']+ops_month['in']\n",
    "\n",
    "\n",
    "plt.figure(figsize=(20, 5))\n",
    "plt.title('Incoming and outgoing inventrory in weekdays')\n",
    "ops_month['out'].plot.bar(color='Red', legend=True,  alpha=0.5)\n",
    "ops_month['in'].plot.bar(color='green', legend=True, alpha=0.5)\n",
    "\n",
    "\n",
    "plt.show()"
   ]
  },
  {
   "cell_type": "markdown",
   "metadata": {},
   "source": [
    "### Daily Analysis Continued"
   ]
  },
  {
   "cell_type": "code",
   "execution_count": 61,
   "metadata": {},
   "outputs": [
    {
     "data": {
      "text/plain": [
       "<function matplotlib.pyplot.show(close=None, block=None)>"
      ]
     },
     "execution_count": 61,
     "metadata": {},
     "output_type": "execute_result"
    },
    {
     "data": {
      "image/png": "[encoded data removed]",
      "text/plain": [
       "<Figure size 720x360 with 1 Axes>"
      ]
     },
     "metadata": {
      "needs_background": "light"
     },
     "output_type": "display_data"
    }
   ],
   "source": [
    "# Daily marginal change distribution \n",
    "plt.figure(figsize=(10,5))\n",
    "ops_day['sum'].plot.hist(bins=20)\n",
    "plt.title('Daily sum distribution plot')\n",
    "plt.xlabel('sum')\n",
    "plt.show"
   ]
  },
  {
   "cell_type": "code",
   "execution_count": null,
   "metadata": {},
   "outputs": [],
   "source": []
  },
  {
   "cell_type": "code",
   "execution_count": null,
   "metadata": {},
   "outputs": [],
   "source": []
  },
  {
   "cell_type": "code",
   "execution_count": 62,
   "metadata": {},
   "outputs": [
    {
     "data": {
      "image/png": "[encoded data removed]",
      "text/plain": [
       "<Figure size 720x360 with 1 Axes>"
      ]
     },
     "metadata": {
      "needs_background": "light"
     },
     "output_type": "display_data"
    }
   ],
   "source": [
    "plt.figure(figsize=(10, 5))\n",
    "plt.title('Check-out times in a day')\n",
    "plt.ylabel('Frequency')\n",
    "plt.xlabel('Time')\n",
    "consumer_out['OwnerSince'].dt.hour.hist(bins=range(5,21), color='red') # checkout times in a day\n",
    "plt.show()"
   ]
  },
  {
   "cell_type": "code",
   "execution_count": 63,
   "metadata": {},
   "outputs": [
    {
     "data": {
      "text/plain": [
       "<AxesSubplot:title={'center':'Check-in times in a day'}, xlabel='Time', ylabel='Frequency'>"
      ]
     },
     "execution_count": 63,
     "metadata": {},
     "output_type": "execute_result"
    },
    {
     "data": {
      "image/png": "[encoded data removed]",
      "text/plain": [
       "<Figure size 720x360 with 1 Axes>"
      ]
     },
     "metadata": {
      "needs_background": "light"
     },
     "output_type": "display_data"
    }
   ],
   "source": [
    "plt.figure(figsize=(10, 5))\n",
    "plt.title('Check-in times in a day')\n",
    "plt.ylabel('Frequency')\n",
    "plt.xlabel('Time')\n",
    "consumer_in['OwnerTill'].dt.hour.hist(bins=range(5,21), color='blue') # checkins time in a day"
   ]
  },
  {
   "cell_type": "markdown",
   "metadata": {
    "tags": []
   },
   "source": [
    "## Time Series "
   ]
  },
  {
   "cell_type": "code",
   "execution_count": 64,
   "metadata": {},
   "outputs": [
    {
     "name": "stderr",
     "output_type": "stream",
     "text": [
      "/var/folders/bs/8_rscwxd25z1bcq4d89vsz380000gn/T/ipykernel_30001/2773161885.py:9: FutureWarning: The default dtype for empty Series will be 'object' instead of 'float64' in a future version. Specify a dtype explicitly to silence this warning.\n",
      "  ops_out['ds']= pd.Series()\n"
     ]
    },
    {
     "data": {
      "text/plain": [
       "OwnerSince\n",
       "2021-07-05 13:24:33.952859    2021-07-05\n",
       "2021-07-23 12:25:51.744618    2021-07-23\n",
       "2021-08-24 12:28:24.469053    2021-08-24\n",
       "2021-08-25 16:43:32.901105    2021-08-25\n",
       "2021-08-31 11:57:07.282119    2021-08-31\n",
       "Name: ds, dtype: object"
      ]
     },
     "execution_count": 64,
     "metadata": {},
     "output_type": "execute_result"
    }
   ],
   "source": [
    "#ops_out = ops_out[ops_out['ds'].dt.dayofweek < 5] # to exclude weekends\n",
    "# prepare expected column names\n",
    "consumer_out['OwnerSince']=consumer_out['OwnerSince'].apply(lambda x: x.replace(tzinfo=None))\n",
    "\n",
    "\n",
    "ops_out=consumer_out.groupby(by=consumer_out['OwnerSince']).size().to_frame('count')\n",
    "\n",
    "ops_out['y']= ops_out['count']\n",
    "ops_out['ds']= pd.Series()\n",
    "ops_out['ds']=pd.to_datetime(ops_out.index)\n",
    "\n",
    "ops_out.tail().ds.dt.date"
   ]
  },
  {
   "cell_type": "code",
   "execution_count": 65,
   "metadata": {},
   "outputs": [
    {
     "data": {
      "text/html": [
       "<div>\n",
       "<style scoped>\n",
       "    .dataframe tbody tr th:only-of-type {\n",
       "        vertical-align: middle;\n",
       "    }\n",
       "\n",
       "    .dataframe tbody tr th {\n",
       "        vertical-align: top;\n",
       "    }\n",
       "\n",
       "    .dataframe thead th {\n",
       "        text-align: right;\n",
       "    }\n",
       "</style>\n",
       "<table border=\"1\" class=\"dataframe\">\n",
       "  <thead>\n",
       "    <tr style=\"text-align: right;\">\n",
       "      <th></th>\n",
       "      <th>count</th>\n",
       "      <th>y</th>\n",
       "      <th>ds</th>\n",
       "      <th>date</th>\n",
       "    </tr>\n",
       "    <tr>\n",
       "      <th>OwnerSince</th>\n",
       "      <th></th>\n",
       "      <th></th>\n",
       "      <th></th>\n",
       "      <th></th>\n",
       "    </tr>\n",
       "  </thead>\n",
       "  <tbody>\n",
       "    <tr>\n",
       "      <th>2020-10-28 13:03:27.401769</th>\n",
       "      <td>1</td>\n",
       "      <td>1</td>\n",
       "      <td>2020-10-28 13:03:27.401769</td>\n",
       "      <td>2020-10-28 13:03:27.401769</td>\n",
       "    </tr>\n",
       "    <tr>\n",
       "      <th>2020-10-29 13:59:49.542746</th>\n",
       "      <td>1</td>\n",
       "      <td>1</td>\n",
       "      <td>2020-10-29 13:59:49.542746</td>\n",
       "      <td>2020-10-29 13:59:49.542746</td>\n",
       "    </tr>\n",
       "  </tbody>\n",
       "</table>\n",
       "</div>"
      ],
      "text/plain": [
       "                            count  y                         ds  \\\n",
       "OwnerSince                                                        \n",
       "2020-10-28 13:03:27.401769      1  1 2020-10-28 13:03:27.401769   \n",
       "2020-10-29 13:59:49.542746      1  1 2020-10-29 13:59:49.542746   \n",
       "\n",
       "                                                 date  \n",
       "OwnerSince                                             \n",
       "2020-10-28 13:03:27.401769 2020-10-28 13:03:27.401769  \n",
       "2020-10-29 13:59:49.542746 2020-10-29 13:59:49.542746  "
      ]
     },
     "execution_count": 65,
     "metadata": {},
     "output_type": "execute_result"
    }
   ],
   "source": [
    "ops_out['date']=ops_out.index\n",
    "ops_out.head(2)"
   ]
  },
  {
   "cell_type": "code",
   "execution_count": 66,
   "metadata": {},
   "outputs": [
    {
     "data": {
      "text/plain": [
       "datetime.datetime(2021, 7, 1, 0, 0)"
      ]
     },
     "execution_count": 66,
     "metadata": {},
     "output_type": "execute_result"
    }
   ],
   "source": [
    "# Choose the time window for the analysis\n",
    "\n",
    "forecast_date=dt.datetime(2021, 7, 1, 0, 0, 0, tzinfo=None)\n",
    "forecast_date"
   ]
  },
  {
   "cell_type": "code",
   "execution_count": 67,
   "metadata": {},
   "outputs": [
    {
     "data": {
      "text/html": [
       "<div>\n",
       "<style scoped>\n",
       "    .dataframe tbody tr th:only-of-type {\n",
       "        vertical-align: middle;\n",
       "    }\n",
       "\n",
       "    .dataframe tbody tr th {\n",
       "        vertical-align: top;\n",
       "    }\n",
       "\n",
       "    .dataframe thead th {\n",
       "        text-align: right;\n",
       "    }\n",
       "</style>\n",
       "<table border=\"1\" class=\"dataframe\">\n",
       "  <thead>\n",
       "    <tr style=\"text-align: right;\">\n",
       "      <th></th>\n",
       "      <th>count</th>\n",
       "      <th>y</th>\n",
       "      <th>ds</th>\n",
       "      <th>date</th>\n",
       "    </tr>\n",
       "    <tr>\n",
       "      <th>OwnerSince</th>\n",
       "      <th></th>\n",
       "      <th></th>\n",
       "      <th></th>\n",
       "      <th></th>\n",
       "    </tr>\n",
       "  </thead>\n",
       "  <tbody>\n",
       "    <tr>\n",
       "      <th>2021-06-04 14:59:57.470304</th>\n",
       "      <td>1</td>\n",
       "      <td>1</td>\n",
       "      <td>2021-06-04 14:59:57.470304</td>\n",
       "      <td>2021-06-04 14:59:57.470304</td>\n",
       "    </tr>\n",
       "    <tr>\n",
       "      <th>2021-06-14 12:31:34.908304</th>\n",
       "      <td>1</td>\n",
       "      <td>1</td>\n",
       "      <td>2021-06-14 12:31:34.908304</td>\n",
       "      <td>2021-06-14 12:31:34.908304</td>\n",
       "    </tr>\n",
       "    <tr>\n",
       "      <th>2021-06-15 12:41:52.908638</th>\n",
       "      <td>1</td>\n",
       "      <td>1</td>\n",
       "      <td>2021-06-15 12:41:52.908638</td>\n",
       "      <td>2021-06-15 12:41:52.908638</td>\n",
       "    </tr>\n",
       "    <tr>\n",
       "      <th>2021-06-17 12:51:07.371804</th>\n",
       "      <td>1</td>\n",
       "      <td>1</td>\n",
       "      <td>2021-06-17 12:51:07.371804</td>\n",
       "      <td>2021-06-17 12:51:07.371804</td>\n",
       "    </tr>\n",
       "    <tr>\n",
       "      <th>2021-06-28 13:39:33.408603</th>\n",
       "      <td>1</td>\n",
       "      <td>1</td>\n",
       "      <td>2021-06-28 13:39:33.408603</td>\n",
       "      <td>2021-06-28 13:39:33.408603</td>\n",
       "    </tr>\n",
       "  </tbody>\n",
       "</table>\n",
       "</div>"
      ],
      "text/plain": [
       "                            count  y                         ds  \\\n",
       "OwnerSince                                                        \n",
       "2021-06-04 14:59:57.470304      1  1 2021-06-04 14:59:57.470304   \n",
       "2021-06-14 12:31:34.908304      1  1 2021-06-14 12:31:34.908304   \n",
       "2021-06-15 12:41:52.908638      1  1 2021-06-15 12:41:52.908638   \n",
       "2021-06-17 12:51:07.371804      1  1 2021-06-17 12:51:07.371804   \n",
       "2021-06-28 13:39:33.408603      1  1 2021-06-28 13:39:33.408603   \n",
       "\n",
       "                                                 date  \n",
       "OwnerSince                                             \n",
       "2021-06-04 14:59:57.470304 2021-06-04 14:59:57.470304  \n",
       "2021-06-14 12:31:34.908304 2021-06-14 12:31:34.908304  \n",
       "2021-06-15 12:41:52.908638 2021-06-15 12:41:52.908638  \n",
       "2021-06-17 12:51:07.371804 2021-06-17 12:51:07.371804  \n",
       "2021-06-28 13:39:33.408603 2021-06-28 13:39:33.408603  "
      ]
     },
     "execution_count": 67,
     "metadata": {},
     "output_type": "execute_result"
    }
   ],
   "source": [
    "# create test dataset, remove last.. days\n",
    "train = ops_out[ops_out.date<forecast_date]\n",
    "future=ops_out[ops_out.date>=forecast_date]\n",
    "train.tail()"
   ]
  },
  {
   "cell_type": "code",
   "execution_count": 68,
   "metadata": {},
   "outputs": [
    {
     "data": {
      "text/html": [
       "<div>\n",
       "<style scoped>\n",
       "    .dataframe tbody tr th:only-of-type {\n",
       "        vertical-align: middle;\n",
       "    }\n",
       "\n",
       "    .dataframe tbody tr th {\n",
       "        vertical-align: top;\n",
       "    }\n",
       "\n",
       "    .dataframe thead th {\n",
       "        text-align: right;\n",
       "    }\n",
       "</style>\n",
       "<table border=\"1\" class=\"dataframe\">\n",
       "  <thead>\n",
       "    <tr style=\"text-align: right;\">\n",
       "      <th></th>\n",
       "      <th>count</th>\n",
       "      <th>y</th>\n",
       "      <th>ds</th>\n",
       "      <th>date</th>\n",
       "    </tr>\n",
       "    <tr>\n",
       "      <th>OwnerSince</th>\n",
       "      <th></th>\n",
       "      <th></th>\n",
       "      <th></th>\n",
       "      <th></th>\n",
       "    </tr>\n",
       "  </thead>\n",
       "  <tbody>\n",
       "    <tr>\n",
       "      <th>2021-07-05 13:24:33.952859</th>\n",
       "      <td>1</td>\n",
       "      <td>1</td>\n",
       "      <td>2021-07-05 13:24:33.952859</td>\n",
       "      <td>2021-07-05 13:24:33.952859</td>\n",
       "    </tr>\n",
       "    <tr>\n",
       "      <th>2021-07-23 12:25:51.744618</th>\n",
       "      <td>1</td>\n",
       "      <td>1</td>\n",
       "      <td>2021-07-23 12:25:51.744618</td>\n",
       "      <td>2021-07-23 12:25:51.744618</td>\n",
       "    </tr>\n",
       "    <tr>\n",
       "      <th>2021-08-24 12:28:24.469053</th>\n",
       "      <td>1</td>\n",
       "      <td>1</td>\n",
       "      <td>2021-08-24 12:28:24.469053</td>\n",
       "      <td>2021-08-24 12:28:24.469053</td>\n",
       "    </tr>\n",
       "    <tr>\n",
       "      <th>2021-08-25 16:43:32.901105</th>\n",
       "      <td>1</td>\n",
       "      <td>1</td>\n",
       "      <td>2021-08-25 16:43:32.901105</td>\n",
       "      <td>2021-08-25 16:43:32.901105</td>\n",
       "    </tr>\n",
       "    <tr>\n",
       "      <th>2021-08-31 11:57:07.282119</th>\n",
       "      <td>1</td>\n",
       "      <td>1</td>\n",
       "      <td>2021-08-31 11:57:07.282119</td>\n",
       "      <td>2021-08-31 11:57:07.282119</td>\n",
       "    </tr>\n",
       "  </tbody>\n",
       "</table>\n",
       "</div>"
      ],
      "text/plain": [
       "                            count  y                         ds  \\\n",
       "OwnerSince                                                        \n",
       "2021-07-05 13:24:33.952859      1  1 2021-07-05 13:24:33.952859   \n",
       "2021-07-23 12:25:51.744618      1  1 2021-07-23 12:25:51.744618   \n",
       "2021-08-24 12:28:24.469053      1  1 2021-08-24 12:28:24.469053   \n",
       "2021-08-25 16:43:32.901105      1  1 2021-08-25 16:43:32.901105   \n",
       "2021-08-31 11:57:07.282119      1  1 2021-08-31 11:57:07.282119   \n",
       "\n",
       "                                                 date  \n",
       "OwnerSince                                             \n",
       "2021-07-05 13:24:33.952859 2021-07-05 13:24:33.952859  \n",
       "2021-07-23 12:25:51.744618 2021-07-23 12:25:51.744618  \n",
       "2021-08-24 12:28:24.469053 2021-08-24 12:28:24.469053  \n",
       "2021-08-25 16:43:32.901105 2021-08-25 16:43:32.901105  \n",
       "2021-08-31 11:57:07.282119 2021-08-31 11:57:07.282119  "
      ]
     },
     "execution_count": 68,
     "metadata": {},
     "output_type": "execute_result"
    }
   ],
   "source": [
    "future.head()"
   ]
  },
  {
   "cell_type": "code",
   "execution_count": 69,
   "metadata": {},
   "outputs": [
    {
     "name": "stderr",
     "output_type": "stream",
     "text": [
      "/Users/kultiginbozdemir/opt/anaconda3/envs/vytal/lib/python3.8/site-packages/fbprophet/forecaster.py:891: FutureWarning: The frame.append method is deprecated and will be removed from pandas in a future version. Use pandas.concat instead.\n",
      "  components = components.append(new_comp)\n"
     ]
    },
    {
     "name": "stdout",
     "output_type": "stream",
     "text": [
      "\n",
      "Initial log joint probability = -135.489\n",
      "Iteration  1. Log joint probability =    35.5069. Improved by 170.996.\n",
      "Iteration  2. Log joint probability =    88.6956. Improved by 53.1888.\n",
      "Iteration  3. Log joint probability =    106.326. Improved by 17.6309.\n",
      "Iteration  4. Log joint probability =    107.341. Improved by 1.0148.\n",
      "Iteration  5. Log joint probability =    107.467. Improved by 0.125297.\n",
      "Iteration  6. Log joint probability =    107.572. Improved by 0.105754.\n",
      "Iteration  7. Log joint probability =    107.589. Improved by 0.0162944.\n",
      "Iteration  8. Log joint probability =    107.607. Improved by 0.0182661.\n",
      "Iteration  9. Log joint probability =    107.617. Improved by 0.0104695.\n",
      "Iteration 10. Log joint probability =    107.622. Improved by 0.00433291.\n",
      "Iteration 11. Log joint probability =    107.622. Improved by 0.000103944.\n",
      "Iteration 12. Log joint probability =    107.625. Improved by 0.00279622.\n",
      "Iteration 13. Log joint probability =    107.625. Improved by 0.000695696.\n",
      "Iteration 14. Log joint probability =    107.626. Improved by 0.000935474.\n",
      "Iteration 15. Log joint probability =    107.627. Improved by 0.000633058.\n",
      "Iteration 16. Log joint probability =    107.627. Improved by 0.000517963.\n",
      "Iteration 17. Log joint probability =    107.628. Improved by 0.000356836.\n",
      "Iteration 18. Log joint probability =    107.628. Improved by 8.01449e-06.\n",
      "Iteration 19. Log joint probability =    107.628. Improved by 0.000165959.\n",
      "Iteration 20. Log joint probability =    107.628. Improved by 5.72342e-05.\n",
      "Iteration 21. Log joint probability =    107.628. Improved by 6.16805e-05.\n",
      "Iteration 22. Log joint probability =    107.628. Improved by 1.95152e-05.\n",
      "Iteration 23. Log joint probability =    107.628. Improved by 4.68942e-05.\n",
      "Iteration 24. Log joint probability =    107.628. Improved by 1.77164e-05.\n",
      "Iteration 25. Log joint probability =    107.628. Improved by 1.17832e-06.\n",
      "Iteration 26. Log joint probability =    107.628. Improved by 1.26426e-05.\n",
      "Iteration 27. Log joint probability =    107.628. Improved by 6.86785e-06.\n",
      "Iteration 28. Log joint probability =    107.628. Improved by 1.77365e-06.\n",
      "Iteration 29. Log joint probability =    107.628. Improved by 2.20965e-10.\n"
     ]
    },
    {
     "name": "stderr",
     "output_type": "stream",
     "text": [
      "/Users/kultiginbozdemir/opt/anaconda3/envs/vytal/lib/python3.8/site-packages/fbprophet/forecaster.py:891: FutureWarning: The frame.append method is deprecated and will be removed from pandas in a future version. Use pandas.concat instead.\n",
      "  components = components.append(new_comp)\n",
      "/Users/kultiginbozdemir/opt/anaconda3/envs/vytal/lib/python3.8/site-packages/fbprophet/forecaster.py:891: FutureWarning: The frame.append method is deprecated and will be removed from pandas in a future version. Use pandas.concat instead.\n",
      "  components = components.append(new_comp)\n"
     ]
    },
    {
     "data": {
      "image/png": "[encoded data removed]",
      "text/plain": [
       "<Figure size 1440x360 with 1 Axes>"
      ]
     },
     "metadata": {
      "needs_background": "light"
     },
     "output_type": "display_data"
    }
   ],
   "source": [
    "\n",
    "\n",
    "# define the model\n",
    "model = Prophet(yearly_seasonality=True,daily_seasonality=True, weekly_seasonality=True).add_country_holidays(country_name='DE')\n",
    "                \n",
    "# fit the model\n",
    "model.fit(train)\n",
    "\n",
    "\n",
    "# use the model to make a forecast\n",
    "forecast = model.predict(future)\n",
    "# calculate MAE between expected and predicted values for december\n",
    "y_true = future['y']\n",
    "y_pred = forecast['yhat']\n",
    "\n",
    "#mae = mean_absolute_error(y_true, y_pred)\n",
    "#print('MAE: %.3f' % mae)\n",
    "# plot expected vs actual\n",
    "plt.figure(figsize=(20, 5))\n",
    "plt.plot(future.index,future['y'], label='Actual')\n",
    "plt.plot(forecast.ds,forecast['yhat'], label='Predicted')\n",
    "plt.legend()\n",
    "plt.show()"
   ]
  },
  {
   "cell_type": "markdown",
   "metadata": {},
   "source": [
    "Autocorrelation, or partial autocorrelation <br>\n",
    "Granger casuality test to predit the return times from check-out times <br>\n",
    "logistic regression <br>"
   ]
  },
  {
   "cell_type": "code",
   "execution_count": 70,
   "metadata": {},
   "outputs": [
    {
     "data": {
      "image/png": "[encoded data removed]",
      "text/plain": [
       "<Figure size 720x432 with 1 Axes>"
      ]
     },
     "execution_count": 70,
     "metadata": {},
     "output_type": "execute_result"
    },
    {
     "data": {
      "image/png": "[encoded data removed]",
      "text/plain": [
       "<Figure size 720x432 with 1 Axes>"
      ]
     },
     "metadata": {},
     "output_type": "display_data"
    }
   ],
   "source": [
    "model.plot(forecast)\n"
   ]
  },
  {
   "cell_type": "code",
   "execution_count": 71,
   "metadata": {},
   "outputs": [
    {
     "name": "stderr",
     "output_type": "stream",
     "text": [
      "/Users/kultiginbozdemir/opt/anaconda3/envs/vytal/lib/python3.8/site-packages/fbprophet/forecaster.py:891: FutureWarning: The frame.append method is deprecated and will be removed from pandas in a future version. Use pandas.concat instead.\n",
      "  components = components.append(new_comp)\n",
      "/Users/kultiginbozdemir/opt/anaconda3/envs/vytal/lib/python3.8/site-packages/fbprophet/forecaster.py:891: FutureWarning: The frame.append method is deprecated and will be removed from pandas in a future version. Use pandas.concat instead.\n",
      "  components = components.append(new_comp)\n",
      "/Users/kultiginbozdemir/opt/anaconda3/envs/vytal/lib/python3.8/site-packages/fbprophet/forecaster.py:891: FutureWarning: The frame.append method is deprecated and will be removed from pandas in a future version. Use pandas.concat instead.\n",
      "  components = components.append(new_comp)\n"
     ]
    },
    {
     "data": {
      "image/png": "[encoded data removed]",
      "text/plain": [
       "<Figure size 648x1080 with 5 Axes>"
      ]
     },
     "metadata": {},
     "output_type": "display_data"
    }
   ],
   "source": [
    "fig2=(model.plot_components(forecast))"
   ]
  },
  {
   "cell_type": "code",
   "execution_count": null,
   "metadata": {},
   "outputs": [],
   "source": []
  }
 ],
 "metadata": {
  "kernelspec": {
   "display_name": "Python 3 (ipykernel)",
   "language": "python",
   "name": "python3"
  },
  "language_info": {
   "codemirror_mode": {
    "name": "ipython",
    "version": 3
   },
   "file_extension": ".py",
   "mimetype": "text/x-python",
   "name": "python",
   "nbconvert_exporter": "python",
   "pygments_lexer": "ipython3",
   "version": "3.8.13"
  }
 },
 "nbformat": 4,
 "nbformat_minor": 4
}
