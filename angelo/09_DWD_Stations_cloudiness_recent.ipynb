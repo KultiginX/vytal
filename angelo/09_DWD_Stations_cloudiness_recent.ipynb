{
 "cells": [
  {
   "cell_type": "markdown",
   "metadata": {},
   "source": [
    "# Read DWD CDC Cloudiness_recent\n",
    "Time Series\n",
    "\n",
    "The main idea behind this activity is to see if there is a correlation between cloud coverage and sales of the stores."
   ]
  },
  {
   "cell_type": "code",
   "execution_count": 189,
   "metadata": {},
   "outputs": [],
   "source": [
    "import datetime as dt"
   ]
  },
  {
   "cell_type": "markdown",
   "metadata": {},
   "source": [
    "## FTP Connection"
   ]
  },
  {
   "cell_type": "markdown",
   "metadata": {},
   "source": [
    "### Connection Parameters"
   ]
  },
  {
   "cell_type": "code",
   "execution_count": 190,
   "metadata": {},
   "outputs": [],
   "source": [
    "server = \"opendata.dwd.de\"\n",
    "user   = \"anonymous\"\n",
    "passwd = \"\""
   ]
  },
  {
   "cell_type": "markdown",
   "metadata": {},
   "source": [
    "### FTP Directory Definition and Station Description Filename Pattern"
   ]
  },
  {
   "cell_type": "code",
   "execution_count": 303,
   "metadata": {},
   "outputs": [],
   "source": [
    "# The topic of interest.\n",
    "topic_dir = \"hourly/cloudiness/recent/\"\n",
    "\n",
    "# This is the search pattern common to ALL station description file names \n",
    "station_desc_pattern = \"_Beschreibung_Stationen.txt\"\n",
    "\n",
    "# Below this directory tree node all climate data are stored.\n",
    "ftp_climate_data_dir = \"/climate_environment/CDC/observations_germany/climate/\"\n",
    "ftp_dir =  ftp_climate_data_dir + topic_dir"
   ]
  },
  {
   "cell_type": "markdown",
   "metadata": {},
   "source": [
    "### Local Directories"
   ]
  },
  {
   "cell_type": "code",
   "execution_count": 304,
   "metadata": {},
   "outputs": [],
   "source": [
    "local_ftp_dir         = \"data/original/DWD/\"      # Local directory to store local ftp data copies, the local data source or input data. \n",
    "local_ftp_station_dir = local_ftp_dir + topic_dir # Local directory where local station info is located\n",
    "local_ftp_ts_dir      = local_ftp_dir + topic_dir # Local directory where time series downloaded from ftp are located\n",
    "\n",
    "local_generated_dir   = \"data/generated/DWD/\" # The generated of derived data in contrast to local_ftp_dir\n",
    "local_station_dir     = local_generated_dir + topic_dir # Derived station data, i.e. the CSV file\n",
    "local_ts_merged_dir   = local_generated_dir + topic_dir # Parallel merged time series, wide data frame with one TS per column\n",
    "local_ts_appended_dir = local_generated_dir + topic_dir # Serially appended time series, long data frame for QGIS TimeManager Plugin"
   ]
  },
  {
   "cell_type": "code",
   "execution_count": 305,
   "metadata": {},
   "outputs": [
    {
     "name": "stdout",
     "output_type": "stream",
     "text": [
      "data/original/DWD/\n",
      "data/original/DWD/hourly/cloudiness/recent/\n",
      "data/original/DWD/hourly/cloudiness/recent/\n",
      "\n",
      "data/generated/DWD/\n",
      "data/generated/DWD/hourly/cloudiness/recent/\n",
      "data/generated/DWD/hourly/cloudiness/recent/\n",
      "data/generated/DWD/hourly/cloudiness/recent/\n"
     ]
    }
   ],
   "source": [
    "print(local_ftp_dir)\n",
    "print(local_ftp_station_dir)\n",
    "print(local_ftp_ts_dir)\n",
    "print()\n",
    "print(local_generated_dir)\n",
    "print(local_station_dir)\n",
    "print(local_ts_merged_dir)\n",
    "print(local_ts_appended_dir)"
   ]
  },
  {
   "cell_type": "code",
   "execution_count": 306,
   "metadata": {},
   "outputs": [],
   "source": [
    "import os\n",
    "os.makedirs(local_ftp_dir,exist_ok = True) # it does not complain if the dir already exists.\n",
    "os.makedirs(local_ftp_station_dir,exist_ok = True)\n",
    "os.makedirs(local_ftp_ts_dir,exist_ok = True)\n",
    "\n",
    "os.makedirs(local_generated_dir,exist_ok = True)\n",
    "os.makedirs(local_station_dir,exist_ok = True)\n",
    "os.makedirs(local_ts_merged_dir,exist_ok = True)\n",
    "os.makedirs(local_ts_appended_dir,exist_ok = True)"
   ]
  },
  {
   "cell_type": "markdown",
   "metadata": {},
   "source": [
    "### FTP Connect"
   ]
  },
  {
   "cell_type": "code",
   "execution_count": 307,
   "metadata": {},
   "outputs": [
    {
     "name": "stdout",
     "output_type": "stream",
     "text": [
      "230 Login successful.\n"
     ]
    }
   ],
   "source": [
    "import ftplib\n",
    "ftp = ftplib.FTP(server)\n",
    "res = ftp.login(user=user, passwd = passwd)\n",
    "print(res)"
   ]
  },
  {
   "cell_type": "code",
   "execution_count": 308,
   "metadata": {},
   "outputs": [],
   "source": [
    "ret = ftp.cwd(\".\")"
   ]
  },
  {
   "cell_type": "code",
   "execution_count": 309,
   "metadata": {},
   "outputs": [],
   "source": [
    "#ftp.quit()"
   ]
  },
  {
   "cell_type": "markdown",
   "metadata": {},
   "source": [
    "### FTP Grab File Function"
   ]
  },
  {
   "cell_type": "code",
   "execution_count": 310,
   "metadata": {},
   "outputs": [],
   "source": [
    "def grabFile(ftpfullname,localfullname):\n",
    "    try:\n",
    "        ret = ftp.cwd(\".\") # A dummy action to chack the connection and to provoke an exception if necessary.\n",
    "        localfile = open(localfullname, 'wb')\n",
    "        ftp.retrbinary('RETR ' + ftpfullname, localfile.write, 1024)\n",
    "        localfile.close()\n",
    "    \n",
    "    except ftplib.error_perm:\n",
    "        print(\"FTP ERROR. Operation not permitted. File not found?\")\n",
    "\n",
    "    except ftplib.error_temp:\n",
    "        print(\"FTP ERROR. Timeout.\")\n",
    "\n",
    "    except ConnectionAbortedError:\n",
    "        print(\"FTP ERROR. Connection aborted.\")\n",
    "\n"
   ]
  },
  {
   "cell_type": "markdown",
   "metadata": {},
   "source": [
    "### Generate Pandas Dataframe from FTP Directory Listing"
   ]
  },
  {
   "cell_type": "code",
   "execution_count": 311,
   "metadata": {},
   "outputs": [],
   "source": [
    "import pandas as pd\n",
    "import geopandas as gpd\n",
    "import os\n",
    "\n",
    "def gen_df_from_ftp_dir_listing(ftp, ftpdir):\n",
    "    lines = []\n",
    "    flist = []\n",
    "    try:    \n",
    "        res = ftp.retrlines(\"LIST \"+ftpdir, lines.append)\n",
    "    except:\n",
    "        print(\"Error: ftp.retrlines() failed. ftp timeout? Reconnect!\")\n",
    "        return\n",
    "        \n",
    "    if len(lines) == 0:\n",
    "        print(\"Error: ftp dir is empty\")\n",
    "        return\n",
    "    \n",
    "    for line in lines:\n",
    "#        print(line)\n",
    "        [ftype, fsize, fname] = [line[0:1], int(line[31:42]), line[56:]]\n",
    "#        itemlist = [line[0:1], int(line[31:42]), line[56:]]\n",
    "#        flist.append(itemlist)\n",
    "        \n",
    "        fext = os.path.splitext(fname)[-1]\n",
    "        \n",
    "        if fext == \".zip\":\n",
    "            station_id = int(fname.split(\"_\")[2])\n",
    "        else:\n",
    "            station_id = -1 \n",
    "        \n",
    "        flist.append([station_id, fname, fext, fsize, ftype])\n",
    "        \n",
    "        \n",
    "\n",
    "    df_ftpdir = pd.DataFrame(flist,columns=[\"station_id\", \"name\", \"ext\", \"size\", \"type\"])\n",
    "    return(df_ftpdir)"
   ]
  },
  {
   "cell_type": "code",
   "execution_count": 312,
   "metadata": {},
   "outputs": [],
   "source": [
    "df_ftpdir = gen_df_from_ftp_dir_listing(ftp, ftp_dir)"
   ]
  },
  {
   "cell_type": "code",
   "execution_count": 313,
   "metadata": {},
   "outputs": [
    {
     "data": {
      "text/html": [
       "<div>\n",
       "<style scoped>\n",
       "    .dataframe tbody tr th:only-of-type {\n",
       "        vertical-align: middle;\n",
       "    }\n",
       "\n",
       "    .dataframe tbody tr th {\n",
       "        vertical-align: top;\n",
       "    }\n",
       "\n",
       "    .dataframe thead th {\n",
       "        text-align: right;\n",
       "    }\n",
       "</style>\n",
       "<table border=\"1\" class=\"dataframe\">\n",
       "  <thead>\n",
       "    <tr style=\"text-align: right;\">\n",
       "      <th></th>\n",
       "      <th>station_id</th>\n",
       "      <th>name</th>\n",
       "      <th>ext</th>\n",
       "      <th>size</th>\n",
       "      <th>type</th>\n",
       "    </tr>\n",
       "  </thead>\n",
       "  <tbody>\n",
       "    <tr>\n",
       "      <th>196</th>\n",
       "      <td>7394</td>\n",
       "      <td>stundenwerte_N_07394_akt.zip</td>\n",
       "      <td>.zip</td>\n",
       "      <td>45441</td>\n",
       "      <td>-</td>\n",
       "    </tr>\n",
       "    <tr>\n",
       "      <th>197</th>\n",
       "      <td>7395</td>\n",
       "      <td>stundenwerte_N_07395_akt.zip</td>\n",
       "      <td>.zip</td>\n",
       "      <td>45428</td>\n",
       "      <td>-</td>\n",
       "    </tr>\n",
       "    <tr>\n",
       "      <th>198</th>\n",
       "      <td>7396</td>\n",
       "      <td>stundenwerte_N_07396_akt.zip</td>\n",
       "      <td>.zip</td>\n",
       "      <td>44281</td>\n",
       "      <td>-</td>\n",
       "    </tr>\n",
       "    <tr>\n",
       "      <th>199</th>\n",
       "      <td>7403</td>\n",
       "      <td>stundenwerte_N_07403_akt.zip</td>\n",
       "      <td>.zip</td>\n",
       "      <td>45651</td>\n",
       "      <td>-</td>\n",
       "    </tr>\n",
       "    <tr>\n",
       "      <th>200</th>\n",
       "      <td>7410</td>\n",
       "      <td>stundenwerte_N_07410_akt.zip</td>\n",
       "      <td>.zip</td>\n",
       "      <td>45490</td>\n",
       "      <td>-</td>\n",
       "    </tr>\n",
       "    <tr>\n",
       "      <th>201</th>\n",
       "      <td>7412</td>\n",
       "      <td>stundenwerte_N_07412_akt.zip</td>\n",
       "      <td>.zip</td>\n",
       "      <td>45155</td>\n",
       "      <td>-</td>\n",
       "    </tr>\n",
       "    <tr>\n",
       "      <th>202</th>\n",
       "      <td>13674</td>\n",
       "      <td>stundenwerte_N_13674_akt.zip</td>\n",
       "      <td>.zip</td>\n",
       "      <td>45531</td>\n",
       "      <td>-</td>\n",
       "    </tr>\n",
       "    <tr>\n",
       "      <th>203</th>\n",
       "      <td>15000</td>\n",
       "      <td>stundenwerte_N_15000_akt.zip</td>\n",
       "      <td>.zip</td>\n",
       "      <td>45836</td>\n",
       "      <td>-</td>\n",
       "    </tr>\n",
       "    <tr>\n",
       "      <th>204</th>\n",
       "      <td>15207</td>\n",
       "      <td>stundenwerte_N_15207_akt.zip</td>\n",
       "      <td>.zip</td>\n",
       "      <td>45546</td>\n",
       "      <td>-</td>\n",
       "    </tr>\n",
       "    <tr>\n",
       "      <th>205</th>\n",
       "      <td>15444</td>\n",
       "      <td>stundenwerte_N_15444_akt.zip</td>\n",
       "      <td>.zip</td>\n",
       "      <td>45564</td>\n",
       "      <td>-</td>\n",
       "    </tr>\n",
       "  </tbody>\n",
       "</table>\n",
       "</div>"
      ],
      "text/plain": [
       "     station_id                          name   ext   size type\n",
       "196        7394  stundenwerte_N_07394_akt.zip  .zip  45441    -\n",
       "197        7395  stundenwerte_N_07395_akt.zip  .zip  45428    -\n",
       "198        7396  stundenwerte_N_07396_akt.zip  .zip  44281    -\n",
       "199        7403  stundenwerte_N_07403_akt.zip  .zip  45651    -\n",
       "200        7410  stundenwerte_N_07410_akt.zip  .zip  45490    -\n",
       "201        7412  stundenwerte_N_07412_akt.zip  .zip  45155    -\n",
       "202       13674  stundenwerte_N_13674_akt.zip  .zip  45531    -\n",
       "203       15000  stundenwerte_N_15000_akt.zip  .zip  45836    -\n",
       "204       15207  stundenwerte_N_15207_akt.zip  .zip  45546    -\n",
       "205       15444  stundenwerte_N_15444_akt.zip  .zip  45564    -"
      ]
     },
     "execution_count": 313,
     "metadata": {},
     "output_type": "execute_result"
    }
   ],
   "source": [
    "df_ftpdir.tail(10)"
   ]
  },
  {
   "cell_type": "markdown",
   "metadata": {},
   "source": [
    "### Dataframe with Temp Zip Files"
   ]
  },
  {
   "cell_type": "code",
   "execution_count": 314,
   "metadata": {},
   "outputs": [
    {
     "data": {
      "text/html": [
       "<div>\n",
       "<style scoped>\n",
       "    .dataframe tbody tr th:only-of-type {\n",
       "        vertical-align: middle;\n",
       "    }\n",
       "\n",
       "    .dataframe tbody tr th {\n",
       "        vertical-align: top;\n",
       "    }\n",
       "\n",
       "    .dataframe thead th {\n",
       "        text-align: right;\n",
       "    }\n",
       "</style>\n",
       "<table border=\"1\" class=\"dataframe\">\n",
       "  <thead>\n",
       "    <tr style=\"text-align: right;\">\n",
       "      <th></th>\n",
       "      <th>name</th>\n",
       "      <th>ext</th>\n",
       "      <th>size</th>\n",
       "      <th>type</th>\n",
       "    </tr>\n",
       "    <tr>\n",
       "      <th>station_id</th>\n",
       "      <th></th>\n",
       "      <th></th>\n",
       "      <th></th>\n",
       "      <th></th>\n",
       "    </tr>\n",
       "  </thead>\n",
       "  <tbody>\n",
       "    <tr>\n",
       "      <th>7394</th>\n",
       "      <td>stundenwerte_N_07394_akt.zip</td>\n",
       "      <td>.zip</td>\n",
       "      <td>45441</td>\n",
       "      <td>-</td>\n",
       "    </tr>\n",
       "    <tr>\n",
       "      <th>7395</th>\n",
       "      <td>stundenwerte_N_07395_akt.zip</td>\n",
       "      <td>.zip</td>\n",
       "      <td>45428</td>\n",
       "      <td>-</td>\n",
       "    </tr>\n",
       "    <tr>\n",
       "      <th>7396</th>\n",
       "      <td>stundenwerte_N_07396_akt.zip</td>\n",
       "      <td>.zip</td>\n",
       "      <td>44281</td>\n",
       "      <td>-</td>\n",
       "    </tr>\n",
       "    <tr>\n",
       "      <th>7403</th>\n",
       "      <td>stundenwerte_N_07403_akt.zip</td>\n",
       "      <td>.zip</td>\n",
       "      <td>45651</td>\n",
       "      <td>-</td>\n",
       "    </tr>\n",
       "    <tr>\n",
       "      <th>7410</th>\n",
       "      <td>stundenwerte_N_07410_akt.zip</td>\n",
       "      <td>.zip</td>\n",
       "      <td>45490</td>\n",
       "      <td>-</td>\n",
       "    </tr>\n",
       "    <tr>\n",
       "      <th>7412</th>\n",
       "      <td>stundenwerte_N_07412_akt.zip</td>\n",
       "      <td>.zip</td>\n",
       "      <td>45155</td>\n",
       "      <td>-</td>\n",
       "    </tr>\n",
       "    <tr>\n",
       "      <th>13674</th>\n",
       "      <td>stundenwerte_N_13674_akt.zip</td>\n",
       "      <td>.zip</td>\n",
       "      <td>45531</td>\n",
       "      <td>-</td>\n",
       "    </tr>\n",
       "    <tr>\n",
       "      <th>15000</th>\n",
       "      <td>stundenwerte_N_15000_akt.zip</td>\n",
       "      <td>.zip</td>\n",
       "      <td>45836</td>\n",
       "      <td>-</td>\n",
       "    </tr>\n",
       "    <tr>\n",
       "      <th>15207</th>\n",
       "      <td>stundenwerte_N_15207_akt.zip</td>\n",
       "      <td>.zip</td>\n",
       "      <td>45546</td>\n",
       "      <td>-</td>\n",
       "    </tr>\n",
       "    <tr>\n",
       "      <th>15444</th>\n",
       "      <td>stundenwerte_N_15444_akt.zip</td>\n",
       "      <td>.zip</td>\n",
       "      <td>45564</td>\n",
       "      <td>-</td>\n",
       "    </tr>\n",
       "  </tbody>\n",
       "</table>\n",
       "</div>"
      ],
      "text/plain": [
       "                                    name   ext   size type\n",
       "station_id                                                \n",
       "7394        stundenwerte_N_07394_akt.zip  .zip  45441    -\n",
       "7395        stundenwerte_N_07395_akt.zip  .zip  45428    -\n",
       "7396        stundenwerte_N_07396_akt.zip  .zip  44281    -\n",
       "7403        stundenwerte_N_07403_akt.zip  .zip  45651    -\n",
       "7410        stundenwerte_N_07410_akt.zip  .zip  45490    -\n",
       "7412        stundenwerte_N_07412_akt.zip  .zip  45155    -\n",
       "13674       stundenwerte_N_13674_akt.zip  .zip  45531    -\n",
       "15000       stundenwerte_N_15000_akt.zip  .zip  45836    -\n",
       "15207       stundenwerte_N_15207_akt.zip  .zip  45546    -\n",
       "15444       stundenwerte_N_15444_akt.zip  .zip  45564    -"
      ]
     },
     "execution_count": 314,
     "metadata": {},
     "output_type": "execute_result"
    }
   ],
   "source": [
    "#df_ftpdir[\"ext\"]==\".zip\"\n",
    "df_zips = df_ftpdir[df_ftpdir[\"ext\"]==\".zip\"]\n",
    "df_zips.set_index(\"station_id\", inplace = True)\n",
    "df_zips.tail(10)"
   ]
  },
  {
   "cell_type": "markdown",
   "metadata": {},
   "source": [
    "### Download the Station Description File"
   ]
  },
  {
   "cell_type": "code",
   "execution_count": 315,
   "metadata": {},
   "outputs": [
    {
     "name": "stdout",
     "output_type": "stream",
     "text": [
      "N_Stundenwerte_Beschreibung_Stationen.txt\n"
     ]
    }
   ],
   "source": [
    "station_fname = df_ftpdir[df_ftpdir['name'].str.contains(station_desc_pattern)][\"name\"].values[0]\n",
    "print(station_fname)\n",
    "\n",
    "# ALternative\n",
    "#station_fname2 = df_ftpdir[df_ftpdir[\"name\"].str.match(\"^.*Beschreibung_Stationen.*txt$\")][\"name\"].values[0]\n",
    "#print(station_fname2)"
   ]
  },
  {
   "cell_type": "code",
   "execution_count": 316,
   "metadata": {},
   "outputs": [
    {
     "name": "stdout",
     "output_type": "stream",
     "text": [
      "grabFile: \n",
      "From: /climate_environment/CDC/observations_germany/climate/hourly/cloudiness/recent/N_Stundenwerte_Beschreibung_Stationen.txt\n",
      "To:   data/original/DWD/hourly/cloudiness/recent/N_Stundenwerte_Beschreibung_Stationen.txt\n"
     ]
    }
   ],
   "source": [
    "print(\"grabFile: \")\n",
    "print(\"From: \" + ftp_dir + station_fname)\n",
    "print(\"To:   \" + local_ftp_station_dir + station_fname)\n",
    "grabFile(ftp_dir + station_fname, local_ftp_station_dir + station_fname)"
   ]
  },
  {
   "cell_type": "code",
   "execution_count": 317,
   "metadata": {},
   "outputs": [],
   "source": [
    "# extract column names. They are in German (de)\n",
    "# We have to use codecs because of difficulties with character encoding (German Umlaute)\n",
    "import codecs\n",
    "\n",
    "def station_desc_txt_to_csv(txtfile, csvfile):\n",
    "    file = codecs.open(txtfile,\"r\",\"utf8\")#\"utf8\", iso8859_2\n",
    "    r = file.readline()\n",
    "    file.close()\n",
    "    colnames_de = r.split()\n",
    "    colnames_de\n",
    "    \n",
    "    translate = \\\n",
    "    {'Stations_id':'station_id',\n",
    "     'von_datum':'date_from',\n",
    "     'bis_datum':'date_to',\n",
    "     'Stationshoehe':'altitude',\n",
    "     'geoBreite': 'latitude',\n",
    "     'geoLaenge': 'longitude',\n",
    "     'Stationsname':'name',\n",
    "     'Bundesland':'state'}\n",
    "    \n",
    "    colnames_en = [translate[h] for h in colnames_de]\n",
    "    \n",
    "    # Skip the first two rows and set the column names.\n",
    "    df = pd.read_fwf(txtfile,skiprows=2,names=colnames_en,encoding='iso8859_2', parse_dates=[\"date_from\",\"date_to\"],index_col = 0)\n",
    "    \n",
    "    # write csv\n",
    "    df.to_csv(csvfile, sep = \";\")\n",
    "    return(df)"
   ]
  },
  {
   "cell_type": "code",
   "execution_count": 318,
   "metadata": {},
   "outputs": [
    {
     "data": {
      "text/html": [
       "<div>\n",
       "<style scoped>\n",
       "    .dataframe tbody tr th:only-of-type {\n",
       "        vertical-align: middle;\n",
       "    }\n",
       "\n",
       "    .dataframe tbody tr th {\n",
       "        vertical-align: top;\n",
       "    }\n",
       "\n",
       "    .dataframe thead th {\n",
       "        text-align: right;\n",
       "    }\n",
       "</style>\n",
       "<table border=\"1\" class=\"dataframe\">\n",
       "  <thead>\n",
       "    <tr style=\"text-align: right;\">\n",
       "      <th></th>\n",
       "      <th>date_from</th>\n",
       "      <th>date_to</th>\n",
       "      <th>altitude</th>\n",
       "      <th>latitude</th>\n",
       "      <th>longitude</th>\n",
       "      <th>name</th>\n",
       "      <th>state</th>\n",
       "    </tr>\n",
       "    <tr>\n",
       "      <th>station_id</th>\n",
       "      <th></th>\n",
       "      <th></th>\n",
       "      <th></th>\n",
       "      <th></th>\n",
       "      <th></th>\n",
       "      <th></th>\n",
       "      <th></th>\n",
       "    </tr>\n",
       "  </thead>\n",
       "  <tbody>\n",
       "    <tr>\n",
       "      <th>13713</th>\n",
       "      <td>2007-11-01</td>\n",
       "      <td>2012-01-08</td>\n",
       "      <td>386</td>\n",
       "      <td>51.0899</td>\n",
       "      <td>7.6289</td>\n",
       "      <td>Meinerzhagen-Redlendorf</td>\n",
       "      <td>Nordrhein-Westfalen</td>\n",
       "    </tr>\n",
       "    <tr>\n",
       "      <th>13777</th>\n",
       "      <td>2008-06-01</td>\n",
       "      <td>2012-01-09</td>\n",
       "      <td>110</td>\n",
       "      <td>52.2467</td>\n",
       "      <td>10.9592</td>\n",
       "      <td>Helmstedt-Emmerstedt</td>\n",
       "      <td>Niedersachsen</td>\n",
       "    </tr>\n",
       "    <tr>\n",
       "      <th>15000</th>\n",
       "      <td>2011-04-01</td>\n",
       "      <td>2022-03-02</td>\n",
       "      <td>231</td>\n",
       "      <td>50.7983</td>\n",
       "      <td>6.0244</td>\n",
       "      <td>Aachen-Orsbach</td>\n",
       "      <td>Nordrhein-Westfalen</td>\n",
       "    </tr>\n",
       "    <tr>\n",
       "      <th>15207</th>\n",
       "      <td>2013-11-01</td>\n",
       "      <td>2022-03-02</td>\n",
       "      <td>317</td>\n",
       "      <td>51.2835</td>\n",
       "      <td>9.3590</td>\n",
       "      <td>Schauenburg-Elgershausen</td>\n",
       "      <td>Hessen</td>\n",
       "    </tr>\n",
       "    <tr>\n",
       "      <th>15444</th>\n",
       "      <td>2014-09-01</td>\n",
       "      <td>2022-03-02</td>\n",
       "      <td>593</td>\n",
       "      <td>48.4418</td>\n",
       "      <td>9.9216</td>\n",
       "      <td>Ulm-Mähringen</td>\n",
       "      <td>Baden-Württemberg</td>\n",
       "    </tr>\n",
       "  </tbody>\n",
       "</table>\n",
       "</div>"
      ],
      "text/plain": [
       "            date_from    date_to  altitude  latitude  longitude  \\\n",
       "station_id                                                        \n",
       "13713      2007-11-01 2012-01-08       386   51.0899     7.6289   \n",
       "13777      2008-06-01 2012-01-09       110   52.2467    10.9592   \n",
       "15000      2011-04-01 2022-03-02       231   50.7983     6.0244   \n",
       "15207      2013-11-01 2022-03-02       317   51.2835     9.3590   \n",
       "15444      2014-09-01 2022-03-02       593   48.4418     9.9216   \n",
       "\n",
       "                                name                state  \n",
       "station_id                                                 \n",
       "13713        Meinerzhagen-Redlendorf  Nordrhein-Westfalen  \n",
       "13777           Helmstedt-Emmerstedt        Niedersachsen  \n",
       "15000                 Aachen-Orsbach  Nordrhein-Westfalen  \n",
       "15207       Schauenburg-Elgershausen               Hessen  \n",
       "15444                  Ulm-Mähringen    Baden-Württemberg  "
      ]
     },
     "execution_count": 318,
     "metadata": {},
     "output_type": "execute_result"
    }
   ],
   "source": [
    "basename = os.path.splitext(station_fname)[0]\n",
    "df_stations = station_desc_txt_to_csv(local_ftp_station_dir + station_fname, local_station_dir + basename + \".csv\")\n",
    "\n",
    "\n",
    "df_stations['date_from']=pd.to_datetime(df_stations['date_from'],infer_datetime_format=True) \n",
    "df_stations['date_to']=pd.to_datetime(df_stations['date_to'],infer_datetime_format=True)\n",
    "df_stations.tail()"
   ]
  },
  {
   "cell_type": "markdown",
   "metadata": {},
   "source": [
    "### Select Stations Located in NRW from Station Description Dataframe"
   ]
  },
  {
   "cell_type": "raw",
   "metadata": {},
   "source": [
    "station_ids_selected = df_stations[df_stations['state'].str.contains(\"Nordrhein\")].index\n",
    "station_ids_selected"
   ]
  },
  {
   "cell_type": "raw",
   "metadata": {
    "jupyter": {
     "source_hidden": true
    }
   },
   "source": [
    "# Create variable with TRUE if state is Nordrhein-Westfalen\n",
    "isNRW = df_stations['state'] == \"Nordrhein-Westfalen\"\n",
    "\n",
    "# Create variable with TRUE if date_to is latest date (indicates operation up to now)\n",
    "isOperational = df_stations['date_to'] >dt.datetime.strptime('01-01-2019',\"%d-%m-%Y\")\n",
    "\n",
    "\n",
    "# select on both conditions\n",
    "dfNRW = df_stations[isNRW &isOperational]\n",
    "#print(\"Number of stations in NRW: \\n\", dfNRW.count())\n",
    "\n",
    "print(dfNRW.shape)\n",
    "dfNRW.tail(2)"
   ]
  },
  {
   "cell_type": "code",
   "execution_count": 319,
   "metadata": {},
   "outputs": [],
   "source": [
    "cloud_s_df=gpd.read_file('./data/generated/DWD/hourly/cloudiness/historical/cloud_stations_cologne.geojson', index_col='station_id')\\\n",
    ".set_crs(4326, allow_override=True).to_crs(5676).set_index('station_id')"
   ]
  },
  {
   "cell_type": "code",
   "execution_count": 320,
   "metadata": {},
   "outputs": [
    {
     "data": {
      "text/html": [
       "<div>\n",
       "<style scoped>\n",
       "    .dataframe tbody tr th:only-of-type {\n",
       "        vertical-align: middle;\n",
       "    }\n",
       "\n",
       "    .dataframe tbody tr th {\n",
       "        vertical-align: top;\n",
       "    }\n",
       "\n",
       "    .dataframe thead th {\n",
       "        text-align: right;\n",
       "    }\n",
       "</style>\n",
       "<table border=\"1\" class=\"dataframe\">\n",
       "  <thead>\n",
       "    <tr style=\"text-align: right;\">\n",
       "      <th></th>\n",
       "      <th>date_from</th>\n",
       "      <th>date_to</th>\n",
       "      <th>altitude</th>\n",
       "      <th>latitude</th>\n",
       "      <th>longitude</th>\n",
       "      <th>name</th>\n",
       "      <th>state</th>\n",
       "      <th>field_9</th>\n",
       "      <th>ID_0</th>\n",
       "      <th>ISO</th>\n",
       "      <th>...</th>\n",
       "      <th>NAME_1</th>\n",
       "      <th>ID_2</th>\n",
       "      <th>NAME_2</th>\n",
       "      <th>ID_3</th>\n",
       "      <th>NAME_3</th>\n",
       "      <th>TYPE_3</th>\n",
       "      <th>ENGTYPE_3</th>\n",
       "      <th>NL_NAME_3</th>\n",
       "      <th>VARNAME_3</th>\n",
       "      <th>geometry</th>\n",
       "    </tr>\n",
       "    <tr>\n",
       "      <th>station_id</th>\n",
       "      <th></th>\n",
       "      <th></th>\n",
       "      <th></th>\n",
       "      <th></th>\n",
       "      <th></th>\n",
       "      <th></th>\n",
       "      <th></th>\n",
       "      <th></th>\n",
       "      <th></th>\n",
       "      <th></th>\n",
       "      <th></th>\n",
       "      <th></th>\n",
       "      <th></th>\n",
       "      <th></th>\n",
       "      <th></th>\n",
       "      <th></th>\n",
       "      <th></th>\n",
       "      <th></th>\n",
       "      <th></th>\n",
       "      <th></th>\n",
       "      <th></th>\n",
       "    </tr>\n",
       "  </thead>\n",
       "  <tbody>\n",
       "    <tr>\n",
       "      <th>832</th>\n",
       "      <td>1979-01-02</td>\n",
       "      <td>1995-08-09</td>\n",
       "      <td>48</td>\n",
       "      <td>50.9833</td>\n",
       "      <td>6.9000</td>\n",
       "      <td>Butzweilerhof</td>\n",
       "      <td>Nordrhein-Westfalen</td>\n",
       "      <td>None</td>\n",
       "      <td>86</td>\n",
       "      <td>DEU</td>\n",
       "      <td>...</td>\n",
       "      <td>Nordrhein-Westfalen</td>\n",
       "      <td>29</td>\n",
       "      <td>Köln</td>\n",
       "      <td>289</td>\n",
       "      <td>Cologne Städte</td>\n",
       "      <td>Kreisfreie Städte</td>\n",
       "      <td>Urban district</td>\n",
       "      <td>None</td>\n",
       "      <td>Koln</td>\n",
       "      <td>MULTIPOINT Z (2563243.531 5650174.538 48.000)</td>\n",
       "    </tr>\n",
       "    <tr>\n",
       "      <th>2667</th>\n",
       "      <td>1949-01-01</td>\n",
       "      <td>2022-03-01</td>\n",
       "      <td>92</td>\n",
       "      <td>50.8646</td>\n",
       "      <td>7.1575</td>\n",
       "      <td>Köln-Bonn</td>\n",
       "      <td>Nordrhein-Westfalen</td>\n",
       "      <td>None</td>\n",
       "      <td>86</td>\n",
       "      <td>DEU</td>\n",
       "      <td>...</td>\n",
       "      <td>Nordrhein-Westfalen</td>\n",
       "      <td>29</td>\n",
       "      <td>Köln</td>\n",
       "      <td>289</td>\n",
       "      <td>Cologne Städte</td>\n",
       "      <td>Kreisfreie Städte</td>\n",
       "      <td>Urban district</td>\n",
       "      <td>None</td>\n",
       "      <td>Koln</td>\n",
       "      <td>MULTIPOINT Z (2581532.425 5637222.637 92.000)</td>\n",
       "    </tr>\n",
       "  </tbody>\n",
       "</table>\n",
       "<p>2 rows × 22 columns</p>\n",
       "</div>"
      ],
      "text/plain": [
       "             date_from     date_to  altitude  latitude  longitude  \\\n",
       "station_id                                                          \n",
       "832         1979-01-02  1995-08-09        48   50.9833     6.9000   \n",
       "2667        1949-01-01  2022-03-01        92   50.8646     7.1575   \n",
       "\n",
       "                     name                state field_9  ID_0  ISO  ...  \\\n",
       "station_id                                                         ...   \n",
       "832         Butzweilerhof  Nordrhein-Westfalen    None    86  DEU  ...   \n",
       "2667            Köln-Bonn  Nordrhein-Westfalen    None    86  DEU  ...   \n",
       "\n",
       "                         NAME_1  ID_2 NAME_2  ID_3          NAME_3  \\\n",
       "station_id                                                           \n",
       "832         Nordrhein-Westfalen    29   Köln   289  Cologne Städte   \n",
       "2667        Nordrhein-Westfalen    29   Köln   289  Cologne Städte   \n",
       "\n",
       "                       TYPE_3       ENGTYPE_3 NL_NAME_3 VARNAME_3  \\\n",
       "station_id                                                          \n",
       "832         Kreisfreie Städte  Urban district      None      Koln   \n",
       "2667        Kreisfreie Städte  Urban district      None      Koln   \n",
       "\n",
       "                                                 geometry  \n",
       "station_id                                                 \n",
       "832         MULTIPOINT Z (2563243.531 5650174.538 48.000)  \n",
       "2667        MULTIPOINT Z (2581532.425 5637222.637 92.000)  \n",
       "\n",
       "[2 rows x 22 columns]"
      ]
     },
     "execution_count": 320,
     "metadata": {},
     "output_type": "execute_result"
    }
   ],
   "source": [
    "cloud_s_df"
   ]
  },
  {
   "cell_type": "code",
   "execution_count": 321,
   "metadata": {},
   "outputs": [],
   "source": [
    "station_ids_selected=list(cloud_s_df.index)"
   ]
  },
  {
   "cell_type": "code",
   "execution_count": 322,
   "metadata": {},
   "outputs": [
    {
     "data": {
      "text/plain": [
       "False"
      ]
     },
     "execution_count": 322,
     "metadata": {},
     "output_type": "execute_result"
    }
   ],
   "source": [
    "\n",
    "\n",
    "set(station_ids_selected).issubset(set(df_zips)) # we have some missing stations"
   ]
  },
  {
   "cell_type": "code",
   "execution_count": 323,
   "metadata": {},
   "outputs": [
    {
     "data": {
      "text/html": [
       "<div>\n",
       "<style scoped>\n",
       "    .dataframe tbody tr th:only-of-type {\n",
       "        vertical-align: middle;\n",
       "    }\n",
       "\n",
       "    .dataframe tbody tr th {\n",
       "        vertical-align: top;\n",
       "    }\n",
       "\n",
       "    .dataframe thead th {\n",
       "        text-align: right;\n",
       "    }\n",
       "</style>\n",
       "<table border=\"1\" class=\"dataframe\">\n",
       "  <thead>\n",
       "    <tr style=\"text-align: right;\">\n",
       "      <th></th>\n",
       "      <th>name</th>\n",
       "      <th>ext</th>\n",
       "      <th>size</th>\n",
       "      <th>type</th>\n",
       "    </tr>\n",
       "    <tr>\n",
       "      <th>station_id</th>\n",
       "      <th></th>\n",
       "      <th></th>\n",
       "      <th></th>\n",
       "      <th></th>\n",
       "    </tr>\n",
       "  </thead>\n",
       "  <tbody>\n",
       "    <tr>\n",
       "      <th>7412</th>\n",
       "      <td>stundenwerte_N_07412_akt.zip</td>\n",
       "      <td>.zip</td>\n",
       "      <td>45155</td>\n",
       "      <td>-</td>\n",
       "    </tr>\n",
       "    <tr>\n",
       "      <th>13674</th>\n",
       "      <td>stundenwerte_N_13674_akt.zip</td>\n",
       "      <td>.zip</td>\n",
       "      <td>45531</td>\n",
       "      <td>-</td>\n",
       "    </tr>\n",
       "    <tr>\n",
       "      <th>15000</th>\n",
       "      <td>stundenwerte_N_15000_akt.zip</td>\n",
       "      <td>.zip</td>\n",
       "      <td>45836</td>\n",
       "      <td>-</td>\n",
       "    </tr>\n",
       "    <tr>\n",
       "      <th>15207</th>\n",
       "      <td>stundenwerte_N_15207_akt.zip</td>\n",
       "      <td>.zip</td>\n",
       "      <td>45546</td>\n",
       "      <td>-</td>\n",
       "    </tr>\n",
       "    <tr>\n",
       "      <th>15444</th>\n",
       "      <td>stundenwerte_N_15444_akt.zip</td>\n",
       "      <td>.zip</td>\n",
       "      <td>45564</td>\n",
       "      <td>-</td>\n",
       "    </tr>\n",
       "  </tbody>\n",
       "</table>\n",
       "</div>"
      ],
      "text/plain": [
       "                                    name   ext   size type\n",
       "station_id                                                \n",
       "7412        stundenwerte_N_07412_akt.zip  .zip  45155    -\n",
       "13674       stundenwerte_N_13674_akt.zip  .zip  45531    -\n",
       "15000       stundenwerte_N_15000_akt.zip  .zip  45836    -\n",
       "15207       stundenwerte_N_15207_akt.zip  .zip  45546    -\n",
       "15444       stundenwerte_N_15444_akt.zip  .zip  45564    -"
      ]
     },
     "execution_count": 323,
     "metadata": {},
     "output_type": "execute_result"
    }
   ],
   "source": [
    "df_zips.tail()"
   ]
  },
  {
   "cell_type": "code",
   "execution_count": 324,
   "metadata": {},
   "outputs": [
    {
     "data": {
      "text/plain": [
       "array([False,  True])"
      ]
     },
     "execution_count": 324,
     "metadata": {},
     "output_type": "execute_result"
    }
   ],
   "source": [
    "cloud_s_df.index.isin(df_zips.index)"
   ]
  },
  {
   "cell_type": "markdown",
   "metadata": {},
   "source": [
    "### Download TS Data from FTP Server\n",
    "\n",
    "Problem: Not all stations listed in the station description file are associated with a time series (zip file)! The stations in the description file and the set of stations whoch are TS data provided for (zip files) do not match perfectly.  "
   ]
  },
  {
   "cell_type": "code",
   "execution_count": 325,
   "metadata": {},
   "outputs": [
    {
     "data": {
      "text/plain": [
       "'stundenwerte_N_02667_akt.zip'"
      ]
     },
     "execution_count": 325,
     "metadata": {},
     "output_type": "execute_result"
    }
   ],
   "source": [
    "df_zips[\"name\"][2667]"
   ]
  },
  {
   "cell_type": "code",
   "execution_count": 326,
   "metadata": {},
   "outputs": [
    {
     "name": "stdout",
     "output_type": "stream",
     "text": [
      "WARNING: TS file for key 832 not found in FTP directory.\n"
     ]
    }
   ],
   "source": [
    "# Add the names of the zip files only to a list. \n",
    "local_zip_list = []\n",
    "\n",
    "for station_id in station_ids_selected:\n",
    "    try:\n",
    "        fname = df_zips[\"name\"][station_id]\n",
    "        #print(fname)\n",
    "        grabFile(ftp_dir + fname, local_ftp_ts_dir + fname)\n",
    "        local_zip_list.append(fname)\n",
    "    except:\n",
    "        print(\"WARNING: TS file for key %d not found in FTP directory.\" % station_id)"
   ]
  },
  {
   "cell_type": "markdown",
   "metadata": {},
   "source": [
    "### Concat the  Time Series dfs\n",
    "\n",
    "\n"
   ]
  },
  {
   "cell_type": "code",
   "execution_count": 327,
   "metadata": {},
   "outputs": [],
   "source": [
    "# column names\n",
    "#STATIONS_ID;MESS_DATUM;QN_9;TT_TU;RF_TU;eor"
   ]
  },
  {
   "cell_type": "code",
   "execution_count": 328,
   "metadata": {},
   "outputs": [],
   "source": [
    "def temp_ts_to_df(fname):\n",
    "    \n",
    "    df = pd.read_csv(fname, delimiter=\";\", encoding=\"iso8859_2\")\n",
    "   \n",
    "    \n",
    "    # https://medium.com/@chaimgluck1/working-with-pandas-fixing-messy-column-names-42a54a6659cd\n",
    "\n",
    "    # Column headers: remove leading blanks (strip), replace \" \" with \"_\", and convert to lower case.\n",
    "    df.columns = df.columns.str.strip().str.lower().str.replace(' ', '_').str.replace('(', '').str.replace(')', '')\n",
    "    df['mess_datum']=pd.to_datetime(df['mess_datum'], format='%Y%m%d%H', utc=True, errors='ignore')\n",
    "    \n",
    "    begin_date=dt.datetime(2019, 8, 1, 0, 0, 0, tzinfo=dt.timezone.utc)\n",
    "    df=df[df['mess_datum']>begin_date]\n",
    "    return(df)"
   ]
  },
  {
   "cell_type": "code",
   "execution_count": 329,
   "metadata": {},
   "outputs": [],
   "source": [
    "from zipfile import ZipFile"
   ]
  },
  {
   "cell_type": "code",
   "execution_count": 330,
   "metadata": {},
   "outputs": [],
   "source": [
    "def ts_merge():\n",
    "    # Very compact code.\n",
    "    df = pd.DataFrame()\n",
    "    for elt in local_zip_list:\n",
    "        ffname = local_ftp_ts_dir + elt\n",
    "        print(\"Zip archive: \" + ffname)\n",
    "        with ZipFile(ffname) as myzip:\n",
    "            # read the time series data from the file starting with \"produkt\"\n",
    "            prodfilename = [elt for elt in myzip.namelist() if elt.split(\"_\")[0]==\"produkt\"][0] \n",
    "            print(\"Extract product file: %s\" % prodfilename)\n",
    "            print()\n",
    "            with myzip.open(prodfilename) as myfile:\n",
    "                dftmp = temp_ts_to_df(myfile)\n",
    "                df = pd.concat([df, dftmp])\n",
    "\n",
    "    \n",
    "    return(df)"
   ]
  },
  {
   "cell_type": "code",
   "execution_count": 331,
   "metadata": {},
   "outputs": [
    {
     "name": "stdout",
     "output_type": "stream",
     "text": [
      "Zip archive: data/original/DWD/hourly/cloudiness/recent/stundenwerte_N_02667_akt.zip\n",
      "Extract product file: produkt_n_stunde_20200830_20220302_02667.txt\n",
      "\n"
     ]
    }
   ],
   "source": [
    "df_merged_ts = ts_merge()"
   ]
  },
  {
   "cell_type": "markdown",
   "metadata": {},
   "source": [
    "### Description"
   ]
  },
  {
   "cell_type": "markdown",
   "metadata": {},
   "source": [
    "\n"
   ]
  },
  {
   "cell_type": "code",
   "execution_count": null,
   "metadata": {},
   "outputs": [],
   "source": []
  },
  {
   "cell_type": "code",
   "execution_count": 332,
   "metadata": {},
   "outputs": [
    {
     "data": {
      "text/plain": [
       "(13193, 6)"
      ]
     },
     "execution_count": 332,
     "metadata": {},
     "output_type": "execute_result"
    }
   ],
   "source": [
    "df_merged_ts.shape"
   ]
  },
  {
   "cell_type": "code",
   "execution_count": 333,
   "metadata": {},
   "outputs": [
    {
     "data": {
      "text/html": [
       "<div>\n",
       "<style scoped>\n",
       "    .dataframe tbody tr th:only-of-type {\n",
       "        vertical-align: middle;\n",
       "    }\n",
       "\n",
       "    .dataframe tbody tr th {\n",
       "        vertical-align: top;\n",
       "    }\n",
       "\n",
       "    .dataframe thead th {\n",
       "        text-align: right;\n",
       "    }\n",
       "</style>\n",
       "<table border=\"1\" class=\"dataframe\">\n",
       "  <thead>\n",
       "    <tr style=\"text-align: right;\">\n",
       "      <th></th>\n",
       "      <th>stations_id</th>\n",
       "      <th>mess_datum</th>\n",
       "      <th>qn_8</th>\n",
       "      <th>v_n_i</th>\n",
       "      <th>v_n</th>\n",
       "      <th>eor</th>\n",
       "    </tr>\n",
       "  </thead>\n",
       "  <tbody>\n",
       "    <tr>\n",
       "      <th>0</th>\n",
       "      <td>2667</td>\n",
       "      <td>2020-08-30 00:00:00+00:00</td>\n",
       "      <td>3</td>\n",
       "      <td>P</td>\n",
       "      <td>1</td>\n",
       "      <td>eor</td>\n",
       "    </tr>\n",
       "    <tr>\n",
       "      <th>1</th>\n",
       "      <td>2667</td>\n",
       "      <td>2020-08-30 01:00:00+00:00</td>\n",
       "      <td>3</td>\n",
       "      <td>P</td>\n",
       "      <td>1</td>\n",
       "      <td>eor</td>\n",
       "    </tr>\n",
       "    <tr>\n",
       "      <th>2</th>\n",
       "      <td>2667</td>\n",
       "      <td>2020-08-30 02:00:00+00:00</td>\n",
       "      <td>3</td>\n",
       "      <td>P</td>\n",
       "      <td>3</td>\n",
       "      <td>eor</td>\n",
       "    </tr>\n",
       "    <tr>\n",
       "      <th>3</th>\n",
       "      <td>2667</td>\n",
       "      <td>2020-08-30 03:00:00+00:00</td>\n",
       "      <td>3</td>\n",
       "      <td>P</td>\n",
       "      <td>2</td>\n",
       "      <td>eor</td>\n",
       "    </tr>\n",
       "    <tr>\n",
       "      <th>4</th>\n",
       "      <td>2667</td>\n",
       "      <td>2020-08-30 04:00:00+00:00</td>\n",
       "      <td>3</td>\n",
       "      <td>P</td>\n",
       "      <td>4</td>\n",
       "      <td>eor</td>\n",
       "    </tr>\n",
       "  </tbody>\n",
       "</table>\n",
       "</div>"
      ],
      "text/plain": [
       "   stations_id                mess_datum  qn_8 v_n_i  v_n  eor\n",
       "0         2667 2020-08-30 00:00:00+00:00     3     P    1  eor\n",
       "1         2667 2020-08-30 01:00:00+00:00     3     P    1  eor\n",
       "2         2667 2020-08-30 02:00:00+00:00     3     P    3  eor\n",
       "3         2667 2020-08-30 03:00:00+00:00     3     P    2  eor\n",
       "4         2667 2020-08-30 04:00:00+00:00     3     P    4  eor"
      ]
     },
     "execution_count": 333,
     "metadata": {},
     "output_type": "execute_result"
    }
   ],
   "source": [
    "df_merged_ts['mess_datum']=pd.to_datetime(df_merged_ts['mess_datum'], format='%Y%m%d%H', utc=True, errors='ignore')\n",
    "df_merged_ts.head()"
   ]
  },
  {
   "cell_type": "code",
   "execution_count": 334,
   "metadata": {},
   "outputs": [
    {
     "data": {
      "text/html": [
       "<div>\n",
       "<style scoped>\n",
       "    .dataframe tbody tr th:only-of-type {\n",
       "        vertical-align: middle;\n",
       "    }\n",
       "\n",
       "    .dataframe tbody tr th {\n",
       "        vertical-align: top;\n",
       "    }\n",
       "\n",
       "    .dataframe thead th {\n",
       "        text-align: right;\n",
       "    }\n",
       "</style>\n",
       "<table border=\"1\" class=\"dataframe\">\n",
       "  <thead>\n",
       "    <tr style=\"text-align: right;\">\n",
       "      <th></th>\n",
       "      <th>date_from</th>\n",
       "      <th>date_to</th>\n",
       "      <th>altitude</th>\n",
       "      <th>latitude</th>\n",
       "      <th>longitude</th>\n",
       "      <th>name</th>\n",
       "      <th>state</th>\n",
       "    </tr>\n",
       "    <tr>\n",
       "      <th>station_id</th>\n",
       "      <th></th>\n",
       "      <th></th>\n",
       "      <th></th>\n",
       "      <th></th>\n",
       "      <th></th>\n",
       "      <th></th>\n",
       "      <th></th>\n",
       "    </tr>\n",
       "  </thead>\n",
       "  <tbody>\n",
       "    <tr>\n",
       "      <th>3</th>\n",
       "      <td>1950-04-01</td>\n",
       "      <td>2011-04-01</td>\n",
       "      <td>202</td>\n",
       "      <td>50.7827</td>\n",
       "      <td>6.0941</td>\n",
       "      <td>Aachen</td>\n",
       "      <td>Nordrhein-Westfalen</td>\n",
       "    </tr>\n",
       "    <tr>\n",
       "      <th>5</th>\n",
       "      <td>1979-01-02</td>\n",
       "      <td>1995-06-30</td>\n",
       "      <td>190</td>\n",
       "      <td>50.8167</td>\n",
       "      <td>6.1833</td>\n",
       "      <td>Aachen-Merzbrück</td>\n",
       "      <td>Nordrhein-Westfalen</td>\n",
       "    </tr>\n",
       "  </tbody>\n",
       "</table>\n",
       "</div>"
      ],
      "text/plain": [
       "            date_from    date_to  altitude  latitude  longitude  \\\n",
       "station_id                                                        \n",
       "3          1950-04-01 2011-04-01       202   50.7827     6.0941   \n",
       "5          1979-01-02 1995-06-30       190   50.8167     6.1833   \n",
       "\n",
       "                        name                state  \n",
       "station_id                                         \n",
       "3                     Aachen  Nordrhein-Westfalen  \n",
       "5           Aachen-Merzbrück  Nordrhein-Westfalen  "
      ]
     },
     "execution_count": 334,
     "metadata": {},
     "output_type": "execute_result"
    }
   ],
   "source": [
    "df_stations.head(2)"
   ]
  },
  {
   "cell_type": "code",
   "execution_count": 335,
   "metadata": {},
   "outputs": [],
   "source": [
    "df_all=df_merged_ts.set_index('stations_id').join(df_stations, how='left')"
   ]
  },
  {
   "cell_type": "code",
   "execution_count": 336,
   "metadata": {},
   "outputs": [],
   "source": [
    "df_merged_ts.to_csv(local_ts_merged_dir + \"ts_merged.csv\",sep=\";\")"
   ]
  },
  {
   "cell_type": "code",
   "execution_count": 337,
   "metadata": {},
   "outputs": [],
   "source": [
    "df_stations.to_csv(local_ts_merged_dir + \"df_stations.csv\",sep=\";\")"
   ]
  },
  {
   "cell_type": "code",
   "execution_count": 338,
   "metadata": {},
   "outputs": [
    {
     "data": {
      "text/html": [
       "<div>\n",
       "<style scoped>\n",
       "    .dataframe tbody tr th:only-of-type {\n",
       "        vertical-align: middle;\n",
       "    }\n",
       "\n",
       "    .dataframe tbody tr th {\n",
       "        vertical-align: top;\n",
       "    }\n",
       "\n",
       "    .dataframe thead th {\n",
       "        text-align: right;\n",
       "    }\n",
       "</style>\n",
       "<table border=\"1\" class=\"dataframe\">\n",
       "  <thead>\n",
       "    <tr style=\"text-align: right;\">\n",
       "      <th></th>\n",
       "      <th>mess_datum</th>\n",
       "      <th>qn_8</th>\n",
       "      <th>v_n_i</th>\n",
       "      <th>v_n</th>\n",
       "      <th>eor</th>\n",
       "      <th>date_from</th>\n",
       "      <th>date_to</th>\n",
       "      <th>altitude</th>\n",
       "      <th>latitude</th>\n",
       "      <th>longitude</th>\n",
       "      <th>name</th>\n",
       "      <th>state</th>\n",
       "    </tr>\n",
       "  </thead>\n",
       "  <tbody>\n",
       "    <tr>\n",
       "      <th>2667</th>\n",
       "      <td>2020-08-30 00:00:00+00:00</td>\n",
       "      <td>3</td>\n",
       "      <td>P</td>\n",
       "      <td>1</td>\n",
       "      <td>eor</td>\n",
       "      <td>1949-01-01</td>\n",
       "      <td>2022-03-02</td>\n",
       "      <td>92</td>\n",
       "      <td>50.8646</td>\n",
       "      <td>7.1575</td>\n",
       "      <td>Köln-Bonn</td>\n",
       "      <td>Nordrhein-Westfalen</td>\n",
       "    </tr>\n",
       "    <tr>\n",
       "      <th>2667</th>\n",
       "      <td>2020-08-30 01:00:00+00:00</td>\n",
       "      <td>3</td>\n",
       "      <td>P</td>\n",
       "      <td>1</td>\n",
       "      <td>eor</td>\n",
       "      <td>1949-01-01</td>\n",
       "      <td>2022-03-02</td>\n",
       "      <td>92</td>\n",
       "      <td>50.8646</td>\n",
       "      <td>7.1575</td>\n",
       "      <td>Köln-Bonn</td>\n",
       "      <td>Nordrhein-Westfalen</td>\n",
       "    </tr>\n",
       "    <tr>\n",
       "      <th>2667</th>\n",
       "      <td>2020-08-30 02:00:00+00:00</td>\n",
       "      <td>3</td>\n",
       "      <td>P</td>\n",
       "      <td>3</td>\n",
       "      <td>eor</td>\n",
       "      <td>1949-01-01</td>\n",
       "      <td>2022-03-02</td>\n",
       "      <td>92</td>\n",
       "      <td>50.8646</td>\n",
       "      <td>7.1575</td>\n",
       "      <td>Köln-Bonn</td>\n",
       "      <td>Nordrhein-Westfalen</td>\n",
       "    </tr>\n",
       "    <tr>\n",
       "      <th>2667</th>\n",
       "      <td>2020-08-30 03:00:00+00:00</td>\n",
       "      <td>3</td>\n",
       "      <td>P</td>\n",
       "      <td>2</td>\n",
       "      <td>eor</td>\n",
       "      <td>1949-01-01</td>\n",
       "      <td>2022-03-02</td>\n",
       "      <td>92</td>\n",
       "      <td>50.8646</td>\n",
       "      <td>7.1575</td>\n",
       "      <td>Köln-Bonn</td>\n",
       "      <td>Nordrhein-Westfalen</td>\n",
       "    </tr>\n",
       "    <tr>\n",
       "      <th>2667</th>\n",
       "      <td>2020-08-30 04:00:00+00:00</td>\n",
       "      <td>3</td>\n",
       "      <td>P</td>\n",
       "      <td>4</td>\n",
       "      <td>eor</td>\n",
       "      <td>1949-01-01</td>\n",
       "      <td>2022-03-02</td>\n",
       "      <td>92</td>\n",
       "      <td>50.8646</td>\n",
       "      <td>7.1575</td>\n",
       "      <td>Köln-Bonn</td>\n",
       "      <td>Nordrhein-Westfalen</td>\n",
       "    </tr>\n",
       "  </tbody>\n",
       "</table>\n",
       "</div>"
      ],
      "text/plain": [
       "                    mess_datum  qn_8 v_n_i  v_n  eor  date_from    date_to  \\\n",
       "2667 2020-08-30 00:00:00+00:00     3     P    1  eor 1949-01-01 2022-03-02   \n",
       "2667 2020-08-30 01:00:00+00:00     3     P    1  eor 1949-01-01 2022-03-02   \n",
       "2667 2020-08-30 02:00:00+00:00     3     P    3  eor 1949-01-01 2022-03-02   \n",
       "2667 2020-08-30 03:00:00+00:00     3     P    2  eor 1949-01-01 2022-03-02   \n",
       "2667 2020-08-30 04:00:00+00:00     3     P    4  eor 1949-01-01 2022-03-02   \n",
       "\n",
       "      altitude  latitude  longitude       name                state  \n",
       "2667        92   50.8646     7.1575  Köln-Bonn  Nordrhein-Westfalen  \n",
       "2667        92   50.8646     7.1575  Köln-Bonn  Nordrhein-Westfalen  \n",
       "2667        92   50.8646     7.1575  Köln-Bonn  Nordrhein-Westfalen  \n",
       "2667        92   50.8646     7.1575  Köln-Bonn  Nordrhein-Westfalen  \n",
       "2667        92   50.8646     7.1575  Köln-Bonn  Nordrhein-Westfalen  "
      ]
     },
     "execution_count": 338,
     "metadata": {},
     "output_type": "execute_result"
    }
   ],
   "source": [
    "df_all.head()"
   ]
  },
  {
   "cell_type": "code",
   "execution_count": 339,
   "metadata": {},
   "outputs": [],
   "source": [
    "df_all.to_csv(local_ts_merged_dir + \"df_all.csv\",sep=\";\")"
   ]
  },
  {
   "cell_type": "code",
   "execution_count": 340,
   "metadata": {},
   "outputs": [
    {
     "data": {
      "text/plain": [
       "(13193, 12)"
      ]
     },
     "execution_count": 340,
     "metadata": {},
     "output_type": "execute_result"
    }
   ],
   "source": [
    "df_all.shape"
   ]
  },
  {
   "cell_type": "code",
   "execution_count": 341,
   "metadata": {},
   "outputs": [
    {
     "data": {
      "text/plain": [
       "(Timestamp('2022-03-02 23:00:00+0000', tz='UTC'),\n",
       " Timestamp('2020-08-30 00:00:00+0000', tz='UTC'))"
      ]
     },
     "execution_count": 341,
     "metadata": {},
     "output_type": "execute_result"
    }
   ],
   "source": [
    "df_all['mess_datum'].max(), df_all['mess_datum'].min()"
   ]
  },
  {
   "cell_type": "code",
   "execution_count": null,
   "metadata": {},
   "outputs": [],
   "source": []
  }
 ],
 "metadata": {
  "kernelspec": {
   "display_name": "Python 3",
   "language": "python",
   "name": "python3"
  },
  "language_info": {
   "codemirror_mode": {
    "name": "ipython",
    "version": 3
   },
   "file_extension": ".py",
   "mimetype": "text/x-python",
   "name": "python",
   "nbconvert_exporter": "python",
   "pygments_lexer": "ipython3",
   "version": "3.7.7"
  }
 },
 "nbformat": 4,
 "nbformat_minor": 4
}
