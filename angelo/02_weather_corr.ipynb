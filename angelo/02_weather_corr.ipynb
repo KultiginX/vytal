{
 "cells": [
  {
   "cell_type": "markdown",
   "id": "e1c7d30b-e8f5-42dc-9c13-8b2cfcbc1d07",
   "metadata": {},
   "source": [
    "# Weather - Checkouts correlation"
   ]
  },
  {
   "cell_type": "code",
   "execution_count": 46,
   "id": "b72d8e85-2de3-4bc9-8ae9-5357174c1e96",
   "metadata": {},
   "outputs": [],
   "source": [
    "# import packages\n",
    "import os\n",
    "import geopandas as gpd\n",
    "import pandas as pd\n",
    "import numpy as np\n",
    "import matplotlib.pyplot as plt \n",
    "import datetime as dt"
   ]
  },
  {
   "cell_type": "code",
   "execution_count": 42,
   "id": "b63098e0-07cb-475a-a505-a37145e20dde",
   "metadata": {},
   "outputs": [
    {
     "data": {
      "text/html": [
       "<div>\n",
       "<style scoped>\n",
       "    .dataframe tbody tr th:only-of-type {\n",
       "        vertical-align: middle;\n",
       "    }\n",
       "\n",
       "    .dataframe tbody tr th {\n",
       "        vertical-align: top;\n",
       "    }\n",
       "\n",
       "    .dataframe thead th {\n",
       "        text-align: right;\n",
       "    }\n",
       "</style>\n",
       "<table border=\"1\" class=\"dataframe\">\n",
       "  <thead>\n",
       "    <tr style=\"text-align: right;\">\n",
       "      <th></th>\n",
       "      <th>stations_id</th>\n",
       "      <th>qn_3</th>\n",
       "      <th>fx</th>\n",
       "      <th>fm</th>\n",
       "      <th>qn_4</th>\n",
       "      <th>rsk</th>\n",
       "      <th>rskf</th>\n",
       "      <th>sdk</th>\n",
       "      <th>shk_tag</th>\n",
       "      <th>nm</th>\n",
       "      <th>vpm</th>\n",
       "      <th>pm</th>\n",
       "      <th>tmk</th>\n",
       "      <th>upm</th>\n",
       "      <th>txk</th>\n",
       "      <th>tnk</th>\n",
       "      <th>tgk</th>\n",
       "    </tr>\n",
       "    <tr>\n",
       "      <th>mess_datum</th>\n",
       "      <th></th>\n",
       "      <th></th>\n",
       "      <th></th>\n",
       "      <th></th>\n",
       "      <th></th>\n",
       "      <th></th>\n",
       "      <th></th>\n",
       "      <th></th>\n",
       "      <th></th>\n",
       "      <th></th>\n",
       "      <th></th>\n",
       "      <th></th>\n",
       "      <th></th>\n",
       "      <th></th>\n",
       "      <th></th>\n",
       "      <th></th>\n",
       "      <th></th>\n",
       "    </tr>\n",
       "  </thead>\n",
       "  <tbody>\n",
       "    <tr>\n",
       "      <th>2022-03-23 00:00:00+00:00</th>\n",
       "      <td>2817.5</td>\n",
       "      <td>-499.0</td>\n",
       "      <td>-496.15</td>\n",
       "      <td>-498.40</td>\n",
       "      <td>1.0</td>\n",
       "      <td>0.0</td>\n",
       "      <td>0.0</td>\n",
       "      <td>-493.8915</td>\n",
       "      <td>-499.5</td>\n",
       "      <td>-499.50</td>\n",
       "      <td>5.60</td>\n",
       "      <td>9.650</td>\n",
       "      <td>10.2</td>\n",
       "      <td>49.770</td>\n",
       "      <td>19.30</td>\n",
       "      <td>1.00</td>\n",
       "      <td>-1.50</td>\n",
       "    </tr>\n",
       "    <tr>\n",
       "      <th>2022-03-24 00:00:00+00:00</th>\n",
       "      <td>2817.5</td>\n",
       "      <td>-499.0</td>\n",
       "      <td>-495.45</td>\n",
       "      <td>-498.40</td>\n",
       "      <td>1.0</td>\n",
       "      <td>0.0</td>\n",
       "      <td>0.0</td>\n",
       "      <td>-493.9085</td>\n",
       "      <td>-499.5</td>\n",
       "      <td>-499.50</td>\n",
       "      <td>5.65</td>\n",
       "      <td>8.930</td>\n",
       "      <td>9.6</td>\n",
       "      <td>52.420</td>\n",
       "      <td>18.60</td>\n",
       "      <td>0.60</td>\n",
       "      <td>-1.85</td>\n",
       "    </tr>\n",
       "    <tr>\n",
       "      <th>2022-03-25 00:00:00+00:00</th>\n",
       "      <td>2817.5</td>\n",
       "      <td>-499.0</td>\n",
       "      <td>-495.40</td>\n",
       "      <td>-498.30</td>\n",
       "      <td>1.0</td>\n",
       "      <td>0.0</td>\n",
       "      <td>0.0</td>\n",
       "      <td>-493.8165</td>\n",
       "      <td>-499.5</td>\n",
       "      <td>-499.40</td>\n",
       "      <td>5.80</td>\n",
       "      <td>9.065</td>\n",
       "      <td>10.4</td>\n",
       "      <td>50.955</td>\n",
       "      <td>18.50</td>\n",
       "      <td>0.60</td>\n",
       "      <td>-1.55</td>\n",
       "    </tr>\n",
       "    <tr>\n",
       "      <th>2022-03-26 00:00:00+00:00</th>\n",
       "      <td>2817.5</td>\n",
       "      <td>-499.0</td>\n",
       "      <td>-492.75</td>\n",
       "      <td>-498.40</td>\n",
       "      <td>1.0</td>\n",
       "      <td>0.0</td>\n",
       "      <td>0.0</td>\n",
       "      <td>-493.9915</td>\n",
       "      <td>-499.5</td>\n",
       "      <td>-499.45</td>\n",
       "      <td>7.05</td>\n",
       "      <td>9.870</td>\n",
       "      <td>11.2</td>\n",
       "      <td>55.670</td>\n",
       "      <td>19.15</td>\n",
       "      <td>1.75</td>\n",
       "      <td>-0.90</td>\n",
       "    </tr>\n",
       "    <tr>\n",
       "      <th>2022-03-27 00:00:00+00:00</th>\n",
       "      <td>2817.5</td>\n",
       "      <td>-499.0</td>\n",
       "      <td>-496.15</td>\n",
       "      <td>-498.55</td>\n",
       "      <td>1.0</td>\n",
       "      <td>0.0</td>\n",
       "      <td>0.0</td>\n",
       "      <td>-494.1585</td>\n",
       "      <td>-499.5</td>\n",
       "      <td>-499.05</td>\n",
       "      <td>9.35</td>\n",
       "      <td>9.255</td>\n",
       "      <td>11.6</td>\n",
       "      <td>69.565</td>\n",
       "      <td>18.70</td>\n",
       "      <td>3.85</td>\n",
       "      <td>1.70</td>\n",
       "    </tr>\n",
       "  </tbody>\n",
       "</table>\n",
       "</div>"
      ],
      "text/plain": [
       "                           stations_id   qn_3      fx      fm  qn_4  rsk  \\\n",
       "mess_datum                                                                 \n",
       "2022-03-23 00:00:00+00:00       2817.5 -499.0 -496.15 -498.40   1.0  0.0   \n",
       "2022-03-24 00:00:00+00:00       2817.5 -499.0 -495.45 -498.40   1.0  0.0   \n",
       "2022-03-25 00:00:00+00:00       2817.5 -499.0 -495.40 -498.30   1.0  0.0   \n",
       "2022-03-26 00:00:00+00:00       2817.5 -499.0 -492.75 -498.40   1.0  0.0   \n",
       "2022-03-27 00:00:00+00:00       2817.5 -499.0 -496.15 -498.55   1.0  0.0   \n",
       "\n",
       "                           rskf       sdk  shk_tag      nm   vpm     pm   tmk  \\\n",
       "mess_datum                                                                      \n",
       "2022-03-23 00:00:00+00:00   0.0 -493.8915   -499.5 -499.50  5.60  9.650  10.2   \n",
       "2022-03-24 00:00:00+00:00   0.0 -493.9085   -499.5 -499.50  5.65  8.930   9.6   \n",
       "2022-03-25 00:00:00+00:00   0.0 -493.8165   -499.5 -499.40  5.80  9.065  10.4   \n",
       "2022-03-26 00:00:00+00:00   0.0 -493.9915   -499.5 -499.45  7.05  9.870  11.2   \n",
       "2022-03-27 00:00:00+00:00   0.0 -494.1585   -499.5 -499.05  9.35  9.255  11.6   \n",
       "\n",
       "                              upm    txk   tnk   tgk  \n",
       "mess_datum                                            \n",
       "2022-03-23 00:00:00+00:00  49.770  19.30  1.00 -1.50  \n",
       "2022-03-24 00:00:00+00:00  52.420  18.60  0.60 -1.85  \n",
       "2022-03-25 00:00:00+00:00  50.955  18.50  0.60 -1.55  \n",
       "2022-03-26 00:00:00+00:00  55.670  19.15  1.75 -0.90  \n",
       "2022-03-27 00:00:00+00:00  69.565  18.70  3.85  1.70  "
      ]
     },
     "execution_count": 42,
     "metadata": {},
     "output_type": "execute_result"
    }
   ],
   "source": [
    "## Temp\n",
    "temp1=pd.read_csv('./data/generated/DWD/daily/kl/historical/ts_merged.csv',sep=';').drop('Unnamed: 0', axis=1).set_index(['stations_id','mess_datum'])\n",
    "temp2=pd.read_csv('./data/generated/DWD/daily/kl/recent/ts_merged.csv',sep=';').drop('Unnamed: 0', axis=1).set_index(['stations_id','mess_datum'])\n",
    "\n",
    "\n",
    "temp=pd.concat([temp1,temp2])\n",
    "#temp.head()\n",
    "\n",
    "df=temp.reset_index().groupby('mess_datum').mean() # take the mean of values of the weather stations in Köln region\n",
    "df.tail()"
   ]
  },
  {
   "cell_type": "markdown",
   "id": "b52938ee-5b3b-4f36-836e-d005d69c8472",
   "metadata": {},
   "source": [
    "### Missing values"
   ]
  },
  {
   "cell_type": "code",
   "execution_count": 43,
   "id": "417f2c00-122b-457c-baa3-3d4a0237f86e",
   "metadata": {},
   "outputs": [
    {
     "data": {
      "text/plain": [
       "True"
      ]
     },
     "execution_count": 43,
     "metadata": {},
     "output_type": "execute_result"
    }
   ],
   "source": [
    "# check if is there any missing date within the range of data\n",
    "pd.date_range(start= df.index.min(), end=df.index.max()).isin(df.index).all()\n"
   ]
  },
  {
   "cell_type": "code",
   "execution_count": 44,
   "id": "2699b047-2e01-423f-beb9-f7e4b04e4825",
   "metadata": {},
   "outputs": [
    {
     "data": {
      "image/png": "[encoded data removed]",
      "text/plain": [
       "<Figure size 1440x360 with 1 Axes>"
      ]
     },
     "metadata": {
      "needs_background": "light"
     },
     "output_type": "display_data"
    }
   ],
   "source": [
    "# plot max temp and mean temp\n",
    "import matplotlib.pyplot as plt \n",
    "plt.figure(figsize=(20, 5))\n",
    "plt.title(('Temp-mean vs Temp-max:'))\n",
    "df['tmk'].tail(100).plot.bar(color='Red', legend=True,  alpha=0.5)\n",
    "df['txk'].tail(100).plot.bar(color='green', legend=True, alpha=0.5)\n",
    "\n",
    "plt.yticks()\n",
    "plt.show()"
   ]
  },
  {
   "cell_type": "code",
   "execution_count": 45,
   "id": "08aa3354-338c-4e14-b9b3-191aed412519",
   "metadata": {},
   "outputs": [
    {
     "data": {
      "text/html": [
       "<div>\n",
       "<style scoped>\n",
       "    .dataframe tbody tr th:only-of-type {\n",
       "        vertical-align: middle;\n",
       "    }\n",
       "\n",
       "    .dataframe tbody tr th {\n",
       "        vertical-align: top;\n",
       "    }\n",
       "\n",
       "    .dataframe thead th {\n",
       "        text-align: right;\n",
       "    }\n",
       "</style>\n",
       "<table border=\"1\" class=\"dataframe\">\n",
       "  <thead>\n",
       "    <tr style=\"text-align: right;\">\n",
       "      <th></th>\n",
       "      <th>tmk</th>\n",
       "      <th>txk</th>\n",
       "    </tr>\n",
       "  </thead>\n",
       "  <tbody>\n",
       "    <tr>\n",
       "      <th>tmk</th>\n",
       "      <td>1.000000</td>\n",
       "      <td>0.971265</td>\n",
       "    </tr>\n",
       "    <tr>\n",
       "      <th>txk</th>\n",
       "      <td>0.971265</td>\n",
       "      <td>1.000000</td>\n",
       "    </tr>\n",
       "  </tbody>\n",
       "</table>\n",
       "</div>"
      ],
      "text/plain": [
       "          tmk       txk\n",
       "tmk  1.000000  0.971265\n",
       "txk  0.971265  1.000000"
      ]
     },
     "execution_count": 45,
     "metadata": {},
     "output_type": "execute_result"
    }
   ],
   "source": [
    "df[['tmk','txk']].corr() # to justify the plot above"
   ]
  },
  {
   "cell_type": "code",
   "execution_count": null,
   "id": "7e984517-1708-4c9e-9828-791cf00c2b3d",
   "metadata": {},
   "outputs": [],
   "source": []
  }
 ],
 "metadata": {
  "kernelspec": {
   "display_name": "Python 3 (ipykernel)",
   "language": "python",
   "name": "python3"
  },
  "language_info": {
   "codemirror_mode": {
    "name": "ipython",
    "version": 3
   },
   "file_extension": ".py",
   "mimetype": "text/x-python",
   "name": "python",
   "nbconvert_exporter": "python",
   "pygments_lexer": "ipython3",
   "version": "3.8.12"
  }
 },
 "nbformat": 4,
 "nbformat_minor": 5
}
