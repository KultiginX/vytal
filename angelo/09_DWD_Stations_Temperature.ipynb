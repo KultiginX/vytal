{
 "cells": [
  {
   "cell_type": "markdown",
   "metadata": {},
   "source": [
    "# Read DWD CDC Temp Time Series\n",
    "\n",
    "The main idea behind this activity is to see if there is a correlation between temperature and sales of the stores."
   ]
  },
  {
   "cell_type": "code",
   "execution_count": 86,
   "metadata": {},
   "outputs": [],
   "source": [
    "import datetime as dt\n",
    "import os\n",
    "import ftplib\n",
    "import pandas as pd\n",
    "import geopandas as gpd"
   ]
  },
  {
   "cell_type": "markdown",
   "metadata": {},
   "source": [
    "## FTP Connection"
   ]
  },
  {
   "cell_type": "markdown",
   "metadata": {},
   "source": [
    "### Connection Parameters"
   ]
  },
  {
   "cell_type": "code",
   "execution_count": 87,
   "metadata": {},
   "outputs": [],
   "source": [
    "server = \"opendata.dwd.de\"\n",
    "user   = \"anonymous\"\n",
    "passwd = \"\""
   ]
  },
  {
   "cell_type": "markdown",
   "metadata": {},
   "source": [
    "### FTP Directory Definition and Station Description Filename Pattern"
   ]
  },
  {
   "cell_type": "code",
   "execution_count": 88,
   "metadata": {},
   "outputs": [],
   "source": [
    "# The topic of interest. \n",
    "# https://opendata.dwd.de/climate_environment/CDC/observations_germany/climate/\n",
    "topic_dir = \"daily/kl/historical/\"\n",
    "\n",
    "# This is the search pattern common to ALL station description file names \n",
    "station_desc_pattern = \"_Beschreibung_Stationen.txt\"\n",
    "\n",
    "# Below this directory tree node all climate data are stored.\n",
    "ftp_climate_data_dir = \"/climate_environment/CDC/observations_germany/climate/\"\n",
    "ftp_dir =  ftp_climate_data_dir + topic_dir"
   ]
  },
  {
   "cell_type": "markdown",
   "metadata": {},
   "source": [
    "### Local Directories"
   ]
  },
  {
   "cell_type": "code",
   "execution_count": 89,
   "metadata": {},
   "outputs": [],
   "source": [
    "local_ftp_dir         = \"data/original/DWD/\"      # Local directory to store local ftp data copies, the local data source or input data. \n",
    "local_ftp_station_dir = local_ftp_dir + topic_dir # Local directory where local station info is located\n",
    "local_ftp_ts_dir      = local_ftp_dir + topic_dir # Local directory where time series downloaded from ftp are located\n",
    "\n",
    "local_generated_dir   = \"data/generated/DWD/\" # The generated of derived data in contrast to local_ftp_dir\n",
    "local_station_dir     = local_generated_dir + topic_dir # Derived station data, i.e. the CSV file\n",
    "local_ts_merged_dir   = local_generated_dir + topic_dir # Parallel merged time series, wide data frame with one TS per column\n",
    "local_ts_appended_dir = local_generated_dir + topic_dir # Serially appended time series, long data frame for QGIS TimeManager Plugin"
   ]
  },
  {
   "cell_type": "code",
   "execution_count": 90,
   "metadata": {},
   "outputs": [
    {
     "name": "stdout",
     "output_type": "stream",
     "text": [
      "data/original/DWD/\n",
      "data/original/DWD/hourly/air_temperature/historical/\n",
      "data/original/DWD/hourly/air_temperature/historical/\n",
      "\n",
      "data/generated/DWD/\n",
      "data/generated/DWD/hourly/air_temperature/historical/\n",
      "data/generated/DWD/hourly/air_temperature/historical/\n",
      "data/generated/DWD/hourly/air_temperature/historical/\n"
     ]
    }
   ],
   "source": [
    "print(local_ftp_dir)\n",
    "print(local_ftp_station_dir)\n",
    "print(local_ftp_ts_dir)\n",
    "print()\n",
    "print(local_generated_dir)\n",
    "print(local_station_dir)\n",
    "print(local_ts_merged_dir)\n",
    "print(local_ts_appended_dir)"
   ]
  },
  {
   "cell_type": "code",
   "execution_count": 91,
   "metadata": {},
   "outputs": [],
   "source": [
    "\n",
    "os.makedirs(local_ftp_dir,exist_ok = True) # it does not complain if the dir already exists.\n",
    "os.makedirs(local_ftp_station_dir,exist_ok = True)\n",
    "os.makedirs(local_ftp_ts_dir,exist_ok = True)\n",
    "\n",
    "os.makedirs(local_generated_dir,exist_ok = True)\n",
    "os.makedirs(local_station_dir,exist_ok = True)\n",
    "os.makedirs(local_ts_merged_dir,exist_ok = True)\n",
    "os.makedirs(local_ts_appended_dir,exist_ok = True)"
   ]
  },
  {
   "cell_type": "markdown",
   "metadata": {},
   "source": [
    "### FTP Connect"
   ]
  },
  {
   "cell_type": "code",
   "execution_count": 92,
   "metadata": {},
   "outputs": [
    {
     "name": "stdout",
     "output_type": "stream",
     "text": [
      "230 Login successful.\n"
     ]
    }
   ],
   "source": [
    "\n",
    "ftp = ftplib.FTP(server)\n",
    "res = ftp.login(user=user, passwd = passwd)\n",
    "print(res)"
   ]
  },
  {
   "cell_type": "code",
   "execution_count": 93,
   "metadata": {},
   "outputs": [],
   "source": [
    "ret = ftp.cwd(\".\")"
   ]
  },
  {
   "cell_type": "code",
   "execution_count": 94,
   "metadata": {},
   "outputs": [],
   "source": [
    "#ftp.quit()"
   ]
  },
  {
   "cell_type": "markdown",
   "metadata": {},
   "source": [
    "### FTP Grab File Function"
   ]
  },
  {
   "cell_type": "code",
   "execution_count": 95,
   "metadata": {},
   "outputs": [],
   "source": [
    "def grabFile(ftpfullname,localfullname):\n",
    "    try:\n",
    "        ret = ftp.cwd(\".\") # A dummy action to chack the connection and to provoke an exception if necessary.\n",
    "        localfile = open(localfullname, 'wb')\n",
    "        ftp.retrbinary('RETR ' + ftpfullname, localfile.write, 1024)\n",
    "        localfile.close()\n",
    "    \n",
    "    except ftplib.error_perm:\n",
    "        print(\"FTP ERROR. Operation not permitted. File not found?\")\n",
    "\n",
    "    except ftplib.error_temp:\n",
    "        print(\"FTP ERROR. Timeout.\")\n",
    "\n",
    "    except ConnectionAbortedError:\n",
    "        print(\"FTP ERROR. Connection aborted.\")\n",
    "\n"
   ]
  },
  {
   "cell_type": "markdown",
   "metadata": {},
   "source": [
    "### Generate Pandas Dataframe from FTP Directory Listing"
   ]
  },
  {
   "cell_type": "code",
   "execution_count": 96,
   "metadata": {},
   "outputs": [],
   "source": [
    "\n",
    "\n",
    "def gen_df_from_ftp_dir_listing(ftp, ftpdir):\n",
    "    lines = []\n",
    "    flist = []\n",
    "    try:    \n",
    "        res = ftp.retrlines(\"LIST \"+ftpdir, lines.append)\n",
    "    except:\n",
    "        print(\"Error: ftp.retrlines() failed. ftp timeout? Reconnect!\")\n",
    "        return\n",
    "        \n",
    "    if len(lines) == 0:\n",
    "        print(\"Error: ftp dir is empty\")\n",
    "        return\n",
    "    \n",
    "    for line in lines:\n",
    "#        print(line)\n",
    "        [ftype, fsize, fname] = [line[0:1], int(line[31:42]), line[56:]]\n",
    "#        itemlist = [line[0:1], int(line[31:42]), line[56:]]\n",
    "#        flist.append(itemlist)\n",
    "        \n",
    "        fext = os.path.splitext(fname)[-1]\n",
    "        \n",
    "        if fext == \".zip\":\n",
    "            station_id = int(fname.split(\"_\")[2])\n",
    "        else:\n",
    "            station_id = -1 \n",
    "        \n",
    "        flist.append([station_id, fname, fext, fsize, ftype])\n",
    "        \n",
    "        \n",
    "\n",
    "    df_ftpdir = pd.DataFrame(flist,columns=[\"station_id\", \"name\", \"ext\", \"size\", \"type\"])\n",
    "    return(df_ftpdir)"
   ]
  },
  {
   "cell_type": "code",
   "execution_count": 97,
   "metadata": {},
   "outputs": [],
   "source": [
    "df_ftpdir = gen_df_from_ftp_dir_listing(ftp, ftp_dir)"
   ]
  },
  {
   "cell_type": "code",
   "execution_count": 98,
   "metadata": {},
   "outputs": [
    {
     "data": {
      "text/html": [
       "<div>\n",
       "<style scoped>\n",
       "    .dataframe tbody tr th:only-of-type {\n",
       "        vertical-align: middle;\n",
       "    }\n",
       "\n",
       "    .dataframe tbody tr th {\n",
       "        vertical-align: top;\n",
       "    }\n",
       "\n",
       "    .dataframe thead th {\n",
       "        text-align: right;\n",
       "    }\n",
       "</style>\n",
       "<table border=\"1\" class=\"dataframe\">\n",
       "  <thead>\n",
       "    <tr style=\"text-align: right;\">\n",
       "      <th></th>\n",
       "      <th>station_id</th>\n",
       "      <th>name</th>\n",
       "      <th>ext</th>\n",
       "      <th>size</th>\n",
       "      <th>type</th>\n",
       "    </tr>\n",
       "  </thead>\n",
       "  <tbody>\n",
       "    <tr>\n",
       "      <th>618</th>\n",
       "      <td>13777</td>\n",
       "      <td>stundenwerte_TU_13777_20080601_20201231_hist.zip</td>\n",
       "      <td>.zip</td>\n",
       "      <td>606699</td>\n",
       "      <td>-</td>\n",
       "    </tr>\n",
       "    <tr>\n",
       "      <th>619</th>\n",
       "      <td>13904</td>\n",
       "      <td>stundenwerte_TU_13904_20080915_20100426_hist.zip</td>\n",
       "      <td>.zip</td>\n",
       "      <td>77723</td>\n",
       "      <td>-</td>\n",
       "    </tr>\n",
       "    <tr>\n",
       "      <th>620</th>\n",
       "      <td>13965</td>\n",
       "      <td>stundenwerte_TU_13965_20081201_20201231_hist.zip</td>\n",
       "      <td>.zip</td>\n",
       "      <td>581588</td>\n",
       "      <td>-</td>\n",
       "    </tr>\n",
       "    <tr>\n",
       "      <th>621</th>\n",
       "      <td>14003</td>\n",
       "      <td>stundenwerte_TU_14003_19610103_19920629_hist.zip</td>\n",
       "      <td>.zip</td>\n",
       "      <td>1142478</td>\n",
       "      <td>-</td>\n",
       "    </tr>\n",
       "    <tr>\n",
       "      <th>622</th>\n",
       "      <td>15000</td>\n",
       "      <td>stundenwerte_TU_15000_20110401_20201231_hist.zip</td>\n",
       "      <td>.zip</td>\n",
       "      <td>466964</td>\n",
       "      <td>-</td>\n",
       "    </tr>\n",
       "    <tr>\n",
       "      <th>623</th>\n",
       "      <td>15207</td>\n",
       "      <td>stundenwerte_TU_15207_20131101_20201231_hist.zip</td>\n",
       "      <td>.zip</td>\n",
       "      <td>346831</td>\n",
       "      <td>-</td>\n",
       "    </tr>\n",
       "    <tr>\n",
       "      <th>624</th>\n",
       "      <td>15444</td>\n",
       "      <td>stundenwerte_TU_15444_20140901_20201231_hist.zip</td>\n",
       "      <td>.zip</td>\n",
       "      <td>307651</td>\n",
       "      <td>-</td>\n",
       "    </tr>\n",
       "    <tr>\n",
       "      <th>625</th>\n",
       "      <td>15555</td>\n",
       "      <td>stundenwerte_TU_15555_20160501_20201231_hist.zip</td>\n",
       "      <td>.zip</td>\n",
       "      <td>230027</td>\n",
       "      <td>-</td>\n",
       "    </tr>\n",
       "    <tr>\n",
       "      <th>626</th>\n",
       "      <td>19171</td>\n",
       "      <td>stundenwerte_TU_19171_20200901_20201231_hist.zip</td>\n",
       "      <td>.zip</td>\n",
       "      <td>20827</td>\n",
       "      <td>-</td>\n",
       "    </tr>\n",
       "    <tr>\n",
       "      <th>627</th>\n",
       "      <td>19172</td>\n",
       "      <td>stundenwerte_TU_19172_20200901_20201231_hist.zip</td>\n",
       "      <td>.zip</td>\n",
       "      <td>20596</td>\n",
       "      <td>-</td>\n",
       "    </tr>\n",
       "  </tbody>\n",
       "</table>\n",
       "</div>"
      ],
      "text/plain": [
       "     station_id                                              name   ext  \\\n",
       "618       13777  stundenwerte_TU_13777_20080601_20201231_hist.zip  .zip   \n",
       "619       13904  stundenwerte_TU_13904_20080915_20100426_hist.zip  .zip   \n",
       "620       13965  stundenwerte_TU_13965_20081201_20201231_hist.zip  .zip   \n",
       "621       14003  stundenwerte_TU_14003_19610103_19920629_hist.zip  .zip   \n",
       "622       15000  stundenwerte_TU_15000_20110401_20201231_hist.zip  .zip   \n",
       "623       15207  stundenwerte_TU_15207_20131101_20201231_hist.zip  .zip   \n",
       "624       15444  stundenwerte_TU_15444_20140901_20201231_hist.zip  .zip   \n",
       "625       15555  stundenwerte_TU_15555_20160501_20201231_hist.zip  .zip   \n",
       "626       19171  stundenwerte_TU_19171_20200901_20201231_hist.zip  .zip   \n",
       "627       19172  stundenwerte_TU_19172_20200901_20201231_hist.zip  .zip   \n",
       "\n",
       "        size type  \n",
       "618   606699    -  \n",
       "619    77723    -  \n",
       "620   581588    -  \n",
       "621  1142478    -  \n",
       "622   466964    -  \n",
       "623   346831    -  \n",
       "624   307651    -  \n",
       "625   230027    -  \n",
       "626    20827    -  \n",
       "627    20596    -  "
      ]
     },
     "execution_count": 98,
     "metadata": {},
     "output_type": "execute_result"
    }
   ],
   "source": [
    "df_ftpdir.tail(10)"
   ]
  },
  {
   "cell_type": "markdown",
   "metadata": {},
   "source": [
    "### Dataframe with Temp Zip Files"
   ]
  },
  {
   "cell_type": "code",
   "execution_count": 99,
   "metadata": {},
   "outputs": [
    {
     "data": {
      "text/html": [
       "<div>\n",
       "<style scoped>\n",
       "    .dataframe tbody tr th:only-of-type {\n",
       "        vertical-align: middle;\n",
       "    }\n",
       "\n",
       "    .dataframe tbody tr th {\n",
       "        vertical-align: top;\n",
       "    }\n",
       "\n",
       "    .dataframe thead th {\n",
       "        text-align: right;\n",
       "    }\n",
       "</style>\n",
       "<table border=\"1\" class=\"dataframe\">\n",
       "  <thead>\n",
       "    <tr style=\"text-align: right;\">\n",
       "      <th></th>\n",
       "      <th>name</th>\n",
       "      <th>ext</th>\n",
       "      <th>size</th>\n",
       "      <th>type</th>\n",
       "    </tr>\n",
       "    <tr>\n",
       "      <th>station_id</th>\n",
       "      <th></th>\n",
       "      <th></th>\n",
       "      <th></th>\n",
       "      <th></th>\n",
       "    </tr>\n",
       "  </thead>\n",
       "  <tbody>\n",
       "    <tr>\n",
       "      <th>13777</th>\n",
       "      <td>stundenwerte_TU_13777_20080601_20201231_hist.zip</td>\n",
       "      <td>.zip</td>\n",
       "      <td>606699</td>\n",
       "      <td>-</td>\n",
       "    </tr>\n",
       "    <tr>\n",
       "      <th>13904</th>\n",
       "      <td>stundenwerte_TU_13904_20080915_20100426_hist.zip</td>\n",
       "      <td>.zip</td>\n",
       "      <td>77723</td>\n",
       "      <td>-</td>\n",
       "    </tr>\n",
       "    <tr>\n",
       "      <th>13965</th>\n",
       "      <td>stundenwerte_TU_13965_20081201_20201231_hist.zip</td>\n",
       "      <td>.zip</td>\n",
       "      <td>581588</td>\n",
       "      <td>-</td>\n",
       "    </tr>\n",
       "    <tr>\n",
       "      <th>14003</th>\n",
       "      <td>stundenwerte_TU_14003_19610103_19920629_hist.zip</td>\n",
       "      <td>.zip</td>\n",
       "      <td>1142478</td>\n",
       "      <td>-</td>\n",
       "    </tr>\n",
       "    <tr>\n",
       "      <th>15000</th>\n",
       "      <td>stundenwerte_TU_15000_20110401_20201231_hist.zip</td>\n",
       "      <td>.zip</td>\n",
       "      <td>466964</td>\n",
       "      <td>-</td>\n",
       "    </tr>\n",
       "    <tr>\n",
       "      <th>15207</th>\n",
       "      <td>stundenwerte_TU_15207_20131101_20201231_hist.zip</td>\n",
       "      <td>.zip</td>\n",
       "      <td>346831</td>\n",
       "      <td>-</td>\n",
       "    </tr>\n",
       "    <tr>\n",
       "      <th>15444</th>\n",
       "      <td>stundenwerte_TU_15444_20140901_20201231_hist.zip</td>\n",
       "      <td>.zip</td>\n",
       "      <td>307651</td>\n",
       "      <td>-</td>\n",
       "    </tr>\n",
       "    <tr>\n",
       "      <th>15555</th>\n",
       "      <td>stundenwerte_TU_15555_20160501_20201231_hist.zip</td>\n",
       "      <td>.zip</td>\n",
       "      <td>230027</td>\n",
       "      <td>-</td>\n",
       "    </tr>\n",
       "    <tr>\n",
       "      <th>19171</th>\n",
       "      <td>stundenwerte_TU_19171_20200901_20201231_hist.zip</td>\n",
       "      <td>.zip</td>\n",
       "      <td>20827</td>\n",
       "      <td>-</td>\n",
       "    </tr>\n",
       "    <tr>\n",
       "      <th>19172</th>\n",
       "      <td>stundenwerte_TU_19172_20200901_20201231_hist.zip</td>\n",
       "      <td>.zip</td>\n",
       "      <td>20596</td>\n",
       "      <td>-</td>\n",
       "    </tr>\n",
       "  </tbody>\n",
       "</table>\n",
       "</div>"
      ],
      "text/plain": [
       "                                                        name   ext     size  \\\n",
       "station_id                                                                    \n",
       "13777       stundenwerte_TU_13777_20080601_20201231_hist.zip  .zip   606699   \n",
       "13904       stundenwerte_TU_13904_20080915_20100426_hist.zip  .zip    77723   \n",
       "13965       stundenwerte_TU_13965_20081201_20201231_hist.zip  .zip   581588   \n",
       "14003       stundenwerte_TU_14003_19610103_19920629_hist.zip  .zip  1142478   \n",
       "15000       stundenwerte_TU_15000_20110401_20201231_hist.zip  .zip   466964   \n",
       "15207       stundenwerte_TU_15207_20131101_20201231_hist.zip  .zip   346831   \n",
       "15444       stundenwerte_TU_15444_20140901_20201231_hist.zip  .zip   307651   \n",
       "15555       stundenwerte_TU_15555_20160501_20201231_hist.zip  .zip   230027   \n",
       "19171       stundenwerte_TU_19171_20200901_20201231_hist.zip  .zip    20827   \n",
       "19172       stundenwerte_TU_19172_20200901_20201231_hist.zip  .zip    20596   \n",
       "\n",
       "           type  \n",
       "station_id       \n",
       "13777         -  \n",
       "13904         -  \n",
       "13965         -  \n",
       "14003         -  \n",
       "15000         -  \n",
       "15207         -  \n",
       "15444         -  \n",
       "15555         -  \n",
       "19171         -  \n",
       "19172         -  "
      ]
     },
     "execution_count": 99,
     "metadata": {},
     "output_type": "execute_result"
    }
   ],
   "source": [
    "#df_ftpdir[\"ext\"]==\".zip\"\n",
    "df_zips = df_ftpdir[df_ftpdir[\"ext\"]==\".zip\"]\n",
    "df_zips.set_index(\"station_id\", inplace = True)\n",
    "df_zips.tail(10)"
   ]
  },
  {
   "cell_type": "markdown",
   "metadata": {},
   "source": [
    "### Download the Station Description File"
   ]
  },
  {
   "cell_type": "code",
   "execution_count": 100,
   "metadata": {},
   "outputs": [
    {
     "name": "stdout",
     "output_type": "stream",
     "text": [
      "TU_Stundenwerte_Beschreibung_Stationen.txt\n"
     ]
    }
   ],
   "source": [
    "station_fname = df_ftpdir[df_ftpdir['name'].str.contains(station_desc_pattern)][\"name\"].values[0]\n",
    "print(station_fname)\n",
    "\n",
    "# ALternative\n",
    "#station_fname2 = df_ftpdir[df_ftpdir[\"name\"].str.match(\"^.*Beschreibung_Stationen.*txt$\")][\"name\"].values[0]\n",
    "#print(station_fname2)"
   ]
  },
  {
   "cell_type": "code",
   "execution_count": 101,
   "metadata": {},
   "outputs": [
    {
     "name": "stdout",
     "output_type": "stream",
     "text": [
      "grabFile: \n",
      "From: /climate_environment/CDC/observations_germany/climate/hourly/air_temperature/historical/TU_Stundenwerte_Beschreibung_Stationen.txt\n",
      "To:   data/original/DWD/hourly/air_temperature/historical/TU_Stundenwerte_Beschreibung_Stationen.txt\n"
     ]
    }
   ],
   "source": [
    "print(\"grabFile: \")\n",
    "print(\"From: \" + ftp_dir + station_fname)\n",
    "print(\"To:   \" + local_ftp_station_dir + station_fname)\n",
    "grabFile(ftp_dir + station_fname, local_ftp_station_dir + station_fname)"
   ]
  },
  {
   "cell_type": "code",
   "execution_count": 102,
   "metadata": {},
   "outputs": [],
   "source": [
    "# extract column names. They are in German (de)\n",
    "# We have to use codecs because of difficulties with character encoding (German Umlaute)\n",
    "import codecs\n",
    "\n",
    "def station_desc_txt_to_csv(txtfile, csvfile):\n",
    "    file = codecs.open(txtfile,\"r\",\"utf8\")#\"utf8\", iso8859_2\n",
    "    r = file.readline()\n",
    "    file.close()\n",
    "    colnames_de = r.split()\n",
    "    colnames_de\n",
    "    \n",
    "    translate = \\\n",
    "    {'Stations_id':'station_id',\n",
    "     'von_datum':'date_from',\n",
    "     'bis_datum':'date_to',\n",
    "     'Stationshoehe':'altitude',\n",
    "     'geoBreite': 'latitude',\n",
    "     'geoLaenge': 'longitude',\n",
    "     'Stationsname':'name',\n",
    "     'Bundesland':'state'}\n",
    "    \n",
    "    colnames_en = [translate[h] for h in colnames_de]\n",
    "    \n",
    "    # Skip the first two rows and set the column names.\n",
    "    df = pd.read_fwf(txtfile,skiprows=2,names=colnames_en,encoding='iso8859_2', parse_dates=[\"date_from\",\"date_to\"],index_col = 0)\n",
    "    \n",
    "    # write csv\n",
    "    df.to_csv(csvfile, sep = \";\")\n",
    "    return(df)"
   ]
  },
  {
   "cell_type": "code",
   "execution_count": 103,
   "metadata": {},
   "outputs": [
    {
     "data": {
      "text/html": [
       "<div>\n",
       "<style scoped>\n",
       "    .dataframe tbody tr th:only-of-type {\n",
       "        vertical-align: middle;\n",
       "    }\n",
       "\n",
       "    .dataframe tbody tr th {\n",
       "        vertical-align: top;\n",
       "    }\n",
       "\n",
       "    .dataframe thead th {\n",
       "        text-align: right;\n",
       "    }\n",
       "</style>\n",
       "<table border=\"1\" class=\"dataframe\">\n",
       "  <thead>\n",
       "    <tr style=\"text-align: right;\">\n",
       "      <th></th>\n",
       "      <th>date_from</th>\n",
       "      <th>date_to</th>\n",
       "      <th>altitude</th>\n",
       "      <th>latitude</th>\n",
       "      <th>longitude</th>\n",
       "      <th>name</th>\n",
       "      <th>state</th>\n",
       "    </tr>\n",
       "    <tr>\n",
       "      <th>station_id</th>\n",
       "      <th></th>\n",
       "      <th></th>\n",
       "      <th></th>\n",
       "      <th></th>\n",
       "      <th></th>\n",
       "      <th></th>\n",
       "      <th></th>\n",
       "    </tr>\n",
       "  </thead>\n",
       "  <tbody>\n",
       "    <tr>\n",
       "      <th>15207</th>\n",
       "      <td>2013-11-01</td>\n",
       "      <td>2022-03-02</td>\n",
       "      <td>317</td>\n",
       "      <td>51.2835</td>\n",
       "      <td>9.3590</td>\n",
       "      <td>Schauenburg-Elgershausen</td>\n",
       "      <td>Hessen</td>\n",
       "    </tr>\n",
       "    <tr>\n",
       "      <th>15444</th>\n",
       "      <td>2014-09-01</td>\n",
       "      <td>2022-03-02</td>\n",
       "      <td>593</td>\n",
       "      <td>48.4418</td>\n",
       "      <td>9.9216</td>\n",
       "      <td>Ulm-Mähringen</td>\n",
       "      <td>Baden-Württemberg</td>\n",
       "    </tr>\n",
       "    <tr>\n",
       "      <th>15555</th>\n",
       "      <td>2016-05-01</td>\n",
       "      <td>2022-03-02</td>\n",
       "      <td>815</td>\n",
       "      <td>47.8761</td>\n",
       "      <td>10.5849</td>\n",
       "      <td>Kaufbeuren-Oberbeuren</td>\n",
       "      <td>Bayern</td>\n",
       "    </tr>\n",
       "    <tr>\n",
       "      <th>19171</th>\n",
       "      <td>2020-09-01</td>\n",
       "      <td>2022-03-02</td>\n",
       "      <td>13</td>\n",
       "      <td>54.0038</td>\n",
       "      <td>9.8553</td>\n",
       "      <td>Hasenkrug-Hardebek</td>\n",
       "      <td>Schleswig-Holstein</td>\n",
       "    </tr>\n",
       "    <tr>\n",
       "      <th>19172</th>\n",
       "      <td>2020-09-01</td>\n",
       "      <td>2022-03-02</td>\n",
       "      <td>48</td>\n",
       "      <td>54.0246</td>\n",
       "      <td>9.3880</td>\n",
       "      <td>Wacken</td>\n",
       "      <td>Schleswig-Holstein</td>\n",
       "    </tr>\n",
       "  </tbody>\n",
       "</table>\n",
       "</div>"
      ],
      "text/plain": [
       "            date_from    date_to  altitude  latitude  longitude  \\\n",
       "station_id                                                        \n",
       "15207      2013-11-01 2022-03-02       317   51.2835     9.3590   \n",
       "15444      2014-09-01 2022-03-02       593   48.4418     9.9216   \n",
       "15555      2016-05-01 2022-03-02       815   47.8761    10.5849   \n",
       "19171      2020-09-01 2022-03-02        13   54.0038     9.8553   \n",
       "19172      2020-09-01 2022-03-02        48   54.0246     9.3880   \n",
       "\n",
       "                                name               state  \n",
       "station_id                                                \n",
       "15207       Schauenburg-Elgershausen              Hessen  \n",
       "15444                  Ulm-Mähringen   Baden-Württemberg  \n",
       "15555          Kaufbeuren-Oberbeuren              Bayern  \n",
       "19171             Hasenkrug-Hardebek  Schleswig-Holstein  \n",
       "19172                         Wacken  Schleswig-Holstein  "
      ]
     },
     "execution_count": 103,
     "metadata": {},
     "output_type": "execute_result"
    }
   ],
   "source": [
    "basename = os.path.splitext(station_fname)[0]\n",
    "df_stations = station_desc_txt_to_csv(local_ftp_station_dir + station_fname, local_station_dir + basename + \".csv\")\n",
    "\n",
    "\n",
    "df_stations['date_from']=pd.to_datetime(df_stations['date_from'],infer_datetime_format=True) \n",
    "df_stations['date_to']=pd.to_datetime(df_stations['date_to'],infer_datetime_format=True)\n",
    "df_stations.tail()"
   ]
  },
  {
   "cell_type": "markdown",
   "metadata": {},
   "source": [
    "### Select Stations Located in NRW from Station Description Dataframe"
   ]
  },
  {
   "cell_type": "raw",
   "metadata": {
    "jupyter": {
     "source_hidden": true
    }
   },
   "source": [
    "# Create variable with TRUE if state is Nordrhein-Westfalen\n",
    "isNRW = df_stations['state'] == \"Nordrhein-Westfalen\"\n",
    "\n",
    "# Create variable with TRUE if date_to is latest date (indicates operation up to now)\n",
    "isOperational = df_stations['date_to'] >dt.datetime.strptime('01-01-2019',\"%d-%m-%Y\")\n",
    "\n",
    "\n",
    "# select on both conditions\n",
    "dfNRW = df_stations[isNRW &isOperational]\n",
    "#print(\"Number of stations in NRW: \\n\", dfNRW.count())\n",
    "\n",
    "print(dfNRW.shape)\n",
    "dfNRW.tail(2)"
   ]
  },
  {
   "cell_type": "code",
   "execution_count": 104,
   "metadata": {},
   "outputs": [
    {
     "data": {
      "text/html": [
       "<div>\n",
       "<style scoped>\n",
       "    .dataframe tbody tr th:only-of-type {\n",
       "        vertical-align: middle;\n",
       "    }\n",
       "\n",
       "    .dataframe tbody tr th {\n",
       "        vertical-align: top;\n",
       "    }\n",
       "\n",
       "    .dataframe thead th {\n",
       "        text-align: right;\n",
       "    }\n",
       "</style>\n",
       "<table border=\"1\" class=\"dataframe\">\n",
       "  <thead>\n",
       "    <tr style=\"text-align: right;\">\n",
       "      <th></th>\n",
       "      <th>date_from</th>\n",
       "      <th>date_to</th>\n",
       "      <th>altitude</th>\n",
       "      <th>latitude</th>\n",
       "      <th>longitude</th>\n",
       "      <th>name</th>\n",
       "      <th>state</th>\n",
       "      <th>field_9</th>\n",
       "      <th>ID_0</th>\n",
       "      <th>ISO</th>\n",
       "      <th>...</th>\n",
       "      <th>NAME_1</th>\n",
       "      <th>ID_2</th>\n",
       "      <th>NAME_2</th>\n",
       "      <th>ID_3</th>\n",
       "      <th>NAME_3</th>\n",
       "      <th>TYPE_3</th>\n",
       "      <th>ENGTYPE_3</th>\n",
       "      <th>NL_NAME_3</th>\n",
       "      <th>VARNAME_3</th>\n",
       "      <th>geometry</th>\n",
       "    </tr>\n",
       "    <tr>\n",
       "      <th>station_id</th>\n",
       "      <th></th>\n",
       "      <th></th>\n",
       "      <th></th>\n",
       "      <th></th>\n",
       "      <th></th>\n",
       "      <th></th>\n",
       "      <th></th>\n",
       "      <th></th>\n",
       "      <th></th>\n",
       "      <th></th>\n",
       "      <th></th>\n",
       "      <th></th>\n",
       "      <th></th>\n",
       "      <th></th>\n",
       "      <th></th>\n",
       "      <th></th>\n",
       "      <th></th>\n",
       "      <th></th>\n",
       "      <th></th>\n",
       "      <th></th>\n",
       "      <th></th>\n",
       "    </tr>\n",
       "  </thead>\n",
       "  <tbody>\n",
       "    <tr>\n",
       "      <th>2667</th>\n",
       "      <td>1960-01-01</td>\n",
       "      <td>2022-03-01</td>\n",
       "      <td>92</td>\n",
       "      <td>50.8646</td>\n",
       "      <td>7.1575</td>\n",
       "      <td>Köln-Bonn</td>\n",
       "      <td>Nordrhein-Westfalen</td>\n",
       "      <td>None</td>\n",
       "      <td>86</td>\n",
       "      <td>DEU</td>\n",
       "      <td>...</td>\n",
       "      <td>Nordrhein-Westfalen</td>\n",
       "      <td>29</td>\n",
       "      <td>Köln</td>\n",
       "      <td>289</td>\n",
       "      <td>Cologne Städte</td>\n",
       "      <td>Kreisfreie Städte</td>\n",
       "      <td>Urban district</td>\n",
       "      <td>None</td>\n",
       "      <td>Koln</td>\n",
       "      <td>MULTIPOINT Z (2581532.425 5637222.637 92.000)</td>\n",
       "    </tr>\n",
       "    <tr>\n",
       "      <th>2968</th>\n",
       "      <td>2008-12-01</td>\n",
       "      <td>2022-03-01</td>\n",
       "      <td>43</td>\n",
       "      <td>50.9894</td>\n",
       "      <td>6.9777</td>\n",
       "      <td>Köln-Stammheim</td>\n",
       "      <td>Nordrhein-Westfalen</td>\n",
       "      <td>None</td>\n",
       "      <td>86</td>\n",
       "      <td>DEU</td>\n",
       "      <td>...</td>\n",
       "      <td>Nordrhein-Westfalen</td>\n",
       "      <td>29</td>\n",
       "      <td>Köln</td>\n",
       "      <td>289</td>\n",
       "      <td>Cologne Städte</td>\n",
       "      <td>Kreisfreie Städte</td>\n",
       "      <td>Urban district</td>\n",
       "      <td>None</td>\n",
       "      <td>Koln</td>\n",
       "      <td>MULTIPOINT Z (2568690.662 5650922.640 43.000)</td>\n",
       "    </tr>\n",
       "  </tbody>\n",
       "</table>\n",
       "<p>2 rows × 22 columns</p>\n",
       "</div>"
      ],
      "text/plain": [
       "             date_from     date_to  altitude  latitude  longitude  \\\n",
       "station_id                                                          \n",
       "2667        1960-01-01  2022-03-01        92   50.8646     7.1575   \n",
       "2968        2008-12-01  2022-03-01        43   50.9894     6.9777   \n",
       "\n",
       "                      name                state field_9  ID_0  ISO  ...  \\\n",
       "station_id                                                          ...   \n",
       "2667             Köln-Bonn  Nordrhein-Westfalen    None    86  DEU  ...   \n",
       "2968        Köln-Stammheim  Nordrhein-Westfalen    None    86  DEU  ...   \n",
       "\n",
       "                         NAME_1  ID_2 NAME_2  ID_3          NAME_3  \\\n",
       "station_id                                                           \n",
       "2667        Nordrhein-Westfalen    29   Köln   289  Cologne Städte   \n",
       "2968        Nordrhein-Westfalen    29   Köln   289  Cologne Städte   \n",
       "\n",
       "                       TYPE_3       ENGTYPE_3 NL_NAME_3 VARNAME_3  \\\n",
       "station_id                                                          \n",
       "2667        Kreisfreie Städte  Urban district      None      Koln   \n",
       "2968        Kreisfreie Städte  Urban district      None      Koln   \n",
       "\n",
       "                                                 geometry  \n",
       "station_id                                                 \n",
       "2667        MULTIPOINT Z (2581532.425 5637222.637 92.000)  \n",
       "2968        MULTIPOINT Z (2568690.662 5650922.640 43.000)  \n",
       "\n",
       "[2 rows x 22 columns]"
      ]
     },
     "execution_count": 104,
     "metadata": {},
     "output_type": "execute_result"
    }
   ],
   "source": [
    "temp_s_df=gpd.read_file('./data/generated/DWD/hourly/air_temperature/historical/Temp_df_stations_cologne.geojson', index_col='station_id')\\\n",
    ".set_crs(4326, allow_override=True).to_crs(5676).set_index('station_id')\n",
    "temp_s_df"
   ]
  },
  {
   "cell_type": "code",
   "execution_count": 22,
   "metadata": {},
   "outputs": [
    {
     "data": {
      "text/html": [
       "<div>\n",
       "<style scoped>\n",
       "    .dataframe tbody tr th:only-of-type {\n",
       "        vertical-align: middle;\n",
       "    }\n",
       "\n",
       "    .dataframe tbody tr th {\n",
       "        vertical-align: top;\n",
       "    }\n",
       "\n",
       "    .dataframe thead th {\n",
       "        text-align: right;\n",
       "    }\n",
       "</style>\n",
       "<table border=\"1\" class=\"dataframe\">\n",
       "  <thead>\n",
       "    <tr style=\"text-align: right;\">\n",
       "      <th></th>\n",
       "      <th>name</th>\n",
       "      <th>ext</th>\n",
       "      <th>size</th>\n",
       "      <th>type</th>\n",
       "    </tr>\n",
       "    <tr>\n",
       "      <th>station_id</th>\n",
       "      <th></th>\n",
       "      <th></th>\n",
       "      <th></th>\n",
       "      <th></th>\n",
       "    </tr>\n",
       "  </thead>\n",
       "  <tbody>\n",
       "    <tr>\n",
       "      <th>15207</th>\n",
       "      <td>stundenwerte_TU_15207_20131101_20201231_hist.zip</td>\n",
       "      <td>.zip</td>\n",
       "      <td>346831</td>\n",
       "      <td>-</td>\n",
       "    </tr>\n",
       "    <tr>\n",
       "      <th>15444</th>\n",
       "      <td>stundenwerte_TU_15444_20140901_20201231_hist.zip</td>\n",
       "      <td>.zip</td>\n",
       "      <td>307651</td>\n",
       "      <td>-</td>\n",
       "    </tr>\n",
       "    <tr>\n",
       "      <th>15555</th>\n",
       "      <td>stundenwerte_TU_15555_20160501_20201231_hist.zip</td>\n",
       "      <td>.zip</td>\n",
       "      <td>230027</td>\n",
       "      <td>-</td>\n",
       "    </tr>\n",
       "    <tr>\n",
       "      <th>19171</th>\n",
       "      <td>stundenwerte_TU_19171_20200901_20201231_hist.zip</td>\n",
       "      <td>.zip</td>\n",
       "      <td>20827</td>\n",
       "      <td>-</td>\n",
       "    </tr>\n",
       "    <tr>\n",
       "      <th>19172</th>\n",
       "      <td>stundenwerte_TU_19172_20200901_20201231_hist.zip</td>\n",
       "      <td>.zip</td>\n",
       "      <td>20596</td>\n",
       "      <td>-</td>\n",
       "    </tr>\n",
       "  </tbody>\n",
       "</table>\n",
       "</div>"
      ],
      "text/plain": [
       "                                                        name   ext    size  \\\n",
       "station_id                                                                   \n",
       "15207       stundenwerte_TU_15207_20131101_20201231_hist.zip  .zip  346831   \n",
       "15444       stundenwerte_TU_15444_20140901_20201231_hist.zip  .zip  307651   \n",
       "15555       stundenwerte_TU_15555_20160501_20201231_hist.zip  .zip  230027   \n",
       "19171       stundenwerte_TU_19171_20200901_20201231_hist.zip  .zip   20827   \n",
       "19172       stundenwerte_TU_19172_20200901_20201231_hist.zip  .zip   20596   \n",
       "\n",
       "           type  \n",
       "station_id       \n",
       "15207         -  \n",
       "15444         -  \n",
       "15555         -  \n",
       "19171         -  \n",
       "19172         -  "
      ]
     },
     "execution_count": 22,
     "metadata": {},
     "output_type": "execute_result"
    }
   ],
   "source": [
    "df_zips.tail()"
   ]
  },
  {
   "cell_type": "code",
   "execution_count": 105,
   "metadata": {},
   "outputs": [
    {
     "data": {
      "text/plain": [
       "False"
      ]
     },
     "execution_count": 105,
     "metadata": {},
     "output_type": "execute_result"
    }
   ],
   "source": [
    "#print(dfNRW.index)\n",
    "station_ids_selected = list(temp_s_df.index)\n",
    "set(station_ids_selected).issubset(set(df_zips)) # we have some missing stations"
   ]
  },
  {
   "cell_type": "markdown",
   "metadata": {},
   "source": [
    "### Download TS Data from FTP Server\n",
    "\n",
    "Problem: Not all stations listed in the station description file are associated with a time series (zip file)! The stations in the description file and the set of stations whoch are TS data provided for (zip files) do not match perfectly.  "
   ]
  },
  {
   "cell_type": "code",
   "execution_count": null,
   "metadata": {},
   "outputs": [],
   "source": []
  },
  {
   "cell_type": "code",
   "execution_count": 106,
   "metadata": {},
   "outputs": [],
   "source": [
    "# Add the names of the zip files only to a list. \n",
    "local_zip_list = []\n",
    "\n",
    "for station_id in station_ids_selected:\n",
    "    try:\n",
    "        fname = df_zips[\"name\"][station_id]\n",
    "        #print(fname)\n",
    "        grabFile(ftp_dir + fname, local_ftp_ts_dir + fname)\n",
    "        local_zip_list.append(fname)\n",
    "    except:\n",
    "        print(\"WARNING: TS file for key %d not found in FTP directory.\" % station_id)"
   ]
  },
  {
   "cell_type": "markdown",
   "metadata": {},
   "source": [
    "### Concat the Temp Time Series dfs\n",
    "\n",
    "\n"
   ]
  },
  {
   "cell_type": "code",
   "execution_count": 107,
   "metadata": {},
   "outputs": [],
   "source": [
    "# column names\n",
    "#STATIONS_ID;MESS_DATUM;QN_9;TT_TU;RF_TU;eor"
   ]
  },
  {
   "cell_type": "code",
   "execution_count": 108,
   "metadata": {},
   "outputs": [],
   "source": [
    "import datetime as dt"
   ]
  },
  {
   "cell_type": "code",
   "execution_count": 113,
   "metadata": {},
   "outputs": [],
   "source": [
    "def temp_ts_to_df(fname):\n",
    "    \n",
    "    df = pd.read_csv(fname, delimiter=\";\", encoding=\"iso8859_2\")\n",
    "   \n",
    "    \n",
    "    # https://medium.com/@chaimgluck1/working-with-pandas-fixing-messy-column-names-42a54a6659cd\n",
    "\n",
    "    # Column headers: remove leading blanks (strip), replace \" \" with \"_\", and convert to lower case.\n",
    "    df.columns = df.columns.str.strip().str.lower().str.replace(' ', '_').str.replace('(', '').str.replace(')', '')\n",
    "    #print(df.columns)\n",
    "    df['mess_datum']=pd.to_datetime(df['mess_datum'], format='%Y%m%d%H', utc=True, errors='ignore')\n",
    "    #begin_date=dt.datetime.strptime('01-08-2019',\"%d-%m-%Y\")\n",
    "    begin_date=dt.datetime(2019, 8, 1, 0, 0, 0, tzinfo=dt.timezone.utc)\n",
    "    df=df[df['mess_datum']>begin_date]\n",
    "\n",
    "    return(df)"
   ]
  },
  {
   "cell_type": "code",
   "execution_count": 114,
   "metadata": {},
   "outputs": [],
   "source": [
    "from zipfile import ZipFile"
   ]
  },
  {
   "cell_type": "code",
   "execution_count": 115,
   "metadata": {},
   "outputs": [],
   "source": [
    "\n",
    "def ts_merge():\n",
    "    # Very compact code.\n",
    "    df = pd.DataFrame()\n",
    "    for elt in local_zip_list:\n",
    "        ffname = local_ftp_ts_dir + elt\n",
    "        print(\"Zip archive: \" + ffname)\n",
    "        with ZipFile(ffname) as myzip:\n",
    "            # read the time series data from the file starting with \"produkt\"\n",
    "            prodfilename = [elt for elt in myzip.namelist() if elt.split(\"_\")[0]==\"produkt\"][0] \n",
    "            print(\"Extract product file: %s\" % prodfilename)\n",
    "            print()\n",
    "            with myzip.open(prodfilename) as myfile:\n",
    "                dftmp = temp_ts_to_df(myfile)\n",
    "                df = pd.concat([df, dftmp])\n",
    "\n",
    "    \n",
    "    return(df)"
   ]
  },
  {
   "cell_type": "code",
   "execution_count": 116,
   "metadata": {},
   "outputs": [
    {
     "name": "stdout",
     "output_type": "stream",
     "text": [
      "Zip archive: data/original/DWD/hourly/air_temperature/historical/stundenwerte_TU_02667_19600101_20201231_hist.zip\n",
      "Extract product file: produkt_tu_stunde_19600101_20201231_02667.txt\n",
      "\n",
      "Zip archive: data/original/DWD/hourly/air_temperature/historical/stundenwerte_TU_02968_20081201_20201231_hist.zip\n",
      "Extract product file: produkt_tu_stunde_20081201_20201231_02968.txt\n",
      "\n"
     ]
    }
   ],
   "source": [
    "df_merged_ts = ts_merge()"
   ]
  },
  {
   "cell_type": "markdown",
   "metadata": {},
   "source": [
    "### Description"
   ]
  },
  {
   "cell_type": "markdown",
   "metadata": {},
   "source": [
    "Stations_ID;Von_Datum;Bis_Datum;Stationsname;Parameter;Parameterbeschreibung;Einheit;Datenquelle (Strukturversion=SV);Zusatz-Info;Besonderheiten;Literaturhinweis;eor;\n",
    "3;19500401;19930701;Aachen;RF_TU;relative Feuchte;%;Daten der Temperatur und relativen Feuchte (Stundenwerte) aus analogen Registrierungen (Thermohygrograph);Stundenwerte in MEZ;;;eor;\n",
    "3;19930701;20010401;Aachen;RF_TU;relative Feuchte;%;Daten der Temperatur und relativen Feuchte (Stundenwerte) von automatischen Stationen der 1. Generation (MIRIAM/AFMS2, ESAU-Daten);Stundenwerte in UTC;;;eor;\n",
    "3;20010401;20110331;Aachen;RF_TU;relative Feuchte;%;Daten der Temperatur und relativen Feuchte (Stundenwerte) generiert aus SYNOP-Meldungen (nach dem 01.04.2001);Stundenwerte in UTC;;;eor;\n",
    "3;19500401;19930701;Aachen;TT_TU;Lufttemperatur;∞C;Daten der Temperatur und relativen Feuchte (Stundenwerte) aus analogen Registrierungen (Thermohygrograph);Stundenwerte in MEZ;;;eor;\n",
    "3;19930701;20010401;Aachen;TT_TU;Lufttemperatur;∞C;Daten der Temperatur und relativen Feuchte (Stundenwerte) von automatischen Stationen der 1. Generation (MIRIAM/AFMS2, ESAU-Daten);Stundenwerte in UTC;;;eor;\n",
    "3;20010401;20110331;Aachen;TT_TU;Lufttemperatur;∞C;Daten der Temperatur und relativen Feuchte (Stundenwerte) generiert aus SYNOP-Meldungen (nach dem 01.04.2001);Stundenwerte in UTC;;;eor;\n",
    "Legende: FT  = Folgetag; GZ = Gesetzliche Zeit\n",
    "generiert: 30.03.2021 --  Deutscher Wetterdienst  --\n"
   ]
  },
  {
   "cell_type": "code",
   "execution_count": 117,
   "metadata": {},
   "outputs": [
    {
     "data": {
      "text/html": [
       "<div>\n",
       "<style scoped>\n",
       "    .dataframe tbody tr th:only-of-type {\n",
       "        vertical-align: middle;\n",
       "    }\n",
       "\n",
       "    .dataframe tbody tr th {\n",
       "        vertical-align: top;\n",
       "    }\n",
       "\n",
       "    .dataframe thead th {\n",
       "        text-align: right;\n",
       "    }\n",
       "</style>\n",
       "<table border=\"1\" class=\"dataframe\">\n",
       "  <thead>\n",
       "    <tr style=\"text-align: right;\">\n",
       "      <th></th>\n",
       "      <th>stations_id</th>\n",
       "      <th>mess_datum</th>\n",
       "      <th>qn_9</th>\n",
       "      <th>tt_tu</th>\n",
       "      <th>rf_tu</th>\n",
       "      <th>eor</th>\n",
       "    </tr>\n",
       "  </thead>\n",
       "  <tbody>\n",
       "    <tr>\n",
       "      <th>522288</th>\n",
       "      <td>2667</td>\n",
       "      <td>2019-08-01 01:00:00+00:00</td>\n",
       "      <td>3</td>\n",
       "      <td>13.6</td>\n",
       "      <td>91.0</td>\n",
       "      <td>eor</td>\n",
       "    </tr>\n",
       "    <tr>\n",
       "      <th>522289</th>\n",
       "      <td>2667</td>\n",
       "      <td>2019-08-01 02:00:00+00:00</td>\n",
       "      <td>3</td>\n",
       "      <td>11.9</td>\n",
       "      <td>91.0</td>\n",
       "      <td>eor</td>\n",
       "    </tr>\n",
       "    <tr>\n",
       "      <th>522290</th>\n",
       "      <td>2667</td>\n",
       "      <td>2019-08-01 03:00:00+00:00</td>\n",
       "      <td>3</td>\n",
       "      <td>13.8</td>\n",
       "      <td>84.0</td>\n",
       "      <td>eor</td>\n",
       "    </tr>\n",
       "    <tr>\n",
       "      <th>522291</th>\n",
       "      <td>2667</td>\n",
       "      <td>2019-08-01 04:00:00+00:00</td>\n",
       "      <td>3</td>\n",
       "      <td>14.3</td>\n",
       "      <td>81.0</td>\n",
       "      <td>eor</td>\n",
       "    </tr>\n",
       "    <tr>\n",
       "      <th>522292</th>\n",
       "      <td>2667</td>\n",
       "      <td>2019-08-01 05:00:00+00:00</td>\n",
       "      <td>3</td>\n",
       "      <td>14.0</td>\n",
       "      <td>84.0</td>\n",
       "      <td>eor</td>\n",
       "    </tr>\n",
       "  </tbody>\n",
       "</table>\n",
       "</div>"
      ],
      "text/plain": [
       "        stations_id                mess_datum  qn_9  tt_tu  rf_tu  eor\n",
       "522288         2667 2019-08-01 01:00:00+00:00     3   13.6   91.0  eor\n",
       "522289         2667 2019-08-01 02:00:00+00:00     3   11.9   91.0  eor\n",
       "522290         2667 2019-08-01 03:00:00+00:00     3   13.8   84.0  eor\n",
       "522291         2667 2019-08-01 04:00:00+00:00     3   14.3   81.0  eor\n",
       "522292         2667 2019-08-01 05:00:00+00:00     3   14.0   84.0  eor"
      ]
     },
     "execution_count": 117,
     "metadata": {},
     "output_type": "execute_result"
    }
   ],
   "source": [
    "df_merged_ts['mess_datum']=pd.to_datetime(df_merged_ts['mess_datum'], format='%Y%m%d%H', utc=True, errors='ignore')\n",
    "df_merged_ts.head()"
   ]
  },
  {
   "cell_type": "code",
   "execution_count": 118,
   "metadata": {},
   "outputs": [
    {
     "data": {
      "text/plain": [
       "(24910, 6)"
      ]
     },
     "execution_count": 118,
     "metadata": {},
     "output_type": "execute_result"
    }
   ],
   "source": [
    "df_merged_ts.shape"
   ]
  },
  {
   "cell_type": "code",
   "execution_count": 119,
   "metadata": {},
   "outputs": [
    {
     "data": {
      "text/html": [
       "<div>\n",
       "<style scoped>\n",
       "    .dataframe tbody tr th:only-of-type {\n",
       "        vertical-align: middle;\n",
       "    }\n",
       "\n",
       "    .dataframe tbody tr th {\n",
       "        vertical-align: top;\n",
       "    }\n",
       "\n",
       "    .dataframe thead th {\n",
       "        text-align: right;\n",
       "    }\n",
       "</style>\n",
       "<table border=\"1\" class=\"dataframe\">\n",
       "  <thead>\n",
       "    <tr style=\"text-align: right;\">\n",
       "      <th></th>\n",
       "      <th>date_from</th>\n",
       "      <th>date_to</th>\n",
       "      <th>altitude</th>\n",
       "      <th>latitude</th>\n",
       "      <th>longitude</th>\n",
       "      <th>name</th>\n",
       "      <th>state</th>\n",
       "    </tr>\n",
       "    <tr>\n",
       "      <th>station_id</th>\n",
       "      <th></th>\n",
       "      <th></th>\n",
       "      <th></th>\n",
       "      <th></th>\n",
       "      <th></th>\n",
       "      <th></th>\n",
       "      <th></th>\n",
       "    </tr>\n",
       "  </thead>\n",
       "  <tbody>\n",
       "    <tr>\n",
       "      <th>3</th>\n",
       "      <td>1950-04-01</td>\n",
       "      <td>2011-03-31</td>\n",
       "      <td>202</td>\n",
       "      <td>50.7827</td>\n",
       "      <td>6.0941</td>\n",
       "      <td>Aachen</td>\n",
       "      <td>Nordrhein-Westfalen</td>\n",
       "    </tr>\n",
       "    <tr>\n",
       "      <th>44</th>\n",
       "      <td>2007-04-01</td>\n",
       "      <td>2022-03-02</td>\n",
       "      <td>44</td>\n",
       "      <td>52.9336</td>\n",
       "      <td>8.2370</td>\n",
       "      <td>Großenkneten</td>\n",
       "      <td>Niedersachsen</td>\n",
       "    </tr>\n",
       "  </tbody>\n",
       "</table>\n",
       "</div>"
      ],
      "text/plain": [
       "            date_from    date_to  altitude  latitude  longitude          name  \\\n",
       "station_id                                                                      \n",
       "3          1950-04-01 2011-03-31       202   50.7827     6.0941        Aachen   \n",
       "44         2007-04-01 2022-03-02        44   52.9336     8.2370  Großenkneten   \n",
       "\n",
       "                          state  \n",
       "station_id                       \n",
       "3           Nordrhein-Westfalen  \n",
       "44                Niedersachsen  "
      ]
     },
     "execution_count": 119,
     "metadata": {},
     "output_type": "execute_result"
    }
   ],
   "source": [
    "df_stations.head(2)"
   ]
  },
  {
   "cell_type": "code",
   "execution_count": 120,
   "metadata": {},
   "outputs": [],
   "source": [
    "df_all=df_merged_ts.set_index('stations_id').join(df_stations, how='left')"
   ]
  },
  {
   "cell_type": "code",
   "execution_count": 121,
   "metadata": {},
   "outputs": [],
   "source": [
    "df_merged_ts.to_csv(local_ts_merged_dir + \"ts_merged.csv\",sep=\";\")"
   ]
  },
  {
   "cell_type": "code",
   "execution_count": 122,
   "metadata": {},
   "outputs": [],
   "source": [
    "df_stations.to_csv(local_ts_merged_dir + \"df_stations.csv\",sep=\";\")"
   ]
  },
  {
   "cell_type": "code",
   "execution_count": 123,
   "metadata": {},
   "outputs": [
    {
     "data": {
      "text/html": [
       "<div>\n",
       "<style scoped>\n",
       "    .dataframe tbody tr th:only-of-type {\n",
       "        vertical-align: middle;\n",
       "    }\n",
       "\n",
       "    .dataframe tbody tr th {\n",
       "        vertical-align: top;\n",
       "    }\n",
       "\n",
       "    .dataframe thead th {\n",
       "        text-align: right;\n",
       "    }\n",
       "</style>\n",
       "<table border=\"1\" class=\"dataframe\">\n",
       "  <thead>\n",
       "    <tr style=\"text-align: right;\">\n",
       "      <th></th>\n",
       "      <th>mess_datum</th>\n",
       "      <th>qn_9</th>\n",
       "      <th>tt_tu</th>\n",
       "      <th>rf_tu</th>\n",
       "      <th>eor</th>\n",
       "      <th>date_from</th>\n",
       "      <th>date_to</th>\n",
       "      <th>altitude</th>\n",
       "      <th>latitude</th>\n",
       "      <th>longitude</th>\n",
       "      <th>name</th>\n",
       "      <th>state</th>\n",
       "    </tr>\n",
       "  </thead>\n",
       "  <tbody>\n",
       "    <tr>\n",
       "      <th>2667</th>\n",
       "      <td>2019-08-01 01:00:00+00:00</td>\n",
       "      <td>3</td>\n",
       "      <td>13.6</td>\n",
       "      <td>91.0</td>\n",
       "      <td>eor</td>\n",
       "      <td>1960-01-01</td>\n",
       "      <td>2022-03-02</td>\n",
       "      <td>92</td>\n",
       "      <td>50.8646</td>\n",
       "      <td>7.1575</td>\n",
       "      <td>Köln-Bonn</td>\n",
       "      <td>Nordrhein-Westfalen</td>\n",
       "    </tr>\n",
       "    <tr>\n",
       "      <th>2667</th>\n",
       "      <td>2019-08-01 02:00:00+00:00</td>\n",
       "      <td>3</td>\n",
       "      <td>11.9</td>\n",
       "      <td>91.0</td>\n",
       "      <td>eor</td>\n",
       "      <td>1960-01-01</td>\n",
       "      <td>2022-03-02</td>\n",
       "      <td>92</td>\n",
       "      <td>50.8646</td>\n",
       "      <td>7.1575</td>\n",
       "      <td>Köln-Bonn</td>\n",
       "      <td>Nordrhein-Westfalen</td>\n",
       "    </tr>\n",
       "    <tr>\n",
       "      <th>2667</th>\n",
       "      <td>2019-08-01 03:00:00+00:00</td>\n",
       "      <td>3</td>\n",
       "      <td>13.8</td>\n",
       "      <td>84.0</td>\n",
       "      <td>eor</td>\n",
       "      <td>1960-01-01</td>\n",
       "      <td>2022-03-02</td>\n",
       "      <td>92</td>\n",
       "      <td>50.8646</td>\n",
       "      <td>7.1575</td>\n",
       "      <td>Köln-Bonn</td>\n",
       "      <td>Nordrhein-Westfalen</td>\n",
       "    </tr>\n",
       "    <tr>\n",
       "      <th>2667</th>\n",
       "      <td>2019-08-01 04:00:00+00:00</td>\n",
       "      <td>3</td>\n",
       "      <td>14.3</td>\n",
       "      <td>81.0</td>\n",
       "      <td>eor</td>\n",
       "      <td>1960-01-01</td>\n",
       "      <td>2022-03-02</td>\n",
       "      <td>92</td>\n",
       "      <td>50.8646</td>\n",
       "      <td>7.1575</td>\n",
       "      <td>Köln-Bonn</td>\n",
       "      <td>Nordrhein-Westfalen</td>\n",
       "    </tr>\n",
       "    <tr>\n",
       "      <th>2667</th>\n",
       "      <td>2019-08-01 05:00:00+00:00</td>\n",
       "      <td>3</td>\n",
       "      <td>14.0</td>\n",
       "      <td>84.0</td>\n",
       "      <td>eor</td>\n",
       "      <td>1960-01-01</td>\n",
       "      <td>2022-03-02</td>\n",
       "      <td>92</td>\n",
       "      <td>50.8646</td>\n",
       "      <td>7.1575</td>\n",
       "      <td>Köln-Bonn</td>\n",
       "      <td>Nordrhein-Westfalen</td>\n",
       "    </tr>\n",
       "  </tbody>\n",
       "</table>\n",
       "</div>"
      ],
      "text/plain": [
       "                    mess_datum  qn_9  tt_tu  rf_tu  eor  date_from    date_to  \\\n",
       "2667 2019-08-01 01:00:00+00:00     3   13.6   91.0  eor 1960-01-01 2022-03-02   \n",
       "2667 2019-08-01 02:00:00+00:00     3   11.9   91.0  eor 1960-01-01 2022-03-02   \n",
       "2667 2019-08-01 03:00:00+00:00     3   13.8   84.0  eor 1960-01-01 2022-03-02   \n",
       "2667 2019-08-01 04:00:00+00:00     3   14.3   81.0  eor 1960-01-01 2022-03-02   \n",
       "2667 2019-08-01 05:00:00+00:00     3   14.0   84.0  eor 1960-01-01 2022-03-02   \n",
       "\n",
       "      altitude  latitude  longitude       name                state  \n",
       "2667        92   50.8646     7.1575  Köln-Bonn  Nordrhein-Westfalen  \n",
       "2667        92   50.8646     7.1575  Köln-Bonn  Nordrhein-Westfalen  \n",
       "2667        92   50.8646     7.1575  Köln-Bonn  Nordrhein-Westfalen  \n",
       "2667        92   50.8646     7.1575  Köln-Bonn  Nordrhein-Westfalen  \n",
       "2667        92   50.8646     7.1575  Köln-Bonn  Nordrhein-Westfalen  "
      ]
     },
     "execution_count": 123,
     "metadata": {},
     "output_type": "execute_result"
    }
   ],
   "source": [
    "df_all.head()"
   ]
  },
  {
   "cell_type": "code",
   "execution_count": 124,
   "metadata": {},
   "outputs": [],
   "source": [
    "df_all.to_csv(local_ts_merged_dir + \"df_all.csv\",sep=\";\")"
   ]
  },
  {
   "cell_type": "code",
   "execution_count": 125,
   "metadata": {},
   "outputs": [
    {
     "data": {
      "text/plain": [
       "(24910, 12)"
      ]
     },
     "execution_count": 125,
     "metadata": {},
     "output_type": "execute_result"
    }
   ],
   "source": [
    "df_all.shape"
   ]
  },
  {
   "cell_type": "code",
   "execution_count": 126,
   "metadata": {},
   "outputs": [
    {
     "data": {
      "text/plain": [
       "Timestamp('2020-12-31 23:00:00+0000', tz='UTC')"
      ]
     },
     "execution_count": 126,
     "metadata": {},
     "output_type": "execute_result"
    }
   ],
   "source": [
    " df_all['mess_datum'].max()"
   ]
  },
  {
   "cell_type": "code",
   "execution_count": null,
   "metadata": {},
   "outputs": [],
   "source": []
  },
  {
   "cell_type": "code",
   "execution_count": null,
   "metadata": {},
   "outputs": [],
   "source": []
  }
 ],
 "metadata": {
  "kernelspec": {
   "display_name": "Python 3 (ipykernel)",
   "language": "python",
   "name": "python3"
  },
  "language_info": {
   "codemirror_mode": {
    "name": "ipython",
    "version": 3
   },
   "file_extension": ".py",
   "mimetype": "text/x-python",
   "name": "python",
   "nbconvert_exporter": "python",
   "pygments_lexer": "ipython3",
   "version": "3.8.12"
  }
 },
 "nbformat": 4,
 "nbformat_minor": 4
}
