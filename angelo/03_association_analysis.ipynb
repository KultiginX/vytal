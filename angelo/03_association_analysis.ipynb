{
 "cells": [
  {
   "cell_type": "markdown",
   "metadata": {},
   "source": [
    "## Association Analysis"
   ]
  },
  {
   "cell_type": "code",
   "execution_count": 1,
   "metadata": {},
   "outputs": [],
   "source": [
    "import pandas as pd\n",
    "import numpy as np\n",
    "import geopandas as gpd\n",
    "import matplotlib.pyplot as plt \n",
    "import folium\n",
    "import os\n",
    "import datetime as dt\n",
    "\n",
    "\n",
    "from shapely.geometry import Point\n",
    "import matplotlib\n",
    "import matplotlib.pyplot as plt \n",
    "import folium\n",
    "\n",
    "import networkx as nx\n",
    "import seaborn as sns\n",
    "from sklearn.cluster import KMeans\n",
    "from sklearn.cluster import dbscan\n",
    "# see the folders available\n",
    "import gower\n",
    "import math\n",
    "from sklearn.cluster import DBSCAN\n",
    "import time\n",
    "\n",
    "#os.listdir(os.getcwd())"
   ]
  },
  {
   "cell_type": "code",
   "execution_count": 2,
   "metadata": {},
   "outputs": [],
   "source": [
    "c_co_in=pd.read_csv('association_c_co_in.csv', sep=',', index_col=0,low_memory=False)\n",
    "c_co_out=pd.read_csv('association_c_co_out.csv', sep=',', index_col=0,low_memory=False)\n",
    "c_co_out['OwnerSince']=pd.to_datetime(c_co_out['OwnerSince'], utc=True) \n",
    "c_co_out['OwnerTill']=pd.to_datetime(c_co_out['OwnerTill'], utc=True) "
   ]
  },
  {
   "cell_type": "code",
   "execution_count": 3,
   "metadata": {},
   "outputs": [
    {
     "data": {
      "text/html": [
       "<div>\n",
       "<style scoped>\n",
       "    .dataframe tbody tr th:only-of-type {\n",
       "        vertical-align: middle;\n",
       "    }\n",
       "\n",
       "    .dataframe tbody tr th {\n",
       "        vertical-align: top;\n",
       "    }\n",
       "\n",
       "    .dataframe thead th {\n",
       "        text-align: right;\n",
       "    }\n",
       "</style>\n",
       "<table border=\"1\" class=\"dataframe\">\n",
       "  <thead>\n",
       "    <tr style=\"text-align: right;\">\n",
       "      <th></th>\n",
       "      <th>NextOwnerId</th>\n",
       "      <th>OwnerSince</th>\n",
       "      <th>seconds_2</th>\n",
       "      <th>trans_id_2</th>\n",
       "    </tr>\n",
       "  </thead>\n",
       "  <tbody>\n",
       "    <tr>\n",
       "      <th>1</th>\n",
       "      <td>d9d8a373-29f0-4fe5-8f17-39669083ac48</td>\n",
       "      <td>2019-09-23 07:29:08.691234+00:00</td>\n",
       "      <td>2.292295e+06</td>\n",
       "      <td>NaN</td>\n",
       "    </tr>\n",
       "    <tr>\n",
       "      <th>3</th>\n",
       "      <td>cb1f92f7-ffbb-43a6-b741-b1d71cb2a157</td>\n",
       "      <td>2019-09-23 07:29:29.218375+00:00</td>\n",
       "      <td>2.292297e+06</td>\n",
       "      <td>NaN</td>\n",
       "    </tr>\n",
       "  </tbody>\n",
       "</table>\n",
       "</div>"
      ],
      "text/plain": [
       "                            NextOwnerId                       OwnerSince  \\\n",
       "1  d9d8a373-29f0-4fe5-8f17-39669083ac48 2019-09-23 07:29:08.691234+00:00   \n",
       "3  cb1f92f7-ffbb-43a6-b741-b1d71cb2a157 2019-09-23 07:29:29.218375+00:00   \n",
       "\n",
       "      seconds_2 trans_id_2  \n",
       "1  2.292295e+06        NaN  \n",
       "3  2.292297e+06        NaN  "
      ]
     },
     "execution_count": 3,
     "metadata": {},
     "output_type": "execute_result"
    }
   ],
   "source": [
    "a=pd.to_datetime('01JAN19:00:00:00',format='%d%b%y:%H:%M:%S', utc=False)\n",
    "c_co_out['seconds']=(c_co_out['OwnerSince'].dt.tz_localize(None)-pd.to_datetime(a)).dt.total_seconds()/10 #miliseconds eliminated\n",
    "c_co_out['seconds_2']=c_co_out['seconds']\n",
    "c_co_out[c_co_out.columns[[1,3,-2,-1]]].head(2)"
   ]
  },
  {
   "cell_type": "code",
   "execution_count": 4,
   "metadata": {},
   "outputs": [
    {
     "name": "stdout",
     "output_type": "stream",
     "text": [
      "--- 0.017519712448120117 seconds ---\n",
      "--- 0.01787590980529785 seconds ---\n"
     ]
    },
    {
     "name": "stderr",
     "output_type": "stream",
     "text": [
      "/var/folders/bs/8_rscwxd25z1bcq4d89vsz380000gn/T/ipykernel_3730/1575124896.py:18: SettingWithCopyWarning: \n",
      "A value is trying to be set on a copy of a slice from a DataFrame.\n",
      "Try using .loc[row_indexer,col_indexer] = value instead\n",
      "\n",
      "See the caveats in the documentation: https://pandas.pydata.org/pandas-docs/stable/user_guide/indexing.html#returning-a-view-versus-a-copy\n",
      "  df['cluster']=labels\n"
     ]
    },
    {
     "data": {
      "text/html": [
       "<div>\n",
       "<style scoped>\n",
       "    .dataframe tbody tr th:only-of-type {\n",
       "        vertical-align: middle;\n",
       "    }\n",
       "\n",
       "    .dataframe tbody tr th {\n",
       "        vertical-align: top;\n",
       "    }\n",
       "\n",
       "    .dataframe thead th {\n",
       "        text-align: right;\n",
       "    }\n",
       "</style>\n",
       "<table border=\"1\" class=\"dataframe\">\n",
       "  <thead>\n",
       "    <tr style=\"text-align: right;\">\n",
       "      <th></th>\n",
       "      <th>NextOwnerId</th>\n",
       "      <th>OwnerSince</th>\n",
       "      <th>seconds</th>\n",
       "      <th>cluster</th>\n",
       "    </tr>\n",
       "  </thead>\n",
       "  <tbody>\n",
       "    <tr>\n",
       "      <th>496154</th>\n",
       "      <td>0a8ac91d-7bab-44cb-9397-542658c440ee</td>\n",
       "      <td>2022-03-04 11:23:39.679564+00:00</td>\n",
       "      <td>1.000922e+07</td>\n",
       "      <td>0</td>\n",
       "    </tr>\n",
       "    <tr>\n",
       "      <th>496242</th>\n",
       "      <td>0a8ac91d-7bab-44cb-9397-542658c440ee</td>\n",
       "      <td>2022-03-04 11:27:03.340170+00:00</td>\n",
       "      <td>1.000924e+07</td>\n",
       "      <td>0</td>\n",
       "    </tr>\n",
       "    <tr>\n",
       "      <th>496169</th>\n",
       "      <td>58603946-2314-4f85-ba1f-bb9654cede7b</td>\n",
       "      <td>2022-03-04 11:24:24.811124+00:00</td>\n",
       "      <td>1.000923e+07</td>\n",
       "      <td>1</td>\n",
       "    </tr>\n",
       "    <tr>\n",
       "      <th>496170</th>\n",
       "      <td>58603946-2314-4f85-ba1f-bb9654cede7b</td>\n",
       "      <td>2022-03-04 11:24:24.811124+00:00</td>\n",
       "      <td>1.000923e+07</td>\n",
       "      <td>1</td>\n",
       "    </tr>\n",
       "    <tr>\n",
       "      <th>496171</th>\n",
       "      <td>3aa2f417-1563-45e7-ab51-ba88b54cf41d</td>\n",
       "      <td>2022-03-04 11:24:24.811124+00:00</td>\n",
       "      <td>1.000923e+07</td>\n",
       "      <td>2</td>\n",
       "    </tr>\n",
       "  </tbody>\n",
       "</table>\n",
       "</div>"
      ],
      "text/plain": [
       "                                 NextOwnerId                       OwnerSince  \\\n",
       "496154  0a8ac91d-7bab-44cb-9397-542658c440ee 2022-03-04 11:23:39.679564+00:00   \n",
       "496242  0a8ac91d-7bab-44cb-9397-542658c440ee 2022-03-04 11:27:03.340170+00:00   \n",
       "496169  58603946-2314-4f85-ba1f-bb9654cede7b 2022-03-04 11:24:24.811124+00:00   \n",
       "496170  58603946-2314-4f85-ba1f-bb9654cede7b 2022-03-04 11:24:24.811124+00:00   \n",
       "496171  3aa2f417-1563-45e7-ab51-ba88b54cf41d 2022-03-04 11:24:24.811124+00:00   \n",
       "\n",
       "             seconds  cluster  \n",
       "496154  1.000922e+07        0  \n",
       "496242  1.000924e+07        0  \n",
       "496169  1.000923e+07        1  \n",
       "496170  1.000923e+07        1  \n",
       "496171  1.000923e+07        2  "
      ]
     },
     "execution_count": 4,
     "metadata": {},
     "output_type": "execute_result"
    }
   ],
   "source": [
    "# measure execution time\n",
    "\n",
    "start_time = time.time()\n",
    "\n",
    "\n",
    "#slice df\n",
    "df=c_co_out.tail(100)\n",
    "dist_matrix = gower.gower_matrix(df[['seconds','NextOwnerId']])\n",
    "\n",
    "\n",
    "\n",
    "db = DBSCAN(eps = 0.01, min_samples = 2, metric = \"precomputed\").fit(dist_matrix)\n",
    "print(\"--- %s seconds ---\" % (time.time() - start_time))\n",
    "\n",
    "labels = db.labels_\n",
    "print(\"--- %s seconds ---\" % (time.time() - start_time))\n",
    "\n",
    "df['cluster']=labels\n",
    "df[df['cluster']>=0][['NextOwnerId','OwnerSince','seconds','cluster']].sort_values(by='cluster').head()"
   ]
  },
  {
   "cell_type": "raw",
   "metadata": {
    "tags": []
   },
   "source": [
    "# measure execution time\n",
    "\n",
    "start_time = time.time()\n",
    "\n",
    "\n",
    "#slice df\n",
    "df=c_co_out.copy()\n",
    "dist_matrix = gower.gower_matrix(df[['seconds','NextOwnerId']])\n",
    "\n",
    "\n",
    "\n",
    "db = DBSCAN(eps = 0.01, min_samples = 2, metric = \"precomputed\").fit(dist_matrix)\n",
    "print(\"--- %s seconds ---\" % (time.time() - start_time))\n",
    "\n",
    "labels = db.labels_\n",
    "\n",
    "\n",
    "df['cluster']=labels\n",
    "df[df['cluster']>=0][['NextOwnerId','OwnerSince','seconds','cluster']].sort_values(by='cluster').head()"
   ]
  },
  {
   "cell_type": "code",
   "execution_count": 5,
   "metadata": {
    "tags": []
   },
   "outputs": [
    {
     "name": "stderr",
     "output_type": "stream",
     "text": [
      "/var/folders/bs/8_rscwxd25z1bcq4d89vsz380000gn/T/ipykernel_3730/3236016744.py:3: FutureWarning: The default dtype for empty Series will be 'object' instead of 'float64' in a future version. Specify a dtype explicitly to silence this warning.\n",
      "  c_co_out['trans_id_2']=pd.Series()\n"
     ]
    },
    {
     "name": "stdout",
     "output_type": "stream",
     "text": [
      "--- 577.5808188915253 seconds ---\n"
     ]
    }
   ],
   "source": [
    "# dbscan date by date\n",
    "#dic=dict()\n",
    "c_co_out['trans_id_2']=pd.Series()\n",
    "start_time = time.time()\n",
    "for date in c_co_out['OwnerSince'].dt.date.unique():\n",
    "    df=c_co_out[c_co_out['OwnerSince'].dt.date==date].copy()\n",
    "    dist_matrix = gower.gower_matrix(df[['seconds','NextOwnerId']])\n",
    "    db = DBSCAN(eps = 0.01, min_samples = 2, metric = \"precomputed\").fit(dist_matrix)\n",
    "    #dic[date]=db.labels_\n",
    "    labels = db.labels_\n",
    "\n",
    "\n",
    "    df['cluster']=labels\n",
    "    df['trans_id_2']=(str(date)+'_'+df[df['cluster']>-1]['cluster'].astype(str)  )\n",
    "    x=df[df['cluster']>-1]\n",
    "    #print(id_, x.shape)\n",
    "    c_co_out.update(x['trans_id_2'])\n",
    "    \n",
    "    \n",
    "print(\"--- %s seconds ---\" % (time.time() - start_time))\n",
    "c_co_out.to_csv('association_c_co_out.csv')"
   ]
  },
  {
   "cell_type": "code",
   "execution_count": 6,
   "metadata": {},
   "outputs": [
    {
     "data": {
      "text/plain": [
       "19848"
      ]
     },
     "execution_count": 6,
     "metadata": {},
     "output_type": "execute_result"
    }
   ],
   "source": [
    "# loop over users\n",
    "# However, it takes too much time.\n",
    "len(set(list(c_co_out['NextOwnerId'])))"
   ]
  },
  {
   "cell_type": "raw",
   "metadata": {
    "jupyter": {
     "source_hidden": true
    },
    "tags": []
   },
   "source": [
    "# get clusters of user_id on time axis\n",
    "# We passes seconds column twice since scikit-learn requires at least two columns.\n",
    "\n",
    "start_time = time.time()\n",
    "for id_ in list(set(list(c_co_out['NextOwnerId']))):\n",
    "    user_=c_co_out['NextOwnerId']==id_\n",
    "    \n",
    "    df=c_co_out[user_].copy()\n",
    "    try:\n",
    "        _, labels  = dbscan(df[['seconds','seconds_2']],eps=100*math.sqrt(2), min_samples=2 )\n",
    "        df['cluster']=labels\n",
    "        df['trans_id']=(id_+'_'+df[df['cluster']>-1]['cluster'].astype(str)  )\n",
    "        x=df[df['cluster']>-1]\n",
    "        #print(id_, x.shape)\n",
    "        c_co_out.update(x['trans_id'])\n",
    "    except: continue\n",
    "\n",
    "print(\"--- %s seconds ---\" % (time.time() - start_time))     "
   ]
  },
  {
   "cell_type": "code",
   "execution_count": 7,
   "metadata": {},
   "outputs": [
    {
     "data": {
      "text/plain": [
       "(82800, 20)"
      ]
     },
     "execution_count": 7,
     "metadata": {},
     "output_type": "execute_result"
    }
   ],
   "source": [
    "c_co_out[c_co_out['trans_id_2'].isna()==False].shape"
   ]
  },
  {
   "cell_type": "code",
   "execution_count": 8,
   "metadata": {},
   "outputs": [
    {
     "data": {
      "text/plain": [
       "(281719, 20)"
      ]
     },
     "execution_count": 8,
     "metadata": {},
     "output_type": "execute_result"
    }
   ],
   "source": [
    "c_co_out.shape"
   ]
  },
  {
   "cell_type": "code",
   "execution_count": 9,
   "metadata": {},
   "outputs": [
    {
     "data": {
      "text/plain": [
       "datetime64[ns, UTC]"
      ]
     },
     "execution_count": 9,
     "metadata": {},
     "output_type": "execute_result"
    }
   ],
   "source": [
    "c_co_out['OwnerSince'].dtype"
   ]
  },
  {
   "cell_type": "code",
   "execution_count": 10,
   "metadata": {},
   "outputs": [
    {
     "data": {
      "text/plain": [
       "Index(['OwnerId', 'NextOwnerId', 'ContainerId', 'OwnerSince', 'OwnerTill',\n",
       "       'IsBillableTransaction', 'TransactionId', 'container_type_id',\n",
       "       'owner_store_id', 'next_owner_store_id', 'owner_co_int_',\n",
       "       'next_owner_co_int_', 'owner_claim_type', 'next_owner_claim_type',\n",
       "       'geometry', 'Source', 'Target', 'seconds', 'seconds_2', 'trans_id_2'],\n",
       "      dtype='object')"
      ]
     },
     "execution_count": 10,
     "metadata": {},
     "output_type": "execute_result"
    }
   ],
   "source": [
    "c_co_out.columns"
   ]
  },
  {
   "cell_type": "code",
   "execution_count": null,
   "metadata": {},
   "outputs": [],
   "source": [
    "\n"
   ]
  },
  {
   "cell_type": "code",
   "execution_count": 11,
   "metadata": {},
   "outputs": [
    {
     "data": {
      "text/plain": [
       "TransactionId\n",
       "000205d6-a80c-4877-8fc6-640ad7b07763    1\n",
       "0002a526-e349-4348-88e9-e5713afeec1b    2\n",
       "00034518-ecf2-41fa-b0d5-683f3330f926    2\n",
       "00037ef1-6f4e-413b-ad66-6a34712817b6    1\n",
       "0003c274-c8ad-4894-bf63-b2d1ddf3fd7a    2\n",
       "                                       ..\n",
       "fffd7c86-97b6-4c2c-b212-cd34c9e94ce7    3\n",
       "fffd9b1b-8c02-4cb1-880e-e06ac9d218bd    5\n",
       "fffe47be-cc31-4b6a-8f6e-48863ce4e6ee    1\n",
       "fffef5e8-699f-4b96-af36-84c065a46b7e    2\n",
       "ffff04f3-cd7a-4c19-857f-e9c5f5904f9d    1\n",
       "Name: NextOwnerId, Length: 123117, dtype: int64"
      ]
     },
     "execution_count": 11,
     "metadata": {},
     "output_type": "execute_result"
    }
   ],
   "source": [
    "c_co_out.groupby(by='TransactionId')['NextOwnerId'].size()\n",
    "# Transaction id is not unique. The transactions contain multiple consumers.\n",
    "# Therefore we create by ourself  transaction_id_2"
   ]
  },
  {
   "cell_type": "code",
   "execution_count": 12,
   "metadata": {},
   "outputs": [
    {
     "data": {
      "text/plain": [
       "TransactionId\n",
       "000205d6-a80c-4877-8fc6-640ad7b07763    1\n",
       "0002a526-e349-4348-88e9-e5713afeec1b    2\n",
       "00034518-ecf2-41fa-b0d5-683f3330f926    2\n",
       "00037ef1-6f4e-413b-ad66-6a34712817b6    1\n",
       "0003c274-c8ad-4894-bf63-b2d1ddf3fd7a    2\n",
       "                                       ..\n",
       "fffd7c86-97b6-4c2c-b212-cd34c9e94ce7    3\n",
       "fffd9b1b-8c02-4cb1-880e-e06ac9d218bd    5\n",
       "fffe47be-cc31-4b6a-8f6e-48863ce4e6ee    1\n",
       "fffef5e8-699f-4b96-af36-84c065a46b7e    2\n",
       "ffff04f3-cd7a-4c19-857f-e9c5f5904f9d    1\n",
       "Name: OwnerId, Length: 123117, dtype: int64"
      ]
     },
     "execution_count": 12,
     "metadata": {},
     "output_type": "execute_result"
    }
   ],
   "source": [
    "c_co_out.groupby(by='TransactionId')['OwnerId'].size()\n",
    "#  Similarly, the transactions contain multiple store ids.\n",
    "# Therefore we create by ourself  transaction_id_2"
   ]
  },
  {
   "cell_type": "code",
   "execution_count": 13,
   "metadata": {},
   "outputs": [
    {
     "data": {
      "text/plain": [
       "True"
      ]
     },
     "execution_count": 13,
     "metadata": {},
     "output_type": "execute_result"
    }
   ],
   "source": [
    "c_co_out.index.is_unique"
   ]
  },
  {
   "cell_type": "code",
   "execution_count": 14,
   "metadata": {},
   "outputs": [
    {
     "data": {
      "text/html": [
       "<div>\n",
       "<style scoped>\n",
       "    .dataframe tbody tr th:only-of-type {\n",
       "        vertical-align: middle;\n",
       "    }\n",
       "\n",
       "    .dataframe tbody tr th {\n",
       "        vertical-align: top;\n",
       "    }\n",
       "\n",
       "    .dataframe thead th {\n",
       "        text-align: right;\n",
       "    }\n",
       "</style>\n",
       "<table border=\"1\" class=\"dataframe\">\n",
       "  <thead>\n",
       "    <tr style=\"text-align: right;\">\n",
       "      <th></th>\n",
       "      <th>NextOwnerId</th>\n",
       "      <th>OwnerSince</th>\n",
       "      <th>seconds</th>\n",
       "      <th>trans_id_2</th>\n",
       "    </tr>\n",
       "  </thead>\n",
       "  <tbody>\n",
       "    <tr>\n",
       "      <th>16</th>\n",
       "      <td>2402b7c2-b627-43eb-ae6d-f95f1680e6fd</td>\n",
       "      <td>2019-09-23 07:53:16.247241+00:00</td>\n",
       "      <td>2.292440e+06</td>\n",
       "      <td>2019-09-23_0</td>\n",
       "    </tr>\n",
       "    <tr>\n",
       "      <th>17</th>\n",
       "      <td>2402b7c2-b627-43eb-ae6d-f95f1680e6fd</td>\n",
       "      <td>2019-09-23 07:53:29.774347+00:00</td>\n",
       "      <td>2.292441e+06</td>\n",
       "      <td>2019-09-23_0</td>\n",
       "    </tr>\n",
       "    <tr>\n",
       "      <th>34</th>\n",
       "      <td>786b4bd1-99cb-4bed-99f9-c5fec05c006c</td>\n",
       "      <td>2019-09-23 08:14:30.539862+00:00</td>\n",
       "      <td>2.292567e+06</td>\n",
       "      <td>2019-09-23_1</td>\n",
       "    </tr>\n",
       "    <tr>\n",
       "      <th>38</th>\n",
       "      <td>ba1cffbb-44ad-4099-9f03-4a773b16a6a3</td>\n",
       "      <td>2019-09-23 08:15:09.339326+00:00</td>\n",
       "      <td>2.292571e+06</td>\n",
       "      <td>2019-09-23_2</td>\n",
       "    </tr>\n",
       "    <tr>\n",
       "      <th>41</th>\n",
       "      <td>63890c0a-24ea-475b-8fe0-ab2a7071b226</td>\n",
       "      <td>2019-09-23 08:15:35.965192+00:00</td>\n",
       "      <td>2.292574e+06</td>\n",
       "      <td>2019-09-23_3</td>\n",
       "    </tr>\n",
       "    <tr>\n",
       "      <th>43</th>\n",
       "      <td>63890c0a-24ea-475b-8fe0-ab2a7071b226</td>\n",
       "      <td>2019-09-23 08:15:57.340226+00:00</td>\n",
       "      <td>2.292576e+06</td>\n",
       "      <td>2019-09-23_3</td>\n",
       "    </tr>\n",
       "    <tr>\n",
       "      <th>45</th>\n",
       "      <td>4d847de3-570d-4210-bdfe-9c3511fbefdd</td>\n",
       "      <td>2019-09-23 08:16:11.875092+00:00</td>\n",
       "      <td>2.292577e+06</td>\n",
       "      <td>2019-09-23_4</td>\n",
       "    </tr>\n",
       "    <tr>\n",
       "      <th>46</th>\n",
       "      <td>ba1cffbb-44ad-4099-9f03-4a773b16a6a3</td>\n",
       "      <td>2019-09-23 08:16:19.533157+00:00</td>\n",
       "      <td>2.292578e+06</td>\n",
       "      <td>2019-09-23_2</td>\n",
       "    </tr>\n",
       "    <tr>\n",
       "      <th>50</th>\n",
       "      <td>14360558-42d7-4162-b177-121c9be4ed4c</td>\n",
       "      <td>2019-09-23 08:19:39.260455+00:00</td>\n",
       "      <td>2.292598e+06</td>\n",
       "      <td>2019-09-23_5</td>\n",
       "    </tr>\n",
       "    <tr>\n",
       "      <th>53</th>\n",
       "      <td>786b4bd1-99cb-4bed-99f9-c5fec05c006c</td>\n",
       "      <td>2019-09-23 08:19:56.173780+00:00</td>\n",
       "      <td>2.292600e+06</td>\n",
       "      <td>2019-09-23_1</td>\n",
       "    </tr>\n",
       "  </tbody>\n",
       "</table>\n",
       "</div>"
      ],
      "text/plain": [
       "                             NextOwnerId                       OwnerSince  \\\n",
       "16  2402b7c2-b627-43eb-ae6d-f95f1680e6fd 2019-09-23 07:53:16.247241+00:00   \n",
       "17  2402b7c2-b627-43eb-ae6d-f95f1680e6fd 2019-09-23 07:53:29.774347+00:00   \n",
       "34  786b4bd1-99cb-4bed-99f9-c5fec05c006c 2019-09-23 08:14:30.539862+00:00   \n",
       "38  ba1cffbb-44ad-4099-9f03-4a773b16a6a3 2019-09-23 08:15:09.339326+00:00   \n",
       "41  63890c0a-24ea-475b-8fe0-ab2a7071b226 2019-09-23 08:15:35.965192+00:00   \n",
       "43  63890c0a-24ea-475b-8fe0-ab2a7071b226 2019-09-23 08:15:57.340226+00:00   \n",
       "45  4d847de3-570d-4210-bdfe-9c3511fbefdd 2019-09-23 08:16:11.875092+00:00   \n",
       "46  ba1cffbb-44ad-4099-9f03-4a773b16a6a3 2019-09-23 08:16:19.533157+00:00   \n",
       "50  14360558-42d7-4162-b177-121c9be4ed4c 2019-09-23 08:19:39.260455+00:00   \n",
       "53  786b4bd1-99cb-4bed-99f9-c5fec05c006c 2019-09-23 08:19:56.173780+00:00   \n",
       "\n",
       "         seconds    trans_id_2  \n",
       "16  2.292440e+06  2019-09-23_0  \n",
       "17  2.292441e+06  2019-09-23_0  \n",
       "34  2.292567e+06  2019-09-23_1  \n",
       "38  2.292571e+06  2019-09-23_2  \n",
       "41  2.292574e+06  2019-09-23_3  \n",
       "43  2.292576e+06  2019-09-23_3  \n",
       "45  2.292577e+06  2019-09-23_4  \n",
       "46  2.292578e+06  2019-09-23_2  \n",
       "50  2.292598e+06  2019-09-23_5  \n",
       "53  2.292600e+06  2019-09-23_1  "
      ]
     },
     "execution_count": 14,
     "metadata": {},
     "output_type": "execute_result"
    }
   ],
   "source": [
    "c_co_out[c_co_out['trans_id_2'].isna()==False][['NextOwnerId','OwnerSince','seconds','trans_id_2' ]].head(10)"
   ]
  },
  {
   "cell_type": "code",
   "execution_count": 15,
   "metadata": {},
   "outputs": [],
   "source": [
    "index_list=c_co_out[c_co_out['trans_id_2'].isna()==True].index\n",
    "c_co_out.loc[index_list,'trans_id_2']=index_list"
   ]
  },
  {
   "cell_type": "code",
   "execution_count": 16,
   "metadata": {},
   "outputs": [],
   "source": [
    "diff=c_co_out.groupby('trans_id_2')['seconds'].agg(np.ptp).to_frame()\n",
    "diff['counts']=c_co_out.groupby('trans_id_2').size()\n"
   ]
  },
  {
   "cell_type": "code",
   "execution_count": 17,
   "metadata": {},
   "outputs": [
    {
     "name": "stdout",
     "output_type": "stream",
     "text": [
      "                  seconds  counts\n",
      "trans_id_2                       \n",
      "2021-07-23_34  227.119954       3\n",
      "2021-06-21_18  225.124506       4\n",
      "2021-08-18_22  224.088008       4\n",
      "2021-05-18_10  220.220968       4\n",
      "2022-01-24_68  220.177558       3\n"
     ]
    },
    {
     "data": {
      "text/plain": [
       "Text(0.5, 1.0, 'Distribution of transaction lenghts')"
      ]
     },
     "execution_count": 17,
     "metadata": {},
     "output_type": "execute_result"
    },
    {
     "data": {
      "image/png": "[encoded data removed]",
      "text/plain": [
       "<Figure size 432x288 with 1 Axes>"
      ]
     },
     "metadata": {
      "needs_background": "light"
     },
     "output_type": "display_data"
    }
   ],
   "source": [
    "print(diff.sort_values('seconds', ascending=False).head())\n",
    "diff['seconds'].hist()\n",
    "plt.title('Distribution of transaction lenghts')"
   ]
  },
  {
   "cell_type": "code",
   "execution_count": 18,
   "metadata": {},
   "outputs": [
    {
     "name": "stdout",
     "output_type": "stream",
     "text": [
      "                 seconds  counts\n",
      "trans_id_2                      \n",
      "2021-07-27_40   0.000000       5\n",
      "2021-05-11_103  0.000000       5\n",
      "2022-01-31_75   0.000000       5\n",
      "2020-11-28_17   8.234130       5\n",
      "2020-11-28_14   0.000000       5\n",
      "2020-11-27_99   4.858878       5\n",
      "2022-01-31_65   0.000000       5\n",
      "2021-09-02_75   0.000000       5\n",
      "2021-06-09_11   0.000000       5\n",
      "2022-01-31_56   0.000000       5\n"
     ]
    },
    {
     "data": {
      "text/plain": [
       "Text(0.5, 1.0, 'Distribution of transaction sizes')"
      ]
     },
     "execution_count": 18,
     "metadata": {},
     "output_type": "execute_result"
    },
    {
     "data": {
      "image/png": "[encoded data removed]",
      "text/plain": [
       "<Figure size 432x288 with 1 Axes>"
      ]
     },
     "metadata": {
      "needs_background": "light"
     },
     "output_type": "display_data"
    }
   ],
   "source": [
    "print(diff.sort_values('counts', ascending=False).head(10))\n",
    "diff['counts'].hist(bins=[1,2,3,4,5,6,7,8,9,10])\n",
    "plt.title('Distribution of transaction sizes')"
   ]
  },
  {
   "cell_type": "code",
   "execution_count": 19,
   "metadata": {},
   "outputs": [],
   "source": [
    "# remove outlying transaction ids. \n",
    "# replace them with index id. \n",
    "df=c_co_out.copy()\n",
    "df.loc[df[df['trans_id_2'].isin(diff[diff['counts']>6].index)].index ,\\\n",
    "       ['trans_id_2']]=df[df['trans_id_2'].isin(diff[diff['counts']>6].index)].index"
   ]
  },
  {
   "cell_type": "code",
   "execution_count": 20,
   "metadata": {},
   "outputs": [
    {
     "data": {
      "text/plain": [
       "235495"
      ]
     },
     "execution_count": 20,
     "metadata": {},
     "output_type": "execute_result"
    }
   ],
   "source": [
    "len(set(list(df['trans_id_2'])))"
   ]
  },
  {
   "cell_type": "code",
   "execution_count": 21,
   "metadata": {},
   "outputs": [
    {
     "data": {
      "text/plain": [
       "235495"
      ]
     },
     "execution_count": 21,
     "metadata": {},
     "output_type": "execute_result"
    }
   ],
   "source": [
    "len(set(list(c_co_out['trans_id_2'])))"
   ]
  },
  {
   "cell_type": "code",
   "execution_count": 22,
   "metadata": {},
   "outputs": [],
   "source": [
    "# plots after removing outliers\n",
    "diff2=df.groupby('trans_id_2')['seconds'].agg(np.ptp).to_frame('time_window')\n",
    "diff2['counts_2']=df.groupby('trans_id_2').size()\n"
   ]
  },
  {
   "cell_type": "code",
   "execution_count": null,
   "metadata": {},
   "outputs": [],
   "source": []
  },
  {
   "cell_type": "code",
   "execution_count": 23,
   "metadata": {},
   "outputs": [
    {
     "data": {
      "image/png": "[encoded data removed]",
      "text/plain": [
       "<Figure size 432x288 with 1 Axes>"
      ]
     },
     "metadata": {
      "needs_background": "light"
     },
     "output_type": "display_data"
    }
   ],
   "source": [
    "diff2['counts_2'].hist(alpha=0.5 ,label='count_2')\n",
    "\n",
    "plt.legend()\n",
    "plt.show()"
   ]
  },
  {
   "cell_type": "code",
   "execution_count": 24,
   "metadata": {},
   "outputs": [
    {
     "data": {
      "text/plain": [
       "<AxesSubplot:>"
      ]
     },
     "execution_count": 24,
     "metadata": {},
     "output_type": "execute_result"
    },
    {
     "data": {
      "image/png": "[encoded data removed]",
      "text/plain": [
       "<Figure size 432x288 with 1 Axes>"
      ]
     },
     "metadata": {
      "needs_background": "light"
     },
     "output_type": "display_data"
    }
   ],
   "source": [
    "# time width of the transactions\n",
    "diff2['time_window'].hist()"
   ]
  },
  {
   "cell_type": "code",
   "execution_count": 25,
   "metadata": {},
   "outputs": [
    {
     "data": {
      "text/plain": [
       "<AxesSubplot:>"
      ]
     },
     "execution_count": 25,
     "metadata": {},
     "output_type": "execute_result"
    },
    {
     "data": {
      "image/png": "[encoded data removed]",
      "text/plain": [
       "<Figure size 432x288 with 1 Axes>"
      ]
     },
     "metadata": {
      "needs_background": "light"
     },
     "output_type": "display_data"
    }
   ],
   "source": [
    "diff2[diff2['time_window']>120]['time_window'].hist()"
   ]
  },
  {
   "cell_type": "code",
   "execution_count": 26,
   "metadata": {},
   "outputs": [
    {
     "data": {
      "text/plain": [
       "(235495, 2)"
      ]
     },
     "execution_count": 26,
     "metadata": {},
     "output_type": "execute_result"
    }
   ],
   "source": [
    "diff2.shape"
   ]
  },
  {
   "cell_type": "code",
   "execution_count": 27,
   "metadata": {},
   "outputs": [
    {
     "data": {
      "text/plain": [
       "(247990,)"
      ]
     },
     "execution_count": 27,
     "metadata": {},
     "output_type": "execute_result"
    }
   ],
   "source": [
    "# if we had used only timestamp without clustering in time...\n",
    "df.groupby(by=['NextOwnerId','OwnerSince']).size().sort_values(ascending=False).shape"
   ]
  },
  {
   "cell_type": "code",
   "execution_count": 28,
   "metadata": {},
   "outputs": [
    {
     "data": {
      "text/plain": [
       "-12495"
      ]
     },
     "execution_count": 28,
     "metadata": {},
     "output_type": "execute_result"
    }
   ],
   "source": [
    "diff2.shape[0]- df.groupby(by=['NextOwnerId','OwnerSince']).size().sort_values(ascending=False).shape[0]"
   ]
  },
  {
   "cell_type": "code",
   "execution_count": 29,
   "metadata": {},
   "outputs": [
    {
     "ename": "IntCastingNaNError",
     "evalue": "Cannot convert non-finite values (NA or inf) to integer",
     "output_type": "error",
     "traceback": [
      "\u001b[0;31m---------------------------------------------------------------------------\u001b[0m",
      "\u001b[0;31mIntCastingNaNError\u001b[0m                        Traceback (most recent call last)",
      "Input \u001b[0;32mIn [29]\u001b[0m, in \u001b[0;36m<cell line: 7>\u001b[0;34m()\u001b[0m\n\u001b[1;32m      4\u001b[0m plt\u001b[38;5;241m.\u001b[39mtitle(\u001b[38;5;124m'\u001b[39m\u001b[38;5;124mContainer Type Check-out Sizes\u001b[39m\u001b[38;5;124m'\u001b[39m)\n\u001b[1;32m      5\u001b[0m plt\u001b[38;5;241m.\u001b[39mylabel(\u001b[38;5;124m'\u001b[39m\u001b[38;5;124mCounts\u001b[39m\u001b[38;5;124m'\u001b[39m)\n\u001b[0;32m----> 7\u001b[0m df\u001b[38;5;241m.\u001b[39mgroupby(\u001b[43mdf\u001b[49m\u001b[43m[\u001b[49m\u001b[38;5;124;43m'\u001b[39;49m\u001b[38;5;124;43mcontainer_type_id\u001b[39;49m\u001b[38;5;124;43m'\u001b[39;49m\u001b[43m]\u001b[49m\u001b[38;5;241;43m.\u001b[39;49m\u001b[43mastype\u001b[49m\u001b[43m(\u001b[49m\u001b[38;5;28;43mint\u001b[39;49m\u001b[43m)\u001b[49m)\u001b[38;5;241m.\u001b[39msize()\u001b[38;5;241m.\u001b[39mplot\u001b[38;5;241m.\u001b[39mbar()\n\u001b[1;32m      8\u001b[0m \u001b[38;5;66;03m#plt.hist(df['container_type_id'], bins=11) # convert to hours\u001b[39;00m\n\u001b[1;32m      9\u001b[0m plt\u001b[38;5;241m.\u001b[39mshow()\n",
      "File \u001b[0;32m~/opt/anaconda3/envs/vytal/lib/python3.8/site-packages/pandas/core/generic.py:5912\u001b[0m, in \u001b[0;36mNDFrame.astype\u001b[0;34m(self, dtype, copy, errors)\u001b[0m\n\u001b[1;32m   5905\u001b[0m     results \u001b[38;5;241m=\u001b[39m [\n\u001b[1;32m   5906\u001b[0m         \u001b[38;5;28mself\u001b[39m\u001b[38;5;241m.\u001b[39miloc[:, i]\u001b[38;5;241m.\u001b[39mastype(dtype, copy\u001b[38;5;241m=\u001b[39mcopy)\n\u001b[1;32m   5907\u001b[0m         \u001b[38;5;28;01mfor\u001b[39;00m i \u001b[38;5;129;01min\u001b[39;00m \u001b[38;5;28mrange\u001b[39m(\u001b[38;5;28mlen\u001b[39m(\u001b[38;5;28mself\u001b[39m\u001b[38;5;241m.\u001b[39mcolumns))\n\u001b[1;32m   5908\u001b[0m     ]\n\u001b[1;32m   5910\u001b[0m \u001b[38;5;28;01melse\u001b[39;00m:\n\u001b[1;32m   5911\u001b[0m     \u001b[38;5;66;03m# else, only a single dtype is given\u001b[39;00m\n\u001b[0;32m-> 5912\u001b[0m     new_data \u001b[38;5;241m=\u001b[39m \u001b[38;5;28;43mself\u001b[39;49m\u001b[38;5;241;43m.\u001b[39;49m\u001b[43m_mgr\u001b[49m\u001b[38;5;241;43m.\u001b[39;49m\u001b[43mastype\u001b[49m\u001b[43m(\u001b[49m\u001b[43mdtype\u001b[49m\u001b[38;5;241;43m=\u001b[39;49m\u001b[43mdtype\u001b[49m\u001b[43m,\u001b[49m\u001b[43m \u001b[49m\u001b[43mcopy\u001b[49m\u001b[38;5;241;43m=\u001b[39;49m\u001b[43mcopy\u001b[49m\u001b[43m,\u001b[49m\u001b[43m \u001b[49m\u001b[43merrors\u001b[49m\u001b[38;5;241;43m=\u001b[39;49m\u001b[43merrors\u001b[49m\u001b[43m)\u001b[49m\n\u001b[1;32m   5913\u001b[0m     \u001b[38;5;28;01mreturn\u001b[39;00m \u001b[38;5;28mself\u001b[39m\u001b[38;5;241m.\u001b[39m_constructor(new_data)\u001b[38;5;241m.\u001b[39m__finalize__(\u001b[38;5;28mself\u001b[39m, method\u001b[38;5;241m=\u001b[39m\u001b[38;5;124m\"\u001b[39m\u001b[38;5;124mastype\u001b[39m\u001b[38;5;124m\"\u001b[39m)\n\u001b[1;32m   5915\u001b[0m \u001b[38;5;66;03m# GH 33113: handle empty frame or series\u001b[39;00m\n",
      "File \u001b[0;32m~/opt/anaconda3/envs/vytal/lib/python3.8/site-packages/pandas/core/internals/managers.py:419\u001b[0m, in \u001b[0;36mBaseBlockManager.astype\u001b[0;34m(self, dtype, copy, errors)\u001b[0m\n\u001b[1;32m    418\u001b[0m \u001b[38;5;28;01mdef\u001b[39;00m \u001b[38;5;21mastype\u001b[39m(\u001b[38;5;28mself\u001b[39m: T, dtype, copy: \u001b[38;5;28mbool\u001b[39m \u001b[38;5;241m=\u001b[39m \u001b[38;5;28;01mFalse\u001b[39;00m, errors: \u001b[38;5;28mstr\u001b[39m \u001b[38;5;241m=\u001b[39m \u001b[38;5;124m\"\u001b[39m\u001b[38;5;124mraise\u001b[39m\u001b[38;5;124m\"\u001b[39m) \u001b[38;5;241m-\u001b[39m\u001b[38;5;241m>\u001b[39m T:\n\u001b[0;32m--> 419\u001b[0m     \u001b[38;5;28;01mreturn\u001b[39;00m \u001b[38;5;28;43mself\u001b[39;49m\u001b[38;5;241;43m.\u001b[39;49m\u001b[43mapply\u001b[49m\u001b[43m(\u001b[49m\u001b[38;5;124;43m\"\u001b[39;49m\u001b[38;5;124;43mastype\u001b[39;49m\u001b[38;5;124;43m\"\u001b[39;49m\u001b[43m,\u001b[49m\u001b[43m \u001b[49m\u001b[43mdtype\u001b[49m\u001b[38;5;241;43m=\u001b[39;49m\u001b[43mdtype\u001b[49m\u001b[43m,\u001b[49m\u001b[43m \u001b[49m\u001b[43mcopy\u001b[49m\u001b[38;5;241;43m=\u001b[39;49m\u001b[43mcopy\u001b[49m\u001b[43m,\u001b[49m\u001b[43m \u001b[49m\u001b[43merrors\u001b[49m\u001b[38;5;241;43m=\u001b[39;49m\u001b[43merrors\u001b[49m\u001b[43m)\u001b[49m\n",
      "File \u001b[0;32m~/opt/anaconda3/envs/vytal/lib/python3.8/site-packages/pandas/core/internals/managers.py:304\u001b[0m, in \u001b[0;36mBaseBlockManager.apply\u001b[0;34m(self, f, align_keys, ignore_failures, **kwargs)\u001b[0m\n\u001b[1;32m    302\u001b[0m         applied \u001b[38;5;241m=\u001b[39m b\u001b[38;5;241m.\u001b[39mapply(f, \u001b[38;5;241m*\u001b[39m\u001b[38;5;241m*\u001b[39mkwargs)\n\u001b[1;32m    303\u001b[0m     \u001b[38;5;28;01melse\u001b[39;00m:\n\u001b[0;32m--> 304\u001b[0m         applied \u001b[38;5;241m=\u001b[39m \u001b[38;5;28;43mgetattr\u001b[39;49m\u001b[43m(\u001b[49m\u001b[43mb\u001b[49m\u001b[43m,\u001b[49m\u001b[43m \u001b[49m\u001b[43mf\u001b[49m\u001b[43m)\u001b[49m\u001b[43m(\u001b[49m\u001b[38;5;241;43m*\u001b[39;49m\u001b[38;5;241;43m*\u001b[39;49m\u001b[43mkwargs\u001b[49m\u001b[43m)\u001b[49m\n\u001b[1;32m    305\u001b[0m \u001b[38;5;28;01mexcept\u001b[39;00m (\u001b[38;5;167;01mTypeError\u001b[39;00m, \u001b[38;5;167;01mNotImplementedError\u001b[39;00m):\n\u001b[1;32m    306\u001b[0m     \u001b[38;5;28;01mif\u001b[39;00m \u001b[38;5;129;01mnot\u001b[39;00m ignore_failures:\n",
      "File \u001b[0;32m~/opt/anaconda3/envs/vytal/lib/python3.8/site-packages/pandas/core/internals/blocks.py:580\u001b[0m, in \u001b[0;36mBlock.astype\u001b[0;34m(self, dtype, copy, errors)\u001b[0m\n\u001b[1;32m    562\u001b[0m \u001b[38;5;124;03m\"\"\"\u001b[39;00m\n\u001b[1;32m    563\u001b[0m \u001b[38;5;124;03mCoerce to the new dtype.\u001b[39;00m\n\u001b[1;32m    564\u001b[0m \n\u001b[0;32m   (...)\u001b[0m\n\u001b[1;32m    576\u001b[0m \u001b[38;5;124;03mBlock\u001b[39;00m\n\u001b[1;32m    577\u001b[0m \u001b[38;5;124;03m\"\"\"\u001b[39;00m\n\u001b[1;32m    578\u001b[0m values \u001b[38;5;241m=\u001b[39m \u001b[38;5;28mself\u001b[39m\u001b[38;5;241m.\u001b[39mvalues\n\u001b[0;32m--> 580\u001b[0m new_values \u001b[38;5;241m=\u001b[39m \u001b[43mastype_array_safe\u001b[49m\u001b[43m(\u001b[49m\u001b[43mvalues\u001b[49m\u001b[43m,\u001b[49m\u001b[43m \u001b[49m\u001b[43mdtype\u001b[49m\u001b[43m,\u001b[49m\u001b[43m \u001b[49m\u001b[43mcopy\u001b[49m\u001b[38;5;241;43m=\u001b[39;49m\u001b[43mcopy\u001b[49m\u001b[43m,\u001b[49m\u001b[43m \u001b[49m\u001b[43merrors\u001b[49m\u001b[38;5;241;43m=\u001b[39;49m\u001b[43merrors\u001b[49m\u001b[43m)\u001b[49m\n\u001b[1;32m    582\u001b[0m new_values \u001b[38;5;241m=\u001b[39m maybe_coerce_values(new_values)\n\u001b[1;32m    583\u001b[0m newb \u001b[38;5;241m=\u001b[39m \u001b[38;5;28mself\u001b[39m\u001b[38;5;241m.\u001b[39mmake_block(new_values)\n",
      "File \u001b[0;32m~/opt/anaconda3/envs/vytal/lib/python3.8/site-packages/pandas/core/dtypes/cast.py:1292\u001b[0m, in \u001b[0;36mastype_array_safe\u001b[0;34m(values, dtype, copy, errors)\u001b[0m\n\u001b[1;32m   1289\u001b[0m     dtype \u001b[38;5;241m=\u001b[39m dtype\u001b[38;5;241m.\u001b[39mnumpy_dtype\n\u001b[1;32m   1291\u001b[0m \u001b[38;5;28;01mtry\u001b[39;00m:\n\u001b[0;32m-> 1292\u001b[0m     new_values \u001b[38;5;241m=\u001b[39m \u001b[43mastype_array\u001b[49m\u001b[43m(\u001b[49m\u001b[43mvalues\u001b[49m\u001b[43m,\u001b[49m\u001b[43m \u001b[49m\u001b[43mdtype\u001b[49m\u001b[43m,\u001b[49m\u001b[43m \u001b[49m\u001b[43mcopy\u001b[49m\u001b[38;5;241;43m=\u001b[39;49m\u001b[43mcopy\u001b[49m\u001b[43m)\u001b[49m\n\u001b[1;32m   1293\u001b[0m \u001b[38;5;28;01mexcept\u001b[39;00m (\u001b[38;5;167;01mValueError\u001b[39;00m, \u001b[38;5;167;01mTypeError\u001b[39;00m):\n\u001b[1;32m   1294\u001b[0m     \u001b[38;5;66;03m# e.g. astype_nansafe can fail on object-dtype of strings\u001b[39;00m\n\u001b[1;32m   1295\u001b[0m     \u001b[38;5;66;03m#  trying to convert to float\u001b[39;00m\n\u001b[1;32m   1296\u001b[0m     \u001b[38;5;28;01mif\u001b[39;00m errors \u001b[38;5;241m==\u001b[39m \u001b[38;5;124m\"\u001b[39m\u001b[38;5;124mignore\u001b[39m\u001b[38;5;124m\"\u001b[39m:\n",
      "File \u001b[0;32m~/opt/anaconda3/envs/vytal/lib/python3.8/site-packages/pandas/core/dtypes/cast.py:1237\u001b[0m, in \u001b[0;36mastype_array\u001b[0;34m(values, dtype, copy)\u001b[0m\n\u001b[1;32m   1234\u001b[0m     values \u001b[38;5;241m=\u001b[39m values\u001b[38;5;241m.\u001b[39mastype(dtype, copy\u001b[38;5;241m=\u001b[39mcopy)\n\u001b[1;32m   1236\u001b[0m \u001b[38;5;28;01melse\u001b[39;00m:\n\u001b[0;32m-> 1237\u001b[0m     values \u001b[38;5;241m=\u001b[39m \u001b[43mastype_nansafe\u001b[49m\u001b[43m(\u001b[49m\u001b[43mvalues\u001b[49m\u001b[43m,\u001b[49m\u001b[43m \u001b[49m\u001b[43mdtype\u001b[49m\u001b[43m,\u001b[49m\u001b[43m \u001b[49m\u001b[43mcopy\u001b[49m\u001b[38;5;241;43m=\u001b[39;49m\u001b[43mcopy\u001b[49m\u001b[43m)\u001b[49m\n\u001b[1;32m   1239\u001b[0m \u001b[38;5;66;03m# in pandas we don't store numpy str dtypes, so convert to object\u001b[39;00m\n\u001b[1;32m   1240\u001b[0m \u001b[38;5;28;01mif\u001b[39;00m \u001b[38;5;28misinstance\u001b[39m(dtype, np\u001b[38;5;241m.\u001b[39mdtype) \u001b[38;5;129;01mand\u001b[39;00m \u001b[38;5;28missubclass\u001b[39m(values\u001b[38;5;241m.\u001b[39mdtype\u001b[38;5;241m.\u001b[39mtype, \u001b[38;5;28mstr\u001b[39m):\n",
      "File \u001b[0;32m~/opt/anaconda3/envs/vytal/lib/python3.8/site-packages/pandas/core/dtypes/cast.py:1148\u001b[0m, in \u001b[0;36mastype_nansafe\u001b[0;34m(arr, dtype, copy, skipna)\u001b[0m\n\u001b[1;32m   1145\u001b[0m     \u001b[38;5;28;01mraise\u001b[39;00m \u001b[38;5;167;01mTypeError\u001b[39;00m(\u001b[38;5;124mf\u001b[39m\u001b[38;5;124m\"\u001b[39m\u001b[38;5;124mcannot astype a timedelta from [\u001b[39m\u001b[38;5;132;01m{\u001b[39;00marr\u001b[38;5;241m.\u001b[39mdtype\u001b[38;5;132;01m}\u001b[39;00m\u001b[38;5;124m] to [\u001b[39m\u001b[38;5;132;01m{\u001b[39;00mdtype\u001b[38;5;132;01m}\u001b[39;00m\u001b[38;5;124m]\u001b[39m\u001b[38;5;124m\"\u001b[39m)\n\u001b[1;32m   1147\u001b[0m \u001b[38;5;28;01melif\u001b[39;00m np\u001b[38;5;241m.\u001b[39missubdtype(arr\u001b[38;5;241m.\u001b[39mdtype, np\u001b[38;5;241m.\u001b[39mfloating) \u001b[38;5;129;01mand\u001b[39;00m np\u001b[38;5;241m.\u001b[39missubdtype(dtype, np\u001b[38;5;241m.\u001b[39minteger):\n\u001b[0;32m-> 1148\u001b[0m     \u001b[38;5;28;01mreturn\u001b[39;00m \u001b[43mastype_float_to_int_nansafe\u001b[49m\u001b[43m(\u001b[49m\u001b[43marr\u001b[49m\u001b[43m,\u001b[49m\u001b[43m \u001b[49m\u001b[43mdtype\u001b[49m\u001b[43m,\u001b[49m\u001b[43m \u001b[49m\u001b[43mcopy\u001b[49m\u001b[43m)\u001b[49m\n\u001b[1;32m   1150\u001b[0m \u001b[38;5;28;01melif\u001b[39;00m is_object_dtype(arr\u001b[38;5;241m.\u001b[39mdtype):\n\u001b[1;32m   1151\u001b[0m \n\u001b[1;32m   1152\u001b[0m     \u001b[38;5;66;03m# work around NumPy brokenness, #1987\u001b[39;00m\n\u001b[1;32m   1153\u001b[0m     \u001b[38;5;28;01mif\u001b[39;00m np\u001b[38;5;241m.\u001b[39missubdtype(dtype\u001b[38;5;241m.\u001b[39mtype, np\u001b[38;5;241m.\u001b[39minteger):\n",
      "File \u001b[0;32m~/opt/anaconda3/envs/vytal/lib/python3.8/site-packages/pandas/core/dtypes/cast.py:1193\u001b[0m, in \u001b[0;36mastype_float_to_int_nansafe\u001b[0;34m(values, dtype, copy)\u001b[0m\n\u001b[1;32m   1189\u001b[0m \u001b[38;5;124;03m\"\"\"\u001b[39;00m\n\u001b[1;32m   1190\u001b[0m \u001b[38;5;124;03mastype with a check preventing converting NaN to an meaningless integer value.\u001b[39;00m\n\u001b[1;32m   1191\u001b[0m \u001b[38;5;124;03m\"\"\"\u001b[39;00m\n\u001b[1;32m   1192\u001b[0m \u001b[38;5;28;01mif\u001b[39;00m \u001b[38;5;129;01mnot\u001b[39;00m np\u001b[38;5;241m.\u001b[39misfinite(values)\u001b[38;5;241m.\u001b[39mall():\n\u001b[0;32m-> 1193\u001b[0m     \u001b[38;5;28;01mraise\u001b[39;00m IntCastingNaNError(\n\u001b[1;32m   1194\u001b[0m         \u001b[38;5;124m\"\u001b[39m\u001b[38;5;124mCannot convert non-finite values (NA or inf) to integer\u001b[39m\u001b[38;5;124m\"\u001b[39m\n\u001b[1;32m   1195\u001b[0m     )\n\u001b[1;32m   1196\u001b[0m \u001b[38;5;28;01mreturn\u001b[39;00m values\u001b[38;5;241m.\u001b[39mastype(dtype, copy\u001b[38;5;241m=\u001b[39mcopy)\n",
      "\u001b[0;31mIntCastingNaNError\u001b[0m: Cannot convert non-finite values (NA or inf) to integer"
     ]
    },
    {
     "data": {
      "image/png": "[encoded data removed]",
      "text/plain": [
       "<Figure size 720x360 with 1 Axes>"
      ]
     },
     "metadata": {
      "needs_background": "light"
     },
     "output_type": "display_data"
    }
   ],
   "source": [
    "# plot how often which container types are check-out. \n",
    "# \n",
    "plt.figure(figsize=(10,5))\n",
    "plt.title('Container Type Check-out Sizes')\n",
    "plt.ylabel('Counts')\n",
    "\n",
    "df.groupby(df['container_type_id'].astype(int)).size().plot.bar()\n",
    "#plt.hist(df['container_type_id'], bins=11) # convert to hours\n",
    "plt.show()"
   ]
  },
  {
   "cell_type": "code",
   "execution_count": null,
   "metadata": {},
   "outputs": [],
   "source": [
    "df[df['trans_id_2'].isna()]"
   ]
  },
  {
   "cell_type": "code",
   "execution_count": null,
   "metadata": {},
   "outputs": [],
   "source": [
    "df.tail(5)"
   ]
  },
  {
   "cell_type": "code",
   "execution_count": null,
   "metadata": {},
   "outputs": [],
   "source": [
    "df['trans_id_2'].is_unique"
   ]
  },
  {
   "cell_type": "markdown",
   "metadata": {},
   "source": [
    "## Association"
   ]
  },
  {
   "cell_type": "code",
   "execution_count": null,
   "metadata": {},
   "outputs": [],
   "source": [
    "from mlxtend.frequent_patterns import apriori\n",
    "from mlxtend.frequent_patterns import association_rules"
   ]
  },
  {
   "cell_type": "code",
   "execution_count": null,
   "metadata": {},
   "outputs": [],
   "source": [
    "basket= (df.groupby(['trans_id_2', 'container_type_id']).size().unstack().reset_index().fillna(0).set_index('trans_id_2'))\n"
   ]
  },
  {
   "cell_type": "code",
   "execution_count": null,
   "metadata": {},
   "outputs": [],
   "source": [
    "basket.head()"
   ]
  },
  {
   "cell_type": "code",
   "execution_count": null,
   "metadata": {},
   "outputs": [],
   "source": [
    "# we change the matrix into 1: borrowed or 0: not borrowed. \n",
    "# In other words, we do not care about multiple borrowings of the same container types. \n",
    "# The question is here: is there any interaction between borrowings of different container types? \n",
    "#That refers exactly the associiation analysis. \n",
    "def hot_encode(x):\n",
    "    if(x<= 0):\n",
    "        return 0\n",
    "    if(x>= 1):\n",
    "        return 1\n",
    "\n",
    "# Encoding the datasets\n",
    "basket_encoded = basket.applymap(hot_encode)\n",
    "basket = basket_encoded"
   ]
  },
  {
   "cell_type": "code",
   "execution_count": null,
   "metadata": {},
   "outputs": [],
   "source": [
    "basket"
   ]
  },
  {
   "cell_type": "code",
   "execution_count": null,
   "metadata": {},
   "outputs": [],
   "source": [
    "set(list(basket.sum(axis=1)))"
   ]
  },
  {
   "cell_type": "code",
   "execution_count": null,
   "metadata": {},
   "outputs": [],
   "source": [
    "# The number of items in transactions.\n",
    "# People usually get only one container.\n",
    "\n",
    "a=basket.sum(axis=1)\n",
    "\n",
    "unique, counts = np.unique(a, return_counts=True)\n",
    "print('Total number of transactions:',sum(counts))\n",
    "print('The number of container types that are borrowed:')\n",
    "dict(zip(unique, counts))"
   ]
  },
  {
   "cell_type": "code",
   "execution_count": null,
   "metadata": {},
   "outputs": [],
   "source": [
    "# create frequent itemsets\n",
    "itemsets = apriori(basket, min_support=0.0001, use_colnames=True)\n",
    "\n",
    "# and convert into rules\n",
    "rules = association_rules(itemsets, metric='lift', min_threshold=1)\n",
    "#rules.sort_values(by=['lift'], ascending=False).head(6)\n",
    "rules.drop(columns=[ 'conviction', 'leverage']).sort_values(by=['lift'], ascending=False)\n",
    "#"
   ]
  },
  {
   "cell_type": "markdown",
   "metadata": {},
   "source": [
    "see the link for the definitions above in the dataframe (support, lift, etc.)\n",
    "http://rasbt.github.io/mlxtend/user_guide/frequent_patterns/association_rules/ <br>\n"
   ]
  },
  {
   "cell_type": "markdown",
   "metadata": {},
   "source": [
    "## Conclusion\n",
    "Since the transactions usually contain only one item, supports are low. \n",
    "The most significant rule is the 2nd rule as sorted by 'Lift' measurement.\n",
    "However, its support is one of the lowest.\n",
    "Therefore, I conclude further investigation in association analysis is not needed in the lights of support and Lift measurements.\n",
    "Furthermore, further analysis (demand prediction, optimization of the rebalancing, etc.) can focus on container type 1. \n",
    "\n",
    "\n"
   ]
  },
  {
   "cell_type": "code",
   "execution_count": null,
   "metadata": {},
   "outputs": [],
   "source": [
    "## Save the dataframes for further analysis\n",
    "#c_co_in.to_csv('c_co_in.csv')\n",
    "rules.to_csv('association_rules.csv')\n",
    "\n"
   ]
  },
  {
   "cell_type": "code",
   "execution_count": null,
   "metadata": {},
   "outputs": [],
   "source": []
  },
  {
   "cell_type": "code",
   "execution_count": null,
   "metadata": {},
   "outputs": [],
   "source": []
  },
  {
   "cell_type": "code",
   "execution_count": null,
   "metadata": {},
   "outputs": [],
   "source": []
  },
  {
   "cell_type": "code",
   "execution_count": null,
   "metadata": {},
   "outputs": [],
   "source": []
  }
 ],
 "metadata": {
  "kernelspec": {
   "display_name": "Python 3 (ipykernel)",
   "language": "python",
   "name": "python3"
  },
  "language_info": {
   "codemirror_mode": {
    "name": "ipython",
    "version": 3
   },
   "file_extension": ".py",
   "mimetype": "text/x-python",
   "name": "python",
   "nbconvert_exporter": "python",
   "pygments_lexer": "ipython3",
   "version": "3.8.12"
  }
 },
 "nbformat": 4,
 "nbformat_minor": 4
}
