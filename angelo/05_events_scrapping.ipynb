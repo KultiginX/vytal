{
 "cells": [
  {
   "cell_type": "markdown",
   "metadata": {},
   "source": [
    "## Events in Cologne"
   ]
  },
  {
   "cell_type": "code",
   "execution_count": 4,
   "metadata": {},
   "outputs": [],
   "source": [
    "import requests\n",
    "from bs4 import BeautifulSoup\n",
    "import pandas as pd"
   ]
  },
  {
   "cell_type": "code",
   "execution_count": 116,
   "metadata": {},
   "outputs": [
    {
     "data": {
      "text/plain": [
       "{'Ausstellung': '27',\n",
       " 'Bauleitplanung Öffentlichkeitsbeteiligung': '92',\n",
       " 'Beratung': '83',\n",
       " 'Bürgerhaus Kalk': '44',\n",
       " 'Bürgerhaus Stollwerck': '32',\n",
       " 'Bürgerzentrum Chorweiler': '91',\n",
       " 'Dezernat III': '90',\n",
       " 'Digital': '88',\n",
       " 'Diskussion': '85',\n",
       " 'Existenzgründung': '49',\n",
       " 'Familie': '75',\n",
       " 'Ferienprogramm': '28',\n",
       " 'Film': '46',\n",
       " 'Frauen + Gleichstellung': '45',\n",
       " 'Führung': '23',\n",
       " 'Geschichte': '52',\n",
       " 'Gesundheit': '89',\n",
       " 'Historisches Archiv': '71',\n",
       " 'Interkulturelle Woche': '43',\n",
       " 'Internationales': '80',\n",
       " 'Kabarett': '15',\n",
       " 'Kinder + Jugend': '21',\n",
       " 'Kleinkunst': '13',\n",
       " 'Konzert': '7',\n",
       " 'Kultur': '99',\n",
       " 'Lesung': '37',\n",
       " 'Literatur': '53',\n",
       " 'Menschen mit Behinderungen': '60',\n",
       " 'Messen': '94',\n",
       " 'Museum': '50',\n",
       " 'Natur und Grün': '17',\n",
       " 'Planen und Bauen': '74',\n",
       " 'Radfahren': '96',\n",
       " 'Rathaussaal Porz': '101',\n",
       " 'Rheinische Musikschule': '14',\n",
       " 'Seniorinnen und Senioren': '34',\n",
       " 'Sonstige Veranstaltungen': '12',\n",
       " 'Sport': '64',\n",
       " 'Stadtbibliothek': '59',\n",
       " 'Städtepartnerschaft': '42',\n",
       " 'Tagung': '57',\n",
       " 'Tanz': '84',\n",
       " 'Theater': '4',\n",
       " 'Umwelt und Grün': '9',\n",
       " 'Verkehr': '78',\n",
       " 'Versteigerung': '38',\n",
       " 'Vortrag': '6',\n",
       " 'Weiterbildung': '54',\n",
       " 'Wissenschaft im Rathaus': '68',\n",
       " 'Workshop': '86'}"
      ]
     },
     "execution_count": 116,
     "metadata": {},
     "output_type": "execute_result"
    }
   ],
   "source": [
    "url=\"https://www.stadt-koeln.de/leben-in-koeln/veranstaltungen/index.html?from=20190801&to=20211101\"\n",
    "page = requests.get(url)\n",
    "soup = BeautifulSoup(page.content, 'html.parser')\n",
    "calendar = soup.find(id=\"veranstaltungssuchergebnis\")\n",
    "\n",
    "category=soup.find(id='veranstaltung_kategorie')\n",
    "#category\n",
    "\n",
    "\n",
    "cat={}\n",
    "for option in category.find_all('option'):\n",
    "    cat[option.text]=option['value']\n",
    "    #print (option['value'], option.text)\n",
    "\n",
    "\n",
    "del cat['Alle Kategorien']\n",
    "cat"
   ]
  },
  {
   "cell_type": "code",
   "execution_count": 144,
   "metadata": {},
   "outputs": [],
   "source": [
    "\n",
    "\n",
    "## Calendars \n",
    "# Kategorie=94 e.g. Messen\n",
    "cat_element='101'\n",
    "\n",
    "def get_search_size(cat_element):\n",
    "    url=''.join([\"https://www.stadt-koeln.de/leben-in-koeln/veranstaltungen/index.html?from=20190801&to=20211101&veranstaltung_kategorie=\",cat_element])\n",
    "    page = requests.get(url)\n",
    "    soup = BeautifulSoup(page.content, 'html.parser')\n",
    "\n",
    "    event_nu = soup.find(class_=\"innerer_block1 grid_1 firstchild\")\n",
    "    if event_nu is not None:\n",
    "        len_=int(event_nu.get_text().split(' ')[-1])\n",
    "    else:\n",
    "        len_=0\n",
    "    #try:\n",
    "        #event_nu = soup.find(class_=\"innerer_block1 grid_1 firstchild\")\n",
    "        #print(event_nu.get_text())\n",
    "\n",
    "        #len_=int(event_nu.get_text().split(' ')[-1])\n",
    "        #print(len_)\n",
    "    #except: len_=2640\n",
    "    print(len_)\n",
    "    return url,len_\n",
    "    \n",
    "\n"
   ]
  },
  {
   "cell_type": "code",
   "execution_count": 145,
   "metadata": {},
   "outputs": [
    {
     "name": "stdout",
     "output_type": "stream",
     "text": [
      "Treffer 1–10 von 355\n",
      "355\n"
     ]
    }
   ],
   "source": [
    "url,len_=get_search_size(cat_element)"
   ]
  },
  {
   "cell_type": "code",
   "execution_count": 146,
   "metadata": {},
   "outputs": [],
   "source": [
    "def get_event_list(url,len_):\n",
    "    event_list=list()\n",
    "    len_=len_ - (len_%10)\n",
    "\n",
    "    while len_>=0:\n",
    "\n",
    "        #print(len_)\n",
    "        string=''.join(['&start=',str(len_),'#'])\n",
    "        #print(string)\n",
    "        url2=''.join([url,string])\n",
    "        #print(url2)\n",
    "        page = requests.get(url2)\n",
    "        soup = BeautifulSoup(page.content, 'html.parser')\n",
    "        calendar = soup.find(id=\"veranstaltungssuchergebnis\")\n",
    "\n",
    "\n",
    "        for a in calendar.find_all('a', href=True):\n",
    "            event_list.append( ''.join(['https://www.stadt-koeln.de', a['href']]))\n",
    "        len_=len_-10\n",
    "    return event_list"
   ]
  },
  {
   "cell_type": "raw",
   "metadata": {},
   "source": [
    "lst=get_event_list(url,len_)\n",
    "lst"
   ]
  },
  {
   "cell_type": "code",
   "execution_count": 148,
   "metadata": {},
   "outputs": [
    {
     "data": {
      "text/plain": [
       "355"
      ]
     },
     "execution_count": 148,
     "metadata": {},
     "output_type": "execute_result"
    }
   ],
   "source": [
    "len(lst)"
   ]
  },
  {
   "cell_type": "code",
   "execution_count": 149,
   "metadata": {},
   "outputs": [],
   "source": [
    "# populate df with every event\n",
    "\n",
    "\n",
    "def populate_df(lst):\n",
    "    e_df=pd.DataFrame()\n",
    "    for url in lst:\n",
    "        page = requests.get(url)\n",
    "        soup = BeautifulSoup(page.content, 'html.parser')\n",
    "        try:\n",
    "            address=soup.find(itemprop=\"address\").get_text().strip(\"'\\n'\")\n",
    "            if address=='Online-Veranstaltung': continue\n",
    "        \n",
    "            e_df.loc[url,'address']=address\n",
    "        except:continue\n",
    "            \n",
    "        start_date=soup.find(itemprop=\"startDate\").get('content')\n",
    "\n",
    "        end_date=soup.find(itemprop=\"endDate\").get('content')\n",
    "\n",
    "        e_df.loc[url,'start_date']=start_date\n",
    "        e_df.loc[url,'end_date']=end_date\n",
    "\n",
    "        \n",
    "        description=soup.find(itemprop=\"description\").get_text().strip(\"'\\n'\")\n",
    "\n",
    "        e_df.loc[url,'description']=description\n",
    "\n",
    "\n",
    "        time=soup.find(itemprop=\"OpeningHoursSpecification\")\n",
    "        #print(time)\n",
    "        if time is not None:\n",
    "\n",
    "            time=time.get_text().strip(\"'\\n'\")\n",
    "            e_df.loc[url,'time']=time\n",
    "            #print(time)\n",
    "\n",
    "        for tag in soup.find_all(\"meta\"):\n",
    "            if tag.get(\"name\")=='geo.position':\n",
    "                geo=tag.get('content')\n",
    "                e_df.loc[url,'latitude']=geo.split(',')[0]\n",
    "                e_df.loc[url,'longitude']=geo.split(',')[1]\n",
    "\n",
    "    return e_df\n"
   ]
  },
  {
   "cell_type": "raw",
   "metadata": {},
   "source": [
    "df=populate_df(lst)\n",
    "df"
   ]
  },
  {
   "cell_type": "code",
   "execution_count": 140,
   "metadata": {},
   "outputs": [
    {
     "name": "stdout",
     "output_type": "stream",
     "text": [
      "Ausstellung 86\n",
      "Treffer 1–10 von 74\n",
      "74\n",
      "Bauleitplanung Öffentlichkeitsbeteiligung 86\n",
      "Treffer 1–10 von 82\n",
      "82\n",
      "Beratung 86\n",
      "Treffer 1–10 von 37\n",
      "37\n",
      "Bürgerhaus Kalk 86\n",
      "Treffer 1–10 von 33\n",
      "33\n",
      "Bürgerhaus Stollwerck 86\n",
      "Treffer 1–10 von 235\n",
      "235\n",
      "Bürgerzentrum Chorweiler 86\n",
      "Treffer 1–9 von 9\n",
      "9\n",
      "Dezernat III 86\n",
      "Treffer 1–10 von 22\n",
      "22\n",
      "Digital 86\n",
      "Treffer 1–10 von 125\n",
      "125\n",
      "Diskussion 86\n",
      "Treffer 1–10 von 90\n",
      "90\n",
      "Existenzgründung 86\n",
      "Treffer 1–10 von 33\n",
      "33\n",
      "Familie 86\n",
      "Treffer 1–10 von 198\n",
      "198\n",
      "Ferienprogramm 86\n",
      "Treffer 1–10 von 635\n",
      "635\n",
      "Film 86\n",
      "Treffer 1–10 von 56\n",
      "56\n",
      "Frauen + Gleichstellung 86\n",
      "Treffer 1–10 von 40\n",
      "20\n",
      "Führung 86\n",
      "Treffer 1–10 von 104\n",
      "84\n",
      "Geschichte 86\n",
      "Treffer 1–10 von 42\n",
      "42\n",
      "Gesundheit 86\n",
      "Treffer 1–10 von 38\n",
      "38\n",
      "Historisches Archiv 86\n",
      "Treffer 1–10 von 36\n",
      "36\n",
      "Interkulturelle Woche 86\n",
      "Treffer 1–10 von 34\n",
      "34\n",
      "Internationales 86\n",
      "Treffer 1–10 von 42\n",
      "42\n",
      "Kabarett 86\n",
      "Treffer 1–10 von 241\n",
      "241\n",
      "Kinder + Jugend 86\n",
      "Treffer 1–10 von 959\n",
      "919\n",
      "Kleinkunst 86\n",
      "Treffer 1–10 von 250\n",
      "250\n",
      "Konzert 86\n",
      "Treffer 1–10 von 236\n",
      "236\n",
      "Kultur 86\n",
      "Treffer 1–10 von 141\n",
      "141\n",
      "Lesung 86\n",
      "Treffer 1–10 von 139\n",
      "139\n",
      "Literatur 86\n",
      "Treffer 1–10 von 99\n",
      "99\n",
      "Menschen mit Behinderungen 86\n",
      "Treffer 1–10 von 23\n",
      "23\n",
      "Messen 86\n",
      "Treffer 1–10 von 22\n",
      "22\n",
      "Museum 86\n",
      "Treffer 1–10 von 51\n",
      "51\n",
      "Natur und Grün 86\n",
      "Treffer 1–10 von 134\n",
      "134\n",
      "Planen und Bauen 86\n",
      "Treffer 1–10 von 142\n",
      "142\n",
      "Radfahren 86\n",
      "Treffer 1–10 von 27\n",
      "27\n",
      "Rathaussaal Porz 86\n"
     ]
    },
    {
     "ename": "AttributeError",
     "evalue": "'NoneType' object has no attribute 'get_text'",
     "output_type": "error",
     "traceback": [
      "\u001b[0;31m---------------------------------------------------------------------------\u001b[0m",
      "\u001b[0;31mAttributeError\u001b[0m                            Traceback (most recent call last)",
      "\u001b[0;32m<ipython-input-140-1f2d76ed38bf>\u001b[0m in \u001b[0;36m<module>\u001b[0;34m\u001b[0m\n\u001b[1;32m      2\u001b[0m \u001b[0;32mfor\u001b[0m \u001b[0mk\u001b[0m\u001b[0;34m,\u001b[0m\u001b[0mcat_element\u001b[0m \u001b[0;32min\u001b[0m \u001b[0mcat\u001b[0m\u001b[0;34m.\u001b[0m\u001b[0mitems\u001b[0m\u001b[0;34m(\u001b[0m\u001b[0;34m)\u001b[0m\u001b[0;34m:\u001b[0m\u001b[0;34m\u001b[0m\u001b[0;34m\u001b[0m\u001b[0m\n\u001b[1;32m      3\u001b[0m     \u001b[0mprint\u001b[0m\u001b[0;34m(\u001b[0m\u001b[0mk\u001b[0m\u001b[0;34m,\u001b[0m\u001b[0mv\u001b[0m\u001b[0;34m)\u001b[0m\u001b[0;34m\u001b[0m\u001b[0;34m\u001b[0m\u001b[0m\n\u001b[0;32m----> 4\u001b[0;31m     \u001b[0murl\u001b[0m\u001b[0;34m,\u001b[0m\u001b[0mlen_\u001b[0m\u001b[0;34m=\u001b[0m\u001b[0mget_search_size\u001b[0m\u001b[0;34m(\u001b[0m\u001b[0mcat_element\u001b[0m\u001b[0;34m)\u001b[0m\u001b[0;34m\u001b[0m\u001b[0;34m\u001b[0m\u001b[0m\n\u001b[0m\u001b[1;32m      5\u001b[0m     \u001b[0mlst\u001b[0m\u001b[0;34m=\u001b[0m\u001b[0mget_event_list\u001b[0m\u001b[0;34m(\u001b[0m\u001b[0murl\u001b[0m\u001b[0;34m,\u001b[0m\u001b[0mlen_\u001b[0m\u001b[0;34m)\u001b[0m\u001b[0;34m\u001b[0m\u001b[0;34m\u001b[0m\u001b[0m\n\u001b[1;32m      6\u001b[0m     \u001b[0mprint\u001b[0m\u001b[0;34m(\u001b[0m\u001b[0mlen\u001b[0m\u001b[0;34m(\u001b[0m\u001b[0mlst\u001b[0m\u001b[0;34m)\u001b[0m\u001b[0;34m)\u001b[0m\u001b[0;34m\u001b[0m\u001b[0;34m\u001b[0m\u001b[0m\n",
      "\u001b[0;32m<ipython-input-118-d7288c3bef41>\u001b[0m in \u001b[0;36mget_search_size\u001b[0;34m(cat_element)\u001b[0m\n\u001b[1;32m     12\u001b[0m \u001b[0;34m\u001b[0m\u001b[0m\n\u001b[1;32m     13\u001b[0m     \u001b[0mevent_nu\u001b[0m \u001b[0;34m=\u001b[0m \u001b[0msoup\u001b[0m\u001b[0;34m.\u001b[0m\u001b[0mfind\u001b[0m\u001b[0;34m(\u001b[0m\u001b[0mclass_\u001b[0m\u001b[0;34m=\u001b[0m\u001b[0;34m\"innerer_block1 grid_1 firstchild\"\u001b[0m\u001b[0;34m)\u001b[0m\u001b[0;34m\u001b[0m\u001b[0;34m\u001b[0m\u001b[0m\n\u001b[0;32m---> 14\u001b[0;31m     \u001b[0mprint\u001b[0m\u001b[0;34m(\u001b[0m\u001b[0mevent_nu\u001b[0m\u001b[0;34m.\u001b[0m\u001b[0mget_text\u001b[0m\u001b[0;34m(\u001b[0m\u001b[0;34m)\u001b[0m\u001b[0;34m)\u001b[0m\u001b[0;34m\u001b[0m\u001b[0;34m\u001b[0m\u001b[0m\n\u001b[0m\u001b[1;32m     15\u001b[0m \u001b[0;34m\u001b[0m\u001b[0m\n\u001b[1;32m     16\u001b[0m     \u001b[0mlen_\u001b[0m\u001b[0;34m=\u001b[0m\u001b[0mint\u001b[0m\u001b[0;34m(\u001b[0m\u001b[0mevent_nu\u001b[0m\u001b[0;34m.\u001b[0m\u001b[0mget_text\u001b[0m\u001b[0;34m(\u001b[0m\u001b[0;34m)\u001b[0m\u001b[0;34m.\u001b[0m\u001b[0msplit\u001b[0m\u001b[0;34m(\u001b[0m\u001b[0;34m' '\u001b[0m\u001b[0;34m)\u001b[0m\u001b[0;34m[\u001b[0m\u001b[0;34m-\u001b[0m\u001b[0;36m1\u001b[0m\u001b[0;34m]\u001b[0m\u001b[0;34m)\u001b[0m\u001b[0;34m\u001b[0m\u001b[0;34m\u001b[0m\u001b[0m\n",
      "\u001b[0;31mAttributeError\u001b[0m: 'NoneType' object has no attribute 'get_text'"
     ]
    }
   ],
   "source": [
    "#e_df=pd.DataFrame()\n",
    "for k,cat_element in cat.items():\n",
    "    print(k,cat_element)\n",
    "    url,len_=get_search_size(cat_element)\n",
    "    lst=get_event_list(url,len_)\n",
    "    print(len(lst))\n",
    "    if len(lst)>0:\n",
    "        df=populate_df(lst)\n",
    "        df['event_type']=k\n",
    "    e_df=pd.concat([e_df,df])"
   ]
  },
  {
   "cell_type": "code",
   "execution_count": 157,
   "metadata": {},
   "outputs": [
    {
     "data": {
      "text/plain": [
       "(4137, 8)"
      ]
     },
     "execution_count": 157,
     "metadata": {},
     "output_type": "execute_result"
    }
   ],
   "source": [
    "e_df.shape"
   ]
  },
  {
   "cell_type": "code",
   "execution_count": 158,
   "metadata": {},
   "outputs": [
    {
     "data": {
      "text/html": [
       "<div>\n",
       "<style scoped>\n",
       "    .dataframe tbody tr th:only-of-type {\n",
       "        vertical-align: middle;\n",
       "    }\n",
       "\n",
       "    .dataframe tbody tr th {\n",
       "        vertical-align: top;\n",
       "    }\n",
       "\n",
       "    .dataframe thead th {\n",
       "        text-align: right;\n",
       "    }\n",
       "</style>\n",
       "<table border=\"1\" class=\"dataframe\">\n",
       "  <thead>\n",
       "    <tr style=\"text-align: right;\">\n",
       "      <th></th>\n",
       "      <th>address</th>\n",
       "      <th>start_date</th>\n",
       "      <th>end_date</th>\n",
       "      <th>description</th>\n",
       "      <th>time</th>\n",
       "      <th>latitude</th>\n",
       "      <th>longitude</th>\n",
       "      <th>event_type</th>\n",
       "    </tr>\n",
       "  </thead>\n",
       "  <tbody>\n",
       "    <tr>\n",
       "      <th>https://www.stadt-koeln.de/leben-in-koeln/freizeit-natur-sport/veranstaltungskalender/fahrradbeauftragter-tour-poll</th>\n",
       "      <td>Marktplatz Poll\\n\\nSiegburger Straße/Rolshover...</td>\n",
       "      <td>2019-10-18</td>\n",
       "      <td>2019-10-18</td>\n",
       "      <td>Wir sind zu Gast in Poll: Während des Wochenma...</td>\n",
       "      <td>10 bis 14 Uhr</td>\n",
       "      <td>50.91545929128713</td>\n",
       "      <td>6.993565535937478</td>\n",
       "      <td>Radfahren</td>\n",
       "    </tr>\n",
       "    <tr>\n",
       "      <th>https://www.stadt-koeln.de/leben-in-koeln/freizeit-natur-sport/veranstaltungskalender/fahrradtour-zum-benrather-schloss</th>\n",
       "      <td>Diverse Veranstaltungsorte in\\nKöln</td>\n",
       "      <td>2020-04-18</td>\n",
       "      <td>2020-04-18</td>\n",
       "      <td>Die Veranstaltung findet zu diesem Zeitpunkt n...</td>\n",
       "      <td>10 Uhr</td>\n",
       "      <td>50.938108</td>\n",
       "      <td>6.95905</td>\n",
       "      <td>Radfahren</td>\n",
       "    </tr>\n",
       "  </tbody>\n",
       "</table>\n",
       "</div>"
      ],
      "text/plain": [
       "                                                                                              address  \\\n",
       "https://www.stadt-koeln.de/leben-in-koeln/freiz...  Marktplatz Poll\\n\\nSiegburger Straße/Rolshover...   \n",
       "https://www.stadt-koeln.de/leben-in-koeln/freiz...                Diverse Veranstaltungsorte in\\nKöln   \n",
       "\n",
       "                                                    start_date    end_date  \\\n",
       "https://www.stadt-koeln.de/leben-in-koeln/freiz...  2019-10-18  2019-10-18   \n",
       "https://www.stadt-koeln.de/leben-in-koeln/freiz...  2020-04-18  2020-04-18   \n",
       "\n",
       "                                                                                          description  \\\n",
       "https://www.stadt-koeln.de/leben-in-koeln/freiz...  Wir sind zu Gast in Poll: Während des Wochenma...   \n",
       "https://www.stadt-koeln.de/leben-in-koeln/freiz...  Die Veranstaltung findet zu diesem Zeitpunkt n...   \n",
       "\n",
       "                                                              time  \\\n",
       "https://www.stadt-koeln.de/leben-in-koeln/freiz...  10 bis 14 Uhr    \n",
       "https://www.stadt-koeln.de/leben-in-koeln/freiz...         10 Uhr    \n",
       "\n",
       "                                                             latitude  \\\n",
       "https://www.stadt-koeln.de/leben-in-koeln/freiz...  50.91545929128713   \n",
       "https://www.stadt-koeln.de/leben-in-koeln/freiz...          50.938108   \n",
       "\n",
       "                                                            longitude  \\\n",
       "https://www.stadt-koeln.de/leben-in-koeln/freiz...  6.993565535937478   \n",
       "https://www.stadt-koeln.de/leben-in-koeln/freiz...            6.95905   \n",
       "\n",
       "                                                   event_type  \n",
       "https://www.stadt-koeln.de/leben-in-koeln/freiz...  Radfahren  \n",
       "https://www.stadt-koeln.de/leben-in-koeln/freiz...  Radfahren  "
      ]
     },
     "execution_count": 158,
     "metadata": {},
     "output_type": "execute_result"
    }
   ],
   "source": [
    "e_df.tail(2)"
   ]
  },
  {
   "cell_type": "code",
   "execution_count": 159,
   "metadata": {},
   "outputs": [
    {
     "name": "stdout",
     "output_type": "stream",
     "text": [
      "Rathaussaal Porz 101\n",
      "Rheinische Musikschule 14\n",
      "Seniorinnen und Senioren 34\n",
      "Sonstige Veranstaltungen 12\n",
      "Sport 64\n",
      "Stadtbibliothek 59\n",
      "Städtepartnerschaft 42\n",
      "Tagung 57\n",
      "Tanz 84\n",
      "Theater 4\n",
      "Umwelt und Grün 9\n",
      "Verkehr 78\n",
      "Versteigerung 38\n",
      "Vortrag 6\n",
      "Weiterbildung 54\n",
      "Wissenschaft im Rathaus 68\n",
      "Workshop 86\n"
     ]
    }
   ],
   "source": [
    "for k in list(cat)[33:]:\n",
    "    print(k,cat[k])"
   ]
  },
  {
   "cell_type": "code",
   "execution_count": 160,
   "metadata": {},
   "outputs": [
    {
     "name": "stdout",
     "output_type": "stream",
     "text": [
      "Rathaussaal Porz 101\n",
      "0\n",
      "Rheinische Musikschule 14\n",
      "Treffer 1–10 von 99\n",
      "99\n",
      "99\n",
      "Seniorinnen und Senioren 34\n",
      "Treffer 1–10 von 74\n",
      "74\n",
      "74\n",
      "Sonstige Veranstaltungen 12\n",
      "Treffer 1–10 von 202\n",
      "202\n",
      "202\n",
      "Sport 64\n",
      "Treffer 1–10 von 180\n",
      "180\n",
      "160\n",
      "Stadtbibliothek 59\n",
      "Treffer 1–10 von 964\n",
      "964\n",
      "964\n",
      "Städtepartnerschaft 42\n",
      "Treffer 1–10 von 44\n",
      "44\n",
      "44\n",
      "Tagung 57\n",
      "Treffer 1–4 von 4\n",
      "4\n",
      "4\n",
      "Tanz 84\n",
      "Treffer 1–10 von 23\n",
      "23\n",
      "23\n",
      "Theater 4\n",
      "Treffer 1–10 von 259\n",
      "259\n",
      "259\n",
      "Umwelt und Grün 9\n",
      "Treffer 1–10 von 92\n",
      "92\n",
      "92\n",
      "Verkehr 78\n",
      "Treffer 1–10 von 50\n",
      "50\n",
      "50\n",
      "Versteigerung 38\n",
      "Treffer 1–1 von 1\n",
      "1\n",
      "1\n",
      "Vortrag 6\n",
      "Treffer 1–10 von 214\n",
      "214\n",
      "214\n",
      "Weiterbildung 54\n",
      "Treffer 1–10 von 138\n",
      "138\n",
      "138\n",
      "Wissenschaft im Rathaus 68\n",
      "Treffer 1–10 von 27\n",
      "27\n",
      "27\n",
      "Workshop 86\n",
      "Treffer 1–10 von 355\n",
      "355\n",
      "355\n"
     ]
    }
   ],
   "source": [
    "for k in list(cat)[33:]:\n",
    "    print(k,cat[k])\n",
    "    cat_element=cat[k]\n",
    "    url,len_=get_search_size(cat_element)\n",
    "    lst=get_event_list(url,len_)\n",
    "    #print(len(lst))\n",
    "    if len(lst)>0:\n",
    "        df=populate_df(lst)\n",
    "        df['event_type']=k\n",
    "    e_df=pd.concat([e_df,df])"
   ]
  },
  {
   "cell_type": "code",
   "execution_count": 161,
   "metadata": {},
   "outputs": [
    {
     "data": {
      "text/plain": [
       "(6646, 8)"
      ]
     },
     "execution_count": 161,
     "metadata": {},
     "output_type": "execute_result"
    }
   ],
   "source": [
    "e_df.shape"
   ]
  },
  {
   "cell_type": "raw",
   "metadata": {},
   "source": [
    "e_df.tail(2)"
   ]
  },
  {
   "cell_type": "code",
   "execution_count": null,
   "metadata": {},
   "outputs": [],
   "source": []
  },
  {
   "cell_type": "code",
   "execution_count": null,
   "metadata": {},
   "outputs": [],
   "source": []
  },
  {
   "cell_type": "code",
   "execution_count": null,
   "metadata": {},
   "outputs": [],
   "source": []
  },
  {
   "cell_type": "code",
   "execution_count": null,
   "metadata": {},
   "outputs": [],
   "source": []
  },
  {
   "cell_type": "code",
   "execution_count": null,
   "metadata": {},
   "outputs": [],
   "source": []
  },
  {
   "cell_type": "code",
   "execution_count": 163,
   "metadata": {},
   "outputs": [],
   "source": [
    "for i, row in e_df[e_df['start_date']==e_df['end_date']].iterrows():\n",
    "    try:\n",
    "        e_df.loc[i,'start_time']=row['time'].split('bis')[0]\n",
    "        e_df.loc[i,'end_time']=row['time'].split('bis')[1].split('Uhr')[0]\n",
    "    except: continue\n"
   ]
  },
  {
   "cell_type": "code",
   "execution_count": 164,
   "metadata": {},
   "outputs": [
    {
     "data": {
      "text/html": [
       "<div>\n",
       "<style scoped>\n",
       "    .dataframe tbody tr th:only-of-type {\n",
       "        vertical-align: middle;\n",
       "    }\n",
       "\n",
       "    .dataframe tbody tr th {\n",
       "        vertical-align: top;\n",
       "    }\n",
       "\n",
       "    .dataframe thead th {\n",
       "        text-align: right;\n",
       "    }\n",
       "</style>\n",
       "<table border=\"1\" class=\"dataframe\">\n",
       "  <thead>\n",
       "    <tr style=\"text-align: right;\">\n",
       "      <th></th>\n",
       "      <th>address</th>\n",
       "      <th>start_date</th>\n",
       "      <th>end_date</th>\n",
       "      <th>description</th>\n",
       "      <th>time</th>\n",
       "      <th>latitude</th>\n",
       "      <th>longitude</th>\n",
       "      <th>event_type</th>\n",
       "      <th>start_time</th>\n",
       "      <th>end_time</th>\n",
       "    </tr>\n",
       "  </thead>\n",
       "  <tbody>\n",
       "    <tr>\n",
       "      <th>https://www.stadt-koeln.de/leben-in-koeln/freizeit-natur-sport/veranstaltungskalender/makerspace-roboter-nao-einfuehrung-die-programmierung-2</th>\n",
       "      <td>Stadtbibliothek Köln\\n\\nJosef-Haubrich-Hof 1\\n...</td>\n",
       "      <td>2019-09-14</td>\n",
       "      <td>2019-09-14</td>\n",
       "      <td>Wie arbeite ich mit einem humanoiden Roboter? ...</td>\n",
       "      <td>11 bis 13 Uhr</td>\n",
       "      <td>50.938108</td>\n",
       "      <td>6.95905</td>\n",
       "      <td>Workshop</td>\n",
       "      <td>11</td>\n",
       "      <td>13</td>\n",
       "    </tr>\n",
       "    <tr>\n",
       "      <th>https://www.stadt-koeln.de/leben-in-koeln/freizeit-natur-sport/veranstaltungskalender/20-improvisiakum-1</th>\n",
       "      <td>Rheinische Musikschule - Regionalschule Ehrenf...</td>\n",
       "      <td>2019-09-13</td>\n",
       "      <td>2019-09-15</td>\n",
       "      <td>Beschreiten Sie an insgesamt drei Tagen neue W...</td>\n",
       "      <td>Eröffnungskonzert: \\n13. September, 20 Uhr\\n\\n...</td>\n",
       "      <td>50.9441504</td>\n",
       "      <td>6.923948699999983</td>\n",
       "      <td>Workshop</td>\n",
       "      <td>NaN</td>\n",
       "      <td>NaN</td>\n",
       "    </tr>\n",
       "  </tbody>\n",
       "</table>\n",
       "</div>"
      ],
      "text/plain": [
       "                                                                                              address  \\\n",
       "https://www.stadt-koeln.de/leben-in-koeln/freiz...  Stadtbibliothek Köln\\n\\nJosef-Haubrich-Hof 1\\n...   \n",
       "https://www.stadt-koeln.de/leben-in-koeln/freiz...  Rheinische Musikschule - Regionalschule Ehrenf...   \n",
       "\n",
       "                                                    start_date    end_date  \\\n",
       "https://www.stadt-koeln.de/leben-in-koeln/freiz...  2019-09-14  2019-09-14   \n",
       "https://www.stadt-koeln.de/leben-in-koeln/freiz...  2019-09-13  2019-09-15   \n",
       "\n",
       "                                                                                          description  \\\n",
       "https://www.stadt-koeln.de/leben-in-koeln/freiz...  Wie arbeite ich mit einem humanoiden Roboter? ...   \n",
       "https://www.stadt-koeln.de/leben-in-koeln/freiz...  Beschreiten Sie an insgesamt drei Tagen neue W...   \n",
       "\n",
       "                                                                                                 time  \\\n",
       "https://www.stadt-koeln.de/leben-in-koeln/freiz...                                     11 bis 13 Uhr    \n",
       "https://www.stadt-koeln.de/leben-in-koeln/freiz...  Eröffnungskonzert: \\n13. September, 20 Uhr\\n\\n...   \n",
       "\n",
       "                                                      latitude  \\\n",
       "https://www.stadt-koeln.de/leben-in-koeln/freiz...   50.938108   \n",
       "https://www.stadt-koeln.de/leben-in-koeln/freiz...  50.9441504   \n",
       "\n",
       "                                                            longitude  \\\n",
       "https://www.stadt-koeln.de/leben-in-koeln/freiz...            6.95905   \n",
       "https://www.stadt-koeln.de/leben-in-koeln/freiz...  6.923948699999983   \n",
       "\n",
       "                                                   event_type start_time  \\\n",
       "https://www.stadt-koeln.de/leben-in-koeln/freiz...   Workshop        11    \n",
       "https://www.stadt-koeln.de/leben-in-koeln/freiz...   Workshop        NaN   \n",
       "\n",
       "                                                   end_time  \n",
       "https://www.stadt-koeln.de/leben-in-koeln/freiz...      13   \n",
       "https://www.stadt-koeln.de/leben-in-koeln/freiz...      NaN  "
      ]
     },
     "execution_count": 164,
     "metadata": {},
     "output_type": "execute_result"
    }
   ],
   "source": [
    "e_df.tail(2)"
   ]
  },
  {
   "cell_type": "code",
   "execution_count": 28,
   "metadata": {},
   "outputs": [],
   "source": [
    "#e_df.to_csv('events.csv')"
   ]
  },
  {
   "cell_type": "code",
   "execution_count": null,
   "metadata": {},
   "outputs": [],
   "source": []
  },
  {
   "cell_type": "code",
   "execution_count": null,
   "metadata": {},
   "outputs": [],
   "source": []
  },
  {
   "cell_type": "code",
   "execution_count": null,
   "metadata": {},
   "outputs": [],
   "source": []
  }
 ],
 "metadata": {
  "kernelspec": {
   "display_name": "Python 3 (ipykernel)",
   "language": "python",
   "name": "python3"
  },
  "language_info": {
   "codemirror_mode": {
    "name": "ipython",
    "version": 3
   },
   "file_extension": ".py",
   "mimetype": "text/x-python",
   "name": "python",
   "nbconvert_exporter": "python",
   "pygments_lexer": "ipython3",
   "version": "3.8.12"
  }
 },
 "nbformat": 4,
 "nbformat_minor": 4
}
