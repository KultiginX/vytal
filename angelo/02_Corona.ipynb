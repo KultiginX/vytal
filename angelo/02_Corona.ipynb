{
 "cells": [
  {
   "cell_type": "code",
   "execution_count": 1,
   "id": "72470790-daf5-475a-9a48-5862ed43206a",
   "metadata": {},
   "outputs": [],
   "source": [
    "#import packages\n",
    "import pandas as pd\n",
    "import numpy as np\n",
    "\n",
    "import matplotlib.pyplot as plt \n",
    "\n",
    "import datetime as dt\n",
    "import os"
   ]
  },
  {
   "cell_type": "markdown",
   "id": "46b19666-522e-4c38-82ac-95c3b7a14031",
   "metadata": {},
   "source": [
    "## Data\n",
    "https://github.com/robert-koch-institut/SARS-CoV-2_Infektionen_in_Deutschland \n",
    "<br> Same data can be seen on https://experience.arcgis.com/experience/478220a4c454480e823b17327b2bf1d4 \n",
    "<br> filter data with NRW/Köln and look at the graph of Covid-19-Fälle/Tag nach Meldedatum with Zuvorgemeldet filter option. "
   ]
  },
  {
   "cell_type": "code",
   "execution_count": 2,
   "id": "d07186f9-84c4-4e0a-ab1b-359800b4ad2a",
   "metadata": {
    "tags": []
   },
   "outputs": [
    {
     "data": {
      "text/plain": [
       "Meldedatum\n",
       "2021-12-29    599\n",
       "2021-12-30    620\n",
       "2021-12-31    410\n",
       "Name: AnzahlFall, dtype: int64"
      ]
     },
     "execution_count": 2,
     "metadata": {},
     "output_type": "execute_result"
    }
   ],
   "source": [
    "df=pd.read_csv('Aktuell_Deutschland_SarsCov2_Infektionen.csv')\n",
    "df['Meldedatum']= pd.to_datetime(df['Meldedatum'])\n",
    "df['Refdatum']= pd.to_datetime(df['Refdatum'])\n",
    "\n",
    "\n",
    "end_date=dt.datetime(2022, 1, 1)\n",
    "cdf=df[(df['IdLandkreis']==5315) & (df['Meldedatum']<end_date)].groupby('Meldedatum')['AnzahlFall'].sum()\n",
    "\n",
    "cdf.tail(3)"
   ]
  },
  {
   "cell_type": "code",
   "execution_count": 3,
   "id": "6a4ad434-c416-45c6-a6d1-93d96ad8d733",
   "metadata": {},
   "outputs": [
    {
     "data": {
      "text/plain": [
       "Meldedatum\n",
       "2020-02-27    1\n",
       "2020-02-29    2\n",
       "2020-03-01    2\n",
       "Name: AnzahlFall, dtype: int64"
      ]
     },
     "execution_count": 3,
     "metadata": {},
     "output_type": "execute_result"
    }
   ],
   "source": [
    "cdf.head(3)"
   ]
  },
  {
   "cell_type": "code",
   "execution_count": null,
   "id": "10e2dfa6-dcc2-4748-b690-90c4398fec60",
   "metadata": {},
   "outputs": [],
   "source": []
  }
 ],
 "metadata": {
  "kernelspec": {
   "display_name": "Python 3 (ipykernel)",
   "language": "python",
   "name": "python3"
  },
  "language_info": {
   "codemirror_mode": {
    "name": "ipython",
    "version": 3
   },
   "file_extension": ".py",
   "mimetype": "text/x-python",
   "name": "python",
   "nbconvert_exporter": "python",
   "pygments_lexer": "ipython3",
   "version": "3.8.12"
  }
 },
 "nbformat": 4,
 "nbformat_minor": 5
}
