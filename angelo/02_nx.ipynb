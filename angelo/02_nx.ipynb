{
 "cells": [
  {
   "cell_type": "code",
   "execution_count": 5,
   "metadata": {},
   "outputs": [
    {
     "name": "stdout",
     "output_type": "stream",
     "text": [
      "/Users/kultiginbozdemir/Documents/GitHub/vytal/angelo\n"
     ]
    }
   ],
   "source": [
    "import os\n",
    "directory=os.getcwd()\n",
    "print(directory)\n"
   ]
  },
  {
   "cell_type": "code",
   "execution_count": 6,
   "metadata": {},
   "outputs": [],
   "source": [
    "#import packages\n",
    "import pandas as pd\n",
    "import numpy as np\n",
    "import geopandas as gpd\n",
    "import matplotlib.pyplot as plt \n",
    "import datetime as dt\n",
    "import networkx as nx\n",
    "import osmnx as ox\n",
    "from shapely.geometry import LineString, Point\n",
    "\n",
    "#"
   ]
  },
  {
   "cell_type": "code",
   "execution_count": 7,
   "metadata": {},
   "outputs": [
    {
     "name": "stdout",
     "output_type": "stream",
     "text": [
      "2.7\n"
     ]
    }
   ],
   "source": [
    "print(nx.__version__)"
   ]
  },
  {
   "cell_type": "code",
   "execution_count": null,
   "metadata": {},
   "outputs": [],
   "source": []
  },
  {
   "cell_type": "code",
   "execution_count": 8,
   "metadata": {},
   "outputs": [
    {
     "data": {
      "text/html": [
       "<div>\n",
       "<style scoped>\n",
       "    .dataframe tbody tr th:only-of-type {\n",
       "        vertical-align: middle;\n",
       "    }\n",
       "\n",
       "    .dataframe tbody tr th {\n",
       "        vertical-align: top;\n",
       "    }\n",
       "\n",
       "    .dataframe thead th {\n",
       "        text-align: right;\n",
       "    }\n",
       "</style>\n",
       "<table border=\"1\" class=\"dataframe\">\n",
       "  <thead>\n",
       "    <tr style=\"text-align: right;\">\n",
       "      <th></th>\n",
       "      <th>Id</th>\n",
       "      <th>MerchantId</th>\n",
       "      <th>Name</th>\n",
       "      <th>Longitude</th>\n",
       "      <th>Latitude</th>\n",
       "      <th>CreationDate</th>\n",
       "      <th>CategoryId</th>\n",
       "      <th>StreetAddress</th>\n",
       "      <th>City</th>\n",
       "      <th>SellsOfflineCards</th>\n",
       "      <th>check_ins</th>\n",
       "      <th>check_outs</th>\n",
       "      <th>delta</th>\n",
       "      <th>cater_in</th>\n",
       "      <th>cater_out</th>\n",
       "      <th>cater_delta</th>\n",
       "      <th>cater_out_ratio</th>\n",
       "      <th>geometry</th>\n",
       "    </tr>\n",
       "    <tr>\n",
       "      <th>Id</th>\n",
       "      <th></th>\n",
       "      <th></th>\n",
       "      <th></th>\n",
       "      <th></th>\n",
       "      <th></th>\n",
       "      <th></th>\n",
       "      <th></th>\n",
       "      <th></th>\n",
       "      <th></th>\n",
       "      <th></th>\n",
       "      <th></th>\n",
       "      <th></th>\n",
       "      <th></th>\n",
       "      <th></th>\n",
       "      <th></th>\n",
       "      <th></th>\n",
       "      <th></th>\n",
       "      <th></th>\n",
       "    </tr>\n",
       "  </thead>\n",
       "  <tbody>\n",
       "    <tr>\n",
       "      <th>37750976-cd54-44a5-a05a-d85d3cc9035b</th>\n",
       "      <td>37750976-cd54-44a5-a05a-d85d3cc9035b</td>\n",
       "      <td>2c1b374d-3d05-4b74-a260-a479c8ef9232</td>\n",
       "      <td>Krua Thai 2 - Heumarkt</td>\n",
       "      <td>6.960161</td>\n",
       "      <td>50.935471</td>\n",
       "      <td>2020-10-20T18:04:31.643000+00:00</td>\n",
       "      <td>2</td>\n",
       "      <td>Heumarkt 25</td>\n",
       "      <td>Köln</td>\n",
       "      <td>False</td>\n",
       "      <td>4607.0</td>\n",
       "      <td>-5932.0</td>\n",
       "      <td>-1325.0</td>\n",
       "      <td>6.0</td>\n",
       "      <td>0.0</td>\n",
       "      <td>6.0</td>\n",
       "      <td>-0.0</td>\n",
       "      <td>POINT (6.96016 50.93547)</td>\n",
       "    </tr>\n",
       "    <tr>\n",
       "      <th>d4e38d94-eb54-4049-b721-4da7c79f3891</th>\n",
       "      <td>d4e38d94-eb54-4049-b721-4da7c79f3891</td>\n",
       "      <td>2c9fdbe4-3e32-4916-ba19-147258d0dd1d</td>\n",
       "      <td>Fenster zum Hof</td>\n",
       "      <td>6.944754</td>\n",
       "      <td>50.948689</td>\n",
       "      <td>2019-09-22T19:53:24.931000+00:00</td>\n",
       "      <td>2</td>\n",
       "      <td>Im Mediapark 5</td>\n",
       "      <td>Köln</td>\n",
       "      <td>False</td>\n",
       "      <td>60.0</td>\n",
       "      <td>-47.0</td>\n",
       "      <td>13.0</td>\n",
       "      <td>0.0</td>\n",
       "      <td>0.0</td>\n",
       "      <td>0.0</td>\n",
       "      <td>-0.0</td>\n",
       "      <td>POINT (6.94475 50.94869)</td>\n",
       "    </tr>\n",
       "  </tbody>\n",
       "</table>\n",
       "</div>"
      ],
      "text/plain": [
       "                                                                        Id  \\\n",
       "Id                                                                           \n",
       "37750976-cd54-44a5-a05a-d85d3cc9035b  37750976-cd54-44a5-a05a-d85d3cc9035b   \n",
       "d4e38d94-eb54-4049-b721-4da7c79f3891  d4e38d94-eb54-4049-b721-4da7c79f3891   \n",
       "\n",
       "                                                                MerchantId  \\\n",
       "Id                                                                           \n",
       "37750976-cd54-44a5-a05a-d85d3cc9035b  2c1b374d-3d05-4b74-a260-a479c8ef9232   \n",
       "d4e38d94-eb54-4049-b721-4da7c79f3891  2c9fdbe4-3e32-4916-ba19-147258d0dd1d   \n",
       "\n",
       "                                                        Name  Longitude  \\\n",
       "Id                                                                        \n",
       "37750976-cd54-44a5-a05a-d85d3cc9035b  Krua Thai 2 - Heumarkt   6.960161   \n",
       "d4e38d94-eb54-4049-b721-4da7c79f3891         Fenster zum Hof   6.944754   \n",
       "\n",
       "                                       Latitude  \\\n",
       "Id                                                \n",
       "37750976-cd54-44a5-a05a-d85d3cc9035b  50.935471   \n",
       "d4e38d94-eb54-4049-b721-4da7c79f3891  50.948689   \n",
       "\n",
       "                                                          CreationDate  \\\n",
       "Id                                                                       \n",
       "37750976-cd54-44a5-a05a-d85d3cc9035b  2020-10-20T18:04:31.643000+00:00   \n",
       "d4e38d94-eb54-4049-b721-4da7c79f3891  2019-09-22T19:53:24.931000+00:00   \n",
       "\n",
       "                                      CategoryId   StreetAddress  City  \\\n",
       "Id                                                                       \n",
       "37750976-cd54-44a5-a05a-d85d3cc9035b           2     Heumarkt 25  Köln   \n",
       "d4e38d94-eb54-4049-b721-4da7c79f3891           2  Im Mediapark 5  Köln   \n",
       "\n",
       "                                      SellsOfflineCards  check_ins  \\\n",
       "Id                                                                   \n",
       "37750976-cd54-44a5-a05a-d85d3cc9035b              False     4607.0   \n",
       "d4e38d94-eb54-4049-b721-4da7c79f3891              False       60.0   \n",
       "\n",
       "                                      check_outs   delta  cater_in  cater_out  \\\n",
       "Id                                                                              \n",
       "37750976-cd54-44a5-a05a-d85d3cc9035b     -5932.0 -1325.0       6.0        0.0   \n",
       "d4e38d94-eb54-4049-b721-4da7c79f3891       -47.0    13.0       0.0        0.0   \n",
       "\n",
       "                                      cater_delta  cater_out_ratio  \\\n",
       "Id                                                                   \n",
       "37750976-cd54-44a5-a05a-d85d3cc9035b          6.0             -0.0   \n",
       "d4e38d94-eb54-4049-b721-4da7c79f3891          0.0             -0.0   \n",
       "\n",
       "                                                      geometry  \n",
       "Id                                                              \n",
       "37750976-cd54-44a5-a05a-d85d3cc9035b  POINT (6.96016 50.93547)  \n",
       "d4e38d94-eb54-4049-b721-4da7c79f3891  POINT (6.94475 50.94869)  "
      ]
     },
     "execution_count": 8,
     "metadata": {},
     "output_type": "execute_result"
    }
   ],
   "source": [
    "# Import merchants\n",
    "m_df=gpd.read_file('./co_store_delta.json', index_col='Id').set_crs(4326, allow_override=True)\n",
    "m_df.index=m_df.Id\n",
    "m_df.head(2)"
   ]
  },
  {
   "cell_type": "code",
   "execution_count": 9,
   "metadata": {},
   "outputs": [
    {
     "data": {
      "text/plain": [
       "(377, 18)"
      ]
     },
     "execution_count": 9,
     "metadata": {},
     "output_type": "execute_result"
    }
   ],
   "source": [
    "m_df.shape"
   ]
  },
  {
   "cell_type": "code",
   "execution_count": 10,
   "metadata": {},
   "outputs": [
    {
     "data": {
      "text/html": [
       "<div>\n",
       "<style scoped>\n",
       "    .dataframe tbody tr th:only-of-type {\n",
       "        vertical-align: middle;\n",
       "    }\n",
       "\n",
       "    .dataframe tbody tr th {\n",
       "        vertical-align: top;\n",
       "    }\n",
       "\n",
       "    .dataframe thead th {\n",
       "        text-align: right;\n",
       "    }\n",
       "</style>\n",
       "<table border=\"1\" class=\"dataframe\">\n",
       "  <thead>\n",
       "    <tr style=\"text-align: right;\">\n",
       "      <th></th>\n",
       "      <th></th>\n",
       "      <th>OwnerId</th>\n",
       "      <th>NextOwnerId</th>\n",
       "      <th>OwnerSince</th>\n",
       "      <th>IsBillableTransaction</th>\n",
       "      <th>TransactionId</th>\n",
       "      <th>container_type_id</th>\n",
       "      <th>owner_store_id</th>\n",
       "      <th>next_owner_store_id</th>\n",
       "      <th>owner_co_int_</th>\n",
       "      <th>next_owner_co_int_</th>\n",
       "      <th>owner_claim_type</th>\n",
       "      <th>next_owner_claim_type</th>\n",
       "      <th>geometry</th>\n",
       "      <th>Source</th>\n",
       "      <th>Target</th>\n",
       "    </tr>\n",
       "    <tr>\n",
       "      <th>ContainerId</th>\n",
       "      <th>borrow_time</th>\n",
       "      <th></th>\n",
       "      <th></th>\n",
       "      <th></th>\n",
       "      <th></th>\n",
       "      <th></th>\n",
       "      <th></th>\n",
       "      <th></th>\n",
       "      <th></th>\n",
       "      <th></th>\n",
       "      <th></th>\n",
       "      <th></th>\n",
       "      <th></th>\n",
       "      <th></th>\n",
       "      <th></th>\n",
       "      <th></th>\n",
       "    </tr>\n",
       "  </thead>\n",
       "  <tbody>\n",
       "    <tr>\n",
       "      <th>c33c72e1-8a28-4ee5-b367-8ea36f13e00e</th>\n",
       "      <th>2019-10-08 13:27:17.176081+02:00</th>\n",
       "      <td>e5c7976f-92fb-408f-b852-01b98ba1723d</td>\n",
       "      <td>d9d8a373-29f0-4fe5-8f17-39669083ac48</td>\n",
       "      <td>2019-09-23 09:29:08.691234+02:00</td>\n",
       "      <td>True</td>\n",
       "      <td>NaN</td>\n",
       "      <td>1.0</td>\n",
       "      <td>e20e6c15-6507-4427-8b68-e1d1f870b924</td>\n",
       "      <td>NaN</td>\n",
       "      <td>False</td>\n",
       "      <td>False</td>\n",
       "      <td>storeappuser</td>\n",
       "      <td>consumer</td>\n",
       "      <td>POINT (2566096.057 5646020.265)</td>\n",
       "      <td>e20e6c15-6507-4427-8b68-e1d1f870b924</td>\n",
       "      <td>d9d8a373-29f0-4fe5-8f17-39669083ac48</td>\n",
       "    </tr>\n",
       "    <tr>\n",
       "      <th>fd9c6ffb-38f4-4f14-b18b-86aca4681a5d</th>\n",
       "      <th>2019-09-30 13:02:20.269511+02:00</th>\n",
       "      <td>e5c7976f-92fb-408f-b852-01b98ba1723d</td>\n",
       "      <td>cb1f92f7-ffbb-43a6-b741-b1d71cb2a157</td>\n",
       "      <td>2019-09-23 09:29:29.218375+02:00</td>\n",
       "      <td>True</td>\n",
       "      <td>NaN</td>\n",
       "      <td>1.0</td>\n",
       "      <td>e20e6c15-6507-4427-8b68-e1d1f870b924</td>\n",
       "      <td>NaN</td>\n",
       "      <td>False</td>\n",
       "      <td>False</td>\n",
       "      <td>storeappuser</td>\n",
       "      <td>consumer</td>\n",
       "      <td>POINT (2566096.057 5646020.265)</td>\n",
       "      <td>e20e6c15-6507-4427-8b68-e1d1f870b924</td>\n",
       "      <td>cb1f92f7-ffbb-43a6-b741-b1d71cb2a157</td>\n",
       "    </tr>\n",
       "  </tbody>\n",
       "</table>\n",
       "</div>"
      ],
      "text/plain": [
       "                                                                                                    OwnerId  \\\n",
       "ContainerId                          borrow_time                                                              \n",
       "c33c72e1-8a28-4ee5-b367-8ea36f13e00e 2019-10-08 13:27:17.176081+02:00  e5c7976f-92fb-408f-b852-01b98ba1723d   \n",
       "fd9c6ffb-38f4-4f14-b18b-86aca4681a5d 2019-09-30 13:02:20.269511+02:00  e5c7976f-92fb-408f-b852-01b98ba1723d   \n",
       "\n",
       "                                                                                                NextOwnerId  \\\n",
       "ContainerId                          borrow_time                                                              \n",
       "c33c72e1-8a28-4ee5-b367-8ea36f13e00e 2019-10-08 13:27:17.176081+02:00  d9d8a373-29f0-4fe5-8f17-39669083ac48   \n",
       "fd9c6ffb-38f4-4f14-b18b-86aca4681a5d 2019-09-30 13:02:20.269511+02:00  cb1f92f7-ffbb-43a6-b741-b1d71cb2a157   \n",
       "\n",
       "                                                                                            OwnerSince  \\\n",
       "ContainerId                          borrow_time                                                         \n",
       "c33c72e1-8a28-4ee5-b367-8ea36f13e00e 2019-10-08 13:27:17.176081+02:00 2019-09-23 09:29:08.691234+02:00   \n",
       "fd9c6ffb-38f4-4f14-b18b-86aca4681a5d 2019-09-30 13:02:20.269511+02:00 2019-09-23 09:29:29.218375+02:00   \n",
       "\n",
       "                                                                       IsBillableTransaction  \\\n",
       "ContainerId                          borrow_time                                               \n",
       "c33c72e1-8a28-4ee5-b367-8ea36f13e00e 2019-10-08 13:27:17.176081+02:00                   True   \n",
       "fd9c6ffb-38f4-4f14-b18b-86aca4681a5d 2019-09-30 13:02:20.269511+02:00                   True   \n",
       "\n",
       "                                                                      TransactionId  \\\n",
       "ContainerId                          borrow_time                                      \n",
       "c33c72e1-8a28-4ee5-b367-8ea36f13e00e 2019-10-08 13:27:17.176081+02:00           NaN   \n",
       "fd9c6ffb-38f4-4f14-b18b-86aca4681a5d 2019-09-30 13:02:20.269511+02:00           NaN   \n",
       "\n",
       "                                                                       container_type_id  \\\n",
       "ContainerId                          borrow_time                                           \n",
       "c33c72e1-8a28-4ee5-b367-8ea36f13e00e 2019-10-08 13:27:17.176081+02:00                1.0   \n",
       "fd9c6ffb-38f4-4f14-b18b-86aca4681a5d 2019-09-30 13:02:20.269511+02:00                1.0   \n",
       "\n",
       "                                                                                             owner_store_id  \\\n",
       "ContainerId                          borrow_time                                                              \n",
       "c33c72e1-8a28-4ee5-b367-8ea36f13e00e 2019-10-08 13:27:17.176081+02:00  e20e6c15-6507-4427-8b68-e1d1f870b924   \n",
       "fd9c6ffb-38f4-4f14-b18b-86aca4681a5d 2019-09-30 13:02:20.269511+02:00  e20e6c15-6507-4427-8b68-e1d1f870b924   \n",
       "\n",
       "                                                                      next_owner_store_id  \\\n",
       "ContainerId                          borrow_time                                            \n",
       "c33c72e1-8a28-4ee5-b367-8ea36f13e00e 2019-10-08 13:27:17.176081+02:00                 NaN   \n",
       "fd9c6ffb-38f4-4f14-b18b-86aca4681a5d 2019-09-30 13:02:20.269511+02:00                 NaN   \n",
       "\n",
       "                                                                       owner_co_int_  \\\n",
       "ContainerId                          borrow_time                                       \n",
       "c33c72e1-8a28-4ee5-b367-8ea36f13e00e 2019-10-08 13:27:17.176081+02:00          False   \n",
       "fd9c6ffb-38f4-4f14-b18b-86aca4681a5d 2019-09-30 13:02:20.269511+02:00          False   \n",
       "\n",
       "                                                                       next_owner_co_int_  \\\n",
       "ContainerId                          borrow_time                                            \n",
       "c33c72e1-8a28-4ee5-b367-8ea36f13e00e 2019-10-08 13:27:17.176081+02:00               False   \n",
       "fd9c6ffb-38f4-4f14-b18b-86aca4681a5d 2019-09-30 13:02:20.269511+02:00               False   \n",
       "\n",
       "                                                                      owner_claim_type  \\\n",
       "ContainerId                          borrow_time                                         \n",
       "c33c72e1-8a28-4ee5-b367-8ea36f13e00e 2019-10-08 13:27:17.176081+02:00     storeappuser   \n",
       "fd9c6ffb-38f4-4f14-b18b-86aca4681a5d 2019-09-30 13:02:20.269511+02:00     storeappuser   \n",
       "\n",
       "                                                                      next_owner_claim_type  \\\n",
       "ContainerId                          borrow_time                                              \n",
       "c33c72e1-8a28-4ee5-b367-8ea36f13e00e 2019-10-08 13:27:17.176081+02:00              consumer   \n",
       "fd9c6ffb-38f4-4f14-b18b-86aca4681a5d 2019-09-30 13:02:20.269511+02:00              consumer   \n",
       "\n",
       "                                                                                              geometry  \\\n",
       "ContainerId                          borrow_time                                                         \n",
       "c33c72e1-8a28-4ee5-b367-8ea36f13e00e 2019-10-08 13:27:17.176081+02:00  POINT (2566096.057 5646020.265)   \n",
       "fd9c6ffb-38f4-4f14-b18b-86aca4681a5d 2019-09-30 13:02:20.269511+02:00  POINT (2566096.057 5646020.265)   \n",
       "\n",
       "                                                                                                     Source  \\\n",
       "ContainerId                          borrow_time                                                              \n",
       "c33c72e1-8a28-4ee5-b367-8ea36f13e00e 2019-10-08 13:27:17.176081+02:00  e20e6c15-6507-4427-8b68-e1d1f870b924   \n",
       "fd9c6ffb-38f4-4f14-b18b-86aca4681a5d 2019-09-30 13:02:20.269511+02:00  e20e6c15-6507-4427-8b68-e1d1f870b924   \n",
       "\n",
       "                                                                                                     Target  \n",
       "ContainerId                          borrow_time                                                             \n",
       "c33c72e1-8a28-4ee5-b367-8ea36f13e00e 2019-10-08 13:27:17.176081+02:00  d9d8a373-29f0-4fe5-8f17-39669083ac48  \n",
       "fd9c6ffb-38f4-4f14-b18b-86aca4681a5d 2019-09-30 13:02:20.269511+02:00  cb1f92f7-ffbb-43a6-b741-b1d71cb2a157  "
      ]
     },
     "execution_count": 10,
     "metadata": {},
     "output_type": "execute_result"
    }
   ],
   "source": [
    "\n",
    "%store -r c_co_out\n",
    "\n",
    "out_df=c_co_out\n",
    "\n",
    "out_df=out_df.rename(columns={'OwnerTill':'borrow_time'})\n",
    "out_df.set_index(['ContainerId','borrow_time'], inplace=True)\n",
    "\n",
    "out_df.head(2)\n"
   ]
  },
  {
   "cell_type": "code",
   "execution_count": null,
   "metadata": {},
   "outputs": [],
   "source": []
  },
  {
   "cell_type": "code",
   "execution_count": 11,
   "metadata": {},
   "outputs": [
    {
     "data": {
      "text/html": [
       "<div>\n",
       "<style scoped>\n",
       "    .dataframe tbody tr th:only-of-type {\n",
       "        vertical-align: middle;\n",
       "    }\n",
       "\n",
       "    .dataframe tbody tr th {\n",
       "        vertical-align: top;\n",
       "    }\n",
       "\n",
       "    .dataframe thead th {\n",
       "        text-align: right;\n",
       "    }\n",
       "</style>\n",
       "<table border=\"1\" class=\"dataframe\">\n",
       "  <thead>\n",
       "    <tr style=\"text-align: right;\">\n",
       "      <th></th>\n",
       "      <th></th>\n",
       "      <th>OwnerId</th>\n",
       "      <th>NextOwnerId</th>\n",
       "      <th>OwnerTill</th>\n",
       "      <th>IsBillableTransaction</th>\n",
       "      <th>TransactionId</th>\n",
       "      <th>container_type_id</th>\n",
       "      <th>owner_store_id</th>\n",
       "      <th>next_owner_store_id</th>\n",
       "      <th>owner_co_int_</th>\n",
       "      <th>next_owner_co_int_</th>\n",
       "      <th>owner_claim_type</th>\n",
       "      <th>next_owner_claim_type</th>\n",
       "      <th>geometry</th>\n",
       "      <th>OwnerTill_r</th>\n",
       "      <th>Source</th>\n",
       "      <th>Target</th>\n",
       "    </tr>\n",
       "    <tr>\n",
       "      <th>ContainerId</th>\n",
       "      <th>borrow_time</th>\n",
       "      <th></th>\n",
       "      <th></th>\n",
       "      <th></th>\n",
       "      <th></th>\n",
       "      <th></th>\n",
       "      <th></th>\n",
       "      <th></th>\n",
       "      <th></th>\n",
       "      <th></th>\n",
       "      <th></th>\n",
       "      <th></th>\n",
       "      <th></th>\n",
       "      <th></th>\n",
       "      <th></th>\n",
       "      <th></th>\n",
       "      <th></th>\n",
       "    </tr>\n",
       "  </thead>\n",
       "  <tbody>\n",
       "    <tr>\n",
       "      <th>daf1fb53-fa42-40ec-8141-0fa80259fff7</th>\n",
       "      <th>2019-09-25 12:40:18.513492+02:00</th>\n",
       "      <td>837802c9-7bb4-4c50-bf75-18ff136eb8f6</td>\n",
       "      <td>3f98d1ae-9adb-4c8c-8a4d-de1b1fabf47c</td>\n",
       "      <td>2019-09-30 12:56:39.899646+02:00</td>\n",
       "      <td>False</td>\n",
       "      <td>NaN</td>\n",
       "      <td>1.0</td>\n",
       "      <td>NaN</td>\n",
       "      <td>632c5d83-6266-4f57-be97-b60154a9464d</td>\n",
       "      <td>False</td>\n",
       "      <td>False</td>\n",
       "      <td>consumer</td>\n",
       "      <td>storeappuser</td>\n",
       "      <td>POINT (2566339.030 5646362.381)</td>\n",
       "      <td>2019-09-30 13:00:00+02:00</td>\n",
       "      <td>837802c9-7bb4-4c50-bf75-18ff136eb8f6</td>\n",
       "      <td>632c5d83-6266-4f57-be97-b60154a9464d</td>\n",
       "    </tr>\n",
       "    <tr>\n",
       "      <th>f944f73a-22e1-4b40-afa8-9a7f0f806868</th>\n",
       "      <th>2019-10-01 12:27:25.837481+02:00</th>\n",
       "      <td>6ce988a3-2cd5-4ba3-923c-a286414182f1</td>\n",
       "      <td>3f98d1ae-9adb-4c8c-8a4d-de1b1fabf47c</td>\n",
       "      <td>2019-10-14 12:28:31.730753+02:00</td>\n",
       "      <td>False</td>\n",
       "      <td>NaN</td>\n",
       "      <td>1.0</td>\n",
       "      <td>NaN</td>\n",
       "      <td>632c5d83-6266-4f57-be97-b60154a9464d</td>\n",
       "      <td>False</td>\n",
       "      <td>False</td>\n",
       "      <td>consumer</td>\n",
       "      <td>storeappuser</td>\n",
       "      <td>POINT (2566339.030 5646362.381)</td>\n",
       "      <td>2019-10-14 12:00:00+02:00</td>\n",
       "      <td>6ce988a3-2cd5-4ba3-923c-a286414182f1</td>\n",
       "      <td>632c5d83-6266-4f57-be97-b60154a9464d</td>\n",
       "    </tr>\n",
       "  </tbody>\n",
       "</table>\n",
       "</div>"
      ],
      "text/plain": [
       "                                                                                                    OwnerId  \\\n",
       "ContainerId                          borrow_time                                                              \n",
       "daf1fb53-fa42-40ec-8141-0fa80259fff7 2019-09-25 12:40:18.513492+02:00  837802c9-7bb4-4c50-bf75-18ff136eb8f6   \n",
       "f944f73a-22e1-4b40-afa8-9a7f0f806868 2019-10-01 12:27:25.837481+02:00  6ce988a3-2cd5-4ba3-923c-a286414182f1   \n",
       "\n",
       "                                                                                                NextOwnerId  \\\n",
       "ContainerId                          borrow_time                                                              \n",
       "daf1fb53-fa42-40ec-8141-0fa80259fff7 2019-09-25 12:40:18.513492+02:00  3f98d1ae-9adb-4c8c-8a4d-de1b1fabf47c   \n",
       "f944f73a-22e1-4b40-afa8-9a7f0f806868 2019-10-01 12:27:25.837481+02:00  3f98d1ae-9adb-4c8c-8a4d-de1b1fabf47c   \n",
       "\n",
       "                                                                                             OwnerTill  \\\n",
       "ContainerId                          borrow_time                                                         \n",
       "daf1fb53-fa42-40ec-8141-0fa80259fff7 2019-09-25 12:40:18.513492+02:00 2019-09-30 12:56:39.899646+02:00   \n",
       "f944f73a-22e1-4b40-afa8-9a7f0f806868 2019-10-01 12:27:25.837481+02:00 2019-10-14 12:28:31.730753+02:00   \n",
       "\n",
       "                                                                       IsBillableTransaction  \\\n",
       "ContainerId                          borrow_time                                               \n",
       "daf1fb53-fa42-40ec-8141-0fa80259fff7 2019-09-25 12:40:18.513492+02:00                  False   \n",
       "f944f73a-22e1-4b40-afa8-9a7f0f806868 2019-10-01 12:27:25.837481+02:00                  False   \n",
       "\n",
       "                                                                      TransactionId  \\\n",
       "ContainerId                          borrow_time                                      \n",
       "daf1fb53-fa42-40ec-8141-0fa80259fff7 2019-09-25 12:40:18.513492+02:00           NaN   \n",
       "f944f73a-22e1-4b40-afa8-9a7f0f806868 2019-10-01 12:27:25.837481+02:00           NaN   \n",
       "\n",
       "                                                                       container_type_id  \\\n",
       "ContainerId                          borrow_time                                           \n",
       "daf1fb53-fa42-40ec-8141-0fa80259fff7 2019-09-25 12:40:18.513492+02:00                1.0   \n",
       "f944f73a-22e1-4b40-afa8-9a7f0f806868 2019-10-01 12:27:25.837481+02:00                1.0   \n",
       "\n",
       "                                                                      owner_store_id  \\\n",
       "ContainerId                          borrow_time                                       \n",
       "daf1fb53-fa42-40ec-8141-0fa80259fff7 2019-09-25 12:40:18.513492+02:00            NaN   \n",
       "f944f73a-22e1-4b40-afa8-9a7f0f806868 2019-10-01 12:27:25.837481+02:00            NaN   \n",
       "\n",
       "                                                                                        next_owner_store_id  \\\n",
       "ContainerId                          borrow_time                                                              \n",
       "daf1fb53-fa42-40ec-8141-0fa80259fff7 2019-09-25 12:40:18.513492+02:00  632c5d83-6266-4f57-be97-b60154a9464d   \n",
       "f944f73a-22e1-4b40-afa8-9a7f0f806868 2019-10-01 12:27:25.837481+02:00  632c5d83-6266-4f57-be97-b60154a9464d   \n",
       "\n",
       "                                                                       owner_co_int_  \\\n",
       "ContainerId                          borrow_time                                       \n",
       "daf1fb53-fa42-40ec-8141-0fa80259fff7 2019-09-25 12:40:18.513492+02:00          False   \n",
       "f944f73a-22e1-4b40-afa8-9a7f0f806868 2019-10-01 12:27:25.837481+02:00          False   \n",
       "\n",
       "                                                                       next_owner_co_int_  \\\n",
       "ContainerId                          borrow_time                                            \n",
       "daf1fb53-fa42-40ec-8141-0fa80259fff7 2019-09-25 12:40:18.513492+02:00               False   \n",
       "f944f73a-22e1-4b40-afa8-9a7f0f806868 2019-10-01 12:27:25.837481+02:00               False   \n",
       "\n",
       "                                                                      owner_claim_type  \\\n",
       "ContainerId                          borrow_time                                         \n",
       "daf1fb53-fa42-40ec-8141-0fa80259fff7 2019-09-25 12:40:18.513492+02:00         consumer   \n",
       "f944f73a-22e1-4b40-afa8-9a7f0f806868 2019-10-01 12:27:25.837481+02:00         consumer   \n",
       "\n",
       "                                                                      next_owner_claim_type  \\\n",
       "ContainerId                          borrow_time                                              \n",
       "daf1fb53-fa42-40ec-8141-0fa80259fff7 2019-09-25 12:40:18.513492+02:00          storeappuser   \n",
       "f944f73a-22e1-4b40-afa8-9a7f0f806868 2019-10-01 12:27:25.837481+02:00          storeappuser   \n",
       "\n",
       "                                                                                              geometry  \\\n",
       "ContainerId                          borrow_time                                                         \n",
       "daf1fb53-fa42-40ec-8141-0fa80259fff7 2019-09-25 12:40:18.513492+02:00  POINT (2566339.030 5646362.381)   \n",
       "f944f73a-22e1-4b40-afa8-9a7f0f806868 2019-10-01 12:27:25.837481+02:00  POINT (2566339.030 5646362.381)   \n",
       "\n",
       "                                                                                    OwnerTill_r  \\\n",
       "ContainerId                          borrow_time                                                  \n",
       "daf1fb53-fa42-40ec-8141-0fa80259fff7 2019-09-25 12:40:18.513492+02:00 2019-09-30 13:00:00+02:00   \n",
       "f944f73a-22e1-4b40-afa8-9a7f0f806868 2019-10-01 12:27:25.837481+02:00 2019-10-14 12:00:00+02:00   \n",
       "\n",
       "                                                                                                     Source  \\\n",
       "ContainerId                          borrow_time                                                              \n",
       "daf1fb53-fa42-40ec-8141-0fa80259fff7 2019-09-25 12:40:18.513492+02:00  837802c9-7bb4-4c50-bf75-18ff136eb8f6   \n",
       "f944f73a-22e1-4b40-afa8-9a7f0f806868 2019-10-01 12:27:25.837481+02:00  6ce988a3-2cd5-4ba3-923c-a286414182f1   \n",
       "\n",
       "                                                                                                     Target  \n",
       "ContainerId                          borrow_time                                                             \n",
       "daf1fb53-fa42-40ec-8141-0fa80259fff7 2019-09-25 12:40:18.513492+02:00  632c5d83-6266-4f57-be97-b60154a9464d  \n",
       "f944f73a-22e1-4b40-afa8-9a7f0f806868 2019-10-01 12:27:25.837481+02:00  632c5d83-6266-4f57-be97-b60154a9464d  "
      ]
     },
     "execution_count": 11,
     "metadata": {},
     "output_type": "execute_result"
    }
   ],
   "source": [
    "%store -r c_co_in\n",
    "\n",
    "in_df=c_co_in\n",
    "in_df=in_df.rename(columns={'OwnerSince':'borrow_time'})\n",
    "in_df.set_index(['ContainerId','borrow_time'], inplace=True)\n",
    "in_df.head(2)\n"
   ]
  },
  {
   "cell_type": "code",
   "execution_count": null,
   "metadata": {},
   "outputs": [],
   "source": []
  },
  {
   "cell_type": "code",
   "execution_count": 12,
   "metadata": {},
   "outputs": [
    {
     "name": "stdout",
     "output_type": "stream",
     "text": [
      "(128860, 3)\n"
     ]
    },
    {
     "data": {
      "text/html": [
       "<div>\n",
       "<style scoped>\n",
       "    .dataframe tbody tr th:only-of-type {\n",
       "        vertical-align: middle;\n",
       "    }\n",
       "\n",
       "    .dataframe tbody tr th {\n",
       "        vertical-align: top;\n",
       "    }\n",
       "\n",
       "    .dataframe thead th {\n",
       "        text-align: right;\n",
       "    }\n",
       "</style>\n",
       "<table border=\"1\" class=\"dataframe\">\n",
       "  <thead>\n",
       "    <tr style=\"text-align: right;\">\n",
       "      <th></th>\n",
       "      <th></th>\n",
       "      <th>owner_store_id</th>\n",
       "      <th>NextOwnerId</th>\n",
       "      <th>next_owner_store_id</th>\n",
       "    </tr>\n",
       "    <tr>\n",
       "      <th>ContainerId</th>\n",
       "      <th>borrow_time</th>\n",
       "      <th></th>\n",
       "      <th></th>\n",
       "      <th></th>\n",
       "    </tr>\n",
       "  </thead>\n",
       "  <tbody>\n",
       "    <tr>\n",
       "      <th>85e0e3c4-ba4b-4f1a-a030-4e131d27d4d5</th>\n",
       "      <th>2020-05-26 14:32:40.739852+02:00</th>\n",
       "      <td>632c5d83-6266-4f57-be97-b60154a9464d</td>\n",
       "      <td>2402b7c2-b627-43eb-ae6d-f95f1680e6fd</td>\n",
       "      <td>632c5d83-6266-4f57-be97-b60154a9464d</td>\n",
       "    </tr>\n",
       "    <tr>\n",
       "      <th>741b7da3-7d9f-4738-8269-692c6950a867</th>\n",
       "      <th>2020-05-13 13:17:32.203041+02:00</th>\n",
       "      <td>632c5d83-6266-4f57-be97-b60154a9464d</td>\n",
       "      <td>2402b7c2-b627-43eb-ae6d-f95f1680e6fd</td>\n",
       "      <td>632c5d83-6266-4f57-be97-b60154a9464d</td>\n",
       "    </tr>\n",
       "  </tbody>\n",
       "</table>\n",
       "</div>"
      ],
      "text/plain": [
       "                                                                                             owner_store_id  \\\n",
       "ContainerId                          borrow_time                                                              \n",
       "85e0e3c4-ba4b-4f1a-a030-4e131d27d4d5 2020-05-26 14:32:40.739852+02:00  632c5d83-6266-4f57-be97-b60154a9464d   \n",
       "741b7da3-7d9f-4738-8269-692c6950a867 2020-05-13 13:17:32.203041+02:00  632c5d83-6266-4f57-be97-b60154a9464d   \n",
       "\n",
       "                                                                                                NextOwnerId  \\\n",
       "ContainerId                          borrow_time                                                              \n",
       "85e0e3c4-ba4b-4f1a-a030-4e131d27d4d5 2020-05-26 14:32:40.739852+02:00  2402b7c2-b627-43eb-ae6d-f95f1680e6fd   \n",
       "741b7da3-7d9f-4738-8269-692c6950a867 2020-05-13 13:17:32.203041+02:00  2402b7c2-b627-43eb-ae6d-f95f1680e6fd   \n",
       "\n",
       "                                                                                        next_owner_store_id  \n",
       "ContainerId                          borrow_time                                                             \n",
       "85e0e3c4-ba4b-4f1a-a030-4e131d27d4d5 2020-05-26 14:32:40.739852+02:00  632c5d83-6266-4f57-be97-b60154a9464d  \n",
       "741b7da3-7d9f-4738-8269-692c6950a867 2020-05-13 13:17:32.203041+02:00  632c5d83-6266-4f57-be97-b60154a9464d  "
      ]
     },
     "execution_count": 12,
     "metadata": {},
     "output_type": "execute_result"
    }
   ],
   "source": [
    "edge_df=pd.merge(out_df[['owner_store_id','NextOwnerId']], in_df['next_owner_store_id'],\\\n",
    "                 left_index=True,right_index=True,how='inner')#reset_index()\n",
    "print(edge_df.shape)\n",
    "edge_df.head(2)"
   ]
  },
  {
   "cell_type": "raw",
   "metadata": {
    "tags": []
   },
   "source": [
    "edge_df=out_df[['owner_store_id','NextOwnerId']].join(in_df['next_owner_store_id'], how='inner',lsuffix='_l', rsuffix='_r' )\n",
    "edge_df.shape"
   ]
  },
  {
   "cell_type": "code",
   "execution_count": 13,
   "metadata": {},
   "outputs": [
    {
     "data": {
      "text/html": [
       "<div>\n",
       "<style scoped>\n",
       "    .dataframe tbody tr th:only-of-type {\n",
       "        vertical-align: middle;\n",
       "    }\n",
       "\n",
       "    .dataframe tbody tr th {\n",
       "        vertical-align: top;\n",
       "    }\n",
       "\n",
       "    .dataframe thead th {\n",
       "        text-align: right;\n",
       "    }\n",
       "</style>\n",
       "<table border=\"1\" class=\"dataframe\">\n",
       "  <thead>\n",
       "    <tr style=\"text-align: right;\">\n",
       "      <th></th>\n",
       "      <th></th>\n",
       "      <th>owner_store_id</th>\n",
       "      <th>NextOwnerId</th>\n",
       "      <th>next_owner_store_id</th>\n",
       "    </tr>\n",
       "    <tr>\n",
       "      <th>ContainerId</th>\n",
       "      <th>borrow_time</th>\n",
       "      <th></th>\n",
       "      <th></th>\n",
       "      <th></th>\n",
       "    </tr>\n",
       "  </thead>\n",
       "  <tbody>\n",
       "    <tr>\n",
       "      <th>85e0e3c4-ba4b-4f1a-a030-4e131d27d4d5</th>\n",
       "      <th>2020-05-26 14:32:40.739852+02:00</th>\n",
       "      <td>632c5d83-6266-4f57-be97-b60154a9464d</td>\n",
       "      <td>2402b7c2-b627-43eb-ae6d-f95f1680e6fd</td>\n",
       "      <td>632c5d83-6266-4f57-be97-b60154a9464d</td>\n",
       "    </tr>\n",
       "    <tr>\n",
       "      <th>741b7da3-7d9f-4738-8269-692c6950a867</th>\n",
       "      <th>2020-05-13 13:17:32.203041+02:00</th>\n",
       "      <td>632c5d83-6266-4f57-be97-b60154a9464d</td>\n",
       "      <td>2402b7c2-b627-43eb-ae6d-f95f1680e6fd</td>\n",
       "      <td>632c5d83-6266-4f57-be97-b60154a9464d</td>\n",
       "    </tr>\n",
       "    <tr>\n",
       "      <th>d99110cf-0179-42ec-9e6a-50e987207216</th>\n",
       "      <th>2020-07-31 12:07:56.791539+02:00</th>\n",
       "      <td>cdd31b00-ed5e-4972-ae6f-3b516c1f86bc</td>\n",
       "      <td>e179a3dc-9f2b-4128-999b-41cf7e10b99d</td>\n",
       "      <td>cdd31b00-ed5e-4972-ae6f-3b516c1f86bc</td>\n",
       "    </tr>\n",
       "    <tr>\n",
       "      <th>f14e9ceb-fdb3-4e0a-a3ae-bc8a7986ad30</th>\n",
       "      <th>2020-07-30 12:56:57.072940+02:00</th>\n",
       "      <td>cdd31b00-ed5e-4972-ae6f-3b516c1f86bc</td>\n",
       "      <td>5d8f51de-a085-40b1-93d3-8cfe070e80d0</td>\n",
       "      <td>cdd31b00-ed5e-4972-ae6f-3b516c1f86bc</td>\n",
       "    </tr>\n",
       "    <tr>\n",
       "      <th>9b922b34-8017-4e00-9d8a-af8a21b87bac</th>\n",
       "      <th>2020-06-11 15:21:40.616305+02:00</th>\n",
       "      <td>d2b81db9-427a-40ae-96c2-fb27657a0389</td>\n",
       "      <td>87d3da53-e74a-4efb-9dbd-50d7898551c7</td>\n",
       "      <td>d2b81db9-427a-40ae-96c2-fb27657a0389</td>\n",
       "    </tr>\n",
       "  </tbody>\n",
       "</table>\n",
       "</div>"
      ],
      "text/plain": [
       "                                                                                             owner_store_id  \\\n",
       "ContainerId                          borrow_time                                                              \n",
       "85e0e3c4-ba4b-4f1a-a030-4e131d27d4d5 2020-05-26 14:32:40.739852+02:00  632c5d83-6266-4f57-be97-b60154a9464d   \n",
       "741b7da3-7d9f-4738-8269-692c6950a867 2020-05-13 13:17:32.203041+02:00  632c5d83-6266-4f57-be97-b60154a9464d   \n",
       "d99110cf-0179-42ec-9e6a-50e987207216 2020-07-31 12:07:56.791539+02:00  cdd31b00-ed5e-4972-ae6f-3b516c1f86bc   \n",
       "f14e9ceb-fdb3-4e0a-a3ae-bc8a7986ad30 2020-07-30 12:56:57.072940+02:00  cdd31b00-ed5e-4972-ae6f-3b516c1f86bc   \n",
       "9b922b34-8017-4e00-9d8a-af8a21b87bac 2020-06-11 15:21:40.616305+02:00  d2b81db9-427a-40ae-96c2-fb27657a0389   \n",
       "\n",
       "                                                                                                NextOwnerId  \\\n",
       "ContainerId                          borrow_time                                                              \n",
       "85e0e3c4-ba4b-4f1a-a030-4e131d27d4d5 2020-05-26 14:32:40.739852+02:00  2402b7c2-b627-43eb-ae6d-f95f1680e6fd   \n",
       "741b7da3-7d9f-4738-8269-692c6950a867 2020-05-13 13:17:32.203041+02:00  2402b7c2-b627-43eb-ae6d-f95f1680e6fd   \n",
       "d99110cf-0179-42ec-9e6a-50e987207216 2020-07-31 12:07:56.791539+02:00  e179a3dc-9f2b-4128-999b-41cf7e10b99d   \n",
       "f14e9ceb-fdb3-4e0a-a3ae-bc8a7986ad30 2020-07-30 12:56:57.072940+02:00  5d8f51de-a085-40b1-93d3-8cfe070e80d0   \n",
       "9b922b34-8017-4e00-9d8a-af8a21b87bac 2020-06-11 15:21:40.616305+02:00  87d3da53-e74a-4efb-9dbd-50d7898551c7   \n",
       "\n",
       "                                                                                        next_owner_store_id  \n",
       "ContainerId                          borrow_time                                                             \n",
       "85e0e3c4-ba4b-4f1a-a030-4e131d27d4d5 2020-05-26 14:32:40.739852+02:00  632c5d83-6266-4f57-be97-b60154a9464d  \n",
       "741b7da3-7d9f-4738-8269-692c6950a867 2020-05-13 13:17:32.203041+02:00  632c5d83-6266-4f57-be97-b60154a9464d  \n",
       "d99110cf-0179-42ec-9e6a-50e987207216 2020-07-31 12:07:56.791539+02:00  cdd31b00-ed5e-4972-ae6f-3b516c1f86bc  \n",
       "f14e9ceb-fdb3-4e0a-a3ae-bc8a7986ad30 2020-07-30 12:56:57.072940+02:00  cdd31b00-ed5e-4972-ae6f-3b516c1f86bc  \n",
       "9b922b34-8017-4e00-9d8a-af8a21b87bac 2020-06-11 15:21:40.616305+02:00  d2b81db9-427a-40ae-96c2-fb27657a0389  "
      ]
     },
     "execution_count": 13,
     "metadata": {},
     "output_type": "execute_result"
    }
   ],
   "source": [
    "edge_df.head()"
   ]
  },
  {
   "cell_type": "code",
   "execution_count": null,
   "metadata": {},
   "outputs": [],
   "source": []
  },
  {
   "cell_type": "code",
   "execution_count": null,
   "metadata": {},
   "outputs": [],
   "source": []
  },
  {
   "cell_type": "code",
   "execution_count": 14,
   "metadata": {},
   "outputs": [],
   "source": [
    "\n",
    "# remove the stores which are not in Cologne. Recheck\n",
    "edge_df=edge_df[edge_df.owner_store_id.isin(m_df.index)]\n",
    "edge_df=edge_df[edge_df.next_owner_store_id.isin(m_df.index)]"
   ]
  },
  {
   "cell_type": "code",
   "execution_count": 15,
   "metadata": {},
   "outputs": [],
   "source": [
    "edge_df.reset_index(inplace=True)"
   ]
  },
  {
   "cell_type": "code",
   "execution_count": 16,
   "metadata": {},
   "outputs": [
    {
     "data": {
      "text/html": [
       "<div>\n",
       "<style scoped>\n",
       "    .dataframe tbody tr th:only-of-type {\n",
       "        vertical-align: middle;\n",
       "    }\n",
       "\n",
       "    .dataframe tbody tr th {\n",
       "        vertical-align: top;\n",
       "    }\n",
       "\n",
       "    .dataframe thead th {\n",
       "        text-align: right;\n",
       "    }\n",
       "</style>\n",
       "<table border=\"1\" class=\"dataframe\">\n",
       "  <thead>\n",
       "    <tr style=\"text-align: right;\">\n",
       "      <th></th>\n",
       "      <th>ContainerId</th>\n",
       "      <th>borrow_time</th>\n",
       "      <th>owner_store_id</th>\n",
       "      <th>NextOwnerId</th>\n",
       "      <th>next_owner_store_id</th>\n",
       "    </tr>\n",
       "  </thead>\n",
       "  <tbody>\n",
       "    <tr>\n",
       "      <th>0</th>\n",
       "      <td>85e0e3c4-ba4b-4f1a-a030-4e131d27d4d5</td>\n",
       "      <td>2020-05-26 14:32:40.739852+02:00</td>\n",
       "      <td>632c5d83-6266-4f57-be97-b60154a9464d</td>\n",
       "      <td>2402b7c2-b627-43eb-ae6d-f95f1680e6fd</td>\n",
       "      <td>632c5d83-6266-4f57-be97-b60154a9464d</td>\n",
       "    </tr>\n",
       "    <tr>\n",
       "      <th>1</th>\n",
       "      <td>741b7da3-7d9f-4738-8269-692c6950a867</td>\n",
       "      <td>2020-05-13 13:17:32.203041+02:00</td>\n",
       "      <td>632c5d83-6266-4f57-be97-b60154a9464d</td>\n",
       "      <td>2402b7c2-b627-43eb-ae6d-f95f1680e6fd</td>\n",
       "      <td>632c5d83-6266-4f57-be97-b60154a9464d</td>\n",
       "    </tr>\n",
       "  </tbody>\n",
       "</table>\n",
       "</div>"
      ],
      "text/plain": [
       "                            ContainerId                      borrow_time  \\\n",
       "0  85e0e3c4-ba4b-4f1a-a030-4e131d27d4d5 2020-05-26 14:32:40.739852+02:00   \n",
       "1  741b7da3-7d9f-4738-8269-692c6950a867 2020-05-13 13:17:32.203041+02:00   \n",
       "\n",
       "                         owner_store_id                           NextOwnerId  \\\n",
       "0  632c5d83-6266-4f57-be97-b60154a9464d  2402b7c2-b627-43eb-ae6d-f95f1680e6fd   \n",
       "1  632c5d83-6266-4f57-be97-b60154a9464d  2402b7c2-b627-43eb-ae6d-f95f1680e6fd   \n",
       "\n",
       "                    next_owner_store_id  \n",
       "0  632c5d83-6266-4f57-be97-b60154a9464d  \n",
       "1  632c5d83-6266-4f57-be97-b60154a9464d  "
      ]
     },
     "execution_count": 16,
     "metadata": {},
     "output_type": "execute_result"
    }
   ],
   "source": [
    "edge_df.head(2)"
   ]
  },
  {
   "cell_type": "code",
   "execution_count": 17,
   "metadata": {},
   "outputs": [
    {
     "data": {
      "text/plain": [
       "(33368, 5)"
      ]
     },
     "execution_count": 17,
     "metadata": {},
     "output_type": "execute_result"
    }
   ],
   "source": [
    "# number of containers which are returned to a different store\n",
    "edge_df[edge_df['owner_store_id']!=edge_df['next_owner_store_id']].shape"
   ]
  },
  {
   "cell_type": "code",
   "execution_count": 18,
   "metadata": {},
   "outputs": [],
   "source": [
    "#the containers which are returned to a different stores after borrowing at a store.\n",
    "#x_edge=edge_df[edge_df['owner_store_id']!=edge_df['next_owner_store_id']]\n",
    "\n",
    "#x_edge.rename_axis(index=['ContainerId', 'borrowed_time'])\n",
    "\n",
    "#x_edge.reset_index(inplace=True)\n",
    "\n",
    "#x_edge=x_edge.rename(columns={'OwnerTill':'borrow_time','level_1':'borrow_time'})\n",
    "\n",
    "#x_edge.shape"
   ]
  },
  {
   "cell_type": "code",
   "execution_count": 19,
   "metadata": {},
   "outputs": [],
   "source": [
    "# create a multigraph\n",
    "MG=nx.from_pandas_edgelist(edge_df, source='owner_store_id', target=\"next_owner_store_id\", edge_attr=[ \"borrow_time\"], create_using=nx.MultiDiGraph())"
   ]
  },
  {
   "cell_type": "code",
   "execution_count": 20,
   "metadata": {},
   "outputs": [
    {
     "data": {
      "text/plain": [
       "286"
      ]
     },
     "execution_count": 20,
     "metadata": {},
     "output_type": "execute_result"
    }
   ],
   "source": [
    "len(MG.nodes)"
   ]
  },
  {
   "cell_type": "code",
   "execution_count": 21,
   "metadata": {},
   "outputs": [],
   "source": [
    "in_degree=nx.in_degree_centrality(MG)\n",
    "in_degree  = pd.Series(in_degree,index=in_degree.keys())*(len(MG.nodes)-1)\n",
    "in_degree= in_degree.round()\n",
    "\n",
    "nx.set_node_attributes(MG,values=in_degree, name='in_degree')"
   ]
  },
  {
   "cell_type": "code",
   "execution_count": 22,
   "metadata": {},
   "outputs": [],
   "source": [
    "out_degree=nx.out_degree_centrality(MG)\n",
    "out_degree  = pd.Series(out_degree,index=out_degree.keys())*(len(MG.nodes)-1)\n",
    "out_degree= out_degree.round()\n",
    "\n",
    "nx.set_node_attributes(MG, values=out_degree, name='out_degree')\n"
   ]
  },
  {
   "cell_type": "code",
   "execution_count": 23,
   "metadata": {},
   "outputs": [],
   "source": [
    "\n",
    "for n in MG.nodes:\n",
    "    MG.nodes[n]['osmid']=n"
   ]
  },
  {
   "cell_type": "code",
   "execution_count": 24,
   "metadata": {},
   "outputs": [],
   "source": [
    "nx.set_node_attributes(MG,values=dict(m_df.Latitude), name='y')\n",
    "nx.set_node_attributes(MG,values=dict(m_df.Longitude), name='x')"
   ]
  },
  {
   "cell_type": "code",
   "execution_count": 25,
   "metadata": {},
   "outputs": [],
   "source": [
    "\n",
    "for n in MG.nodes:\n",
    "    MG.nodes[n]['geometry']=Point(MG.nodes[n]['x'],MG.nodes[n]['y'])"
   ]
  },
  {
   "cell_type": "code",
   "execution_count": 26,
   "metadata": {},
   "outputs": [],
   "source": [
    "for e in MG.edges:\n",
    "    MG.edges[e]['geometry']=LineString([MG.nodes[e[0]]['geometry'],MG.nodes[e[1]]['geometry']])"
   ]
  },
  {
   "cell_type": "code",
   "execution_count": 27,
   "metadata": {},
   "outputs": [],
   "source": [
    "MG.graph['crs']='epsg:4326'"
   ]
  },
  {
   "cell_type": "code",
   "execution_count": 28,
   "metadata": {},
   "outputs": [
    {
     "data": {
      "text/html": [
       "<div>\n",
       "<style scoped>\n",
       "    .dataframe tbody tr th:only-of-type {\n",
       "        vertical-align: middle;\n",
       "    }\n",
       "\n",
       "    .dataframe tbody tr th {\n",
       "        vertical-align: top;\n",
       "    }\n",
       "\n",
       "    .dataframe thead th {\n",
       "        text-align: right;\n",
       "    }\n",
       "</style>\n",
       "<table border=\"1\" class=\"dataframe\">\n",
       "  <thead>\n",
       "    <tr style=\"text-align: right;\">\n",
       "      <th></th>\n",
       "      <th></th>\n",
       "      <th></th>\n",
       "      <th>borrow_time</th>\n",
       "      <th>geometry</th>\n",
       "    </tr>\n",
       "    <tr>\n",
       "      <th>u</th>\n",
       "      <th>v</th>\n",
       "      <th>key</th>\n",
       "      <th></th>\n",
       "      <th></th>\n",
       "    </tr>\n",
       "  </thead>\n",
       "  <tbody>\n",
       "    <tr>\n",
       "      <th rowspan=\"4\" valign=\"top\">632c5d83-6266-4f57-be97-b60154a9464d</th>\n",
       "      <th rowspan=\"4\" valign=\"top\">632c5d83-6266-4f57-be97-b60154a9464d</th>\n",
       "      <th>0</th>\n",
       "      <td>2020-05-26 14:32:40.739852+02:00</td>\n",
       "      <td>LINESTRING (6.94338 50.94869, 6.94338 50.94869)</td>\n",
       "    </tr>\n",
       "    <tr>\n",
       "      <th>1</th>\n",
       "      <td>2020-05-13 13:17:32.203041+02:00</td>\n",
       "      <td>LINESTRING (6.94338 50.94869, 6.94338 50.94869)</td>\n",
       "    </tr>\n",
       "    <tr>\n",
       "      <th>2</th>\n",
       "      <td>2020-08-11 12:09:19.449083+02:00</td>\n",
       "      <td>LINESTRING (6.94338 50.94869, 6.94338 50.94869)</td>\n",
       "    </tr>\n",
       "    <tr>\n",
       "      <th>3</th>\n",
       "      <td>2020-08-11 12:09:19.633083+02:00</td>\n",
       "      <td>LINESTRING (6.94338 50.94869, 6.94338 50.94869)</td>\n",
       "    </tr>\n",
       "    <tr>\n",
       "      <th>cdd31b00-ed5e-4972-ae6f-3b516c1f86bc</th>\n",
       "      <th>cdd31b00-ed5e-4972-ae6f-3b516c1f86bc</th>\n",
       "      <th>0</th>\n",
       "      <td>2020-07-31 12:07:56.791539+02:00</td>\n",
       "      <td>LINESTRING (6.94432 50.94830, 6.94432 50.94830)</td>\n",
       "    </tr>\n",
       "  </tbody>\n",
       "</table>\n",
       "</div>"
      ],
      "text/plain": [
       "                                                                                                   borrow_time  \\\n",
       "u                                    v                                    key                                    \n",
       "632c5d83-6266-4f57-be97-b60154a9464d 632c5d83-6266-4f57-be97-b60154a9464d 0   2020-05-26 14:32:40.739852+02:00   \n",
       "                                                                          1   2020-05-13 13:17:32.203041+02:00   \n",
       "                                                                          2   2020-08-11 12:09:19.449083+02:00   \n",
       "                                                                          3   2020-08-11 12:09:19.633083+02:00   \n",
       "cdd31b00-ed5e-4972-ae6f-3b516c1f86bc cdd31b00-ed5e-4972-ae6f-3b516c1f86bc 0   2020-07-31 12:07:56.791539+02:00   \n",
       "\n",
       "                                                                                                                      geometry  \n",
       "u                                    v                                    key                                                   \n",
       "632c5d83-6266-4f57-be97-b60154a9464d 632c5d83-6266-4f57-be97-b60154a9464d 0    LINESTRING (6.94338 50.94869, 6.94338 50.94869)  \n",
       "                                                                          1    LINESTRING (6.94338 50.94869, 6.94338 50.94869)  \n",
       "                                                                          2    LINESTRING (6.94338 50.94869, 6.94338 50.94869)  \n",
       "                                                                          3    LINESTRING (6.94338 50.94869, 6.94338 50.94869)  \n",
       "cdd31b00-ed5e-4972-ae6f-3b516c1f86bc cdd31b00-ed5e-4972-ae6f-3b516c1f86bc 0    LINESTRING (6.94432 50.94830, 6.94432 50.94830)  "
      ]
     },
     "execution_count": 28,
     "metadata": {},
     "output_type": "execute_result"
    }
   ],
   "source": [
    "# you can convert MultiDiGraph to/from geopandas GeoDataFrames\n",
    "gdf_nodes, gdf_edges = ox.graph_to_gdfs(MG)\n",
    "gdf_edges.head()"
   ]
  },
  {
   "cell_type": "code",
   "execution_count": 29,
   "metadata": {},
   "outputs": [
    {
     "data": {
      "text/html": [
       "<div>\n",
       "<style scoped>\n",
       "    .dataframe tbody tr th:only-of-type {\n",
       "        vertical-align: middle;\n",
       "    }\n",
       "\n",
       "    .dataframe tbody tr th {\n",
       "        vertical-align: top;\n",
       "    }\n",
       "\n",
       "    .dataframe thead th {\n",
       "        text-align: right;\n",
       "    }\n",
       "</style>\n",
       "<table border=\"1\" class=\"dataframe\">\n",
       "  <thead>\n",
       "    <tr style=\"text-align: right;\">\n",
       "      <th></th>\n",
       "      <th>in_degree</th>\n",
       "      <th>out_degree</th>\n",
       "      <th>osmid</th>\n",
       "      <th>y</th>\n",
       "      <th>x</th>\n",
       "      <th>geometry</th>\n",
       "    </tr>\n",
       "    <tr>\n",
       "      <th>osmid</th>\n",
       "      <th></th>\n",
       "      <th></th>\n",
       "      <th></th>\n",
       "      <th></th>\n",
       "      <th></th>\n",
       "      <th></th>\n",
       "    </tr>\n",
       "  </thead>\n",
       "  <tbody>\n",
       "    <tr>\n",
       "      <th>632c5d83-6266-4f57-be97-b60154a9464d</th>\n",
       "      <td>5.0</td>\n",
       "      <td>4.0</td>\n",
       "      <td>632c5d83-6266-4f57-be97-b60154a9464d</td>\n",
       "      <td>50.948689</td>\n",
       "      <td>6.943381</td>\n",
       "      <td>POINT (6.94338 50.94869)</td>\n",
       "    </tr>\n",
       "    <tr>\n",
       "      <th>cdd31b00-ed5e-4972-ae6f-3b516c1f86bc</th>\n",
       "      <td>929.0</td>\n",
       "      <td>923.0</td>\n",
       "      <td>cdd31b00-ed5e-4972-ae6f-3b516c1f86bc</td>\n",
       "      <td>50.948303</td>\n",
       "      <td>6.944325</td>\n",
       "      <td>POINT (6.94432 50.94830)</td>\n",
       "    </tr>\n",
       "    <tr>\n",
       "      <th>d2b81db9-427a-40ae-96c2-fb27657a0389</th>\n",
       "      <td>711.0</td>\n",
       "      <td>689.0</td>\n",
       "      <td>d2b81db9-427a-40ae-96c2-fb27657a0389</td>\n",
       "      <td>50.941436</td>\n",
       "      <td>6.936772</td>\n",
       "      <td>POINT (6.93677 50.94144)</td>\n",
       "    </tr>\n",
       "    <tr>\n",
       "      <th>a156eb83-78cb-4d39-abca-2d65cb3da62f</th>\n",
       "      <td>203.0</td>\n",
       "      <td>3.0</td>\n",
       "      <td>a156eb83-78cb-4d39-abca-2d65cb3da62f</td>\n",
       "      <td>50.940878</td>\n",
       "      <td>6.939218</td>\n",
       "      <td>POINT (6.93922 50.94088)</td>\n",
       "    </tr>\n",
       "    <tr>\n",
       "      <th>4d864997-3feb-4e56-911d-64930693f726</th>\n",
       "      <td>47.0</td>\n",
       "      <td>52.0</td>\n",
       "      <td>4d864997-3feb-4e56-911d-64930693f726</td>\n",
       "      <td>50.936072</td>\n",
       "      <td>6.934454</td>\n",
       "      <td>POINT (6.93445 50.93607)</td>\n",
       "    </tr>\n",
       "  </tbody>\n",
       "</table>\n",
       "</div>"
      ],
      "text/plain": [
       "                                      in_degree  out_degree  \\\n",
       "osmid                                                         \n",
       "632c5d83-6266-4f57-be97-b60154a9464d        5.0         4.0   \n",
       "cdd31b00-ed5e-4972-ae6f-3b516c1f86bc      929.0       923.0   \n",
       "d2b81db9-427a-40ae-96c2-fb27657a0389      711.0       689.0   \n",
       "a156eb83-78cb-4d39-abca-2d65cb3da62f      203.0         3.0   \n",
       "4d864997-3feb-4e56-911d-64930693f726       47.0        52.0   \n",
       "\n",
       "                                                                     osmid  \\\n",
       "osmid                                                                        \n",
       "632c5d83-6266-4f57-be97-b60154a9464d  632c5d83-6266-4f57-be97-b60154a9464d   \n",
       "cdd31b00-ed5e-4972-ae6f-3b516c1f86bc  cdd31b00-ed5e-4972-ae6f-3b516c1f86bc   \n",
       "d2b81db9-427a-40ae-96c2-fb27657a0389  d2b81db9-427a-40ae-96c2-fb27657a0389   \n",
       "a156eb83-78cb-4d39-abca-2d65cb3da62f  a156eb83-78cb-4d39-abca-2d65cb3da62f   \n",
       "4d864997-3feb-4e56-911d-64930693f726  4d864997-3feb-4e56-911d-64930693f726   \n",
       "\n",
       "                                              y         x  \\\n",
       "osmid                                                       \n",
       "632c5d83-6266-4f57-be97-b60154a9464d  50.948689  6.943381   \n",
       "cdd31b00-ed5e-4972-ae6f-3b516c1f86bc  50.948303  6.944325   \n",
       "d2b81db9-427a-40ae-96c2-fb27657a0389  50.941436  6.936772   \n",
       "a156eb83-78cb-4d39-abca-2d65cb3da62f  50.940878  6.939218   \n",
       "4d864997-3feb-4e56-911d-64930693f726  50.936072  6.934454   \n",
       "\n",
       "                                                      geometry  \n",
       "osmid                                                           \n",
       "632c5d83-6266-4f57-be97-b60154a9464d  POINT (6.94338 50.94869)  \n",
       "cdd31b00-ed5e-4972-ae6f-3b516c1f86bc  POINT (6.94432 50.94830)  \n",
       "d2b81db9-427a-40ae-96c2-fb27657a0389  POINT (6.93677 50.94144)  \n",
       "a156eb83-78cb-4d39-abca-2d65cb3da62f  POINT (6.93922 50.94088)  \n",
       "4d864997-3feb-4e56-911d-64930693f726  POINT (6.93445 50.93607)  "
      ]
     },
     "execution_count": 29,
     "metadata": {},
     "output_type": "execute_result"
    }
   ],
   "source": [
    "gdf_nodes.head()"
   ]
  },
  {
   "cell_type": "code",
   "execution_count": 30,
   "metadata": {},
   "outputs": [
    {
     "data": {
      "image/png": "[encoded data removed]",
      "text/plain": [
       "<Figure size 576x576 with 1 Axes>"
      ]
     },
     "metadata": {},
     "output_type": "display_data"
    }
   ],
   "source": [
    "# plot the graph, coloring nodes by in_degree centrality\n",
    "nc = ox.plot.get_node_colors_by_attr(MG, \"in_degree\", cmap=\"plasma\")\n",
    "fig, ax = ox.plot_graph(\n",
    "    MG, bgcolor=\"k\", node_color=nc, node_size=50, edge_linewidth=2, edge_color=\"#333333\"\n",
    ")"
   ]
  },
  {
   "cell_type": "code",
   "execution_count": 31,
   "metadata": {},
   "outputs": [],
   "source": [
    "#ox.save_graph_shapefile(MG, filepath=\"./graph_shapefile/\")\n",
    "#ox.save_graph_geopackage(MG, filepath=\"./graph.gpkg\")\n",
    "#ox.save_graphml(MG, filepath=\"./graph.graphml\")"
   ]
  },
  {
   "cell_type": "code",
   "execution_count": 32,
   "metadata": {},
   "outputs": [],
   "source": [
    "#MG.nodes(data=True)"
   ]
  },
  {
   "cell_type": "code",
   "execution_count": 33,
   "metadata": {},
   "outputs": [
    {
     "data": {
      "text/plain": [
       "'epsg:4326'"
      ]
     },
     "execution_count": 33,
     "metadata": {},
     "output_type": "execute_result"
    }
   ],
   "source": [
    "#convert the graph into a directed graph by counting the edges\n",
    "DG = nx.DiGraph()\n",
    "for u,v,data in MG.edges(data=True):\n",
    "    w = data['weight'] if 'weight' in data else 1.0\n",
    "    if DG.has_edge(u,v):\n",
    "        DG[u][v]['weight'] += w\n",
    "    else:\n",
    "        DG.add_edge(u, v, weight=w)\n",
    "\n",
    "nx.set_node_attributes(DG,values=dict(m_df.Latitude), name='y')\n",
    "nx.set_node_attributes(DG,values=dict(m_df.Longitude), name='x') \n",
    "\n",
    "# We had gotten in/out degree centralities above when analyzing the multigraph\n",
    "nx.set_node_attributes(DG,values=out_degree, name='out_degree')\n",
    "nx.set_node_attributes(DG,values=in_degree, name='in_degree')\n",
    "\n",
    "\n",
    "\n",
    "\n",
    "# Shapely Point and LineString\n",
    "for n in DG.nodes:\n",
    "    DG.nodes[n]['geometry']=Point(DG.nodes[n]['x'],DG.nodes[n]['y'])\n",
    "\n",
    "for e in DG.edges:\n",
    "    DG.edges[e]['geometry']=LineString([DG.nodes[e[0]]['geometry'],DG.nodes[e[1]]['geometry']])\n",
    "\n",
    "DG.graph['crs']='epsg:4326'\n",
    "\n",
    "DG.graph['crs']"
   ]
  },
  {
   "cell_type": "code",
   "execution_count": 34,
   "metadata": {},
   "outputs": [
    {
     "data": {
      "text/plain": [
       "5982"
      ]
     },
     "execution_count": 34,
     "metadata": {},
     "output_type": "execute_result"
    }
   ],
   "source": [
    "len(DG.edges)"
   ]
  },
  {
   "cell_type": "code",
   "execution_count": 35,
   "metadata": {},
   "outputs": [],
   "source": [
    "DG.remove_edges_from(nx.selfloop_edges(DG))"
   ]
  },
  {
   "cell_type": "code",
   "execution_count": 36,
   "metadata": {},
   "outputs": [
    {
     "data": {
      "text/plain": [
       "<networkx.classes.digraph.DiGraph at 0x7f872c2ceaf0>"
      ]
     },
     "execution_count": 36,
     "metadata": {},
     "output_type": "execute_result"
    }
   ],
   "source": [
    "DG"
   ]
  },
  {
   "cell_type": "code",
   "execution_count": 37,
   "metadata": {},
   "outputs": [
    {
     "data": {
      "text/plain": [
       "286"
      ]
     },
     "execution_count": 37,
     "metadata": {},
     "output_type": "execute_result"
    }
   ],
   "source": [
    "len(DG.nodes)"
   ]
  },
  {
   "cell_type": "code",
   "execution_count": 38,
   "metadata": {},
   "outputs": [
    {
     "name": "stderr",
     "output_type": "stream",
     "text": [
      "/Users/kultiginbozdemir/opt/anaconda3/envs/vytal/lib/python3.8/site-packages/pandas/core/dtypes/cast.py:122: ShapelyDeprecationWarning: The array interface is deprecated and will no longer work in Shapely 2.0. Convert the '.coords' to a numpy array instead.\n",
      "  arr = construct_1d_object_array_from_listlike(values)\n",
      "/Users/kultiginbozdemir/opt/anaconda3/envs/vytal/lib/python3.8/site-packages/pandas/core/dtypes/cast.py:122: ShapelyDeprecationWarning: The array interface is deprecated and will no longer work in Shapely 2.0. Convert the '.coords' to a numpy array instead.\n",
      "  arr = construct_1d_object_array_from_listlike(values)\n",
      "/var/folders/bs/8_rscwxd25z1bcq4d89vsz380000gn/T/ipykernel_40007/2103810375.py:10: FutureWarning: In a future version of pandas all arguments of DataFrame.drop except for the argument 'labels' will be keyword-only.\n",
      "  node_df = node_df.drop('attribute', 1)\n"
     ]
    }
   ],
   "source": [
    "# Get G egdes to dataframe\n",
    "edge_df = nx.to_pandas_edgelist(DG) \n",
    "\n",
    "# Transform networkx nodes to dataframe\n",
    "nodelist = list(DG.nodes(data=True)) # From G to list\n",
    "node_df = pd.DataFrame(nodelist, columns=['vertex', 'attribute']) # From list to DF\n",
    "node_df['geometry'] = [Point(row['attribute']['x'], row['attribute']['y']) for i,row in node_df.iterrows()]\n",
    "node_df['in_degree']=[n['in_degree'] for n in node_df['attribute'] ]\n",
    "node_df['out_degree']=[n['out_degree'] for n in node_df['attribute'] ]  \n",
    "node_df = node_df.drop('attribute', 1)   \n",
    "    \n",
    "# Convert dfs into geodataframe\n",
    "edge_df=gpd.GeoDataFrame(edge_df, crs=\"EPSG:4326\", geometry=edge_df['geometry'])\n",
    "node_df=gpd.GeoDataFrame(node_df, crs=\"EPSG:4326\", geometry=node_df['geometry'])"
   ]
  },
  {
   "cell_type": "code",
   "execution_count": 44,
   "metadata": {},
   "outputs": [
    {
     "data": {
      "text/html": [
       "<div>\n",
       "<style scoped>\n",
       "    .dataframe tbody tr th:only-of-type {\n",
       "        vertical-align: middle;\n",
       "    }\n",
       "\n",
       "    .dataframe tbody tr th {\n",
       "        vertical-align: top;\n",
       "    }\n",
       "\n",
       "    .dataframe thead th {\n",
       "        text-align: right;\n",
       "    }\n",
       "</style>\n",
       "<table border=\"1\" class=\"dataframe\">\n",
       "  <thead>\n",
       "    <tr style=\"text-align: right;\">\n",
       "      <th></th>\n",
       "      <th>geometry</th>\n",
       "      <th>in_degree</th>\n",
       "      <th>out_degree</th>\n",
       "    </tr>\n",
       "    <tr>\n",
       "      <th>vertex</th>\n",
       "      <th></th>\n",
       "      <th></th>\n",
       "      <th></th>\n",
       "    </tr>\n",
       "  </thead>\n",
       "  <tbody>\n",
       "    <tr>\n",
       "      <th>ebbeabd8-0201-4af9-b9fa-a997abcb6bfb</th>\n",
       "      <td>POINT (6.94467 50.93899)</td>\n",
       "      <td>5104.0</td>\n",
       "      <td>7795.0</td>\n",
       "    </tr>\n",
       "    <tr>\n",
       "      <th>a3541dbc-85f8-4ccd-8f5b-801ae99869b8</th>\n",
       "      <td>POINT (6.96179 50.94843)</td>\n",
       "      <td>7118.0</td>\n",
       "      <td>7448.0</td>\n",
       "    </tr>\n",
       "    <tr>\n",
       "      <th>791b56e7-ac51-432f-b75d-17d6556a42ae</th>\n",
       "      <td>POINT (6.99471 50.93822)</td>\n",
       "      <td>6552.0</td>\n",
       "      <td>6510.0</td>\n",
       "    </tr>\n",
       "    <tr>\n",
       "      <th>e20e6c15-6507-4427-8b68-e1d1f870b924</th>\n",
       "      <td>POINT (6.93986 50.94564)</td>\n",
       "      <td>4336.0</td>\n",
       "      <td>4915.0</td>\n",
       "    </tr>\n",
       "    <tr>\n",
       "      <th>74a627d5-9783-4c2b-87b1-f5aa3f617f19</th>\n",
       "      <td>POINT (6.96119 50.92230)</td>\n",
       "      <td>3068.0</td>\n",
       "      <td>4138.0</td>\n",
       "    </tr>\n",
       "  </tbody>\n",
       "</table>\n",
       "</div>"
      ],
      "text/plain": [
       "                                                      geometry  in_degree  \\\n",
       "vertex                                                                      \n",
       "ebbeabd8-0201-4af9-b9fa-a997abcb6bfb  POINT (6.94467 50.93899)     5104.0   \n",
       "a3541dbc-85f8-4ccd-8f5b-801ae99869b8  POINT (6.96179 50.94843)     7118.0   \n",
       "791b56e7-ac51-432f-b75d-17d6556a42ae  POINT (6.99471 50.93822)     6552.0   \n",
       "e20e6c15-6507-4427-8b68-e1d1f870b924  POINT (6.93986 50.94564)     4336.0   \n",
       "74a627d5-9783-4c2b-87b1-f5aa3f617f19  POINT (6.96119 50.92230)     3068.0   \n",
       "\n",
       "                                      out_degree  \n",
       "vertex                                            \n",
       "ebbeabd8-0201-4af9-b9fa-a997abcb6bfb      7795.0  \n",
       "a3541dbc-85f8-4ccd-8f5b-801ae99869b8      7448.0  \n",
       "791b56e7-ac51-432f-b75d-17d6556a42ae      6510.0  \n",
       "e20e6c15-6507-4427-8b68-e1d1f870b924      4915.0  \n",
       "74a627d5-9783-4c2b-87b1-f5aa3f617f19      4138.0  "
      ]
     },
     "execution_count": 44,
     "metadata": {},
     "output_type": "execute_result"
    }
   ],
   "source": [
    "\n",
    "node_df.sort_values('out_degree', ascending=False).head()"
   ]
  },
  {
   "cell_type": "code",
   "execution_count": 40,
   "metadata": {},
   "outputs": [
    {
     "data": {
      "text/plain": [
       "<AxesSubplot:>"
      ]
     },
     "execution_count": 40,
     "metadata": {},
     "output_type": "execute_result"
    },
    {
     "data": {
      "image/png": "[encoded data removed]",
      "text/plain": [
       "<Figure size 432x288 with 1 Axes>"
      ]
     },
     "metadata": {
      "needs_background": "light"
     },
     "output_type": "display_data"
    }
   ],
   "source": [
    "edge_df.plot()\n",
    "#node_df.plot()"
   ]
  },
  {
   "cell_type": "code",
   "execution_count": null,
   "metadata": {},
   "outputs": [],
   "source": []
  },
  {
   "cell_type": "code",
   "execution_count": 41,
   "metadata": {},
   "outputs": [
    {
     "data": {
      "text/plain": [
       "(286, 4)"
      ]
     },
     "execution_count": 41,
     "metadata": {},
     "output_type": "execute_result"
    }
   ],
   "source": [
    "node_df.shape"
   ]
  },
  {
   "cell_type": "code",
   "execution_count": 42,
   "metadata": {},
   "outputs": [],
   "source": [
    "node_df=node_df.set_index('vertex')"
   ]
  },
  {
   "cell_type": "code",
   "execution_count": null,
   "metadata": {},
   "outputs": [],
   "source": []
  },
  {
   "cell_type": "code",
   "execution_count": 90,
   "metadata": {},
   "outputs": [
    {
     "name": "stderr",
     "output_type": "stream",
     "text": [
      "/Users/kultiginbozdemir/opt/anaconda3/envs/vytal/lib/python3.8/site-packages/geopandas/io/file.py:362: FutureWarning: pandas.Int64Index is deprecated and will be removed from pandas in a future version. Use pandas.Index with the appropriate dtype instead.\n",
      "  pd.Int64Index,\n"
     ]
    }
   ],
   "source": [
    "#save the geodataframes into geojson\n",
    "\n",
    "node_df.to_file(\"nx_node_df.geojson\", driver='GeoJSON')\n",
    "edge_df.to_file(\"nx_edge_df.geojson\", driver='GeoJSON')"
   ]
  },
  {
   "cell_type": "code",
   "execution_count": null,
   "metadata": {},
   "outputs": [],
   "source": []
  },
  {
   "cell_type": "code",
   "execution_count": null,
   "metadata": {},
   "outputs": [],
   "source": []
  },
  {
   "cell_type": "code",
   "execution_count": null,
   "metadata": {},
   "outputs": [],
   "source": []
  },
  {
   "cell_type": "raw",
   "metadata": {},
   "source": [
    "# Alternatively, we can count the edges in pandas, then create a graph\n",
    "x_total=x_edge.groupby(['owner_store_id','next_owner_store_id']).size().sort_values(ascending=False).to_frame(name='weight')\n",
    "\n",
    "x_total.reset_index(inplace=True)\n",
    "\n",
    "x_total=x_total.set_index('owner_store_id').join(m_df['geometry'], how='left' ).rename(columns={'geometry':'owner_geometry'}).reset_index().rename(columns={'index':'owner_store_id'})\n",
    "\n",
    "\n",
    "x_total=x_total.set_index('next_owner_store_id').join(m_df['geometry'], how='left' ).rename(columns={'geometry':'next_owner_geometry'}).reset_index().rename(columns={'index':'next_owner_store_id'})\n",
    "\n",
    "\n",
    "df=x_total\n",
    "\n",
    "\n",
    "df['line'] = df.apply(lambda row: LineString([row['owner_geometry'], row['next_owner_geometry']]), axis=1) #Create a linestring column\n",
    "df['midpoint'] = df.apply(lambda row: row['line'].centroid, axis=1) #Find centroid\n",
    "\n",
    "\n",
    "gdf=gpd.GeoDataFrame(df, crs=\"EPSG:4326\", geometry=df['line'])\n",
    "\n",
    "\n",
    "gdf[['owner_store_id','next_owner_store_id',  'weight',  'geometry']].to_file(\"nx_gdf.geojson\", driver='GeoJSON')\n",
    "\n",
    "\n",
    "\n",
    "G=nx.from_pandas_edgelist(gdf, source='owner_store_id', target=\"next_owner_store_id\", edge_attr=[ \"count\"], create_using=nx.DiGraph())\n",
    "\n",
    "eigen=nx.eigenvector_centrality(G, weight='count')\n",
    "pagerank=nx.pagerank_numpy(G,weight='count')\n",
    "# calculate node betweenness centrality, weighted by travel time\n",
    "\n",
    "nx.set_node_attributes(G, values=eigen, name=\"eigenvector_c\")\n",
    "\n",
    "nx.set_node_attributes(G, values=pagerank, name=\"pagerank_c\")\n",
    "\n",
    "\n",
    "#dict(sorted(eigen.items(), key=lambda item: item[1], reverse=True))"
   ]
  },
  {
   "cell_type": "code",
   "execution_count": null,
   "metadata": {},
   "outputs": [],
   "source": []
  },
  {
   "cell_type": "code",
   "execution_count": null,
   "metadata": {},
   "outputs": [],
   "source": []
  },
  {
   "cell_type": "code",
   "execution_count": null,
   "metadata": {},
   "outputs": [],
   "source": []
  }
 ],
 "metadata": {
  "kernelspec": {
   "display_name": "Python 3 (ipykernel)",
   "language": "python",
   "name": "python3"
  },
  "language_info": {
   "codemirror_mode": {
    "name": "ipython",
    "version": 3
   },
   "file_extension": ".py",
   "mimetype": "text/x-python",
   "name": "python",
   "nbconvert_exporter": "python",
   "pygments_lexer": "ipython3",
   "version": "3.8.12"
  }
 },
 "nbformat": 4,
 "nbformat_minor": 4
}
